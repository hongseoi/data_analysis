{
 "cells": [
  {
   "cell_type": "code",
   "execution_count": 14,
   "id": "932b36fa-a37f-413a-99b9-04c254639ba5",
   "metadata": {},
   "outputs": [
    {
     "name": "stdout",
     "output_type": "stream",
     "text": [
      "최저기온은 -18.6 도, 12,1,2월 중 기온이 가장 낮은 월은 2021-01 입니다\n"
     ]
    }
   ],
   "source": [
    "import csv\n",
    "\n",
    "min_temp = 999\n",
    "min_date = ''\n",
    "\n",
    "f = open('data\\\\winter.csv')\n",
    "data = csv.reader(f)\n",
    "header = next(data)\n",
    "\n",
    "for row in data:\n",
    "    if row[-3] == '':\n",
    "        row[-3] = 999\n",
    "    row[-3] = float(row[-3])  ##최저기온을 float로 변환\n",
    "    \n",
    "    if min_temp > row[-3]:\n",
    "        min_date = row[2]\n",
    "        min_temp = row[-3]\n",
    "\n",
    "f.close()\n",
    "\n",
    "print(\"2012년부터 2022년까지 월별 가장 낮은 평균 최저 기온은\", min_temp,\"도이고,\", min_date, \"의 기록입니다\")"
   ]
  }
 ],
 "metadata": {
  "kernelspec": {
   "display_name": "Python 3 (ipykernel)",
   "language": "python",
   "name": "python3"
  },
  "language_info": {
   "codemirror_mode": {
    "name": "ipython",
    "version": 3
   },
   "file_extension": ".py",
   "mimetype": "text/x-python",
   "name": "python",
   "nbconvert_exporter": "python",
   "pygments_lexer": "ipython3",
   "version": "3.9.7"
  }
 },
 "nbformat": 4,
 "nbformat_minor": 5
}
