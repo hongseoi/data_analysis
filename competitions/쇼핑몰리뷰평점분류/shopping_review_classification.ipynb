{
 "cells": [
  {
   "cell_type": "code",
   "execution_count": 1,
   "id": "7323422a-afc9-4ac0-9958-160364ee9422",
   "metadata": {},
   "outputs": [],
   "source": [
    "# load library\n",
    "import pandas as pd\n",
    "import numpy as np\n",
    "import matplotlib.pyplot as plt"
   ]
  },
  {
   "cell_type": "code",
   "execution_count": 2,
   "id": "249ee018-aa2a-41ff-90f6-2c95d171ebd8",
   "metadata": {},
   "outputs": [],
   "source": [
    "train = pd.read_csv(\"train.csv\")\n",
    "test = pd.read_csv(\"test.csv\")\n",
    "submission = pd.read_csv(\"sample_submission.csv\")"
   ]
  },
  {
   "cell_type": "markdown",
   "id": "a176fc03-7794-41d0-b867-6d475d5e95a4",
   "metadata": {},
   "source": [
    "**데이터 확인하기**\n"
   ]
  },
  {
   "cell_type": "code",
   "execution_count": 3,
   "id": "3a6313c3-dd54-45d4-9fe7-24a1c4755c2d",
   "metadata": {},
   "outputs": [
    {
     "data": {
      "text/html": [
       "<div>\n",
       "<style scoped>\n",
       "    .dataframe tbody tr th:only-of-type {\n",
       "        vertical-align: middle;\n",
       "    }\n",
       "\n",
       "    .dataframe tbody tr th {\n",
       "        vertical-align: top;\n",
       "    }\n",
       "\n",
       "    .dataframe thead th {\n",
       "        text-align: right;\n",
       "    }\n",
       "</style>\n",
       "<table border=\"1\" class=\"dataframe\">\n",
       "  <thead>\n",
       "    <tr style=\"text-align: right;\">\n",
       "      <th></th>\n",
       "      <th>id</th>\n",
       "      <th>reviews</th>\n",
       "      <th>target</th>\n",
       "    </tr>\n",
       "  </thead>\n",
       "  <tbody>\n",
       "    <tr>\n",
       "      <th>0</th>\n",
       "      <td>0</td>\n",
       "      <td>조아요 처음구입 싸게햇어요</td>\n",
       "      <td>2</td>\n",
       "    </tr>\n",
       "    <tr>\n",
       "      <th>1</th>\n",
       "      <td>1</td>\n",
       "      <td>생각보다 잘 안돼요 매지 바른지 하루밖에 안됐는데ㅠㅠ 25천원가량 주고 사기 너무 ...</td>\n",
       "      <td>1</td>\n",
       "    </tr>\n",
       "    <tr>\n",
       "      <th>2</th>\n",
       "      <td>2</td>\n",
       "      <td>디자인은괜찮은데 상품이 금이가서 교환했는데 두번째받은상품도 까져있고 안쪽에 금이가져...</td>\n",
       "      <td>2</td>\n",
       "    </tr>\n",
       "    <tr>\n",
       "      <th>3</th>\n",
       "      <td>3</td>\n",
       "      <td>기전에 이 제품말고 이마트 트레이더스에서만 팔던 프리미엄 제품을 사용했었습니다. 샘...</td>\n",
       "      <td>2</td>\n",
       "    </tr>\n",
       "    <tr>\n",
       "      <th>4</th>\n",
       "      <td>4</td>\n",
       "      <td>튼튼하고 손목을 잘 받쳐주네요~</td>\n",
       "      <td>5</td>\n",
       "    </tr>\n",
       "  </tbody>\n",
       "</table>\n",
       "</div>"
      ],
      "text/plain": [
       "   id                                            reviews  target\n",
       "0   0                                     조아요 처음구입 싸게햇어요       2\n",
       "1   1  생각보다 잘 안돼요 매지 바른지 하루밖에 안됐는데ㅠㅠ 25천원가량 주고 사기 너무 ...       1\n",
       "2   2  디자인은괜찮은데 상품이 금이가서 교환했는데 두번째받은상품도 까져있고 안쪽에 금이가져...       2\n",
       "3   3  기전에 이 제품말고 이마트 트레이더스에서만 팔던 프리미엄 제품을 사용했었습니다. 샘...       2\n",
       "4   4                                  튼튼하고 손목을 잘 받쳐주네요~       5"
      ]
     },
     "execution_count": 3,
     "metadata": {},
     "output_type": "execute_result"
    }
   ],
   "source": [
    "train.head()"
   ]
  },
  {
   "cell_type": "code",
   "execution_count": 4,
   "id": "223da2bf-8da0-47bb-9618-a0e90612a698",
   "metadata": {},
   "outputs": [
    {
     "data": {
      "text/html": [
       "<div>\n",
       "<style scoped>\n",
       "    .dataframe tbody tr th:only-of-type {\n",
       "        vertical-align: middle;\n",
       "    }\n",
       "\n",
       "    .dataframe tbody tr th {\n",
       "        vertical-align: top;\n",
       "    }\n",
       "\n",
       "    .dataframe thead th {\n",
       "        text-align: right;\n",
       "    }\n",
       "</style>\n",
       "<table border=\"1\" class=\"dataframe\">\n",
       "  <thead>\n",
       "    <tr style=\"text-align: right;\">\n",
       "      <th></th>\n",
       "      <th>id</th>\n",
       "      <th>reviews</th>\n",
       "      <th>target</th>\n",
       "    </tr>\n",
       "  </thead>\n",
       "  <tbody>\n",
       "    <tr>\n",
       "      <th>24995</th>\n",
       "      <td>24995</td>\n",
       "      <td>일단향이너무너무좋은데지속력만좋다면좋겠지만..워낙저렴해그래도좋아여</td>\n",
       "      <td>5</td>\n",
       "    </tr>\n",
       "    <tr>\n",
       "      <th>24996</th>\n",
       "      <td>24996</td>\n",
       "      <td>동일한 업체에서 발송하고 한 상자로 배송되었는데 택배비는 이중 처리되었습니다.</td>\n",
       "      <td>2</td>\n",
       "    </tr>\n",
       "    <tr>\n",
       "      <th>24997</th>\n",
       "      <td>24997</td>\n",
       "      <td>향이 좋아요!! 다른 향도 시켜보고 싶어요</td>\n",
       "      <td>4</td>\n",
       "    </tr>\n",
       "    <tr>\n",
       "      <th>24998</th>\n",
       "      <td>24998</td>\n",
       "      <td>펼쳐보니 끝부분쯤에 50cm정도 찟어져 있습니다 날짜관계로 구냥 사용합니다</td>\n",
       "      <td>2</td>\n",
       "    </tr>\n",
       "    <tr>\n",
       "      <th>24999</th>\n",
       "      <td>24999</td>\n",
       "      <td>호호애미 제품은 늘 믿고 써요</td>\n",
       "      <td>5</td>\n",
       "    </tr>\n",
       "  </tbody>\n",
       "</table>\n",
       "</div>"
      ],
      "text/plain": [
       "          id                                      reviews  target\n",
       "24995  24995          일단향이너무너무좋은데지속력만좋다면좋겠지만..워낙저렴해그래도좋아여       5\n",
       "24996  24996  동일한 업체에서 발송하고 한 상자로 배송되었는데 택배비는 이중 처리되었습니다.       2\n",
       "24997  24997                      향이 좋아요!! 다른 향도 시켜보고 싶어요       4\n",
       "24998  24998    펼쳐보니 끝부분쯤에 50cm정도 찟어져 있습니다 날짜관계로 구냥 사용합니다       2\n",
       "24999  24999                             호호애미 제품은 늘 믿고 써요       5"
      ]
     },
     "execution_count": 4,
     "metadata": {},
     "output_type": "execute_result"
    }
   ],
   "source": [
    "train.tail()"
   ]
  },
  {
   "cell_type": "markdown",
   "id": "165e19b3-50e0-4678-b533-f1e98ca3befa",
   "metadata": {},
   "source": [
    "train.csv는 id, reviews, target 총 3개의 컬럼으로 이루어져 있습니다.\n"
   ]
  },
  {
   "cell_type": "code",
   "execution_count": 5,
   "id": "c71d309e-f4ea-446b-8950-2bcebe826a2e",
   "metadata": {},
   "outputs": [
    {
     "name": "stdout",
     "output_type": "stream",
     "text": [
      "<class 'pandas.core.frame.DataFrame'>\n",
      "RangeIndex: 25000 entries, 0 to 24999\n",
      "Data columns (total 3 columns):\n",
      " #   Column   Non-Null Count  Dtype \n",
      "---  ------   --------------  ----- \n",
      " 0   id       25000 non-null  int64 \n",
      " 1   reviews  25000 non-null  object\n",
      " 2   target   25000 non-null  int64 \n",
      "dtypes: int64(2), object(1)\n",
      "memory usage: 586.1+ KB\n"
     ]
    }
   ],
   "source": [
    "train.info()"
   ]
  },
  {
   "cell_type": "code",
   "execution_count": 6,
   "id": "e9c7bdae-4796-403e-bc58-edf3ca3095e2",
   "metadata": {},
   "outputs": [
    {
     "data": {
      "text/plain": [
       "id         0\n",
       "reviews    0\n",
       "target     0\n",
       "dtype: int64"
      ]
     },
     "execution_count": 6,
     "metadata": {},
     "output_type": "execute_result"
    }
   ],
   "source": [
    "train.isnull().sum()"
   ]
  },
  {
   "cell_type": "markdown",
   "id": "df936a8a-6d69-4fc5-b8d1-98764401e722",
   "metadata": {},
   "source": [
    "결측값 0개!ㄷㄷ"
   ]
  },
  {
   "cell_type": "markdown",
   "id": "6ff1d447-4855-439c-89b8-3ab1c1e34121",
   "metadata": {},
   "source": [
    "**데이터 전처리**\n",
    "<br>\n",
    "이 대회는 상품 리뷰 텍스트와 별점의 관계성을 파악하는 것이므로 y는 target 컬럼, x는 reviews 컬럼일 것입니다."
   ]
  },
  {
   "cell_type": "code",
   "execution_count": 7,
   "id": "5739e437-dc7f-4638-bf36-8bf2df77bd4f",
   "metadata": {},
   "outputs": [],
   "source": [
    "# x,y 정의하기\n",
    "X = train.reviews\n",
    "y = train.target"
   ]
  },
  {
   "cell_type": "markdown",
   "id": "238b968a-5554-49e6-bf78-43de827ed501",
   "metadata": {},
   "source": [
    "<ul>\n",
    "    <li>워드 임베딩: 텍스트를 숫자 값으로 바꾼 뒤 입력</li>\n",
    "    <li>CountVectorizer: 입력된 문장을 토큰화하여 토큰의 등장 빈도 벡터로 바꿔주는 기법</li>\n",
    "    <li>토큰화: 문장을 의미가 있는 최소 단위로 쪼개는 것</li>\n",
    "</ul>\n",
    "\n"
   ]
  },
  {
   "cell_type": "code",
   "execution_count": 8,
   "id": "f8f67698-b70d-4b2e-b536-e659e327d8d5",
   "metadata": {},
   "outputs": [
    {
     "data": {
      "text/plain": [
       "CountVectorizer()"
      ]
     },
     "execution_count": 8,
     "metadata": {},
     "output_type": "execute_result"
    }
   ],
   "source": [
    "# countVectorizer 사용해보기\n",
    "from sklearn.feature_extraction.text import CountVectorizer\n",
    "\n",
    "vectorizer = CountVectorizer()\n",
    "vectorizer.fit(train[\"reviews\"])"
   ]
  },
  {
   "cell_type": "code",
   "execution_count": 9,
   "id": "d07bc3da-0f89-4802-8b04-4aa8c9811411",
   "metadata": {},
   "outputs": [],
   "source": [
    "from sklearn.model_selection import train_test_split\n",
    "\n",
    "train_data, val_data = train_test_split(train, test_size=0.25, stratify=train.target)\n",
    "\n",
    "train_data = train_data.reset_index().drop('index', axis=1)\n",
    "val_data = val_data.reset_index().drop('index', axis=1)\n"
   ]
  },
  {
   "cell_type": "code",
   "execution_count": 10,
   "id": "deecdb26-2468-4925-95bf-227aca4b989b",
   "metadata": {},
   "outputs": [
    {
     "name": "stdout",
     "output_type": "stream",
     "text": [
      "train data: (18750, 3)\n",
      "val data: (6250, 3)\n"
     ]
    }
   ],
   "source": [
    "print(\"train data:\", train_data.shape)\n",
    "print(\"val data:\", val_data.shape)"
   ]
  },
  {
   "cell_type": "code",
   "execution_count": 11,
   "id": "ffec3cb5-b14e-41e0-94ab-f15318346629",
   "metadata": {},
   "outputs": [],
   "source": [
    "train_X = train_data.reviews\n",
    "train_y = train_data.target\n",
    "\n",
    "val_X = val_data.reviews\n",
    "val_y = val_data.target\n"
   ]
  },
  {
   "cell_type": "code",
   "execution_count": 12,
   "id": "c7ae924b-a95c-49e8-8b8e-d6e3ceac08ab",
   "metadata": {},
   "outputs": [],
   "source": [
    "train_X = vectorizer.transform(train_X)\n",
    "val_X = vectorizer.transform(val_X)"
   ]
  },
  {
   "cell_type": "code",
   "execution_count": 13,
   "id": "e4ea48c5-e8e0-4fc4-9038-e948a9de173d",
   "metadata": {},
   "outputs": [
    {
     "name": "stdout",
     "output_type": "stream",
     "text": [
      "  (0, 3580)\t1\n",
      "  (0, 4938)\t1\n",
      "  (0, 13413)\t1\n",
      "  (0, 17164)\t1\n",
      "  (0, 19485)\t1\n",
      "  (0, 29042)\t1\n",
      "  (0, 35639)\t1\n",
      "  (0, 43832)\t1\n",
      "  (0, 48144)\t1\n",
      "  (0, 58516)\t1\n",
      "  (0, 63167)\t1\n",
      "  (0, 66168)\t1\n",
      "  (0, 67766)\t1\n",
      "  (0, 71410)\t1\n"
     ]
    }
   ],
   "source": [
    "print(train_X[10])"
   ]
  },
  {
   "cell_type": "code",
   "execution_count": 14,
   "id": "815db047-5ad4-4966-b63f-a34162889ecb",
   "metadata": {},
   "outputs": [
    {
     "data": {
      "text/plain": [
       "[array(['가성비', '거기에', '너무', '대박', '듣던대로', '방수포로', '사용했어요', '아래', '엄청커요',\n",
       "        '접어서', '짱이네어', '커서', '텐트', '한번'], dtype='<U100')]"
      ]
     },
     "execution_count": 14,
     "metadata": {},
     "output_type": "execute_result"
    }
   ],
   "source": [
    "vectorizer.inverse_transform(train_X[10])"
   ]
  },
  {
   "cell_type": "code",
   "execution_count": 15,
   "id": "3393ca48-4591-45f4-9331-95da60dcdca7",
   "metadata": {},
   "outputs": [
    {
     "data": {
      "text/plain": [
       "LogisticRegression(max_iter=500)"
      ]
     },
     "execution_count": 15,
     "metadata": {},
     "output_type": "execute_result"
    }
   ],
   "source": [
    "#로지스틱 회귀: category 분류\n",
    "from sklearn.linear_model import LogisticRegression\n",
    "model = LogisticRegression(max_iter=500)\n",
    "model.fit(train_X, train_y)"
   ]
  },
  {
   "cell_type": "code",
   "execution_count": 16,
   "id": "6c11f87c-04f5-4303-b726-624b37af3666",
   "metadata": {},
   "outputs": [],
   "source": [
    "# 정확도 판단 함수\n",
    "def ACCURACY(true, pred):\n",
    "    score = np.mean(true==pred)\n",
    "    return score\n"
   ]
  },
  {
   "cell_type": "code",
   "execution_count": 17,
   "id": "005a020c-0ca0-42cd-b35a-21bac3a7a004",
   "metadata": {},
   "outputs": [],
   "source": [
    "y_pred = model.predict(val_X)"
   ]
  },
  {
   "cell_type": "code",
   "execution_count": 18,
   "id": "2184cfa4-ae27-4445-a14c-36fa5577cf40",
   "metadata": {},
   "outputs": [
    {
     "name": "stdout",
     "output_type": "stream",
     "text": [
      "모델의 정확도: 0.60208\n"
     ]
    }
   ],
   "source": [
    "score = ACCURACY(val_y, y_pred)\n",
    "print(\"모델의 정확도:\", score)"
   ]
  },
  {
   "cell_type": "markdown",
   "id": "d2d81269-27bb-4502-b994-5c3c953089eb",
   "metadata": {},
   "source": [
    "TRAIN 데이터와 VAL 데이터셋 100퍼센트 활용하는 모델\n"
   ]
  },
  {
   "cell_type": "code",
   "execution_count": 19,
   "id": "85eba664-1966-438d-87cf-307fce66cef2",
   "metadata": {},
   "outputs": [],
   "source": [
    "X = train_data.reviews\n",
    "y = train_data.target\n",
    "\n",
    "vectorizer = CountVectorizer()\n",
    "vectorizer.fit(X)\n",
    "X = vectorizer.transform(X)"
   ]
  },
  {
   "cell_type": "code",
   "execution_count": 20,
   "id": "0ffe9fea-6eba-4201-9e70-ddf663d2a602",
   "metadata": {},
   "outputs": [
    {
     "data": {
      "text/plain": [
       "LogisticRegression(max_iter=500)"
      ]
     },
     "execution_count": 20,
     "metadata": {},
     "output_type": "execute_result"
    }
   ],
   "source": [
    "model = LogisticRegression(max_iter=500)\n",
    "model.fit(X,y)"
   ]
  },
  {
   "cell_type": "code",
   "execution_count": 21,
   "id": "99dc876a-bb44-477c-b96e-91f4b1284e38",
   "metadata": {},
   "outputs": [
    {
     "name": "stdout",
     "output_type": "stream",
     "text": [
      "예측라벨: [5]\n",
      "실제라벨: 2\n"
     ]
    }
   ],
   "source": [
    "from sklearn.metrics import accuracy_score\n",
    "\n",
    "y_pred = model.predict(X[0])\n",
    "print(\"예측라벨:\", y_pred)\n",
    "print(\"실제라벨:\", train.target[0])"
   ]
  },
  {
   "cell_type": "code",
   "execution_count": 22,
   "id": "edc70c87-71ce-4741-8339-77ed73369812",
   "metadata": {},
   "outputs": [
    {
     "data": {
      "text/plain": [
       "[array(['늦지만', '배송은', '사은품도', '있고', '좋아요'], dtype='<U100')]"
      ]
     },
     "execution_count": 22,
     "metadata": {},
     "output_type": "execute_result"
    }
   ],
   "source": [
    "vectorizer.inverse_transform(X[0])\n"
   ]
  },
  {
   "cell_type": "code",
   "execution_count": 23,
   "id": "0f29cb1c-3b2b-409a-99b2-074114656ff4",
   "metadata": {},
   "outputs": [],
   "source": [
    "#예측하기\n",
    "test_X = test.reviews\n",
    "test_X_vect = vectorizer.transform(test_X)"
   ]
  },
  {
   "cell_type": "code",
   "execution_count": 24,
   "id": "206773c8-4c2b-46f3-ac37-c8bdefd6fd5f",
   "metadata": {},
   "outputs": [
    {
     "name": "stdout",
     "output_type": "stream",
     "text": [
      "[5 2 5 ... 2 5 1]\n"
     ]
    }
   ],
   "source": [
    "pred = model.predict(test_X_vect)\n",
    "print(pred)"
   ]
  },
  {
   "cell_type": "code",
   "execution_count": 25,
   "id": "4d2b6312-beb3-418b-8c2c-f673afda0e25",
   "metadata": {},
   "outputs": [
    {
     "data": {
      "text/html": [
       "<div>\n",
       "<style scoped>\n",
       "    .dataframe tbody tr th:only-of-type {\n",
       "        vertical-align: middle;\n",
       "    }\n",
       "\n",
       "    .dataframe tbody tr th {\n",
       "        vertical-align: top;\n",
       "    }\n",
       "\n",
       "    .dataframe thead th {\n",
       "        text-align: right;\n",
       "    }\n",
       "</style>\n",
       "<table border=\"1\" class=\"dataframe\">\n",
       "  <thead>\n",
       "    <tr style=\"text-align: right;\">\n",
       "      <th></th>\n",
       "      <th>id</th>\n",
       "      <th>target</th>\n",
       "    </tr>\n",
       "  </thead>\n",
       "  <tbody>\n",
       "    <tr>\n",
       "      <th>0</th>\n",
       "      <td>0</td>\n",
       "      <td>5</td>\n",
       "    </tr>\n",
       "    <tr>\n",
       "      <th>1</th>\n",
       "      <td>1</td>\n",
       "      <td>2</td>\n",
       "    </tr>\n",
       "    <tr>\n",
       "      <th>2</th>\n",
       "      <td>2</td>\n",
       "      <td>5</td>\n",
       "    </tr>\n",
       "    <tr>\n",
       "      <th>3</th>\n",
       "      <td>3</td>\n",
       "      <td>1</td>\n",
       "    </tr>\n",
       "    <tr>\n",
       "      <th>4</th>\n",
       "      <td>4</td>\n",
       "      <td>1</td>\n",
       "    </tr>\n",
       "  </tbody>\n",
       "</table>\n",
       "</div>"
      ],
      "text/plain": [
       "   id  target\n",
       "0   0       5\n",
       "1   1       2\n",
       "2   2       5\n",
       "3   3       1\n",
       "4   4       1"
      ]
     },
     "execution_count": 25,
     "metadata": {},
     "output_type": "execute_result"
    }
   ],
   "source": [
    "submission[\"target\"] = pred\n",
    "submission.head()"
   ]
  },
  {
   "cell_type": "code",
   "execution_count": 26,
   "id": "516e50e3-c0c1-4825-ac06-c04d41e03469",
   "metadata": {},
   "outputs": [],
   "source": [
    "submission.to_csv(\"submission.csv\", index=False)"
   ]
  },
  {
   "cell_type": "code",
   "execution_count": null,
   "id": "e13abc07-f1ef-4fcf-960d-18042c1001e3",
   "metadata": {},
   "outputs": [],
   "source": []
  }
 ],
 "metadata": {
  "kernelspec": {
   "display_name": "Python 3 (ipykernel)",
   "language": "python",
   "name": "python3"
  },
  "language_info": {
   "codemirror_mode": {
    "name": "ipython",
    "version": 3
   },
   "file_extension": ".py",
   "mimetype": "text/x-python",
   "name": "python",
   "nbconvert_exporter": "python",
   "pygments_lexer": "ipython3",
   "version": "3.9.7"
  }
 },
 "nbformat": 4,
 "nbformat_minor": 5
}
