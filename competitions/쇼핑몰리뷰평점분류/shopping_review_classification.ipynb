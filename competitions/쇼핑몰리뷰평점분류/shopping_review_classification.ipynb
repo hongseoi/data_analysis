{
 "cells": [
  {
   "cell_type": "code",
   "execution_count": 1,
   "id": "7323422a-afc9-4ac0-9958-160364ee9422",
   "metadata": {},
   "outputs": [],
   "source": [
    "# load library\n",
    "import pandas as pd\n",
    "import numpy as np\n",
    "import matplotlib.pyplot as plt"
   ]
  },
  {
   "cell_type": "code",
   "execution_count": 13,
   "id": "249ee018-aa2a-41ff-90f6-2c95d171ebd8",
   "metadata": {},
   "outputs": [],
   "source": [
    "train = pd.read_csv(\"train.csv\")\n",
    "test = pd.read_csv(\"test.csv\")\n",
    "submission = pd.read_csv(\"sample_submission.csv\")"
   ]
  },
  {
   "cell_type": "markdown",
   "id": "a176fc03-7794-41d0-b867-6d475d5e95a4",
   "metadata": {},
   "source": [
    "**데이터 확인하기**\n"
   ]
  },
  {
   "cell_type": "code",
   "execution_count": 5,
   "id": "3a6313c3-dd54-45d4-9fe7-24a1c4755c2d",
   "metadata": {},
   "outputs": [
    {
     "data": {
      "text/html": [
       "<div>\n",
       "<style scoped>\n",
       "    .dataframe tbody tr th:only-of-type {\n",
       "        vertical-align: middle;\n",
       "    }\n",
       "\n",
       "    .dataframe tbody tr th {\n",
       "        vertical-align: top;\n",
       "    }\n",
       "\n",
       "    .dataframe thead th {\n",
       "        text-align: right;\n",
       "    }\n",
       "</style>\n",
       "<table border=\"1\" class=\"dataframe\">\n",
       "  <thead>\n",
       "    <tr style=\"text-align: right;\">\n",
       "      <th></th>\n",
       "      <th>id</th>\n",
       "      <th>reviews</th>\n",
       "      <th>target</th>\n",
       "    </tr>\n",
       "  </thead>\n",
       "  <tbody>\n",
       "    <tr>\n",
       "      <th>0</th>\n",
       "      <td>0</td>\n",
       "      <td>조아요 처음구입 싸게햇어요</td>\n",
       "      <td>2</td>\n",
       "    </tr>\n",
       "    <tr>\n",
       "      <th>1</th>\n",
       "      <td>1</td>\n",
       "      <td>생각보다 잘 안돼요 매지 바른지 하루밖에 안됐는데ㅠㅠ 25천원가량 주고 사기 너무 ...</td>\n",
       "      <td>1</td>\n",
       "    </tr>\n",
       "    <tr>\n",
       "      <th>2</th>\n",
       "      <td>2</td>\n",
       "      <td>디자인은괜찮은데 상품이 금이가서 교환했는데 두번째받은상품도 까져있고 안쪽에 금이가져...</td>\n",
       "      <td>2</td>\n",
       "    </tr>\n",
       "    <tr>\n",
       "      <th>3</th>\n",
       "      <td>3</td>\n",
       "      <td>기전에 이 제품말고 이마트 트레이더스에서만 팔던 프리미엄 제품을 사용했었습니다. 샘...</td>\n",
       "      <td>2</td>\n",
       "    </tr>\n",
       "    <tr>\n",
       "      <th>4</th>\n",
       "      <td>4</td>\n",
       "      <td>튼튼하고 손목을 잘 받쳐주네요~</td>\n",
       "      <td>5</td>\n",
       "    </tr>\n",
       "  </tbody>\n",
       "</table>\n",
       "</div>"
      ],
      "text/plain": [
       "   id                                            reviews  target\n",
       "0   0                                     조아요 처음구입 싸게햇어요       2\n",
       "1   1  생각보다 잘 안돼요 매지 바른지 하루밖에 안됐는데ㅠㅠ 25천원가량 주고 사기 너무 ...       1\n",
       "2   2  디자인은괜찮은데 상품이 금이가서 교환했는데 두번째받은상품도 까져있고 안쪽에 금이가져...       2\n",
       "3   3  기전에 이 제품말고 이마트 트레이더스에서만 팔던 프리미엄 제품을 사용했었습니다. 샘...       2\n",
       "4   4                                  튼튼하고 손목을 잘 받쳐주네요~       5"
      ]
     },
     "execution_count": 5,
     "metadata": {},
     "output_type": "execute_result"
    }
   ],
   "source": [
    "df.head()"
   ]
  },
  {
   "cell_type": "code",
   "execution_count": 6,
   "id": "223da2bf-8da0-47bb-9618-a0e90612a698",
   "metadata": {},
   "outputs": [
    {
     "data": {
      "text/html": [
       "<div>\n",
       "<style scoped>\n",
       "    .dataframe tbody tr th:only-of-type {\n",
       "        vertical-align: middle;\n",
       "    }\n",
       "\n",
       "    .dataframe tbody tr th {\n",
       "        vertical-align: top;\n",
       "    }\n",
       "\n",
       "    .dataframe thead th {\n",
       "        text-align: right;\n",
       "    }\n",
       "</style>\n",
       "<table border=\"1\" class=\"dataframe\">\n",
       "  <thead>\n",
       "    <tr style=\"text-align: right;\">\n",
       "      <th></th>\n",
       "      <th>id</th>\n",
       "      <th>reviews</th>\n",
       "      <th>target</th>\n",
       "    </tr>\n",
       "  </thead>\n",
       "  <tbody>\n",
       "    <tr>\n",
       "      <th>24995</th>\n",
       "      <td>24995</td>\n",
       "      <td>일단향이너무너무좋은데지속력만좋다면좋겠지만..워낙저렴해그래도좋아여</td>\n",
       "      <td>5</td>\n",
       "    </tr>\n",
       "    <tr>\n",
       "      <th>24996</th>\n",
       "      <td>24996</td>\n",
       "      <td>동일한 업체에서 발송하고 한 상자로 배송되었는데 택배비는 이중 처리되었습니다.</td>\n",
       "      <td>2</td>\n",
       "    </tr>\n",
       "    <tr>\n",
       "      <th>24997</th>\n",
       "      <td>24997</td>\n",
       "      <td>향이 좋아요!! 다른 향도 시켜보고 싶어요</td>\n",
       "      <td>4</td>\n",
       "    </tr>\n",
       "    <tr>\n",
       "      <th>24998</th>\n",
       "      <td>24998</td>\n",
       "      <td>펼쳐보니 끝부분쯤에 50cm정도 찟어져 있습니다 날짜관계로 구냥 사용합니다</td>\n",
       "      <td>2</td>\n",
       "    </tr>\n",
       "    <tr>\n",
       "      <th>24999</th>\n",
       "      <td>24999</td>\n",
       "      <td>호호애미 제품은 늘 믿고 써요</td>\n",
       "      <td>5</td>\n",
       "    </tr>\n",
       "  </tbody>\n",
       "</table>\n",
       "</div>"
      ],
      "text/plain": [
       "          id                                      reviews  target\n",
       "24995  24995          일단향이너무너무좋은데지속력만좋다면좋겠지만..워낙저렴해그래도좋아여       5\n",
       "24996  24996  동일한 업체에서 발송하고 한 상자로 배송되었는데 택배비는 이중 처리되었습니다.       2\n",
       "24997  24997                      향이 좋아요!! 다른 향도 시켜보고 싶어요       4\n",
       "24998  24998    펼쳐보니 끝부분쯤에 50cm정도 찟어져 있습니다 날짜관계로 구냥 사용합니다       2\n",
       "24999  24999                             호호애미 제품은 늘 믿고 써요       5"
      ]
     },
     "execution_count": 6,
     "metadata": {},
     "output_type": "execute_result"
    }
   ],
   "source": [
    "df.tail()"
   ]
  },
  {
   "cell_type": "markdown",
   "id": "165e19b3-50e0-4678-b533-f1e98ca3befa",
   "metadata": {},
   "source": [
    "train.csv는 id, reviews, target 총 3개의 컬럼으로 이루어져 있습니다.\n"
   ]
  },
  {
   "cell_type": "code",
   "execution_count": 7,
   "id": "c71d309e-f4ea-446b-8950-2bcebe826a2e",
   "metadata": {},
   "outputs": [
    {
     "name": "stdout",
     "output_type": "stream",
     "text": [
      "<class 'pandas.core.frame.DataFrame'>\n",
      "RangeIndex: 25000 entries, 0 to 24999\n",
      "Data columns (total 3 columns):\n",
      " #   Column   Non-Null Count  Dtype \n",
      "---  ------   --------------  ----- \n",
      " 0   id       25000 non-null  int64 \n",
      " 1   reviews  25000 non-null  object\n",
      " 2   target   25000 non-null  int64 \n",
      "dtypes: int64(2), object(1)\n",
      "memory usage: 586.1+ KB\n"
     ]
    }
   ],
   "source": [
    "df.info()"
   ]
  },
  {
   "cell_type": "code",
   "execution_count": 9,
   "id": "e9c7bdae-4796-403e-bc58-edf3ca3095e2",
   "metadata": {},
   "outputs": [
    {
     "data": {
      "text/plain": [
       "id         0\n",
       "reviews    0\n",
       "target     0\n",
       "dtype: int64"
      ]
     },
     "execution_count": 9,
     "metadata": {},
     "output_type": "execute_result"
    }
   ],
   "source": [
    "df.isnull().sum()"
   ]
  },
  {
   "cell_type": "markdown",
   "id": "df936a8a-6d69-4fc5-b8d1-98764401e722",
   "metadata": {},
   "source": [
    "결측값 0개!ㄷㄷ"
   ]
  },
  {
   "cell_type": "markdown",
   "id": "6ff1d447-4855-439c-89b8-3ab1c1e34121",
   "metadata": {},
   "source": [
    "**데이터 전처리**\n",
    "<br>\n",
    "이 대회는 상품 리뷰 텍스트와 별점의 관계성을 파악하는 것이므로 y는 target 컬럼, x는 reviews 컬럼일 것입니다."
   ]
  },
  {
   "cell_type": "code",
   "execution_count": 14,
   "id": "5739e437-dc7f-4638-bf36-8bf2df77bd4f",
   "metadata": {},
   "outputs": [],
   "source": [
    "# x,y 정의하기\n",
    "X = df.reviews\n",
    "y = df.target"
   ]
  },
  {
   "cell_type": "markdown",
   "id": "238b968a-5554-49e6-bf78-43de827ed501",
   "metadata": {},
   "source": [
    "<ul>\n",
    "    <li>워드 임베딩: 텍스트를 숫자 값으로 바꾼 뒤 입력</li>\n",
    "    <li>CountVectorizer: 입력된 문장을 토큰화하여 토큰의 등장 빈도 벡터로 바꿔주는 기법</li>\n",
    "    <li>토큰화: 문장을 의미가 있는 최소 단위로 쪼개는 것</li>\n",
    "</ul>\n",
    "\n"
   ]
  },
  {
   "cell_type": "code",
   "execution_count": 16,
   "id": "f8f67698-b70d-4b2e-b536-e659e327d8d5",
   "metadata": {},
   "outputs": [],
   "source": [
    "# countVectorizer 사용해보기\n",
    "from sklearn.feature_extraction.text import CountVectorizer\n",
    "\n",
    "sample_vector = CountVectorizer()"
   ]
  },
  {
   "cell_type": "code",
   "execution_count": 17,
   "id": "6d5cc0ca-51ae-49cd-8e62-0a913fca6d28",
   "metadata": {},
   "outputs": [
    {
     "data": {
      "text/plain": [
       "CountVectorizer()"
      ]
     },
     "execution_count": 17,
     "metadata": {},
     "output_type": "execute_result"
    }
   ],
   "source": [
    "sample_text1 = [\"hello my name is dacon and I am a data scientist!\"]\n",
    "sample_vector.fit(sample_text1)"
   ]
  },
  {
   "cell_type": "code",
   "execution_count": 18,
   "id": "811d76c8-4cd4-481f-9dc3-ebf9af56221c",
   "metadata": {},
   "outputs": [
    {
     "name": "stdout",
     "output_type": "stream",
     "text": [
      "{'hello': 4, 'my': 6, 'name': 7, 'is': 5, 'dacon': 2, 'and': 1, 'am': 0, 'data': 3, 'scientist': 8}\n"
     ]
    }
   ],
   "source": [
    "print(sample_vector.vocabulary_)"
   ]
  },
  {
   "cell_type": "code",
   "execution_count": 19,
   "id": "dfa4cd86-3632-460c-9b57-734994f89b54",
   "metadata": {},
   "outputs": [
    {
     "name": "stdout",
     "output_type": "stream",
     "text": [
      "[[0 0 1 1 0 0 0 0 0]]\n"
     ]
    }
   ],
   "source": [
    "sample_text2 = [\"You are learning dacon data science\"]\n",
    "sample_vector = sample_vector.transform(sample_text2)\n",
    "print(sample_vector.toarray())\n"
   ]
  },
  {
   "cell_type": "code",
   "execution_count": null,
   "id": "d07bc3da-0f89-4802-8b04-4aa8c9811411",
   "metadata": {},
   "outputs": [],
   "source": []
  }
 ],
 "metadata": {
  "kernelspec": {
   "display_name": "Python 3 (ipykernel)",
   "language": "python",
   "name": "python3"
  },
  "language_info": {
   "codemirror_mode": {
    "name": "ipython",
    "version": 3
   },
   "file_extension": ".py",
   "mimetype": "text/x-python",
   "name": "python",
   "nbconvert_exporter": "python",
   "pygments_lexer": "ipython3",
   "version": "3.9.7"
  }
 },
 "nbformat": 4,
 "nbformat_minor": 5
}
