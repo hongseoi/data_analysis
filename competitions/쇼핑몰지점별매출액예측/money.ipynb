{
 "cells": [
  {
   "cell_type": "code",
   "execution_count": 1,
   "id": "947c6127-88e8-4b6a-b7e8-8861cb0127f7",
   "metadata": {},
   "outputs": [],
   "source": [
    "import pandas as pd\n",
    "import numpy as np\n"
   ]
  },
  {
   "cell_type": "code",
   "execution_count": 2,
   "id": "9f78bfc2-b7a7-4175-ba85-c43d66e2f640",
   "metadata": {},
   "outputs": [],
   "source": [
    "train = pd.read_csv(\"train.csv\")\n",
    "test = pd.read_csv(\"test.csv\")\n",
    "submission = pd.read_csv(\"sample_submission.csv\")"
   ]
  },
  {
   "cell_type": "code",
   "execution_count": 3,
   "id": "d25c6783-3ba0-4fed-bbe1-b40e11b03873",
   "metadata": {},
   "outputs": [
    {
     "data": {
      "text/html": [
       "<div>\n",
       "<style scoped>\n",
       "    .dataframe tbody tr th:only-of-type {\n",
       "        vertical-align: middle;\n",
       "    }\n",
       "\n",
       "    .dataframe tbody tr th {\n",
       "        vertical-align: top;\n",
       "    }\n",
       "\n",
       "    .dataframe thead th {\n",
       "        text-align: right;\n",
       "    }\n",
       "</style>\n",
       "<table border=\"1\" class=\"dataframe\">\n",
       "  <thead>\n",
       "    <tr style=\"text-align: right;\">\n",
       "      <th></th>\n",
       "      <th>id</th>\n",
       "      <th>Store</th>\n",
       "      <th>Date</th>\n",
       "      <th>Temperature</th>\n",
       "      <th>Fuel_Price</th>\n",
       "      <th>Promotion1</th>\n",
       "      <th>Promotion2</th>\n",
       "      <th>Promotion3</th>\n",
       "      <th>Promotion4</th>\n",
       "      <th>Promotion5</th>\n",
       "      <th>Unemployment</th>\n",
       "      <th>IsHoliday</th>\n",
       "      <th>Weekly_Sales</th>\n",
       "    </tr>\n",
       "  </thead>\n",
       "  <tbody>\n",
       "    <tr>\n",
       "      <th>0</th>\n",
       "      <td>1</td>\n",
       "      <td>1</td>\n",
       "      <td>05/02/2010</td>\n",
       "      <td>42.31</td>\n",
       "      <td>2.572</td>\n",
       "      <td>NaN</td>\n",
       "      <td>NaN</td>\n",
       "      <td>NaN</td>\n",
       "      <td>NaN</td>\n",
       "      <td>NaN</td>\n",
       "      <td>8.106</td>\n",
       "      <td>False</td>\n",
       "      <td>1643690.90</td>\n",
       "    </tr>\n",
       "    <tr>\n",
       "      <th>1</th>\n",
       "      <td>2</td>\n",
       "      <td>1</td>\n",
       "      <td>12/02/2010</td>\n",
       "      <td>38.51</td>\n",
       "      <td>2.548</td>\n",
       "      <td>NaN</td>\n",
       "      <td>NaN</td>\n",
       "      <td>NaN</td>\n",
       "      <td>NaN</td>\n",
       "      <td>NaN</td>\n",
       "      <td>8.106</td>\n",
       "      <td>True</td>\n",
       "      <td>1641957.44</td>\n",
       "    </tr>\n",
       "    <tr>\n",
       "      <th>2</th>\n",
       "      <td>3</td>\n",
       "      <td>1</td>\n",
       "      <td>19/02/2010</td>\n",
       "      <td>39.93</td>\n",
       "      <td>2.514</td>\n",
       "      <td>NaN</td>\n",
       "      <td>NaN</td>\n",
       "      <td>NaN</td>\n",
       "      <td>NaN</td>\n",
       "      <td>NaN</td>\n",
       "      <td>8.106</td>\n",
       "      <td>False</td>\n",
       "      <td>1611968.17</td>\n",
       "    </tr>\n",
       "    <tr>\n",
       "      <th>3</th>\n",
       "      <td>4</td>\n",
       "      <td>1</td>\n",
       "      <td>26/02/2010</td>\n",
       "      <td>46.63</td>\n",
       "      <td>2.561</td>\n",
       "      <td>NaN</td>\n",
       "      <td>NaN</td>\n",
       "      <td>NaN</td>\n",
       "      <td>NaN</td>\n",
       "      <td>NaN</td>\n",
       "      <td>8.106</td>\n",
       "      <td>False</td>\n",
       "      <td>1409727.59</td>\n",
       "    </tr>\n",
       "    <tr>\n",
       "      <th>4</th>\n",
       "      <td>5</td>\n",
       "      <td>1</td>\n",
       "      <td>05/03/2010</td>\n",
       "      <td>46.50</td>\n",
       "      <td>2.625</td>\n",
       "      <td>NaN</td>\n",
       "      <td>NaN</td>\n",
       "      <td>NaN</td>\n",
       "      <td>NaN</td>\n",
       "      <td>NaN</td>\n",
       "      <td>8.106</td>\n",
       "      <td>False</td>\n",
       "      <td>1554806.68</td>\n",
       "    </tr>\n",
       "  </tbody>\n",
       "</table>\n",
       "</div>"
      ],
      "text/plain": [
       "   id  Store        Date  Temperature  Fuel_Price  Promotion1  Promotion2  \\\n",
       "0   1      1  05/02/2010        42.31       2.572         NaN         NaN   \n",
       "1   2      1  12/02/2010        38.51       2.548         NaN         NaN   \n",
       "2   3      1  19/02/2010        39.93       2.514         NaN         NaN   \n",
       "3   4      1  26/02/2010        46.63       2.561         NaN         NaN   \n",
       "4   5      1  05/03/2010        46.50       2.625         NaN         NaN   \n",
       "\n",
       "   Promotion3  Promotion4  Promotion5  Unemployment  IsHoliday  Weekly_Sales  \n",
       "0         NaN         NaN         NaN         8.106      False    1643690.90  \n",
       "1         NaN         NaN         NaN         8.106       True    1641957.44  \n",
       "2         NaN         NaN         NaN         8.106      False    1611968.17  \n",
       "3         NaN         NaN         NaN         8.106      False    1409727.59  \n",
       "4         NaN         NaN         NaN         8.106      False    1554806.68  "
      ]
     },
     "execution_count": 3,
     "metadata": {},
     "output_type": "execute_result"
    }
   ],
   "source": [
    "train.head()"
   ]
  },
  {
   "cell_type": "code",
   "execution_count": 4,
   "id": "56951618-098b-42a7-8e97-89af13c181b3",
   "metadata": {},
   "outputs": [
    {
     "name": "stdout",
     "output_type": "stream",
     "text": [
      "<class 'pandas.core.frame.DataFrame'>\n",
      "RangeIndex: 6255 entries, 0 to 6254\n",
      "Data columns (total 13 columns):\n",
      " #   Column        Non-Null Count  Dtype  \n",
      "---  ------        --------------  -----  \n",
      " 0   id            6255 non-null   int64  \n",
      " 1   Store         6255 non-null   int64  \n",
      " 2   Date          6255 non-null   object \n",
      " 3   Temperature   6255 non-null   float64\n",
      " 4   Fuel_Price    6255 non-null   float64\n",
      " 5   Promotion1    2102 non-null   float64\n",
      " 6   Promotion2    1592 non-null   float64\n",
      " 7   Promotion3    1885 non-null   float64\n",
      " 8   Promotion4    1819 non-null   float64\n",
      " 9   Promotion5    2115 non-null   float64\n",
      " 10  Unemployment  6255 non-null   float64\n",
      " 11  IsHoliday     6255 non-null   bool   \n",
      " 12  Weekly_Sales  6255 non-null   float64\n",
      "dtypes: bool(1), float64(9), int64(2), object(1)\n",
      "memory usage: 592.6+ KB\n"
     ]
    }
   ],
   "source": [
    "train.info()\n"
   ]
  },
  {
   "cell_type": "code",
   "execution_count": 5,
   "id": "ba6cacea-c5c7-4339-a04c-0ac9e8a503e0",
   "metadata": {},
   "outputs": [
    {
     "data": {
      "text/plain": [
       "id                 0\n",
       "Store              0\n",
       "Date               0\n",
       "Temperature        0\n",
       "Fuel_Price         0\n",
       "Promotion1      4153\n",
       "Promotion2      4663\n",
       "Promotion3      4370\n",
       "Promotion4      4436\n",
       "Promotion5      4140\n",
       "Unemployment       0\n",
       "IsHoliday          0\n",
       "Weekly_Sales       0\n",
       "dtype: int64"
      ]
     },
     "execution_count": 5,
     "metadata": {},
     "output_type": "execute_result"
    }
   ],
   "source": [
    "train.isnull().sum()"
   ]
  },
  {
   "cell_type": "markdown",
   "id": "39c70bf7-3741-415c-b745-fa3f09025aba",
   "metadata": {},
   "source": [
    "**데이터 시각화**"
   ]
  },
  {
   "cell_type": "code",
   "execution_count": 6,
   "id": "c54dc73f-e884-431c-989b-687ee05008e1",
   "metadata": {},
   "outputs": [
    {
     "data": {
      "image/png": "[encoded data removed]",
      "text/plain": [
       "<Figure size 432x288 with 1 Axes>"
      ]
     },
     "metadata": {
      "needs_background": "light"
     },
     "output_type": "display_data"
    }
   ],
   "source": [
    "import matplotlib.pyplot as plt\n",
    "\n",
    "plt.hist(train.Weekly_Sales, bins=50)\n",
    "plt.show()"
   ]
  },
  {
   "cell_type": "markdown",
   "id": "e1f88446-d47b-4be5-b092-3f60f0f59e0a",
   "metadata": {},
   "source": [
    "컴퓨터는 숫자 데이터만 인식 가능하다. \n",
    "<br>\n",
    "따라서 문자, 날짜, 결측치 등을 숫자로 바꾸는 데이터 전처리가 필요하다."
   ]
  },
  {
   "cell_type": "code",
   "execution_count": 8,
   "id": "02e1155d-1d95-411b-ad4b-12bdce1d17db",
   "metadata": {},
   "outputs": [
    {
     "data": {
      "text/plain": [
       "id              0\n",
       "Store           0\n",
       "Date            0\n",
       "Temperature     0\n",
       "Fuel_Price      0\n",
       "Promotion1      0\n",
       "Promotion2      0\n",
       "Promotion3      0\n",
       "Promotion4      0\n",
       "Promotion5      0\n",
       "Unemployment    0\n",
       "IsHoliday       0\n",
       "Weekly_Sales    0\n",
       "dtype: int64"
      ]
     },
     "execution_count": 8,
     "metadata": {},
     "output_type": "execute_result"
    }
   ],
   "source": [
    "#결측치 처리\n",
    "train = train.fillna(0)\n",
    "train.isnull().sum()"
   ]
  },
  {
   "cell_type": "code",
   "execution_count": 9,
   "id": "ebc4d4e3-127a-463d-b7e4-7de43f118bd9",
   "metadata": {},
   "outputs": [
    {
     "data": {
      "text/plain": [
       "0       05/02/2010\n",
       "1       12/02/2010\n",
       "2       19/02/2010\n",
       "3       26/02/2010\n",
       "4       05/03/2010\n",
       "           ...    \n",
       "6250    31/08/2012\n",
       "6251    07/09/2012\n",
       "6252    14/09/2012\n",
       "6253    21/09/2012\n",
       "6254    28/09/2012\n",
       "Name: Date, Length: 6255, dtype: object"
      ]
     },
     "execution_count": 9,
     "metadata": {},
     "output_type": "execute_result"
    }
   ],
   "source": [
    "#date 처리\n",
    "train[\"Date\"]\n"
   ]
  },
  {
   "cell_type": "code",
   "execution_count": 11,
   "id": "910b4fb4-a017-44e2-bbea-057bfbd4b7e7",
   "metadata": {},
   "outputs": [
    {
     "data": {
      "text/html": [
       "<div>\n",
       "<style scoped>\n",
       "    .dataframe tbody tr th:only-of-type {\n",
       "        vertical-align: middle;\n",
       "    }\n",
       "\n",
       "    .dataframe tbody tr th {\n",
       "        vertical-align: top;\n",
       "    }\n",
       "\n",
       "    .dataframe thead th {\n",
       "        text-align: right;\n",
       "    }\n",
       "</style>\n",
       "<table border=\"1\" class=\"dataframe\">\n",
       "  <thead>\n",
       "    <tr style=\"text-align: right;\">\n",
       "      <th></th>\n",
       "      <th>id</th>\n",
       "      <th>Store</th>\n",
       "      <th>Date</th>\n",
       "      <th>Temperature</th>\n",
       "      <th>Fuel_Price</th>\n",
       "      <th>Promotion1</th>\n",
       "      <th>Promotion2</th>\n",
       "      <th>Promotion3</th>\n",
       "      <th>Promotion4</th>\n",
       "      <th>Promotion5</th>\n",
       "      <th>Unemployment</th>\n",
       "      <th>IsHoliday</th>\n",
       "      <th>Weekly_Sales</th>\n",
       "      <th>Month</th>\n",
       "    </tr>\n",
       "  </thead>\n",
       "  <tbody>\n",
       "    <tr>\n",
       "      <th>0</th>\n",
       "      <td>1</td>\n",
       "      <td>1</td>\n",
       "      <td>05/02/2010</td>\n",
       "      <td>42.31</td>\n",
       "      <td>2.572</td>\n",
       "      <td>0.0</td>\n",
       "      <td>0.0</td>\n",
       "      <td>0.0</td>\n",
       "      <td>0.0</td>\n",
       "      <td>0.0</td>\n",
       "      <td>8.106</td>\n",
       "      <td>False</td>\n",
       "      <td>1643690.90</td>\n",
       "      <td>2</td>\n",
       "    </tr>\n",
       "    <tr>\n",
       "      <th>1</th>\n",
       "      <td>2</td>\n",
       "      <td>1</td>\n",
       "      <td>12/02/2010</td>\n",
       "      <td>38.51</td>\n",
       "      <td>2.548</td>\n",
       "      <td>0.0</td>\n",
       "      <td>0.0</td>\n",
       "      <td>0.0</td>\n",
       "      <td>0.0</td>\n",
       "      <td>0.0</td>\n",
       "      <td>8.106</td>\n",
       "      <td>True</td>\n",
       "      <td>1641957.44</td>\n",
       "      <td>2</td>\n",
       "    </tr>\n",
       "    <tr>\n",
       "      <th>2</th>\n",
       "      <td>3</td>\n",
       "      <td>1</td>\n",
       "      <td>19/02/2010</td>\n",
       "      <td>39.93</td>\n",
       "      <td>2.514</td>\n",
       "      <td>0.0</td>\n",
       "      <td>0.0</td>\n",
       "      <td>0.0</td>\n",
       "      <td>0.0</td>\n",
       "      <td>0.0</td>\n",
       "      <td>8.106</td>\n",
       "      <td>False</td>\n",
       "      <td>1611968.17</td>\n",
       "      <td>2</td>\n",
       "    </tr>\n",
       "    <tr>\n",
       "      <th>3</th>\n",
       "      <td>4</td>\n",
       "      <td>1</td>\n",
       "      <td>26/02/2010</td>\n",
       "      <td>46.63</td>\n",
       "      <td>2.561</td>\n",
       "      <td>0.0</td>\n",
       "      <td>0.0</td>\n",
       "      <td>0.0</td>\n",
       "      <td>0.0</td>\n",
       "      <td>0.0</td>\n",
       "      <td>8.106</td>\n",
       "      <td>False</td>\n",
       "      <td>1409727.59</td>\n",
       "      <td>2</td>\n",
       "    </tr>\n",
       "    <tr>\n",
       "      <th>4</th>\n",
       "      <td>5</td>\n",
       "      <td>1</td>\n",
       "      <td>05/03/2010</td>\n",
       "      <td>46.50</td>\n",
       "      <td>2.625</td>\n",
       "      <td>0.0</td>\n",
       "      <td>0.0</td>\n",
       "      <td>0.0</td>\n",
       "      <td>0.0</td>\n",
       "      <td>0.0</td>\n",
       "      <td>8.106</td>\n",
       "      <td>False</td>\n",
       "      <td>1554806.68</td>\n",
       "      <td>3</td>\n",
       "    </tr>\n",
       "  </tbody>\n",
       "</table>\n",
       "</div>"
      ],
      "text/plain": [
       "   id  Store        Date  Temperature  Fuel_Price  Promotion1  Promotion2  \\\n",
       "0   1      1  05/02/2010        42.31       2.572         0.0         0.0   \n",
       "1   2      1  12/02/2010        38.51       2.548         0.0         0.0   \n",
       "2   3      1  19/02/2010        39.93       2.514         0.0         0.0   \n",
       "3   4      1  26/02/2010        46.63       2.561         0.0         0.0   \n",
       "4   5      1  05/03/2010        46.50       2.625         0.0         0.0   \n",
       "\n",
       "   Promotion3  Promotion4  Promotion5  Unemployment  IsHoliday  Weekly_Sales  \\\n",
       "0         0.0         0.0         0.0         8.106      False    1643690.90   \n",
       "1         0.0         0.0         0.0         8.106       True    1641957.44   \n",
       "2         0.0         0.0         0.0         8.106      False    1611968.17   \n",
       "3         0.0         0.0         0.0         8.106      False    1409727.59   \n",
       "4         0.0         0.0         0.0         8.106      False    1554806.68   \n",
       "\n",
       "   Month  \n",
       "0      2  \n",
       "1      2  \n",
       "2      2  \n",
       "3      2  \n",
       "4      3  "
      ]
     },
     "execution_count": 11,
     "metadata": {},
     "output_type": "execute_result"
    }
   ],
   "source": [
    "def get_month(date):\n",
    "    month = int(date[3:5])\n",
    "    return month\n",
    "\n",
    "train['Month'] = train['Date'].apply(get_month)\n",
    "train.head()    "
   ]
  },
  {
   "cell_type": "code",
   "execution_count": 14,
   "id": "d1a53178-3602-4b09-b6b0-bfe26e096b8b",
   "metadata": {},
   "outputs": [
    {
     "data": {
      "text/html": [
       "<div>\n",
       "<style scoped>\n",
       "    .dataframe tbody tr th:only-of-type {\n",
       "        vertical-align: middle;\n",
       "    }\n",
       "\n",
       "    .dataframe tbody tr th {\n",
       "        vertical-align: top;\n",
       "    }\n",
       "\n",
       "    .dataframe thead th {\n",
       "        text-align: right;\n",
       "    }\n",
       "</style>\n",
       "<table border=\"1\" class=\"dataframe\">\n",
       "  <thead>\n",
       "    <tr style=\"text-align: right;\">\n",
       "      <th></th>\n",
       "      <th>id</th>\n",
       "      <th>Store</th>\n",
       "      <th>Date</th>\n",
       "      <th>Temperature</th>\n",
       "      <th>Fuel_Price</th>\n",
       "      <th>Promotion1</th>\n",
       "      <th>Promotion2</th>\n",
       "      <th>Promotion3</th>\n",
       "      <th>Promotion4</th>\n",
       "      <th>Promotion5</th>\n",
       "      <th>Unemployment</th>\n",
       "      <th>IsHoliday</th>\n",
       "      <th>Weekly_Sales</th>\n",
       "      <th>Month</th>\n",
       "      <th>NumberHoliday</th>\n",
       "    </tr>\n",
       "  </thead>\n",
       "  <tbody>\n",
       "    <tr>\n",
       "      <th>0</th>\n",
       "      <td>1</td>\n",
       "      <td>1</td>\n",
       "      <td>05/02/2010</td>\n",
       "      <td>42.31</td>\n",
       "      <td>2.572</td>\n",
       "      <td>0.0</td>\n",
       "      <td>0.0</td>\n",
       "      <td>0.0</td>\n",
       "      <td>0.0</td>\n",
       "      <td>0.0</td>\n",
       "      <td>8.106</td>\n",
       "      <td>False</td>\n",
       "      <td>1643690.90</td>\n",
       "      <td>2</td>\n",
       "      <td>0</td>\n",
       "    </tr>\n",
       "    <tr>\n",
       "      <th>1</th>\n",
       "      <td>2</td>\n",
       "      <td>1</td>\n",
       "      <td>12/02/2010</td>\n",
       "      <td>38.51</td>\n",
       "      <td>2.548</td>\n",
       "      <td>0.0</td>\n",
       "      <td>0.0</td>\n",
       "      <td>0.0</td>\n",
       "      <td>0.0</td>\n",
       "      <td>0.0</td>\n",
       "      <td>8.106</td>\n",
       "      <td>True</td>\n",
       "      <td>1641957.44</td>\n",
       "      <td>2</td>\n",
       "      <td>1</td>\n",
       "    </tr>\n",
       "    <tr>\n",
       "      <th>2</th>\n",
       "      <td>3</td>\n",
       "      <td>1</td>\n",
       "      <td>19/02/2010</td>\n",
       "      <td>39.93</td>\n",
       "      <td>2.514</td>\n",
       "      <td>0.0</td>\n",
       "      <td>0.0</td>\n",
       "      <td>0.0</td>\n",
       "      <td>0.0</td>\n",
       "      <td>0.0</td>\n",
       "      <td>8.106</td>\n",
       "      <td>False</td>\n",
       "      <td>1611968.17</td>\n",
       "      <td>2</td>\n",
       "      <td>0</td>\n",
       "    </tr>\n",
       "    <tr>\n",
       "      <th>3</th>\n",
       "      <td>4</td>\n",
       "      <td>1</td>\n",
       "      <td>26/02/2010</td>\n",
       "      <td>46.63</td>\n",
       "      <td>2.561</td>\n",
       "      <td>0.0</td>\n",
       "      <td>0.0</td>\n",
       "      <td>0.0</td>\n",
       "      <td>0.0</td>\n",
       "      <td>0.0</td>\n",
       "      <td>8.106</td>\n",
       "      <td>False</td>\n",
       "      <td>1409727.59</td>\n",
       "      <td>2</td>\n",
       "      <td>0</td>\n",
       "    </tr>\n",
       "    <tr>\n",
       "      <th>4</th>\n",
       "      <td>5</td>\n",
       "      <td>1</td>\n",
       "      <td>05/03/2010</td>\n",
       "      <td>46.50</td>\n",
       "      <td>2.625</td>\n",
       "      <td>0.0</td>\n",
       "      <td>0.0</td>\n",
       "      <td>0.0</td>\n",
       "      <td>0.0</td>\n",
       "      <td>0.0</td>\n",
       "      <td>8.106</td>\n",
       "      <td>False</td>\n",
       "      <td>1554806.68</td>\n",
       "      <td>3</td>\n",
       "      <td>0</td>\n",
       "    </tr>\n",
       "  </tbody>\n",
       "</table>\n",
       "</div>"
      ],
      "text/plain": [
       "   id  Store        Date  Temperature  Fuel_Price  Promotion1  Promotion2  \\\n",
       "0   1      1  05/02/2010        42.31       2.572         0.0         0.0   \n",
       "1   2      1  12/02/2010        38.51       2.548         0.0         0.0   \n",
       "2   3      1  19/02/2010        39.93       2.514         0.0         0.0   \n",
       "3   4      1  26/02/2010        46.63       2.561         0.0         0.0   \n",
       "4   5      1  05/03/2010        46.50       2.625         0.0         0.0   \n",
       "\n",
       "   Promotion3  Promotion4  Promotion5  Unemployment  IsHoliday  Weekly_Sales  \\\n",
       "0         0.0         0.0         0.0         8.106      False    1643690.90   \n",
       "1         0.0         0.0         0.0         8.106       True    1641957.44   \n",
       "2         0.0         0.0         0.0         8.106      False    1611968.17   \n",
       "3         0.0         0.0         0.0         8.106      False    1409727.59   \n",
       "4         0.0         0.0         0.0         8.106      False    1554806.68   \n",
       "\n",
       "   Month  NumberHoliday  \n",
       "0      2              0  \n",
       "1      2              1  \n",
       "2      2              0  \n",
       "3      2              0  \n",
       "4      3              0  "
      ]
     },
     "execution_count": 14,
     "metadata": {},
     "output_type": "execute_result"
    }
   ],
   "source": [
    "#isHolyday전처리: bool은 컴퓨터 파악 가능하지만 연습삼아 전처리\n",
    "def holyday(isholyday):\n",
    "    if isholyday == True:\n",
    "        num = 1\n",
    "    else:\n",
    "        num = 0\n",
    "    return num\n",
    "\n",
    "train[\"NumberHoliday\"] = train[\"IsHoliday\"].apply(holyday)\n",
    "\n",
    "train.head()\n"
   ]
  },
  {
   "cell_type": "code",
   "execution_count": 15,
   "id": "6ee1de95-3543-4a5d-88f9-44685c1a34f2",
   "metadata": {},
   "outputs": [],
   "source": [
    "#test데이터 전처리\n",
    "test = test.fillna(0)"
   ]
  },
  {
   "cell_type": "code",
   "execution_count": 16,
   "id": "69414d5b-abdd-4f65-ba84-18eb35613372",
   "metadata": {},
   "outputs": [],
   "source": [
    "test['Month'] = test['Date'].apply(get_month)\n"
   ]
  },
  {
   "cell_type": "code",
   "execution_count": 17,
   "id": "26603c35-d784-42b2-842b-b47812baf907",
   "metadata": {},
   "outputs": [],
   "source": [
    "test['NumberHoliday'] = test[\"IsHoliday\"].apply(holyday)"
   ]
  },
  {
   "cell_type": "markdown",
   "id": "6c752fff-c2ea-414a-8cb2-d9cc35aea806",
   "metadata": {},
   "source": [
    "**선형회귀모델링**\n"
   ]
  },
  {
   "cell_type": "code",
   "execution_count": 19,
   "id": "c793f9f4-3a54-4b82-ac68-cfb047fe1d87",
   "metadata": {},
   "outputs": [],
   "source": [
    "from sklearn.linear_model import LinearRegression\n",
    "\n",
    "model = LinearRegression()"
   ]
  },
  {
   "cell_type": "code",
   "execution_count": 20,
   "id": "e510d42b-620a-4721-8b0a-e8ba5544eed6",
   "metadata": {},
   "outputs": [],
   "source": [
    "# 필요없는 컬럼 제거\n",
    "train = train.drop(columns=['id'])\n",
    "test = test.drop(columns=['id'])\n",
    "\n",
    "train = train.drop(columns=['Date','IsHoliday'])\n",
    "test = test.drop(columns=['Date','IsHoliday'])\n",
    "\n",
    "# y 제거\n",
    "X_train = train.drop(columns=['Weekly_Sales'])\n",
    "y_train = train['Weekly_Sales']"
   ]
  },
  {
   "cell_type": "code",
   "execution_count": 21,
   "id": "5711e001-d6fc-4f9c-8ef9-6a3371c441c7",
   "metadata": {},
   "outputs": [
    {
     "data": {
      "text/plain": [
       "LinearRegression()"
      ]
     },
     "execution_count": 21,
     "metadata": {},
     "output_type": "execute_result"
    }
   ],
   "source": [
    "#모델 학습\n",
    "model.fit(X_train, y_train)"
   ]
  },
  {
   "cell_type": "code",
   "execution_count": 22,
   "id": "3a360569-d0e1-45aa-b76c-c60dc6aff158",
   "metadata": {},
   "outputs": [
    {
     "name": "stdout",
     "output_type": "stream",
     "text": [
      "----------------상위 10개값------------------------\n",
      "[1481332.55782774 1461330.0803101  1387783.09207983 1389854.53005948\n",
      " 1443978.94274371 1514601.15440917 1416193.17838576 1439121.7459541\n",
      " 1334090.21769005 1324831.19678272]\n"
     ]
    }
   ],
   "source": [
    "#결과값 예측 by predict\n",
    "\n",
    "prediction = model.predict(test)\n",
    "print(\"----------------상위 10개값------------------------\")\n",
    "print(prediction[:10])"
   ]
  },
  {
   "cell_type": "code",
   "execution_count": 23,
   "id": "c3071862-e51e-40ca-baa2-28d2f2cb5fd1",
   "metadata": {},
   "outputs": [
    {
     "data": {
      "text/html": [
       "<div>\n",
       "<style scoped>\n",
       "    .dataframe tbody tr th:only-of-type {\n",
       "        vertical-align: middle;\n",
       "    }\n",
       "\n",
       "    .dataframe tbody tr th {\n",
       "        vertical-align: top;\n",
       "    }\n",
       "\n",
       "    .dataframe thead th {\n",
       "        text-align: right;\n",
       "    }\n",
       "</style>\n",
       "<table border=\"1\" class=\"dataframe\">\n",
       "  <thead>\n",
       "    <tr style=\"text-align: right;\">\n",
       "      <th></th>\n",
       "      <th>id</th>\n",
       "      <th>Weekly_Sales</th>\n",
       "    </tr>\n",
       "  </thead>\n",
       "  <tbody>\n",
       "    <tr>\n",
       "      <th>0</th>\n",
       "      <td>1</td>\n",
       "      <td>1.481333e+06</td>\n",
       "    </tr>\n",
       "    <tr>\n",
       "      <th>1</th>\n",
       "      <td>2</td>\n",
       "      <td>1.461330e+06</td>\n",
       "    </tr>\n",
       "    <tr>\n",
       "      <th>2</th>\n",
       "      <td>3</td>\n",
       "      <td>1.387783e+06</td>\n",
       "    </tr>\n",
       "    <tr>\n",
       "      <th>3</th>\n",
       "      <td>4</td>\n",
       "      <td>1.389855e+06</td>\n",
       "    </tr>\n",
       "    <tr>\n",
       "      <th>4</th>\n",
       "      <td>5</td>\n",
       "      <td>1.443979e+06</td>\n",
       "    </tr>\n",
       "  </tbody>\n",
       "</table>\n",
       "</div>"
      ],
      "text/plain": [
       "   id  Weekly_Sales\n",
       "0   1  1.481333e+06\n",
       "1   2  1.461330e+06\n",
       "2   3  1.387783e+06\n",
       "3   4  1.389855e+06\n",
       "4   5  1.443979e+06"
      ]
     },
     "execution_count": 23,
     "metadata": {},
     "output_type": "execute_result"
    }
   ],
   "source": [
    "submission['Weekly_Sales'] = prediction\n",
    "\n",
    "submission.head()"
   ]
  },
  {
   "cell_type": "code",
   "execution_count": 24,
   "id": "1e7dce89-d97a-4c33-9532-dbf626e66af7",
   "metadata": {},
   "outputs": [],
   "source": [
    "submission.to_csv('submission.csv', index=False)\n"
   ]
  },
  {
   "cell_type": "code",
   "execution_count": null,
   "id": "240250b6-46c3-4ac9-8167-9d46d1cb14ce",
   "metadata": {},
   "outputs": [],
   "source": []
  }
 ],
 "metadata": {
  "kernelspec": {
   "display_name": "Python 3 (ipykernel)",
   "language": "python",
   "name": "python3"
  },
  "language_info": {
   "codemirror_mode": {
    "name": "ipython",
    "version": 3
   },
   "file_extension": ".py",
   "mimetype": "text/x-python",
   "name": "python",
   "nbconvert_exporter": "python",
   "pygments_lexer": "ipython3",
   "version": "3.9.7"
  }
 },
 "nbformat": 4,
 "nbformat_minor": 5
}
