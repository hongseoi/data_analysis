{
  "nbformat": 4,
  "nbformat_minor": 0,
  "metadata": {
    "colab": {
      "name": "basic_crolling_by_bs_2.ipynb",
      "provenance": [],
      "collapsed_sections": [],
      "authorship_tag": "ABX9TyPBU6kw67aUS9mC+xdDYI1E",
      "include_colab_link": true
    },
    "kernelspec": {
      "name": "python3",
      "display_name": "Python 3"
    },
    "language_info": {
      "name": "python"
    }
  },
  "cells": [
    {
      "cell_type": "markdown",
      "metadata": {
        "id": "view-in-github",
        "colab_type": "text"
      },
      "source": [
        "<a href=\"https://colab.research.google.com/github/hongseoi/data_analysis/blob/main/basic_crolling_by_bs_2.ipynb\" target=\"_parent\"><img src=\"https://colab.research.google.com/assets/colab-badge.svg\" alt=\"Open In Colab\"/></a>"
      ]
    },
    {
      "cell_type": "code",
      "execution_count": null,
      "metadata": {
        "id": "RSekuRIr05I2"
      },
      "outputs": [],
      "source": [
        "from bs4 import BeautifulSoup"
      ]
    },
    {
      "cell_type": "code",
      "source": [
        "# 같은 태그가 여러개인 html문서\n",
        "html_doc = \"\"\"\n",
        "<!doctype HTML>\n",
        "  <html>\n",
        "    <head>\n",
        "    같은 태그가 여러개인 경우의 웹 크롤링\n",
        "    </head>\n",
        "\n",
        "    <body>\n",
        "      <div> 첫번째 </div>\n",
        "      <div> 두 번째 </div>\n",
        "    </body>\n",
        "\n",
        "  </html>\n",
        "\"\"\""
      ],
      "metadata": {
        "id": "J-vfHErP1CCi"
      },
      "execution_count": null,
      "outputs": []
    },
    {
      "cell_type": "code",
      "source": [
        "bs_obj = BeautifulSoup(html_doc, \"html.parser\")\n",
        "body = bs_obj.find(\"body\")\n",
        "print(body)"
      ],
      "metadata": {
        "colab": {
          "base_uri": "https://localhost:8080/"
        },
        "id": "XjFQqBMU1ZOh",
        "outputId": "53890bf7-0669-42ac-8d03-3745cdf9673e"
      },
      "execution_count": null,
      "outputs": [
        {
          "output_type": "stream",
          "name": "stdout",
          "text": [
            "<body>\n",
            "<div> 첫번째 </div>\n",
            "<div> 두 번째 </div>\n",
            "</body>\n"
          ]
        }
      ]
    },
    {
      "cell_type": "code",
      "source": [
        "#div내용만 불러오기\n",
        "div1 = bs_obj.find(\"div\")\n",
        "print(div1)"
      ],
      "metadata": {
        "colab": {
          "base_uri": "https://localhost:8080/"
        },
        "id": "MKjv_rba1i6c",
        "outputId": "ff588740-a884-490c-a53f-6d01a3f96f17"
      },
      "execution_count": null,
      "outputs": [
        {
          "output_type": "stream",
          "name": "stdout",
          "text": [
            "<div> 첫번째 </div>\n"
          ]
        }
      ]
    },
    {
      "cell_type": "code",
      "source": [
        "div_total = bs_obj.find_all(\"div\")\n",
        "print(div_total)"
      ],
      "metadata": {
        "colab": {
          "base_uri": "https://localhost:8080/"
        },
        "id": "PvMQxNVgRPUm",
        "outputId": "44a0699c-6b7a-4a9a-d5e5-99e70a717f8f"
      },
      "execution_count": null,
      "outputs": [
        {
          "output_type": "stream",
          "name": "stdout",
          "text": [
            "[<div> 첫번째 </div>, <div> 두 번째 </div>]\n"
          ]
        }
      ]
    },
    {
      "cell_type": "code",
      "source": [
        "#find_all의 결과물은 리스트 형태\n",
        "div2 = div_total[1]\n",
        "print(div2)"
      ],
      "metadata": {
        "colab": {
          "base_uri": "https://localhost:8080/"
        },
        "id": "ph_NnTfYRdAZ",
        "outputId": "8bf931d5-abb1-4e0d-87f6-0ffccd015d11"
      },
      "execution_count": null,
      "outputs": [
        {
          "output_type": "stream",
          "name": "stdout",
          "text": [
            "<div> 두 번째 </div>\n"
          ]
        }
      ]
    },
    {
      "cell_type": "code",
      "source": [
        "#태그 제외하고 실제 텍스트만 출력하기\n",
        "print(div2.text)"
      ],
      "metadata": {
        "colab": {
          "base_uri": "https://localhost:8080/"
        },
        "id": "7OKSFlKyRk-O",
        "outputId": "b7e2195a-d5df-4a99-cbc8-4e849bee6c47"
      },
      "execution_count": null,
      "outputs": [
        {
          "output_type": "stream",
          "name": "stdout",
          "text": [
            " 두 번째 \n"
          ]
        }
      ]
    },
    {
      "cell_type": "code",
      "source": [
        ""
      ],
      "metadata": {
        "id": "ssvv2G0VRv_e"
      },
      "execution_count": null,
      "outputs": []
    }
  ]
}