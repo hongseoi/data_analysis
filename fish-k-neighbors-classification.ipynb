{
 "cells": [
  {
   "cell_type": "code",
   "execution_count": null,
   "id": "c65ad182",
   "metadata": {
    "papermill": {
     "duration": 0.005674,
     "end_time": "2022-11-09T06:42:49.436916",
     "exception": false,
     "start_time": "2022-11-09T06:42:49.431242",
     "status": "completed"
    },
    "tags": []
   },
   "outputs": [],
   "source": []
  },
  {
   "cell_type": "code",
   "execution_count": 1,
   "id": "7694b1ff",
   "metadata": {
    "_cell_guid": "b1076dfc-b9ad-4769-8c92-a6c4dae69d19",
    "_uuid": "8f2839f25d086af736a60e9eeb907d3b93b6e0e5",
    "execution": {
     "iopub.execute_input": "2022-11-09T06:42:49.448541Z",
     "iopub.status.busy": "2022-11-09T06:42:49.448073Z",
     "iopub.status.idle": "2022-11-09T06:42:49.467478Z",
     "shell.execute_reply": "2022-11-09T06:42:49.466559Z"
    },
    "papermill": {
     "duration": 0.028231,
     "end_time": "2022-11-09T06:42:49.470056",
     "exception": false,
     "start_time": "2022-11-09T06:42:49.441825",
     "status": "completed"
    },
    "tags": []
   },
   "outputs": [
    {
     "name": "stdout",
     "output_type": "stream",
     "text": [
      "/kaggle/input/fish-market/Fish.csv\n"
     ]
    }
   ],
   "source": [
    "# This Python 3 environment comes with many helpful analytics libraries installed\n",
    "# It is defined by the kaggle/python Docker image: https://github.com/kaggle/docker-python\n",
    "# For example, here's several helpful packages to load\n",
    "\n",
    "import numpy as np # linear algebra\n",
    "import pandas as pd # data processing, CSV file I/O (e.g. pd.read_csv)\n",
    "import matplotlib.pyplot as plt\n",
    "\n",
    "# Input data files are available in the read-only \"../input/\" directory\n",
    "# For example, running this (by clicking run or pressing Shift+Enter) will list all files under the input directory\n",
    "\n",
    "import os\n",
    "for dirname, _, filenames in os.walk('/kaggle/input'):\n",
    "    for filename in filenames:\n",
    "        print(os.path.join(dirname, filename))\n",
    "\n",
    "# You can write up to 20GB to the current directory (/kaggle/working/) that gets preserved as output when you create a version using \"Save & Run All\" \n",
    "# You can also write temporary files to /kaggle/temp/, but they won't be saved outside of the current session"
   ]
  },
  {
   "cell_type": "markdown",
   "id": "7bca3f94",
   "metadata": {
    "papermill": {
     "duration": 0.004285,
     "end_time": "2022-11-09T06:42:49.479147",
     "exception": false,
     "start_time": "2022-11-09T06:42:49.474862",
     "status": "completed"
    },
    "tags": []
   },
   "source": [
    "목차\n",
    "1. 라이브러리 삽입\n",
    "2. 데이터 설명\n",
    "3. 데이터 전처리\n",
    "4. eda\n",
    "5. 머신러닝"
   ]
  },
  {
   "cell_type": "code",
   "execution_count": 2,
   "id": "0d9595c3",
   "metadata": {
    "execution": {
     "iopub.execute_input": "2022-11-09T06:42:49.491611Z",
     "iopub.status.busy": "2022-11-09T06:42:49.490332Z",
     "iopub.status.idle": "2022-11-09T06:42:49.511558Z",
     "shell.execute_reply": "2022-11-09T06:42:49.510627Z"
    },
    "papermill": {
     "duration": 0.029744,
     "end_time": "2022-11-09T06:42:49.514076",
     "exception": false,
     "start_time": "2022-11-09T06:42:49.484332",
     "status": "completed"
    },
    "tags": []
   },
   "outputs": [],
   "source": [
    "df = pd.read_csv(\"../input/fish-market/Fish.csv\")"
   ]
  },
  {
   "cell_type": "markdown",
   "id": "c7b3b7a2",
   "metadata": {
    "papermill": {
     "duration": 0.004482,
     "end_time": "2022-11-09T06:42:49.524047",
     "exception": false,
     "start_time": "2022-11-09T06:42:49.519565",
     "status": "completed"
    },
    "tags": []
   },
   "source": [
    "<div style=\"text-align: left; background-color: #0f0704; color: white; padding: 5px; line-height: 1; border-radius:10px\"> <h2>Data Preprocessing</h2> </div>\n"
   ]
  },
  {
   "cell_type": "code",
   "execution_count": 3,
   "id": "aef79691",
   "metadata": {
    "execution": {
     "iopub.execute_input": "2022-11-09T06:42:49.536499Z",
     "iopub.status.busy": "2022-11-09T06:42:49.535688Z",
     "iopub.status.idle": "2022-11-09T06:42:49.566840Z",
     "shell.execute_reply": "2022-11-09T06:42:49.565526Z"
    },
    "papermill": {
     "duration": 0.04041,
     "end_time": "2022-11-09T06:42:49.569438",
     "exception": false,
     "start_time": "2022-11-09T06:42:49.529028",
     "status": "completed"
    },
    "tags": []
   },
   "outputs": [
    {
     "data": {
      "text/html": [
       "<div>\n",
       "<style scoped>\n",
       "    .dataframe tbody tr th:only-of-type {\n",
       "        vertical-align: middle;\n",
       "    }\n",
       "\n",
       "    .dataframe tbody tr th {\n",
       "        vertical-align: top;\n",
       "    }\n",
       "\n",
       "    .dataframe thead th {\n",
       "        text-align: right;\n",
       "    }\n",
       "</style>\n",
       "<table border=\"1\" class=\"dataframe\">\n",
       "  <thead>\n",
       "    <tr style=\"text-align: right;\">\n",
       "      <th></th>\n",
       "      <th>Species</th>\n",
       "      <th>Weight</th>\n",
       "      <th>Length1</th>\n",
       "      <th>Length2</th>\n",
       "      <th>Length3</th>\n",
       "      <th>Height</th>\n",
       "      <th>Width</th>\n",
       "    </tr>\n",
       "  </thead>\n",
       "  <tbody>\n",
       "    <tr>\n",
       "      <th>0</th>\n",
       "      <td>Bream</td>\n",
       "      <td>242.0</td>\n",
       "      <td>23.2</td>\n",
       "      <td>25.4</td>\n",
       "      <td>30.0</td>\n",
       "      <td>11.5200</td>\n",
       "      <td>4.0200</td>\n",
       "    </tr>\n",
       "    <tr>\n",
       "      <th>1</th>\n",
       "      <td>Bream</td>\n",
       "      <td>290.0</td>\n",
       "      <td>24.0</td>\n",
       "      <td>26.3</td>\n",
       "      <td>31.2</td>\n",
       "      <td>12.4800</td>\n",
       "      <td>4.3056</td>\n",
       "    </tr>\n",
       "    <tr>\n",
       "      <th>2</th>\n",
       "      <td>Bream</td>\n",
       "      <td>340.0</td>\n",
       "      <td>23.9</td>\n",
       "      <td>26.5</td>\n",
       "      <td>31.1</td>\n",
       "      <td>12.3778</td>\n",
       "      <td>4.6961</td>\n",
       "    </tr>\n",
       "    <tr>\n",
       "      <th>3</th>\n",
       "      <td>Bream</td>\n",
       "      <td>363.0</td>\n",
       "      <td>26.3</td>\n",
       "      <td>29.0</td>\n",
       "      <td>33.5</td>\n",
       "      <td>12.7300</td>\n",
       "      <td>4.4555</td>\n",
       "    </tr>\n",
       "    <tr>\n",
       "      <th>4</th>\n",
       "      <td>Bream</td>\n",
       "      <td>430.0</td>\n",
       "      <td>26.5</td>\n",
       "      <td>29.0</td>\n",
       "      <td>34.0</td>\n",
       "      <td>12.4440</td>\n",
       "      <td>5.1340</td>\n",
       "    </tr>\n",
       "  </tbody>\n",
       "</table>\n",
       "</div>"
      ],
      "text/plain": [
       "  Species  Weight  Length1  Length2  Length3   Height   Width\n",
       "0   Bream   242.0     23.2     25.4     30.0  11.5200  4.0200\n",
       "1   Bream   290.0     24.0     26.3     31.2  12.4800  4.3056\n",
       "2   Bream   340.0     23.9     26.5     31.1  12.3778  4.6961\n",
       "3   Bream   363.0     26.3     29.0     33.5  12.7300  4.4555\n",
       "4   Bream   430.0     26.5     29.0     34.0  12.4440  5.1340"
      ]
     },
     "execution_count": 3,
     "metadata": {},
     "output_type": "execute_result"
    }
   ],
   "source": [
    "df.head()"
   ]
  },
  {
   "cell_type": "code",
   "execution_count": 4,
   "id": "d80d8cfa",
   "metadata": {
    "execution": {
     "iopub.execute_input": "2022-11-09T06:42:49.581592Z",
     "iopub.status.busy": "2022-11-09T06:42:49.580987Z",
     "iopub.status.idle": "2022-11-09T06:42:49.605193Z",
     "shell.execute_reply": "2022-11-09T06:42:49.603942Z"
    },
    "papermill": {
     "duration": 0.03314,
     "end_time": "2022-11-09T06:42:49.607673",
     "exception": false,
     "start_time": "2022-11-09T06:42:49.574533",
     "status": "completed"
    },
    "tags": []
   },
   "outputs": [
    {
     "name": "stdout",
     "output_type": "stream",
     "text": [
      "<class 'pandas.core.frame.DataFrame'>\n",
      "RangeIndex: 159 entries, 0 to 158\n",
      "Data columns (total 7 columns):\n",
      " #   Column   Non-Null Count  Dtype  \n",
      "---  ------   --------------  -----  \n",
      " 0   Species  159 non-null    object \n",
      " 1   Weight   159 non-null    float64\n",
      " 2   Length1  159 non-null    float64\n",
      " 3   Length2  159 non-null    float64\n",
      " 4   Length3  159 non-null    float64\n",
      " 5   Height   159 non-null    float64\n",
      " 6   Width    159 non-null    float64\n",
      "dtypes: float64(6), object(1)\n",
      "memory usage: 8.8+ KB\n"
     ]
    }
   ],
   "source": [
    "df.info()"
   ]
  },
  {
   "cell_type": "markdown",
   "id": "c5e14352",
   "metadata": {
    "papermill": {
     "duration": 0.005224,
     "end_time": "2022-11-09T06:42:49.617800",
     "exception": false,
     "start_time": "2022-11-09T06:42:49.612576",
     "status": "completed"
    },
    "tags": []
   },
   "source": [
    "The type of feature ['Species'] is object so I did one hot encoding"
   ]
  },
  {
   "cell_type": "code",
   "execution_count": null,
   "id": "02c556a5",
   "metadata": {
    "papermill": {
     "duration": 0.004771,
     "end_time": "2022-11-09T06:42:49.627685",
     "exception": false,
     "start_time": "2022-11-09T06:42:49.622914",
     "status": "completed"
    },
    "tags": []
   },
   "outputs": [],
   "source": []
  },
  {
   "cell_type": "code",
   "execution_count": 5,
   "id": "745466ac",
   "metadata": {
    "execution": {
     "iopub.execute_input": "2022-11-09T06:42:49.639816Z",
     "iopub.status.busy": "2022-11-09T06:42:49.639103Z",
     "iopub.status.idle": "2022-11-09T06:42:49.646013Z",
     "shell.execute_reply": "2022-11-09T06:42:49.644965Z"
    },
    "papermill": {
     "duration": 0.015453,
     "end_time": "2022-11-09T06:42:49.648489",
     "exception": false,
     "start_time": "2022-11-09T06:42:49.633036",
     "status": "completed"
    },
    "tags": []
   },
   "outputs": [],
   "source": [
    "df_x = df.drop(['Species'], axis=1)\n",
    "df_y = df['Species']"
   ]
  },
  {
   "cell_type": "code",
   "execution_count": 6,
   "id": "31a559a7",
   "metadata": {
    "execution": {
     "iopub.execute_input": "2022-11-09T06:42:49.659671Z",
     "iopub.status.busy": "2022-11-09T06:42:49.659278Z",
     "iopub.status.idle": "2022-11-09T06:42:50.783553Z",
     "shell.execute_reply": "2022-11-09T06:42:50.782267Z"
    },
    "papermill": {
     "duration": 1.133247,
     "end_time": "2022-11-09T06:42:50.786627",
     "exception": false,
     "start_time": "2022-11-09T06:42:49.653380",
     "status": "completed"
    },
    "tags": []
   },
   "outputs": [],
   "source": [
    "from sklearn.model_selection import train_test_split\n",
    "train_input, test_input, train_target, test_target = train_test_split(df_x,df_y,random_state=42, stratify=df_y)"
   ]
  },
  {
   "cell_type": "raw",
   "id": "d84bc5b4",
   "metadata": {
    "papermill": {
     "duration": 0.004914,
     "end_time": "2022-11-09T06:42:50.796714",
     "exception": false,
     "start_time": "2022-11-09T06:42:50.791800",
     "status": "completed"
    },
    "tags": []
   },
   "source": [
    "변수중요도 확인"
   ]
  },
  {
   "cell_type": "code",
   "execution_count": 7,
   "id": "64a4c74a",
   "metadata": {
    "execution": {
     "iopub.execute_input": "2022-11-09T06:42:50.809935Z",
     "iopub.status.busy": "2022-11-09T06:42:50.809467Z",
     "iopub.status.idle": "2022-11-09T06:42:50.815639Z",
     "shell.execute_reply": "2022-11-09T06:42:50.814124Z"
    },
    "papermill": {
     "duration": 0.016459,
     "end_time": "2022-11-09T06:42:50.818724",
     "exception": false,
     "start_time": "2022-11-09T06:42:50.802265",
     "status": "completed"
    },
    "tags": []
   },
   "outputs": [
    {
     "name": "stdout",
     "output_type": "stream",
     "text": [
      "(119, 6)\n"
     ]
    }
   ],
   "source": [
    "print(train_input.shape)"
   ]
  },
  {
   "cell_type": "code",
   "execution_count": 8,
   "id": "384cf30f",
   "metadata": {
    "execution": {
     "iopub.execute_input": "2022-11-09T06:42:50.831121Z",
     "iopub.status.busy": "2022-11-09T06:42:50.830325Z",
     "iopub.status.idle": "2022-11-09T06:42:50.838231Z",
     "shell.execute_reply": "2022-11-09T06:42:50.837054Z"
    },
    "papermill": {
     "duration": 0.016469,
     "end_time": "2022-11-09T06:42:50.840505",
     "exception": false,
     "start_time": "2022-11-09T06:42:50.824036",
     "status": "completed"
    },
    "tags": []
   },
   "outputs": [
    {
     "data": {
      "text/plain": [
       "array(['Bream', 'Roach', 'Whitefish', 'Parkki', 'Perch', 'Pike', 'Smelt'],\n",
       "      dtype=object)"
      ]
     },
     "execution_count": 8,
     "metadata": {},
     "output_type": "execute_result"
    }
   ],
   "source": [
    "df['Species'].unique()"
   ]
  },
  {
   "cell_type": "code",
   "execution_count": 9,
   "id": "074487c9",
   "metadata": {
    "execution": {
     "iopub.execute_input": "2022-11-09T06:42:50.854217Z",
     "iopub.status.busy": "2022-11-09T06:42:50.853513Z",
     "iopub.status.idle": "2022-11-09T06:42:51.078395Z",
     "shell.execute_reply": "2022-11-09T06:42:51.077070Z"
    },
    "papermill": {
     "duration": 0.235459,
     "end_time": "2022-11-09T06:42:51.081031",
     "exception": false,
     "start_time": "2022-11-09T06:42:50.845572",
     "status": "completed"
    },
    "tags": []
   },
   "outputs": [
    {
     "data": {
      "image/png": "[encoded data removed]",
      "text/plain": [
       "<Figure size 432x288 with 1 Axes>"
      ]
     },
     "metadata": {
      "needs_background": "light"
     },
     "output_type": "display_data"
    }
   ],
   "source": [
    "plt.scatter(df[\"Length1\"], df[\"Weight\"])\n",
    "plt.show()"
   ]
  },
  {
   "cell_type": "markdown",
   "id": "07a5784a",
   "metadata": {
    "papermill": {
     "duration": 0.005226,
     "end_time": "2022-11-09T06:42:51.091645",
     "exception": false,
     "start_time": "2022-11-09T06:42:51.086419",
     "status": "completed"
    },
    "tags": []
   },
   "source": [
    "<div style=\"text-align: left; background-color: #0f0704; color: white; padding: 5px; line-height: 1; border-radius:10px\"> <h2>Classification with K-neighbors classifier </div>\n"
   ]
  },
  {
   "cell_type": "code",
   "execution_count": 10,
   "id": "a02b39f2",
   "metadata": {
    "execution": {
     "iopub.execute_input": "2022-11-09T06:42:51.104187Z",
     "iopub.status.busy": "2022-11-09T06:42:51.103762Z",
     "iopub.status.idle": "2022-11-09T06:42:51.121927Z",
     "shell.execute_reply": "2022-11-09T06:42:51.120693Z"
    },
    "papermill": {
     "duration": 0.027391,
     "end_time": "2022-11-09T06:42:51.124477",
     "exception": false,
     "start_time": "2022-11-09T06:42:51.097086",
     "status": "completed"
    },
    "tags": []
   },
   "outputs": [
    {
     "data": {
      "text/html": [
       "<div>\n",
       "<style scoped>\n",
       "    .dataframe tbody tr th:only-of-type {\n",
       "        vertical-align: middle;\n",
       "    }\n",
       "\n",
       "    .dataframe tbody tr th {\n",
       "        vertical-align: top;\n",
       "    }\n",
       "\n",
       "    .dataframe thead th {\n",
       "        text-align: right;\n",
       "    }\n",
       "</style>\n",
       "<table border=\"1\" class=\"dataframe\">\n",
       "  <thead>\n",
       "    <tr style=\"text-align: right;\">\n",
       "      <th></th>\n",
       "      <th>Weight</th>\n",
       "      <th>Length1</th>\n",
       "      <th>Length2</th>\n",
       "      <th>Length3</th>\n",
       "      <th>Height</th>\n",
       "      <th>Width</th>\n",
       "    </tr>\n",
       "  </thead>\n",
       "  <tbody>\n",
       "    <tr>\n",
       "      <th>Weight</th>\n",
       "      <td>1.000000</td>\n",
       "      <td>0.915712</td>\n",
       "      <td>0.918618</td>\n",
       "      <td>0.923044</td>\n",
       "      <td>0.724345</td>\n",
       "      <td>0.886507</td>\n",
       "    </tr>\n",
       "    <tr>\n",
       "      <th>Length1</th>\n",
       "      <td>0.915712</td>\n",
       "      <td>1.000000</td>\n",
       "      <td>0.999517</td>\n",
       "      <td>0.992031</td>\n",
       "      <td>0.625378</td>\n",
       "      <td>0.867050</td>\n",
       "    </tr>\n",
       "    <tr>\n",
       "      <th>Length2</th>\n",
       "      <td>0.918618</td>\n",
       "      <td>0.999517</td>\n",
       "      <td>1.000000</td>\n",
       "      <td>0.994103</td>\n",
       "      <td>0.640441</td>\n",
       "      <td>0.873547</td>\n",
       "    </tr>\n",
       "    <tr>\n",
       "      <th>Length3</th>\n",
       "      <td>0.923044</td>\n",
       "      <td>0.992031</td>\n",
       "      <td>0.994103</td>\n",
       "      <td>1.000000</td>\n",
       "      <td>0.703409</td>\n",
       "      <td>0.878520</td>\n",
       "    </tr>\n",
       "    <tr>\n",
       "      <th>Height</th>\n",
       "      <td>0.724345</td>\n",
       "      <td>0.625378</td>\n",
       "      <td>0.640441</td>\n",
       "      <td>0.703409</td>\n",
       "      <td>1.000000</td>\n",
       "      <td>0.792881</td>\n",
       "    </tr>\n",
       "    <tr>\n",
       "      <th>Width</th>\n",
       "      <td>0.886507</td>\n",
       "      <td>0.867050</td>\n",
       "      <td>0.873547</td>\n",
       "      <td>0.878520</td>\n",
       "      <td>0.792881</td>\n",
       "      <td>1.000000</td>\n",
       "    </tr>\n",
       "  </tbody>\n",
       "</table>\n",
       "</div>"
      ],
      "text/plain": [
       "           Weight   Length1   Length2   Length3    Height     Width\n",
       "Weight   1.000000  0.915712  0.918618  0.923044  0.724345  0.886507\n",
       "Length1  0.915712  1.000000  0.999517  0.992031  0.625378  0.867050\n",
       "Length2  0.918618  0.999517  1.000000  0.994103  0.640441  0.873547\n",
       "Length3  0.923044  0.992031  0.994103  1.000000  0.703409  0.878520\n",
       "Height   0.724345  0.625378  0.640441  0.703409  1.000000  0.792881\n",
       "Width    0.886507  0.867050  0.873547  0.878520  0.792881  1.000000"
      ]
     },
     "execution_count": 10,
     "metadata": {},
     "output_type": "execute_result"
    }
   ],
   "source": [
    "df.corr()"
   ]
  },
  {
   "cell_type": "code",
   "execution_count": null,
   "id": "666b83f4",
   "metadata": {
    "papermill": {
     "duration": 0.006876,
     "end_time": "2022-11-09T06:42:51.139800",
     "exception": false,
     "start_time": "2022-11-09T06:42:51.132924",
     "status": "completed"
    },
    "tags": []
   },
   "outputs": [],
   "source": []
  }
 ],
 "metadata": {
  "kernelspec": {
   "display_name": "Python 3",
   "language": "python",
   "name": "python3"
  },
  "language_info": {
   "codemirror_mode": {
    "name": "ipython",
    "version": 3
   },
   "file_extension": ".py",
   "mimetype": "text/x-python",
   "name": "python",
   "nbconvert_exporter": "python",
   "pygments_lexer": "ipython3",
   "version": "3.7.12"
  },
  "papermill": {
   "default_parameters": {},
   "duration": 11.819766,
   "end_time": "2022-11-09T06:42:51.970326",
   "environment_variables": {},
   "exception": null,
   "input_path": "__notebook__.ipynb",
   "output_path": "__notebook__.ipynb",
   "parameters": {},
   "start_time": "2022-11-09T06:42:40.150560",
   "version": "2.3.4"
  }
 },
 "nbformat": 4,
 "nbformat_minor": 5
}
