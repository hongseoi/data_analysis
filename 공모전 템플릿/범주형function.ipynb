{
 "cells": [
  {
   "cell_type": "code",
   "execution_count": null,
   "metadata": {},
   "outputs": [],
   "source": [
    "# 2022-01-09 11:11:11 나누는 함수\n",
    "def split_datetime(df):\n",
    "    df['year'] = df['datetime'].apply(lambda x:x.split()[0].split('-')[0])\n",
    "    df['month'] = df['datetime'].apply(lambda x:x.split()[0].split('-')[1])\n",
    "    df['date'] = df['datetime'].apply(lambda x:x.split()[0].split('-')[2])\n",
    "    df['hour'] = df['datetime'].apply(lambda x:x.split()[1].split(':')[0])\n",
    "    df['minute'] = df['datetime'].apply(lambda x:x.split()[1].split(':')[1])    \n",
    "    df['second'] = df['datetime'].apply(lambda x:x.split()[1].split(':')[2])    "
   ]
  }
 ],
 "metadata": {
  "language_info": {
   "name": "python"
  },
  "orig_nbformat": 4
 },
 "nbformat": 4,
 "nbformat_minor": 2
}
