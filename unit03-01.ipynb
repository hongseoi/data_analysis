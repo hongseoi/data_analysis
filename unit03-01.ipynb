{
 "cells": [
  {
   "cell_type": "code",
   "execution_count": 7,
   "id": "40969d15-ae55-438f-ac75-8571b2cc0397",
   "metadata": {},
   "outputs": [
    {
     "name": "stdout",
     "output_type": "stream",
     "text": [
      "2018-08-01 39.6\n"
     ]
    }
   ],
   "source": [
    "import csv\n",
    "\n",
    "max_temp = -999\n",
    "max_date = ''\n",
    "\n",
    "f = open('data\\\\seoul.csv')\n",
    "data = csv.reader(f)\n",
    "header = next(data)\n",
    "\n",
    "for row in data:\n",
    "    if row[-1] == '':\n",
    "        row[-1] = -999\n",
    "    row[-1] = float(row[-1])  ##최고기온을 float로 변환\n",
    "    \n",
    "    if max_temp < row[-1]:\n",
    "        max_date = row[0]\n",
    "        max_temp = row[-1]\n",
    "\n",
    "f.close()\n",
    "\n",
    "print(max_date, max_temp)"
   ]
  }
 ],
 "metadata": {
  "kernelspec": {
   "display_name": "Python 3 (ipykernel)",
   "language": "python",
   "name": "python3"
  },
  "language_info": {
   "codemirror_mode": {
    "name": "ipython",
    "version": 3
   },
   "file_extension": ".py",
   "mimetype": "text/x-python",
   "name": "python",
   "nbconvert_exporter": "python",
   "pygments_lexer": "ipython3",
   "version": "3.9.7"
  }
 },
 "nbformat": 4,
 "nbformat_minor": 5
}
