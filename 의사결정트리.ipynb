{
 "cells": [
  {
   "cell_type": "code",
   "execution_count": 1,
   "id": "364b2db4",
   "metadata": {},
   "outputs": [],
   "source": [
    "import pandas as pd\n",
    "import numpy as np"
   ]
  },
  {
   "cell_type": "code",
   "execution_count": 2,
   "id": "7eba4956",
   "metadata": {},
   "outputs": [],
   "source": [
    "data = pd.read_csv(\"C:/Users/HONG SEO I/실습용 데이터/ch12/vegeterianl_dataset.csv\", delimiter=r\"\\s+\")"
   ]
  },
  {
   "cell_type": "code",
   "execution_count": 4,
   "id": "6363dd70",
   "metadata": {},
   "outputs": [],
   "source": [
    "import pandas as pd\n",
    "import numpy as np\n",
    "pd_data = pd.read_csv('https://raw.githubusercontent.com/AugustLONG/ML01/master/01decisiontree/AllElectronics.csv')\n",
    "pd_data = pd_data.drop(\"RID\",axis=1)"
   ]
  },
  {
   "cell_type": "code",
   "execution_count": 5,
   "id": "99d8fb78",
   "metadata": {},
   "outputs": [],
   "source": [
    "def get_info(df):\n",
    "    buy = df.loc[df[\"class_buys_computer\"]==\"yes\"]\n",
    "    not_buy = df.loc[df[\"class_buys_computer\"]==\"no\"]\n",
    "    x = np.array([len(buy)/len(df),len(not_buy) /len(df)])\n",
    "    y = np.log2(x[x!=0])\n",
    "    info_all = - sum(x[x!=0] * y)\n",
    "    return info_all"
   ]
  },
  {
   "cell_type": "code",
   "execution_count": 6,
   "id": "4a52e04a",
   "metadata": {},
   "outputs": [
    {
     "data": {
      "text/plain": [
       "0.9402859586706311"
      ]
     },
     "execution_count": 6,
     "metadata": {},
     "output_type": "execute_result"
    }
   ],
   "source": [
    "get_info(pd_data)"
   ]
  },
  {
   "cell_type": "code",
   "execution_count": 10,
   "id": "ed7ff72a",
   "metadata": {},
   "outputs": [],
   "source": [
    "youth = pd_data.loc[pd_data['age']=='youth']\n",
    "senior = pd_data.loc[pd_data['age']=='senior']\n",
    "middle_aged = pd_data.loc[pd_data['age']=='middle_aged']"
   ]
  },
  {
   "cell_type": "code",
   "execution_count": 11,
   "id": "44b9fb34",
   "metadata": {},
   "outputs": [
    {
     "data": {
      "text/plain": [
       "0.9709505944546686"
      ]
     },
     "execution_count": 11,
     "metadata": {},
     "output_type": "execute_result"
    }
   ],
   "source": [
    "get_info(youth)"
   ]
  },
  {
   "cell_type": "code",
   "execution_count": 12,
   "id": "faeaa3ca",
   "metadata": {},
   "outputs": [
    {
     "data": {
      "text/plain": [
       "0.9709505944546686"
      ]
     },
     "execution_count": 12,
     "metadata": {},
     "output_type": "execute_result"
    }
   ],
   "source": [
    "get_info(senior)"
   ]
  },
  {
   "cell_type": "code",
   "execution_count": 13,
   "id": "b40d685d",
   "metadata": {},
   "outputs": [
    {
     "data": {
      "text/plain": [
       "-0.0"
      ]
     },
     "execution_count": 13,
     "metadata": {},
     "output_type": "execute_result"
    }
   ],
   "source": [
    "get_info(middle_aged)"
   ]
  },
  {
   "cell_type": "code",
   "execution_count": 14,
   "id": "e045de96",
   "metadata": {},
   "outputs": [],
   "source": [
    "def get_attribute_info(df, attribute_name):\n",
    "    attribute_values = pd_data[attribute_name].unique()\n",
    "    get_infos = []\n",
    "    for value in attribute_values:\n",
    "        split_df = pd_data.loc[pd_data[attribute_name] == value]\n",
    "        get_infos.append((len(split_df) / len(df)) * get_info(split_df))\n",
    "    return sum(get_infos)"
   ]
  },
  {
   "cell_type": "code",
   "execution_count": 15,
   "id": "dba5c8da",
   "metadata": {},
   "outputs": [
    {
     "data": {
      "text/plain": [
       "0.6935361388961918"
      ]
     },
     "execution_count": 15,
     "metadata": {},
     "output_type": "execute_result"
    }
   ],
   "source": [
    "get_attribute_info(pd_data, \"age\")"
   ]
  },
  {
   "cell_type": "code",
   "execution_count": null,
   "id": "72e533ec",
   "metadata": {},
   "outputs": [],
   "source": []
  }
 ],
 "metadata": {
  "kernelspec": {
   "display_name": "Python 3 (ipykernel)",
   "language": "python",
   "name": "python3"
  },
  "language_info": {
   "codemirror_mode": {
    "name": "ipython",
    "version": 3
   },
   "file_extension": ".py",
   "mimetype": "text/x-python",
   "name": "python",
   "nbconvert_exporter": "python",
   "pygments_lexer": "ipython3",
   "version": "3.9.12"
  }
 },
 "nbformat": 4,
 "nbformat_minor": 5
}
