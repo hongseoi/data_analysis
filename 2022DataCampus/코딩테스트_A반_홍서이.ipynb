{
 "cells": [
  {
   "cell_type": "code",
   "execution_count": 1,
   "id": "664bf8a7",
   "metadata": {},
   "outputs": [
    {
     "name": "stdout",
     "output_type": "stream",
     "text": [
      "********************\n",
      "*\n",
      "************\n",
      "*********\n",
      "******************\n"
     ]
    }
   ],
   "source": [
    "#1\n",
    "numbers = [20,1,12,9,18]\n",
    "for j in numbers:\n",
    "    print(\"*\"*j)"
   ]
  },
  {
   "cell_type": "code",
   "execution_count": 2,
   "id": "d32e1d31",
   "metadata": {},
   "outputs": [
    {
     "name": "stdout",
     "output_type": "stream",
     "text": [
      "=====================\n",
      "\n",
      "0 1 2 3 4 5 6 7 8 9 10 \n",
      "\n",
      "========================\n",
      "\n",
      "[0, 0, 0, 0, 0, 0, 0, 0, 0, 0] \n",
      "\n",
      "[0, 0, 0, 0, 0, 0, 0, 0, 0, 0] \n",
      "\n",
      "[0, 0, 0, 0, 0, 0, 0, 0, 0, 0] \n",
      "\n",
      "[0, 0, 0, 0, 0, 0, 0, 0, 0, 0] \n",
      "\n",
      "[0, 0, 0, 0, 0, 0, 0, 0, 0, 0] \n",
      "\n",
      "[0, 0, 0, 0, 0, 0, 0, 0, 0, 0] \n",
      "\n",
      "[0, 0, 0, 0, 0, 0, 0, 0, 0, 0] \n",
      "\n",
      "[0, 0, 0, 0, 0, 0, 0, 0, 0, 0] \n",
      "\n",
      "[0, 0, 0, 0, 0, 0, 0, 0, 0, 0] \n",
      "\n",
      "[0, 0, 0, 0, 0, 0, 0, 0, 0, 0] \n",
      "\n",
      "원하시는 좌석의 행번호를 입력하세요(종료는 -1)1\n",
      "원하시는 좌석의 열번호를 입력하세요(종료는 -1)1\n",
      "=====================\n",
      "\n",
      "0 1 2 3 4 5 6 7 8 9 10 \n",
      "\n",
      "========================\n",
      "\n",
      "[0, 0, 0, 0, 0, 0, 0, 0, 0, 0] \n",
      "\n",
      "[0, 1, 0, 0, 0, 0, 0, 0, 0, 0] \n",
      "\n",
      "[0, 0, 0, 0, 0, 0, 0, 0, 0, 0] \n",
      "\n",
      "[0, 0, 0, 0, 0, 0, 0, 0, 0, 0] \n",
      "\n",
      "[0, 0, 0, 0, 0, 0, 0, 0, 0, 0] \n",
      "\n",
      "[0, 0, 0, 0, 0, 0, 0, 0, 0, 0] \n",
      "\n",
      "[0, 0, 0, 0, 0, 0, 0, 0, 0, 0] \n",
      "\n",
      "[0, 0, 0, 0, 0, 0, 0, 0, 0, 0] \n",
      "\n",
      "[0, 0, 0, 0, 0, 0, 0, 0, 0, 0] \n",
      "\n",
      "[0, 0, 0, 0, 0, 0, 0, 0, 0, 0] \n",
      "\n"
     ]
    }
   ],
   "source": [
    "#2\n",
    "seats = []\n",
    "seats.append([0,0,0,0,0,0,0,0,0,0])\n",
    "seats.append([0,0,0,0,0,0,0,0,0,0])\n",
    "seats.append([0,0,0,0,0,0,0,0,0,0])\n",
    "seats.append([0,0,0,0,0,0,0,0,0,0])\n",
    "seats.append([0,0,0,0,0,0,0,0,0,0])\n",
    "seats.append([0,0,0,0,0,0,0,0,0,0])\n",
    "seats.append([0,0,0,0,0,0,0,0,0,0])\n",
    "seats.append([0,0,0,0,0,0,0,0,0,0])\n",
    "seats.append([0,0,0,0,0,0,0,0,0,0])\n",
    "seats.append([0,0,0,0,0,0,0,0,0,0])\n",
    "\n",
    "print(\"=====================\\n\")\n",
    "print(\"0 1 2 3 4 5 6 7 8 9 10 \\n\")\n",
    "print(\"========================\\n\")\n",
    "for i in range(10):\n",
    "    print(seats[i],\"\\n\")\n",
    "\n",
    "a = int(input(\"원하시는 좌석의 행번호를 입력하세요(종료는 -1)\"))\n",
    "b = int(input(\"원하시는 좌석의 열번호를 입력하세요(종료는 -1)\"))\n",
    "\n",
    "if a == -1 or b==-1:\n",
    "    print(\"종료\")\n",
    "    \n",
    "seats[a][b] = 1\n",
    "print(\"=====================\\n\")\n",
    "print(\"0 1 2 3 4 5 6 7 8 9 10 \\n\")\n",
    "print(\"========================\\n\")\n",
    "for i in range(10):\n",
    "    print(seats[i],\"\\n\")"
   ]
  },
  {
   "cell_type": "code",
   "execution_count": 3,
   "id": "1820dbbb",
   "metadata": {},
   "outputs": [
    {
     "data": {
      "text/plain": [
       "True"
      ]
     },
     "execution_count": 3,
     "metadata": {},
     "output_type": "execute_result"
    }
   ],
   "source": [
    "#3\n",
    "def common_data(list1, list2):\n",
    "    for i in list1:\n",
    "        for j in list2:\n",
    "            if i == j:\n",
    "                return True\n",
    "            \n",
    "list1 = [1,2,3,4,5,6]\n",
    "list2 = [6,7,8,9,10]\n",
    "\n",
    "common_data(list1, list2)\n",
    "\n"
   ]
  },
  {
   "cell_type": "code",
   "execution_count": 4,
   "id": "9369e1c0",
   "metadata": {},
   "outputs": [
    {
     "name": "stdout",
     "output_type": "stream",
     "text": [
      "99\n"
     ]
    }
   ],
   "source": [
    "#4\n",
    "for i in range(100):\n",
    "    sum = 0\n",
    "    if i%3 == 0:\n",
    "        sum += i\n",
    "        \n",
    "print(sum)"
   ]
  },
  {
   "cell_type": "code",
   "execution_count": 5,
   "id": "f9b72fca",
   "metadata": {},
   "outputs": [
    {
     "name": "stdout",
     "output_type": "stream",
     "text": [
      "정수를 입력하시오:10\n",
      "1\n",
      "1\n",
      "2\n",
      "1\n",
      "2\n",
      "3\n",
      "1\n",
      "2\n",
      "3\n",
      "4\n",
      "1\n",
      "2\n",
      "3\n",
      "4\n",
      "5\n",
      "1\n",
      "2\n",
      "3\n",
      "4\n",
      "5\n",
      "6\n",
      "1\n",
      "2\n",
      "3\n",
      "4\n",
      "5\n",
      "6\n",
      "7\n",
      "1\n",
      "2\n",
      "3\n",
      "4\n",
      "5\n",
      "6\n",
      "7\n",
      "8\n",
      "1\n",
      "2\n",
      "3\n",
      "4\n",
      "5\n",
      "6\n",
      "7\n",
      "8\n",
      "9\n",
      "1\n",
      "2\n",
      "3\n",
      "4\n",
      "5\n",
      "6\n",
      "7\n",
      "8\n",
      "9\n",
      "10\n"
     ]
    }
   ],
   "source": [
    "#5\n",
    "a = int(input(\"정수를 입력하시오:\"))\n",
    "\n",
    "for i in range(1,a+1):\n",
    "    for j in range(i):\n",
    "        print(j+1) ##한줄출력ㅠㅠㅠㅠ"
   ]
  },
  {
   "cell_type": "code",
   "execution_count": 6,
   "id": "717df3c9",
   "metadata": {},
   "outputs": [
    {
     "name": "stdout",
     "output_type": "stream",
     "text": [
      "몇번째 항까지 구할까요? 10\n",
      "10\n",
      "9\n",
      "8\n",
      "7\n",
      "6\n",
      "5\n",
      "4\n",
      "3\n",
      "2\n",
      "1\n"
     ]
    },
    {
     "data": {
      "text/plain": [
       "0"
      ]
     },
     "execution_count": 6,
     "metadata": {},
     "output_type": "execute_result"
    }
   ],
   "source": [
    "#6\n",
    "nterms = int(input(\"몇번째 항까지 구할까요? \"))\n",
    "\n",
    "def fibo(n):\n",
    "    sum = 0\n",
    "    if n == 0:\n",
    "        return sum\n",
    "    \n",
    "    sum +=n\n",
    "    print(sum)\n",
    "    \n",
    "    return fibo(n-1)\n",
    "\n",
    "fibo(nterms)"
   ]
  },
  {
   "cell_type": "code",
   "execution_count": 7,
   "id": "937c1d9f",
   "metadata": {},
   "outputs": [
    {
     "name": "stdout",
     "output_type": "stream",
     "text": [
      "점수를 입력하세요: 85\n",
      "B\n"
     ]
    }
   ],
   "source": [
    "#7\n",
    "def getGrade(score):\n",
    "    if score >= 90:\n",
    "        print(\"성적은 A 입니다\")\n",
    "    elif score >= 80:\n",
    "        print(\"성적은 B 입니다\")\n",
    "    elif score >= 70:\n",
    "        print(\"성적은 C 입니다\")\n",
    "    elif score >= 60:\n",
    "        print(\"성적은 D 입니다\")\n",
    "    else:\n",
    "        print(\"F.\")\n",
    "\n",
    "score = int(input(\"점수를 입력하세요: \"))        \n",
    "getGrade(score)"
   ]
  },
  {
   "cell_type": "code",
   "execution_count": 8,
   "id": "02c9d09f",
   "metadata": {},
   "outputs": [
    {
     "name": "stdout",
     "output_type": "stream",
     "text": [
      "첫번째 정수를 입력하시오: 20\n",
      "두 번째 정수를 입력하시오: 50\n",
      "70   -30   1000   0.4  가 반환되었습니다.\n"
     ]
    }
   ],
   "source": [
    "#8\n",
    "def calc(num1, num2):\n",
    "    print(num1+num2,\" \",num1-num2,\" \",num1*num2, \" \",num1/num2, \" 가 반환되었습니다.\")\n",
    "\n",
    "num1 = int(input(\"첫번째 정수를 입력하시오: \"))\n",
    "num2 = int(input(\"두 번째 정수를 입력하시오: \"))\n",
    "\n",
    "calc(num1, num2)"
   ]
  },
  {
   "cell_type": "code",
   "execution_count": 17,
   "id": "02d51931",
   "metadata": {},
   "outputs": [
    {
     "name": "stdout",
     "output_type": "stream",
     "text": [
      "문자열을 입력하시오:have a good day\n",
      "금칙어를 입력하시오:good\n",
      "have a good day\n"
     ]
    }
   ],
   "source": [
    "#9\n",
    "sentence = input(\"문자열을 입력하시오:\")\n",
    "ban = input(\"금칙어를 입력하시오:\")\n",
    "\n",
    "sentence.replace(ban, \"****\")\n",
    "print(sentence)"
   ]
  },
  {
   "cell_type": "code",
   "execution_count": null,
   "id": "cd484f00",
   "metadata": {},
   "outputs": [],
   "source": [
    "#10\n",
    "a = input(\"첫 번째 문자열:\")\n",
    "b = input(\"두 번째 문자열\")\n",
    "\n",
    "lst = []\n",
    "\n",
    "for i in a:\n",
    "    for j in b:\n",
    "        if i == j:\n",
    "            lst.append(i)\n",
    "            \n",
    "print(\"모두 포함된 글자:\",lst)"
   ]
  },
  {
   "cell_type": "code",
   "execution_count": null,
   "id": "57dd0c32",
   "metadata": {},
   "outputs": [],
   "source": []
  }
 ],
 "metadata": {
  "kernelspec": {
   "display_name": "Python 3 (ipykernel)",
   "language": "python",
   "name": "python3"
  },
  "language_info": {
   "codemirror_mode": {
    "name": "ipython",
    "version": 3
   },
   "file_extension": ".py",
   "mimetype": "text/x-python",
   "name": "python",
   "nbconvert_exporter": "python",
   "pygments_lexer": "ipython3",
   "version": "3.9.12"
  }
 },
 "nbformat": 4,
 "nbformat_minor": 5
}
