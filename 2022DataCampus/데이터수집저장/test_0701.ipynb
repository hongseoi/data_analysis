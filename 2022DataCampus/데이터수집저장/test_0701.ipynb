{
 "cells": [
  {
   "cell_type": "code",
   "execution_count": 18,
   "metadata": {},
   "outputs": [],
   "source": [
    "import numpy as np\n",
    "import matplotlib.pyplot as plt\n",
    "import random\n"
   ]
  },
  {
   "cell_type": "code",
   "execution_count": 4,
   "metadata": {},
   "outputs": [
    {
     "name": "stdout",
     "output_type": "stream",
     "text": [
      "[ 1  2  3  4  5  6  7  8  9 10 11 12 13 14 15 16 17 18 19 20]\n",
      "[20 19 18 17 16 15 14 13 12 11 10  9  8  7  6  5  4  3  2  1]\n",
      "num_arr내의 모든 원소의 합: 210\n",
      "[[ 1  2  3  4]\n",
      " [ 5  6  7  8]\n",
      " [ 9 10 11 12]\n",
      " [13 14 15 16]\n",
      " [17 18 19 20]]\n"
     ]
    }
   ],
   "source": [
    "#1\n",
    "a1 = np.arange(1,21)\n",
    "re_a1 = a1[::-1]\n",
    "\n",
    "print(a1)\n",
    "print(re_a1)\n",
    "print(\"num_arr내의 모든 원소의 합:\", np.sum(a1))\n",
    "print(a1.reshape(5,4))"
   ]
  },
  {
   "cell_type": "code",
   "execution_count": 52,
   "metadata": {},
   "outputs": [
    {
     "data": {
      "text/plain": [
       "array([[ 0,  1,  2,  3,  4],\n",
       "       [ 5,  6,  7,  8,  9],\n",
       "       [10, 11, 12, 13, 14],\n",
       "       [15, 16, 17, 18, 19],\n",
       "       [20, 21, 22, 23, 24]])"
      ]
     },
     "execution_count": 52,
     "metadata": {},
     "output_type": "execute_result"
    }
   ],
   "source": [
    "#2.1\n",
    "n_arr = np.arange(25).reshape(5,5)\n",
    "n_arr"
   ]
  },
  {
   "cell_type": "code",
   "execution_count": 8,
   "metadata": {},
   "outputs": [
    {
     "name": "stdout",
     "output_type": "stream",
     "text": [
      "첫 원소: 0\n",
      "마지막 원소: 24\n"
     ]
    }
   ],
   "source": [
    "#2.2\n",
    "print(\"첫 원소:\",n_arr[0][0])\n",
    "print(\"마지막 원소:\", n_arr[-1][-1])"
   ]
  },
  {
   "cell_type": "code",
   "execution_count": 11,
   "metadata": {},
   "outputs": [
    {
     "data": {
      "text/plain": [
       "array([[0, 1, 2, 3, 4],\n",
       "       [5, 6, 7, 8, 9]])"
      ]
     },
     "execution_count": 11,
     "metadata": {},
     "output_type": "execute_result"
    }
   ],
   "source": [
    "#2.3\n",
    "n_arr[:2]"
   ]
  },
  {
   "cell_type": "code",
   "execution_count": 53,
   "metadata": {},
   "outputs": [
    {
     "data": {
      "text/plain": [
       "array([[10, 11, 12, 13, 14],\n",
       "       [15, 16, 17, 18, 19],\n",
       "       [20, 21, 22, 23, 24]])"
      ]
     },
     "execution_count": 53,
     "metadata": {},
     "output_type": "execute_result"
    }
   ],
   "source": [
    "#2.4\n",
    "n_arr[2:]"
   ]
  },
  {
   "cell_type": "code",
   "execution_count": 15,
   "metadata": {},
   "outputs": [
    {
     "data": {
      "text/plain": [
       "array([[ 0,  2,  4],\n",
       "       [ 5,  7,  9],\n",
       "       [10, 12, 14],\n",
       "       [15, 17, 19],\n",
       "       [20, 22, 24]])"
      ]
     },
     "execution_count": 15,
     "metadata": {},
     "output_type": "execute_result"
    }
   ],
   "source": [
    "#2.5\n",
    "n_arr[:,::2]"
   ]
  },
  {
   "cell_type": "code",
   "execution_count": 16,
   "metadata": {},
   "outputs": [
    {
     "data": {
      "text/plain": [
       "array([[ 0,  2,  4],\n",
       "       [10, 12, 14],\n",
       "       [20, 22, 24]])"
      ]
     },
     "execution_count": 16,
     "metadata": {},
     "output_type": "execute_result"
    }
   ],
   "source": [
    "#2.6\n",
    "n_arr[::2,::2]"
   ]
  },
  {
   "cell_type": "code",
   "execution_count": 17,
   "metadata": {},
   "outputs": [
    {
     "data": {
      "text/plain": [
       "array([[0, 1],\n",
       "       [2, 3],\n",
       "       [4, 5],\n",
       "       [6, 7],\n",
       "       [8, 9]])"
      ]
     },
     "execution_count": 17,
     "metadata": {},
     "output_type": "execute_result"
    }
   ],
   "source": [
    "#2.7\n",
    "n_arr[:2].reshape(5,2)\n"
   ]
  },
  {
   "cell_type": "code",
   "execution_count": 54,
   "metadata": {},
   "outputs": [
    {
     "data": {
      "text/plain": [
       "array([[[0.54340494, 0.27836939, 0.42451759],\n",
       "        [0.84477613, 0.00471886, 0.12156912],\n",
       "        [0.67074908, 0.82585276, 0.13670659]],\n",
       "\n",
       "       [[0.57509333, 0.89132195, 0.20920212],\n",
       "        [0.18532822, 0.10837689, 0.21969749],\n",
       "        [0.97862378, 0.81168315, 0.17194101]],\n",
       "\n",
       "       [[0.81622475, 0.27407375, 0.43170418],\n",
       "        [0.94002982, 0.81764938, 0.33611195],\n",
       "        [0.17541045, 0.37283205, 0.00568851]]])"
      ]
     },
     "execution_count": 54,
     "metadata": {},
     "output_type": "execute_result"
    }
   ],
   "source": [
    "#3.1\n",
    "np.random.seed(100)\n",
    "a = np.random.rand(3,3,3)\n",
    "a"
   ]
  },
  {
   "cell_type": "code",
   "execution_count": 55,
   "metadata": {},
   "outputs": [
    {
     "data": {
      "text/plain": [
       "0.9786237847073697"
      ]
     },
     "execution_count": 55,
     "metadata": {},
     "output_type": "execute_result"
    }
   ],
   "source": [
    "#3.2\n",
    "np.max(a)"
   ]
  },
  {
   "cell_type": "code",
   "execution_count": 56,
   "metadata": {},
   "outputs": [
    {
     "name": "stdout",
     "output_type": "stream",
     "text": [
      "a의 원소들 중 최댓값의 위치: 15\n"
     ]
    }
   ],
   "source": [
    "#3.3\n",
    "print(\"a의 원소들 중 최댓값의 위치:\", np.argmax(a))"
   ]
  },
  {
   "cell_type": "code",
   "execution_count": 57,
   "metadata": {},
   "outputs": [
    {
     "data": {
      "text/plain": [
       "array([[1., 0., 1., 0., 1.],\n",
       "       [0., 1., 0., 1., 0.],\n",
       "       [1., 0., 1., 0., 1.],\n",
       "       [0., 1., 0., 1., 0.],\n",
       "       [1., 0., 1., 0., 1.]])"
      ]
     },
     "execution_count": 57,
     "metadata": {},
     "output_type": "execute_result"
    }
   ],
   "source": [
    "#4.1\n",
    "n_array = np.ones((5,5))\n",
    "n_array[::2,1::2] = 0\n",
    "n_array[1::2,::2] = 0\n",
    "n_array\n"
   ]
  },
  {
   "cell_type": "code",
   "execution_count": 45,
   "metadata": {},
   "outputs": [
    {
     "name": "stdout",
     "output_type": "stream",
     "text": [
      "행렬의 행 방향 성분의 합: [5. 2. 5. 2. 5.]\n"
     ]
    }
   ],
   "source": [
    "#4.2\n",
    "print(\"행렬의 행 방향 성분의 합:\", np.sum(n_array, axis=0))"
   ]
  },
  {
   "cell_type": "code",
   "execution_count": 59,
   "metadata": {},
   "outputs": [
    {
     "data": {
      "text/plain": [
       "array([[1, 0, 1, 0, 1],\n",
       "       [0, 1, 0, 1, 0],\n",
       "       [1, 0, 1, 0, 1],\n",
       "       [0, 1, 0, 1, 0],\n",
       "       [1, 0, 1, 0, 1]], dtype=int32)"
      ]
     },
     "execution_count": 59,
     "metadata": {},
     "output_type": "execute_result"
    }
   ],
   "source": [
    "#sol\n",
    "n_arr = (np.arange(1,26)%2).reshape(5,5)\n",
    "n_arr"
   ]
  },
  {
   "cell_type": "code",
   "execution_count": 36,
   "metadata": {},
   "outputs": [
    {
     "name": "stdout",
     "output_type": "stream",
     "text": [
      "10번째 원소: 9\n",
      "20번째 원소:  19\n"
     ]
    }
   ],
   "source": [
    "#5\n",
    "a = np.arange(0,32).reshape(4,4,2)\n",
    "print(\"10번째 원소:\", a.flatten()[9])\n",
    "print(\"20번째 원소: \", a.flatten()[19])"
   ]
  },
  {
   "cell_type": "code",
   "execution_count": 31,
   "metadata": {},
   "outputs": [
    {
     "name": "stdout",
     "output_type": "stream",
     "text": [
      "[[1.         0.99623107]\n",
      " [0.99623107 1.        ]]\n",
      "[[1.         0.88950727]\n",
      " [0.88950727 1.        ]]\n",
      "[[1.         0.00141208]\n",
      " [0.00141208 1.        ]]\n"
     ]
    }
   ],
   "source": [
    "#6\n",
    "x1 = [i for i in range(100)]\n",
    "x2 = [i + np.random.randint(1,10) for i in range(100)]\n",
    "x3 = [i+np.random.randint(1,50) for i in range(100)]\n",
    "x4 = [np.random.randint(1,100) for i in range(100)]\n",
    "\n",
    "print(np.corrcoef(x1, x2))\n",
    "print(np.corrcoef(x1,x3))\n",
    "print(np.corrcoef(x1,x4))\n",
    "\n",
    "# x1과 가장 상관관계 높은 리스트: x2\n",
    "# x1과 가장 상관관계 낮은 리스트: x3"
   ]
  },
  {
   "cell_type": "code",
   "execution_count": 60,
   "metadata": {},
   "outputs": [
    {
     "name": "stdout",
     "output_type": "stream",
     "text": [
      "[[ 1.          0.99623107  0.88950727  0.00141208]\n",
      " [ 0.99623107  1.          0.88613659  0.00161037]\n",
      " [ 0.88950727  0.88613659  1.         -0.03587432]\n",
      " [ 0.00141208  0.00161037 -0.03587432  1.        ]]\n"
     ]
    }
   ],
   "source": [
    "#6 solv\n",
    "result = np.corrcoef([x1,x2,x3,x4])\n",
    "print(result)\n"
   ]
  },
  {
   "cell_type": "code",
   "execution_count": null,
   "metadata": {},
   "outputs": [],
   "source": []
  }
 ],
 "metadata": {
  "kernelspec": {
   "display_name": "Python 3.9.7 64-bit",
   "language": "python",
   "name": "python3"
  },
  "language_info": {
   "codemirror_mode": {
    "name": "ipython",
    "version": 3
   },
   "file_extension": ".py",
   "mimetype": "text/x-python",
   "name": "python",
   "nbconvert_exporter": "python",
   "pygments_lexer": "ipython3",
   "version": "3.9.7"
  },
  "orig_nbformat": 4,
  "vscode": {
   "interpreter": {
    "hash": "2072e913e0c2d0fff5da7d355ca0971239f82f43b0f47ffa4085376f6be431f4"
   }
  }
 },
 "nbformat": 4,
 "nbformat_minor": 2
}
