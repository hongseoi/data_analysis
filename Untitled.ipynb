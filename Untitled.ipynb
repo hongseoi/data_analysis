{
 "cells": [
  {
   "cell_type": "code",
   "execution_count": null,
   "id": "e4032a09",
   "metadata": {},
   "outputs": [],
   "source": [
    "a=5\n",
    "b=30\n",
    "print(a+b)\n",
    "\n",
    "a=5\n",
    "b=30\n",
    "\n",
    "a=5\n",
    "b=30\n",
    "\n",
    "b=list(range(1,100,10))\n",
    "len(b)\n",
    "\n",
    "import matplotlib.pyplot as plt\n",
    "plt.plot()"
   ]
  },
  {
   "cell_type": "code",
   "execution_count": 2,
   "id": "17bc75eb",
   "metadata": {},
   "outputs": [
    {
     "data": {
      "text/plain": [
       "10"
      ]
     },
     "execution_count": 2,
     "metadata": {},
     "output_type": "execute_result"
    }
   ],
   "source": [
    "b=list(range(1,100,10))\n",
    "len(b)"
   ]
  },
  {
   "cell_type": "code",
   "execution_count": null,
   "id": "ade9e58b",
   "metadata": {},
   "outputs": [],
   "source": []
  }
 ],
 "metadata": {
  "kernelspec": {
   "display_name": "Python 3 (ipykernel)",
   "language": "python",
   "name": "python3"
  },
  "language_info": {
   "codemirror_mode": {
    "name": "ipython",
    "version": 3
   },
   "file_extension": ".py",
   "mimetype": "text/x-python",
   "name": "python",
   "nbconvert_exporter": "python",
   "pygments_lexer": "ipython3",
   "version": "3.9.12"
  }
 },
 "nbformat": 4,
 "nbformat_minor": 5
}
