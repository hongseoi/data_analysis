{
 "cells": [
  {
   "cell_type": "code",
   "execution_count": 5,
   "id": "d0ac781b-c63e-4222-b8ad-15e1c5d18046",
   "metadata": {},
   "outputs": [],
   "source": [
    "# n-polygon\n",
    "import turtle\n",
    "t = turtle.Turtle()\n",
    "\n",
    "def n_polygon(n, length):\n",
    "    for i in range(n):\n",
    "        t.forward(length)\n",
    "        t.left(360//n)\n",
    "        \n",
    "for i in range(10):\n",
    "    t.left(20)\n",
    "    n_polygon(6,100)"
   ]
  },
  {
   "cell_type": "code",
   "execution_count": 2,
   "id": "d80bf889-b190-4c18-ab90-a96680b3ee45",
   "metadata": {},
   "outputs": [],
   "source": [
    "# bargraph\n",
    "import turtle\n",
    "t = turtle.Turtle()\n",
    "\n",
    "def drawBar(height):\n",
    "    t.begin_fill()\n",
    "    t.left(90)\n",
    "    t.forward(height)\n",
    "    t.write(str(height), font=(\"Times New Roman\", 14, 'bold'))\n",
    "    t.right(90)\n",
    "    t.forward(40)\n",
    "    t.right(90)\n",
    "    t.forward(height)\n",
    "    t.left(90)\n",
    "    t.end_fill()\n",
    "    \n",
    "data = [1, 2, 3, 4, 5]\n",
    "\n",
    "t.color(\"blue\")\n",
    "t.fillcolor(\"red\")\n",
    "\n",
    "t.pensize(3)\n",
    "\n",
    "for d in data:\n",
    "    drawBar(d)"
   ]
  },
  {
   "cell_type": "code",
   "execution_count": 1,
   "id": "21be37dc-209b-4a90-8321-58ac34bbb060",
   "metadata": {},
   "outputs": [],
   "source": [
    "# drawing taguk\n",
    "import turtle\n",
    "t = turtle.Turtle()\n",
    "\n",
    "def draw_shape(radius, color1):\n",
    "    t.left(270)\n",
    "    t.width(3)\n",
    "    t.color(\"black\", color1)\n",
    "    t.begin_fill()\n",
    "    t.circle(radius/2.0, -180)\n",
    "    t.circle(radius, 180)\n",
    "    t.left(180)\n",
    "    t.circle(-radius/2.0, -180)\n",
    "    t.end_fill()\n",
    "\n",
    "t.reset()\n",
    "draw_shape(200, \"red\")\n",
    "t.setheading(180)\n",
    "draw_shape(200, \"blue\")"
   ]
  },
  {
   "cell_type": "code",
   "execution_count": 4,
   "id": "61427e87-4737-4554-81c8-14b1ee083163",
   "metadata": {},
   "outputs": [],
   "source": [
    "# drawing with mouse\n",
    "import turtle\n",
    "t = turtle.Turtle()\n",
    "t.shape(\"turtle\")\n",
    "t.pensize(10)\n",
    "\n",
    "def draw(x,y):\n",
    "    t.goto(x,y)\n",
    "\n",
    "s = turtle.Screen()\n",
    "s.onscreenclick(draw)\n",
    "\n",
    "s.onkey(t.penup, \"Up\")\n",
    "s.onkey(t.pendown, \"Down\")\n",
    "s.listen()"
   ]
  },
  {
   "cell_type": "code",
   "execution_count": null,
   "id": "66fa087c-1179-4c9e-b9cd-45a25b9617eb",
   "metadata": {},
   "outputs": [],
   "source": [
    "#regression\n",
    "import matplotlib.pyplot as plt\n",
    "import pandas as pd\n",
    "import statsmodels.fomula.api as smf\n",
    "import seaborn as sns\n",
    "import math\n",
    "\n",
    "df = pd.read_csv(\"src\", encoding='cp949')\n",
    "\n",
    "df.columns\n",
    "df.head()\n",
    "\n",
    "df['log_x'] = df['x'].apply(math.log)\n",
    "\n",
    "sns.distplot(df['x'])\n",
    "sns.distplot(Df['log_x'])\n",
    "\n",
    "y = df.log_x\n",
    "x = df.y\n",
    "\n",
    "plt.scatter(y,x, alpha=0.5)\n",
    "\n",
    "df_ols = smf.ols('y~x', df).fit()\n",
    "df_ols.summary()"
   ]
  }
 ],
 "metadata": {
  "kernelspec": {
   "display_name": "Python 3 (ipykernel)",
   "language": "python",
   "name": "python3"
  },
  "language_info": {
   "codemirror_mode": {
    "name": "ipython",
    "version": 3
   },
   "file_extension": ".py",
   "mimetype": "text/x-python",
   "name": "python",
   "nbconvert_exporter": "python",
   "pygments_lexer": "ipython3",
   "version": "3.9.7"
  }
 },
 "nbformat": 4,
 "nbformat_minor": 5
}
