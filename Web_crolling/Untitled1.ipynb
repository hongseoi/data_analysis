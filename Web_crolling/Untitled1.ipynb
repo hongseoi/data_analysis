{
 "cells": [
  {
   "cell_type": "code",
   "execution_count": 1,
   "id": "34a33e70-db2a-4cc7-a92d-bd305d8746e2",
   "metadata": {},
   "outputs": [],
   "source": [
    "from urllib.request import urlopen\n",
    "from bs4 import BeautifulSoup"
   ]
  },
  {
   "cell_type": "code",
   "execution_count": 9,
   "id": "e4edc143-a98b-40bc-bffc-53babbebeeaf",
   "metadata": {},
   "outputs": [],
   "source": [
    "url = \"https://ai-dev.tistory.com/2\"\n",
    "html = urlopen(url)\n"
   ]
  },
  {
   "cell_type": "code",
   "execution_count": 14,
   "id": "ecb5630c-2d42-4a5f-878f-a832dbb80c8f",
   "metadata": {},
   "outputs": [
    {
     "data": {
      "text/plain": [
       "''"
      ]
     },
     "execution_count": 14,
     "metadata": {},
     "output_type": "execute_result"
    }
   ],
   "source": [
    "#html 파싱 후 bs_obj에 저장하기\n",
    "bs_obj =  BeautifulSoup(html,\"html.parser\")\n",
    "bs_obj.prettify()"
   ]
  },
  {
   "cell_type": "code",
   "execution_count": 6,
   "id": "5a6e01ca-3de9-4abe-9423-0dbd1aa289ac",
   "metadata": {},
   "outputs": [
    {
     "data": {
      "text/plain": [
       "[]"
      ]
     },
     "execution_count": 6,
     "metadata": {},
     "output_type": "execute_result"
    }
   ],
   "source": [
    "table_tag = bs_obj.find_all(\"table\")\n",
    "table_tag"
   ]
  },
  {
   "cell_type": "code",
   "execution_count": null,
   "id": "911aa4f6-3fd1-441a-a2f3-0083055db9bc",
   "metadata": {},
   "outputs": [],
   "source": []
  }
 ],
 "metadata": {
  "kernelspec": {
   "display_name": "Python 3 (ipykernel)",
   "language": "python",
   "name": "python3"
  },
  "language_info": {
   "codemirror_mode": {
    "name": "ipython",
    "version": 3
   },
   "file_extension": ".py",
   "mimetype": "text/x-python",
   "name": "python",
   "nbconvert_exporter": "python",
   "pygments_lexer": "ipython3",
   "version": "3.9.7"
  }
 },
 "nbformat": 4,
 "nbformat_minor": 5
}
