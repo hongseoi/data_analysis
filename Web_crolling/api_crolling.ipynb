{
 "cells": [
  {
   "cell_type": "markdown",
   "id": "0a73ec46-c25b-466d-90b0-de39845f61fb",
   "metadata": {},
   "source": [
    "***오픈 API를 이용한 부동산 데이터 크롤링***"
   ]
  },
  {
   "cell_type": "code",
   "execution_count": null,
   "id": "aef4ea8a-3869-47f3-be56-6b6fb7a19f67",
   "metadata": {},
   "outputs": [],
   "source": []
  }
 ],
 "metadata": {
  "kernelspec": {
   "display_name": "Python 3 (ipykernel)",
   "language": "python",
   "name": "python3"
  },
  "language_info": {
   "codemirror_mode": {
    "name": "ipython",
    "version": 3
   },
   "file_extension": ".py",
   "mimetype": "text/x-python",
   "name": "python",
   "nbconvert_exporter": "python",
   "pygments_lexer": "ipython3",
   "version": "3.9.7"
  }
 },
 "nbformat": 4,
 "nbformat_minor": 5
}
