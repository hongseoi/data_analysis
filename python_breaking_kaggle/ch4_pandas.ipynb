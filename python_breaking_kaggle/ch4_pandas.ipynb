{
 "cells": [
  {
   "cell_type": "markdown",
   "id": "b8a9ca24-4be1-4b16-bf60-01f17ea90e76",
   "metadata": {},
   "source": [
    "**Pandas 라이브러리**\n",
    "\n",
    "<ul>\n",
    "    <li>파이썬 데이터 처리에서 제일 많이 이용</li>\n",
    "    <li>데이터 전처리</li>\n",
    "    <li>DataFrame</li>\n",
    "</ul>\n",
    "    "
   ]
  },
  {
   "cell_type": "code",
   "execution_count": 1,
   "id": "f563d6d7-d9ea-46bd-adfc-10f4decb7e83",
   "metadata": {},
   "outputs": [],
   "source": [
    "import pandas as pd"
   ]
  },
  {
   "cell_type": "code",
   "execution_count": null,
   "id": "92e0a940-2e97-4287-a11f-4e62de2c41a8",
   "metadata": {},
   "outputs": [],
   "source": []
  }
 ],
 "metadata": {
  "kernelspec": {
   "display_name": "Python 3 (ipykernel)",
   "language": "python",
   "name": "python3"
  },
  "language_info": {
   "codemirror_mode": {
    "name": "ipython",
    "version": 3
   },
   "file_extension": ".py",
   "mimetype": "text/x-python",
   "name": "python",
   "nbconvert_exporter": "python",
   "pygments_lexer": "ipython3",
   "version": "3.9.7"
  }
 },
 "nbformat": 4,
 "nbformat_minor": 5
}
