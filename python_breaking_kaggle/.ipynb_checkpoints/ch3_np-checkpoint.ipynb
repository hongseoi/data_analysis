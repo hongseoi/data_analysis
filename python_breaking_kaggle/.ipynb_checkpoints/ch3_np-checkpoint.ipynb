{
 "cells": [
  {
   "cell_type": "code",
   "execution_count": 1,
   "id": "a3f2e764-5fea-4574-998f-bdc65289af94",
   "metadata": {},
   "outputs": [],
   "source": [
    "import numpy as np"
   ]
  },
  {
   "cell_type": "code",
   "execution_count": 2,
   "id": "0e04f068-db1a-42e2-aa3a-b9757408bf09",
   "metadata": {},
   "outputs": [
    {
     "name": "stdout",
     "output_type": "stream",
     "text": [
      "<class 'numpy.ndarray'>\n"
     ]
    }
   ],
   "source": [
    "temp = np.array([1,2,3])\n",
    "print(type(temp))"
   ]
  },
  {
   "cell_type": "code",
   "execution_count": 3,
   "id": "a6f52f27-0d67-4c6a-b815-4a88b119b5fb",
   "metadata": {},
   "outputs": [
    {
     "data": {
      "text/plain": [
       "[1, 2, 3]"
      ]
     },
     "execution_count": 3,
     "metadata": {},
     "output_type": "execute_result"
    }
   ],
   "source": [
    "data1 = [1,2,3]\n",
    "data1"
   ]
  },
  {
   "cell_type": "code",
   "execution_count": 4,
   "id": "e41a348b-4099-4cd3-b1e9-619f47a125cb",
   "metadata": {},
   "outputs": [
    {
     "data": {
      "text/plain": [
       "[1, 1, 2, 2, 3, 4]"
      ]
     },
     "execution_count": 4,
     "metadata": {},
     "output_type": "execute_result"
    }
   ],
   "source": [
    "data2 = [1,1,2,2,3,4]\n",
    "data2"
   ]
  },
  {
   "cell_type": "code",
   "execution_count": 6,
   "id": "835f285d-9897-4191-bbed-748078ad9fa9",
   "metadata": {},
   "outputs": [
    {
     "name": "stdout",
     "output_type": "stream",
     "text": [
      "[1 2 3]\n",
      "(3,)\n"
     ]
    }
   ],
   "source": [
    "#shpae로 배열 크기 확인\n",
    "my_array1 = np.array(data1)\n",
    "print(my_array1)\n",
    "print(my_array1.shape)"
   ]
  },
  {
   "cell_type": "code",
   "execution_count": 7,
   "id": "24b94c9c-2bf8-432d-a084-681d6a96f51e",
   "metadata": {},
   "outputs": [
    {
     "name": "stdout",
     "output_type": "stream",
     "text": [
      "int32\n"
     ]
    }
   ],
   "source": [
    "#dtype으로 객체 자료형 확인\n",
    "my_array3 = np.array([3,6,9,12])\n",
    "print(my_array3.dtype)"
   ]
  },
  {
   "cell_type": "markdown",
   "id": "a7584782-4d61-452f-ae8f-2b73d897567c",
   "metadata": {},
   "source": [
    "**주의**\n",
    "<br>\n",
    "같은 int형이어도 int32,int64처럼 유형이 다를 수 있다.\n",
    "<br>\n",
    "그러면 오류가 발생할 수 있다.!! 중간중간 확인해야함!"
   ]
  },
  {
   "cell_type": "code",
   "execution_count": 11,
   "id": "226cb2fe-e11e-42c2-b649-82b6c5870836",
   "metadata": {},
   "outputs": [
    {
     "data": {
      "text/plain": [
       "array([[ 2,  4,  6],\n",
       "       [ 8, 10, 12],\n",
       "       [14, 16, 18]])"
      ]
     },
     "execution_count": 11,
     "metadata": {},
     "output_type": "execute_result"
    }
   ],
   "source": [
    "#리스트 여러개 동시에 넣는 것도 가능\n",
    "my_array4 = np.array([[2,4,6],[8,10,12],[14,16,18]])\n",
    "my_array4"
   ]
  },
  {
   "cell_type": "code",
   "execution_count": 13,
   "id": "ed136109-9dee-492e-897d-a9c542d9d929",
   "metadata": {},
   "outputs": [
    {
     "data": {
      "text/plain": [
       "(3, 3)"
      ]
     },
     "execution_count": 13,
     "metadata": {},
     "output_type": "execute_result"
    }
   ],
   "source": [
    "my_array4.shape"
   ]
  },
  {
   "cell_type": "code",
   "execution_count": null,
   "id": "3d7f9789-37d7-480a-ac1f-b46975fde68c",
   "metadata": {},
   "outputs": [],
   "source": []
  }
 ],
 "metadata": {
  "kernelspec": {
   "display_name": "Python 3 (ipykernel)",
   "language": "python",
   "name": "python3"
  },
  "language_info": {
   "codemirror_mode": {
    "name": "ipython",
    "version": 3
   },
   "file_extension": ".py",
   "mimetype": "text/x-python",
   "name": "python",
   "nbconvert_exporter": "python",
   "pygments_lexer": "ipython3",
   "version": "3.9.7"
  }
 },
 "nbformat": 4,
 "nbformat_minor": 5
}
