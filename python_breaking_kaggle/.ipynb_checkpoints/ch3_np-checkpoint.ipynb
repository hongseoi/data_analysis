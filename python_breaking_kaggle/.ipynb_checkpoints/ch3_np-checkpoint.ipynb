{
 "cells": [
  {
   "cell_type": "code",
   "execution_count": 1,
   "id": "a3f2e764-5fea-4574-998f-bdc65289af94",
   "metadata": {},
   "outputs": [],
   "source": [
    "import numpy as np"
   ]
  },
  {
   "cell_type": "code",
   "execution_count": 2,
   "id": "0e04f068-db1a-42e2-aa3a-b9757408bf09",
   "metadata": {},
   "outputs": [
    {
     "name": "stdout",
     "output_type": "stream",
     "text": [
      "<class 'numpy.ndarray'>\n"
     ]
    }
   ],
   "source": [
    "temp = np.array([1,2,3])\n",
    "print(type(temp))"
   ]
  },
  {
   "cell_type": "code",
   "execution_count": 3,
   "id": "a6f52f27-0d67-4c6a-b815-4a88b119b5fb",
   "metadata": {},
   "outputs": [
    {
     "data": {
      "text/plain": [
       "[1, 2, 3]"
      ]
     },
     "execution_count": 3,
     "metadata": {},
     "output_type": "execute_result"
    }
   ],
   "source": [
    "data1 = [1,2,3]\n",
    "data1"
   ]
  },
  {
   "cell_type": "code",
   "execution_count": 4,
   "id": "e41a348b-4099-4cd3-b1e9-619f47a125cb",
   "metadata": {},
   "outputs": [
    {
     "data": {
      "text/plain": [
       "[1, 1, 2, 2, 3, 4]"
      ]
     },
     "execution_count": 4,
     "metadata": {},
     "output_type": "execute_result"
    }
   ],
   "source": [
    "data2 = [1,1,2,2,3,4]\n",
    "data2"
   ]
  },
  {
   "cell_type": "code",
   "execution_count": 6,
   "id": "835f285d-9897-4191-bbed-748078ad9fa9",
   "metadata": {},
   "outputs": [
    {
     "name": "stdout",
     "output_type": "stream",
     "text": [
      "[1 2 3]\n",
      "(3,)\n"
     ]
    }
   ],
   "source": [
    "#shpae로 배열 크기 확인\n",
    "my_array1 = np.array(data1)\n",
    "print(my_array1)\n",
    "print(my_array1.shape)"
   ]
  },
  {
   "cell_type": "code",
   "execution_count": 7,
   "id": "24b94c9c-2bf8-432d-a084-681d6a96f51e",
   "metadata": {},
   "outputs": [
    {
     "name": "stdout",
     "output_type": "stream",
     "text": [
      "int32\n"
     ]
    }
   ],
   "source": [
    "#dtype으로 객체 자료형 확인\n",
    "my_array3 = np.array([3,6,9,12])\n",
    "print(my_array3.dtype)"
   ]
  },
  {
   "cell_type": "markdown",
   "id": "a7584782-4d61-452f-ae8f-2b73d897567c",
   "metadata": {},
   "source": [
    "**주의**\n",
    "<br>\n",
    "같은 int형이어도 int32,int64처럼 유형이 다를 수 있다.\n",
    "<br>\n",
    "그러면 오류가 발생할 수 있다.!! 중간중간 확인해야함!"
   ]
  },
  {
   "cell_type": "code",
   "execution_count": 11,
   "id": "226cb2fe-e11e-42c2-b649-82b6c5870836",
   "metadata": {},
   "outputs": [
    {
     "data": {
      "text/plain": [
       "array([[ 2,  4,  6],\n",
       "       [ 8, 10, 12],\n",
       "       [14, 16, 18]])"
      ]
     },
     "execution_count": 11,
     "metadata": {},
     "output_type": "execute_result"
    }
   ],
   "source": [
    "#리스트 여러개 동시에 넣는 것도 가능\n",
    "my_array4 = np.array([[2,4,6],[8,10,12],[14,16,18]])\n",
    "my_array4"
   ]
  },
  {
   "cell_type": "code",
   "execution_count": 13,
   "id": "ed136109-9dee-492e-897d-a9c542d9d929",
   "metadata": {},
   "outputs": [
    {
     "data": {
      "text/plain": [
       "(3, 3)"
      ]
     },
     "execution_count": 13,
     "metadata": {},
     "output_type": "execute_result"
    }
   ],
   "source": [
    "my_array4.shape"
   ]
  },
  {
   "cell_type": "code",
   "execution_count": 16,
   "id": "3d7f9789-37d7-480a-ac1f-b46975fde68c",
   "metadata": {},
   "outputs": [
    {
     "data": {
      "text/plain": [
       "array([0, 1, 2, 3, 4])"
      ]
     },
     "execution_count": 16,
     "metadata": {},
     "output_type": "execute_result"
    }
   ],
   "source": [
    "#arrange함수: 1차원배열\n",
    "arrange_array = np.arange(5)\n",
    "arrange_array\n"
   ]
  },
  {
   "cell_type": "code",
   "execution_count": 19,
   "id": "475dfc37-695b-4938-81f2-ecc8d7b2ddcd",
   "metadata": {},
   "outputs": [
    {
     "data": {
      "text/plain": [
       "array([1, 4, 7])"
      ]
     },
     "execution_count": 19,
     "metadata": {},
     "output_type": "execute_result"
    }
   ],
   "source": [
    "#arrange함수: 3단위 배열. 1부터 9 미만까지 3단위로 배열 생성\n",
    "arrange_array2 = np.arange(1,9,3)\n",
    "arrange_array2"
   ]
  },
  {
   "cell_type": "code",
   "execution_count": 20,
   "id": "df38d3da-9b3e-470a-84eb-073cdc3f5988",
   "metadata": {},
   "outputs": [
    {
     "name": "stdout",
     "output_type": "stream",
     "text": [
      "[[0. 0.]\n",
      " [0. 0.]\n",
      " [0. 0.]]\n"
     ]
    }
   ],
   "source": [
    "#zeros, ones : 할당하는 배열에 0이나 1을 쉽게 입력가능하게 함. 기본 데이터 형태는 float64. dtype지정시 변경 가능\n",
    "zeros_array = np.zeros((3,2))\n",
    "print(zeros_array)"
   ]
  },
  {
   "cell_type": "code",
   "execution_count": 22,
   "id": "0bddebf8-5e36-4196-ad8b-12cfb7ea6468",
   "metadata": {},
   "outputs": [
    {
     "name": "stdout",
     "output_type": "stream",
     "text": [
      "[[1 1 1 1]\n",
      " [1 1 1 1]\n",
      " [1 1 1 1]]\n"
     ]
    }
   ],
   "source": [
    "#dtype 강제지정\n",
    "ones_array = np.ones((3,4), dtype=\"int32\")\n",
    "print(ones_array)"
   ]
  },
  {
   "cell_type": "code",
   "execution_count": 24,
   "id": "7248e19d-b7b5-49f6-9ac2-f51646342a81",
   "metadata": {},
   "outputs": [
    {
     "name": "stdout",
     "output_type": "stream",
     "text": [
      "[[1 1]\n",
      " [1 1]\n",
      " [1 1]\n",
      " [1 1]\n",
      " [1 1]\n",
      " [1 1]]\n",
      "[[[1 1]\n",
      "  [1 1]\n",
      "  [1 1]]\n",
      "\n",
      " [[1 1]\n",
      "  [1 1]\n",
      "  [1 1]]]\n"
     ]
    }
   ],
   "source": [
    "#reshape: 배열의 차원 ,크기 바꾸기. 전체 데이터 크기 다른 경우 error\n",
    "after_reshape = ones_array.reshape(6,2)\n",
    "print(after_reshape)\n",
    "\n",
    "after_reshape = ones_array.reshape(2,3,2)\n",
    "print(after_reshape)"
   ]
  },
  {
   "cell_type": "code",
   "execution_count": 27,
   "id": "f3407bf8-a7a1-443c-b33f-45287b45e71b",
   "metadata": {},
   "outputs": [
    {
     "name": "stdout",
     "output_type": "stream",
     "text": [
      "[[1 1 1 1 1 1]\n",
      " [1 1 1 1 1 1]]\n"
     ]
    }
   ],
   "source": [
    "#reshape에서 -1은 다른 차원을 자동으로 계산\n",
    "#2차원 배열에서 열을 6개로 고정한 뒤 행을 크기에 맞도록 자동정렬\n",
    "after_reshape2 = ones_array.reshape(-1,6)\n",
    "print(after_reshape2)"
   ]
  },
  {
   "cell_type": "code",
   "execution_count": 28,
   "id": "03ed8001-5e1b-4043-a871-600e9c8c24ae",
   "metadata": {},
   "outputs": [
    {
     "name": "stdout",
     "output_type": "stream",
     "text": [
      "[[1 1 1 1]\n",
      " [1 1 1 1]\n",
      " [1 1 1 1]]\n"
     ]
    }
   ],
   "source": [
    "after_reshape3 = ones_array.reshape(3,-1)\n",
    "print(after_reshape3)"
   ]
  },
  {
   "cell_type": "code",
   "execution_count": 29,
   "id": "3d2053ea-6324-45f4-a6f7-3e8971eb00a8",
   "metadata": {},
   "outputs": [
    {
     "name": "stdout",
     "output_type": "stream",
     "text": [
      "[0 1 2 3]\n"
     ]
    }
   ],
   "source": [
    "#numpy의 indexing과 slicing\n",
    "my_array = np.arange(start=0, stop=4)\n",
    "print(my_array)"
   ]
  },
  {
   "cell_type": "code",
   "execution_count": 32,
   "id": "db5c226a-d4a5-4bfb-82b0-82cb4137120f",
   "metadata": {},
   "outputs": [
    {
     "name": "stdout",
     "output_type": "stream",
     "text": [
      "[ 31  42 122 211]\n"
     ]
    }
   ],
   "source": [
    "#numpy정렬: sort, argsort\n",
    "##1. sort: 원래 배열은 그대로 두고 오름차순 정렬한 복사본 생성\n",
    "\n",
    "height_arr = np.array([122,211,31,42])\n",
    "sorted_height_arr = np.sort(height_arr)\n",
    "print(sorted_height_arr)"
   ]
  },
  {
   "cell_type": "code",
   "execution_count": 34,
   "id": "3daf3219-3c92-4739-a4ec-f140ed4aa8cd",
   "metadata": {},
   "outputs": [
    {
     "name": "stdout",
     "output_type": "stream",
     "text": [
      "[211 122  42  31]\n"
     ]
    }
   ],
   "source": [
    "###sort 내림차순 정렬\n",
    "desc_sorted_height_arr = np.sort(height_arr)[::-1]\n",
    "print(desc_sorted_height_arr)"
   ]
  },
  {
   "cell_type": "code",
   "execution_count": 35,
   "id": "560667f9-636e-40b1-93f7-da22c021ea9c",
   "metadata": {},
   "outputs": [
    {
     "name": "stdout",
     "output_type": "stream",
     "text": [
      "the original data: [10  5 15 20]\n",
      "the argsort(): [1 0 2 3]\n",
      "the ascending: [ 5 10 15 20]\n"
     ]
    }
   ],
   "source": [
    "##2. argsort(): 지정된 축을 따라 데이터 인덱스의 배열 반환하도록 지정된 종류의 정렬 이용해 배열 간접 정렬\n",
    "fives = np.array([10,5,15,20])\n",
    "fives_order = fives.argsort()\n",
    "\n",
    "print(\"the original data:\", fives)\n",
    "print(\"the argsort():\", fives_order)\n",
    "print(\"the ascending:\", fives[fives_order])"
   ]
  },
  {
   "cell_type": "code",
   "execution_count": 37,
   "id": "45298530-ef26-4cb0-924d-409f9c3ebc6b",
   "metadata": {},
   "outputs": [
    {
     "data": {
      "text/html": [
       "<style>.container { width:90% !important; }</style>"
      ],
      "text/plain": [
       "<IPython.core.display.HTML object>"
      ]
     },
     "metadata": {},
     "output_type": "display_data"
    }
   ],
   "source": [
    "from IPython.core.display import display, HTML\n",
    "\n",
    "display(HTML(\"<style>.container { width:90% !important; }</style>\"))"
   ]
  }
 ],
 "metadata": {
  "kernelspec": {
   "display_name": "Python 3 (ipykernel)",
   "language": "python",
   "name": "python3"
  },
  "language_info": {
   "codemirror_mode": {
    "name": "ipython",
    "version": 3
   },
   "file_extension": ".py",
   "mimetype": "text/x-python",
   "name": "python",
   "nbconvert_exporter": "python",
   "pygments_lexer": "ipython3",
   "version": "3.9.7"
  }
 },
 "nbformat": 4,
 "nbformat_minor": 5
}
