{
 "cells": [
  {
   "cell_type": "markdown",
   "id": "b8a9ca24-4be1-4b16-bf60-01f17ea90e76",
   "metadata": {},
   "source": [
    "**Pandas 라이브러리**\n",
    "\n",
    "<ul>\n",
    "    <li>파이썬 데이터 처리에서 제일 많이 이용</li>\n",
    "    <li>데이터 전처리</li>\n",
    "    <li>DataFrame</li>\n",
    "</ul>\n",
    "    "
   ]
  },
  {
   "cell_type": "code",
   "execution_count": 2,
   "id": "f563d6d7-d9ea-46bd-adfc-10f4decb7e83",
   "metadata": {},
   "outputs": [],
   "source": [
    "import pandas as pd"
   ]
  },
  {
   "cell_type": "code",
   "execution_count": 3,
   "id": "92e0a940-2e97-4287-a11f-4e62de2c41a8",
   "metadata": {},
   "outputs": [
    {
     "name": "stdout",
     "output_type": "stream",
     "text": [
      "<class 'pandas.core.frame.DataFrame'>\n",
      "RangeIndex: 32 entries, 0 to 31\n",
      "Data columns (total 7 columns):\n",
      " #   Column       Non-Null Count  Dtype  \n",
      "---  ------       --------------  -----  \n",
      " 0   Date         31 non-null     object \n",
      " 1   Location     32 non-null     object \n",
      " 2   Lemon        32 non-null     int64  \n",
      " 3   Orange       32 non-null     int64  \n",
      " 4   Temperature  32 non-null     int64  \n",
      " 5   Leaflets     31 non-null     float64\n",
      " 6   Price        32 non-null     float64\n",
      "dtypes: float64(2), int64(3), object(2)\n",
      "memory usage: 1.9+ KB\n"
     ]
    }
   ],
   "source": [
    "lemonade = pd.read_csv('Lemonade2016.csv')\n",
    "lemonade.info()"
   ]
  },
  {
   "cell_type": "markdown",
   "id": "f1551288",
   "metadata": {},
   "source": [
    "**데이터 둘러보기**\n",
    "\n",
    "<ul>\n",
    "<li>head()</li>\n",
    "<li>tail()</li>\n",
    "<li>info()</li>\n",
    "</ul>\n"
   ]
  },
  {
   "cell_type": "code",
   "execution_count": 4,
   "id": "8ce39b72",
   "metadata": {},
   "outputs": [
    {
     "data": {
      "text/html": [
       "<div>\n",
       "<style scoped>\n",
       "    .dataframe tbody tr th:only-of-type {\n",
       "        vertical-align: middle;\n",
       "    }\n",
       "\n",
       "    .dataframe tbody tr th {\n",
       "        vertical-align: top;\n",
       "    }\n",
       "\n",
       "    .dataframe thead th {\n",
       "        text-align: right;\n",
       "    }\n",
       "</style>\n",
       "<table border=\"1\" class=\"dataframe\">\n",
       "  <thead>\n",
       "    <tr style=\"text-align: right;\">\n",
       "      <th></th>\n",
       "      <th>Date</th>\n",
       "      <th>Location</th>\n",
       "      <th>Lemon</th>\n",
       "      <th>Orange</th>\n",
       "      <th>Temperature</th>\n",
       "      <th>Leaflets</th>\n",
       "      <th>Price</th>\n",
       "    </tr>\n",
       "  </thead>\n",
       "  <tbody>\n",
       "    <tr>\n",
       "      <th>0</th>\n",
       "      <td>7/1/2016</td>\n",
       "      <td>Park</td>\n",
       "      <td>97</td>\n",
       "      <td>67</td>\n",
       "      <td>70</td>\n",
       "      <td>90.0</td>\n",
       "      <td>0.25</td>\n",
       "    </tr>\n",
       "    <tr>\n",
       "      <th>1</th>\n",
       "      <td>7/2/2016</td>\n",
       "      <td>Park</td>\n",
       "      <td>98</td>\n",
       "      <td>67</td>\n",
       "      <td>72</td>\n",
       "      <td>90.0</td>\n",
       "      <td>0.25</td>\n",
       "    </tr>\n",
       "    <tr>\n",
       "      <th>2</th>\n",
       "      <td>7/3/2016</td>\n",
       "      <td>Park</td>\n",
       "      <td>110</td>\n",
       "      <td>77</td>\n",
       "      <td>71</td>\n",
       "      <td>104.0</td>\n",
       "      <td>0.25</td>\n",
       "    </tr>\n",
       "    <tr>\n",
       "      <th>3</th>\n",
       "      <td>7/4/2016</td>\n",
       "      <td>Beach</td>\n",
       "      <td>134</td>\n",
       "      <td>99</td>\n",
       "      <td>76</td>\n",
       "      <td>98.0</td>\n",
       "      <td>0.25</td>\n",
       "    </tr>\n",
       "    <tr>\n",
       "      <th>4</th>\n",
       "      <td>7/5/2016</td>\n",
       "      <td>Beach</td>\n",
       "      <td>159</td>\n",
       "      <td>118</td>\n",
       "      <td>78</td>\n",
       "      <td>135.0</td>\n",
       "      <td>0.25</td>\n",
       "    </tr>\n",
       "  </tbody>\n",
       "</table>\n",
       "</div>"
      ],
      "text/plain": [
       "       Date Location  Lemon  Orange  Temperature  Leaflets  Price\n",
       "0  7/1/2016     Park     97      67           70      90.0   0.25\n",
       "1  7/2/2016     Park     98      67           72      90.0   0.25\n",
       "2  7/3/2016     Park    110      77           71     104.0   0.25\n",
       "3  7/4/2016    Beach    134      99           76      98.0   0.25\n",
       "4  7/5/2016    Beach    159     118           78     135.0   0.25"
      ]
     },
     "execution_count": 4,
     "metadata": {},
     "output_type": "execute_result"
    }
   ],
   "source": [
    "lemonade.head()"
   ]
  },
  {
   "cell_type": "code",
   "execution_count": 5,
   "id": "1bdd69c8",
   "metadata": {},
   "outputs": [
    {
     "data": {
      "text/html": [
       "<div>\n",
       "<style scoped>\n",
       "    .dataframe tbody tr th:only-of-type {\n",
       "        vertical-align: middle;\n",
       "    }\n",
       "\n",
       "    .dataframe tbody tr th {\n",
       "        vertical-align: top;\n",
       "    }\n",
       "\n",
       "    .dataframe thead th {\n",
       "        text-align: right;\n",
       "    }\n",
       "</style>\n",
       "<table border=\"1\" class=\"dataframe\">\n",
       "  <thead>\n",
       "    <tr style=\"text-align: right;\">\n",
       "      <th></th>\n",
       "      <th>Date</th>\n",
       "      <th>Location</th>\n",
       "      <th>Lemon</th>\n",
       "      <th>Orange</th>\n",
       "      <th>Temperature</th>\n",
       "      <th>Leaflets</th>\n",
       "      <th>Price</th>\n",
       "    </tr>\n",
       "  </thead>\n",
       "  <tbody>\n",
       "    <tr>\n",
       "      <th>27</th>\n",
       "      <td>7/27/2016</td>\n",
       "      <td>Park</td>\n",
       "      <td>104</td>\n",
       "      <td>68</td>\n",
       "      <td>80</td>\n",
       "      <td>99.0</td>\n",
       "      <td>0.35</td>\n",
       "    </tr>\n",
       "    <tr>\n",
       "      <th>28</th>\n",
       "      <td>7/28/2016</td>\n",
       "      <td>Park</td>\n",
       "      <td>96</td>\n",
       "      <td>63</td>\n",
       "      <td>82</td>\n",
       "      <td>90.0</td>\n",
       "      <td>0.35</td>\n",
       "    </tr>\n",
       "    <tr>\n",
       "      <th>29</th>\n",
       "      <td>7/29/2016</td>\n",
       "      <td>Park</td>\n",
       "      <td>100</td>\n",
       "      <td>66</td>\n",
       "      <td>81</td>\n",
       "      <td>95.0</td>\n",
       "      <td>0.35</td>\n",
       "    </tr>\n",
       "    <tr>\n",
       "      <th>30</th>\n",
       "      <td>7/30/2016</td>\n",
       "      <td>Beach</td>\n",
       "      <td>88</td>\n",
       "      <td>57</td>\n",
       "      <td>82</td>\n",
       "      <td>81.0</td>\n",
       "      <td>0.35</td>\n",
       "    </tr>\n",
       "    <tr>\n",
       "      <th>31</th>\n",
       "      <td>7/31/2016</td>\n",
       "      <td>Beach</td>\n",
       "      <td>76</td>\n",
       "      <td>47</td>\n",
       "      <td>82</td>\n",
       "      <td>68.0</td>\n",
       "      <td>0.35</td>\n",
       "    </tr>\n",
       "  </tbody>\n",
       "</table>\n",
       "</div>"
      ],
      "text/plain": [
       "         Date Location  Lemon  Orange  Temperature  Leaflets  Price\n",
       "27  7/27/2016     Park    104      68           80      99.0   0.35\n",
       "28  7/28/2016     Park     96      63           82      90.0   0.35\n",
       "29  7/29/2016     Park    100      66           81      95.0   0.35\n",
       "30  7/30/2016    Beach     88      57           82      81.0   0.35\n",
       "31  7/31/2016    Beach     76      47           82      68.0   0.35"
      ]
     },
     "execution_count": 5,
     "metadata": {},
     "output_type": "execute_result"
    }
   ],
   "source": [
    "lemonade.tail()"
   ]
  },
  {
   "cell_type": "code",
   "execution_count": 6,
   "id": "105a93a9",
   "metadata": {},
   "outputs": [
    {
     "name": "stdout",
     "output_type": "stream",
     "text": [
      "<class 'pandas.core.frame.DataFrame'>\n",
      "RangeIndex: 32 entries, 0 to 31\n",
      "Data columns (total 7 columns):\n",
      " #   Column       Non-Null Count  Dtype  \n",
      "---  ------       --------------  -----  \n",
      " 0   Date         31 non-null     object \n",
      " 1   Location     32 non-null     object \n",
      " 2   Lemon        32 non-null     int64  \n",
      " 3   Orange       32 non-null     int64  \n",
      " 4   Temperature  32 non-null     int64  \n",
      " 5   Leaflets     31 non-null     float64\n",
      " 6   Price        32 non-null     float64\n",
      "dtypes: float64(2), int64(3), object(2)\n",
      "memory usage: 1.9+ KB\n"
     ]
    }
   ],
   "source": [
    "#info(): 각 열에 null값 있는지, 열의 데이터타입.\n",
    "## 1. 전체 결과값 중 31 non-null은 1개의 null값이 있다는 것 >> 처리 필수\n",
    "## 2. 데이터 유형: 예를 들어 object 유형의 데이터는 시계열 분석을 위해 Date 형식으로 형 변환 해야함 \n",
    "lemonade.info()"
   ]
  },
  {
   "cell_type": "code",
   "execution_count": 7,
   "id": "18208ac2",
   "metadata": {},
   "outputs": [
    {
     "name": "stdout",
     "output_type": "stream",
     "text": [
      "            Lemon      Orange  Temperature    Leaflets      Price\n",
      "count   32.000000   32.000000    32.000000   31.000000  32.000000\n",
      "mean   116.156250   80.000000    78.968750  108.548387   0.354688\n",
      "std     25.823357   21.863211     4.067847   20.117718   0.113137\n",
      "min     71.000000   42.000000    70.000000   68.000000   0.250000\n",
      "25%     98.000000   66.750000    77.000000   90.000000   0.250000\n",
      "50%    113.500000   76.500000    80.500000  108.000000   0.350000\n",
      "75%    131.750000   95.000000    82.000000  124.000000   0.500000\n",
      "max    176.000000  129.000000    84.000000  158.000000   0.500000\n"
     ]
    }
   ],
   "source": [
    "#describe(): 데이터 분포와 기술 통계량 확인가능\n",
    "# count:non-null값의 개수 mean:평균 std:표준편차 min:최솟값 25%:사분위수 max:최댓값\n",
    "print(lemonade.describe())"
   ]
  },
  {
   "cell_type": "code",
   "execution_count": 8,
   "id": "e5cb9046",
   "metadata": {},
   "outputs": [
    {
     "data": {
      "text/plain": [
       "Beach    17\n",
       "Park     15\n",
       "Name: Location, dtype: int64"
      ]
     },
     "execution_count": 8,
     "metadata": {},
     "output_type": "execute_result"
    }
   ],
   "source": [
    "#value_counts(): 문자형 데이터의 개수를 파악할 때 유용\n",
    "lemonade['Location'].value_counts()"
   ]
  },
  {
   "cell_type": "markdown",
   "id": "83092b6d",
   "metadata": {},
   "source": [
    "**데이터의 자료형**\n",
    "<ul>\n",
    "    <li> 정성적 데이터 : 명목척도, 서열척도</li>\n",
    "    <li> 정량적 데이터 : 등간척도, 비율척도 </li>\n",
    "</ul>\n",
    "\n",
    "**측정 척도의 유형과 내용**\n",
    "<ul>\n",
    "<li>명목척도: 범주형 데이터로 측정된 측정 대상을 단순히 범주로 분류하기위해 숫자를 부여한 척도. 수학적 가감승제 계산 안됨 (성별, 종교, 직업, 혈액형, 예/아니오 등)</li>\n",
    "<li>서열척도: 범주형 데이터로 명목 척도의 기능 뿐 아니라 각 범주 간 대소관계, 순위(서열성)에 대해 숫자를 부여한 척도, 수학적 가감승제 계산 안됨 (학력, 건강상태 등)</li>\n",
    "<li>등간척도: 연속형 데이터로 절대적 영점이 없으며 대상의 양에 따라 등간격으로 숫자를 부여한 척도, 수학적 가감승제 계산 가능 (온도, 만족도, 충성도, 물가지수 등)</li>\n",
    "<li>비율척도: 연속형 데이터로 절대적 열점 존재하며 비율 계산이 가능한 숫자를 부여한 척도, 수학적 가감승제 계산 가능 (매출액, 무게, 가격, 소득 등)</li>\n",
    "</ul>\n",
    "\n",
    "데이터 유형, 성질에 따라 통계분석 방법, 머신러닝 연구 방법이 다르다. 특히 모든 데이터는 문자가 아닌 수치로 코딩화해야 한다.\n",
    "<br>\n",
    "머신러닝에서는 label encoding, ordinal encoding, one-hot encoding 으로 문자를 수치로 변경"
   ]
  },
  {
   "cell_type": "code",
   "execution_count": 10,
   "id": "dd04b93b",
   "metadata": {},
   "outputs": [
    {
     "name": "stdout",
     "output_type": "stream",
     "text": [
      "       Date Location  Lemon  Orange  Temperature  Leaflets  Price  sold\n",
      "0  7/1/2016     Park     97      67           70      90.0   0.25  paid\n",
      "1  7/2/2016     Park     98      67           72      90.0   0.25  paid\n",
      "2  7/3/2016     Park    110      77           71     104.0   0.25  paid\n"
     ]
    }
   ],
   "source": [
    "#데이터 다루기\n",
    "## 열추가: 값 할당시 모두 같은 값으로 채워짐\n",
    "lemonade['sold'] = 'paid'\n",
    "print(lemonade.head(3))"
   ]
  },
  {
   "cell_type": "code",
   "execution_count": 11,
   "id": "23330ebe",
   "metadata": {},
   "outputs": [
    {
     "name": "stdout",
     "output_type": "stream",
     "text": [
      "       Date Location  Lemon  Orange  Temperature  Leaflets  Price  sold\n",
      "0  7/1/2016     Park     97      67           70      90.0   0.25   164\n",
      "1  7/2/2016     Park     98      67           72      90.0   0.25   165\n",
      "2  7/3/2016     Park    110      77           71     104.0   0.25   187\n"
     ]
    }
   ],
   "source": [
    "lemonade['sold'] = lemonade['Lemon'] + lemonade['Orange']\n",
    "print(lemonade.head(3))"
   ]
  },
  {
   "cell_type": "code",
   "execution_count": 12,
   "id": "59dd04ac",
   "metadata": {},
   "outputs": [
    {
     "data": {
      "text/html": [
       "<div>\n",
       "<style scoped>\n",
       "    .dataframe tbody tr th:only-of-type {\n",
       "        vertical-align: middle;\n",
       "    }\n",
       "\n",
       "    .dataframe tbody tr th {\n",
       "        vertical-align: top;\n",
       "    }\n",
       "\n",
       "    .dataframe thead th {\n",
       "        text-align: right;\n",
       "    }\n",
       "</style>\n",
       "<table border=\"1\" class=\"dataframe\">\n",
       "  <thead>\n",
       "    <tr style=\"text-align: right;\">\n",
       "      <th></th>\n",
       "      <th>Date</th>\n",
       "      <th>Location</th>\n",
       "      <th>Lemon</th>\n",
       "      <th>Orange</th>\n",
       "      <th>Temperature</th>\n",
       "      <th>Leaflets</th>\n",
       "      <th>Price</th>\n",
       "      <th>sold</th>\n",
       "      <th>revenue</th>\n",
       "    </tr>\n",
       "  </thead>\n",
       "  <tbody>\n",
       "    <tr>\n",
       "      <th>0</th>\n",
       "      <td>7/1/2016</td>\n",
       "      <td>Park</td>\n",
       "      <td>97</td>\n",
       "      <td>67</td>\n",
       "      <td>70</td>\n",
       "      <td>90.0</td>\n",
       "      <td>0.25</td>\n",
       "      <td>164</td>\n",
       "      <td>41.00</td>\n",
       "    </tr>\n",
       "    <tr>\n",
       "      <th>1</th>\n",
       "      <td>7/2/2016</td>\n",
       "      <td>Park</td>\n",
       "      <td>98</td>\n",
       "      <td>67</td>\n",
       "      <td>72</td>\n",
       "      <td>90.0</td>\n",
       "      <td>0.25</td>\n",
       "      <td>165</td>\n",
       "      <td>41.25</td>\n",
       "    </tr>\n",
       "    <tr>\n",
       "      <th>2</th>\n",
       "      <td>7/3/2016</td>\n",
       "      <td>Park</td>\n",
       "      <td>110</td>\n",
       "      <td>77</td>\n",
       "      <td>71</td>\n",
       "      <td>104.0</td>\n",
       "      <td>0.25</td>\n",
       "      <td>187</td>\n",
       "      <td>46.75</td>\n",
       "    </tr>\n",
       "  </tbody>\n",
       "</table>\n",
       "</div>"
      ],
      "text/plain": [
       "       Date Location  Lemon  Orange  Temperature  Leaflets  Price  sold  \\\n",
       "0  7/1/2016     Park     97      67           70      90.0   0.25   164   \n",
       "1  7/2/2016     Park     98      67           72      90.0   0.25   165   \n",
       "2  7/3/2016     Park    110      77           71     104.0   0.25   187   \n",
       "\n",
       "   revenue  \n",
       "0    41.00  \n",
       "1    41.25  \n",
       "2    46.75  "
      ]
     },
     "execution_count": 12,
     "metadata": {},
     "output_type": "execute_result"
    }
   ],
   "source": [
    "lemonade['revenue'] = lemonade['Price'] * lemonade['sold']\n",
    "lemonade.head(3)"
   ]
  },
  {
   "cell_type": "code",
   "execution_count": 14,
   "id": "9a11f1b0",
   "metadata": {},
   "outputs": [],
   "source": [
    "## 열의 개수가 많아져서 중간값이 생략되는데 생략되지 않도록 하기\n",
    "pd.set_option('display.max_columns',None)\n",
    "\n",
    "## 옵션해제\n",
    "pd.set_option('display.max_columns',0)\n"
   ]
  },
  {
   "cell_type": "code",
   "execution_count": 16,
   "id": "f0b0c8a8",
   "metadata": {},
   "outputs": [
    {
     "data": {
      "text/html": [
       "<div>\n",
       "<style scoped>\n",
       "    .dataframe tbody tr th:only-of-type {\n",
       "        vertical-align: middle;\n",
       "    }\n",
       "\n",
       "    .dataframe tbody tr th {\n",
       "        vertical-align: top;\n",
       "    }\n",
       "\n",
       "    .dataframe thead th {\n",
       "        text-align: right;\n",
       "    }\n",
       "</style>\n",
       "<table border=\"1\" class=\"dataframe\">\n",
       "  <thead>\n",
       "    <tr style=\"text-align: right;\">\n",
       "      <th></th>\n",
       "      <th>Date</th>\n",
       "      <th>Location</th>\n",
       "      <th>Lemon</th>\n",
       "      <th>Orange</th>\n",
       "      <th>Temperature</th>\n",
       "      <th>Leaflets</th>\n",
       "      <th>Price</th>\n",
       "      <th>revenue</th>\n",
       "    </tr>\n",
       "  </thead>\n",
       "  <tbody>\n",
       "    <tr>\n",
       "      <th>0</th>\n",
       "      <td>7/1/2016</td>\n",
       "      <td>Park</td>\n",
       "      <td>97</td>\n",
       "      <td>67</td>\n",
       "      <td>70</td>\n",
       "      <td>90.0</td>\n",
       "      <td>0.25</td>\n",
       "      <td>41.00</td>\n",
       "    </tr>\n",
       "    <tr>\n",
       "      <th>1</th>\n",
       "      <td>7/2/2016</td>\n",
       "      <td>Park</td>\n",
       "      <td>98</td>\n",
       "      <td>67</td>\n",
       "      <td>72</td>\n",
       "      <td>90.0</td>\n",
       "      <td>0.25</td>\n",
       "      <td>41.25</td>\n",
       "    </tr>\n",
       "    <tr>\n",
       "      <th>2</th>\n",
       "      <td>7/3/2016</td>\n",
       "      <td>Park</td>\n",
       "      <td>110</td>\n",
       "      <td>77</td>\n",
       "      <td>71</td>\n",
       "      <td>104.0</td>\n",
       "      <td>0.25</td>\n",
       "      <td>46.75</td>\n",
       "    </tr>\n",
       "    <tr>\n",
       "      <th>3</th>\n",
       "      <td>7/4/2016</td>\n",
       "      <td>Beach</td>\n",
       "      <td>134</td>\n",
       "      <td>99</td>\n",
       "      <td>76</td>\n",
       "      <td>98.0</td>\n",
       "      <td>0.25</td>\n",
       "      <td>58.25</td>\n",
       "    </tr>\n",
       "    <tr>\n",
       "      <th>4</th>\n",
       "      <td>7/5/2016</td>\n",
       "      <td>Beach</td>\n",
       "      <td>159</td>\n",
       "      <td>118</td>\n",
       "      <td>78</td>\n",
       "      <td>135.0</td>\n",
       "      <td>0.25</td>\n",
       "      <td>69.25</td>\n",
       "    </tr>\n",
       "  </tbody>\n",
       "</table>\n",
       "</div>"
      ],
      "text/plain": [
       "       Date Location  Lemon  Orange  Temperature  Leaflets  Price  revenue\n",
       "0  7/1/2016     Park     97      67           70      90.0   0.25    41.00\n",
       "1  7/2/2016     Park     98      67           72      90.0   0.25    41.25\n",
       "2  7/3/2016     Park    110      77           71     104.0   0.25    46.75\n",
       "3  7/4/2016    Beach    134      99           76      98.0   0.25    58.25\n",
       "4  7/5/2016    Beach    159     118           78     135.0   0.25    69.25"
      ]
     },
     "execution_count": 16,
     "metadata": {},
     "output_type": "execute_result"
    }
   ],
   "source": [
    "# 열 제거: drop(), axis=0: 행 방향 제거, axis=1: 열 방향 제거\n",
    "## 열 방향 제거\n",
    "lemonade_column_drop = lemonade.drop('sold', axis=1)\n",
    "lemonade_column_drop.head(5)"
   ]
  },
  {
   "cell_type": "code",
   "execution_count": 18,
   "id": "bb4f80d7",
   "metadata": {},
   "outputs": [
    {
     "data": {
      "text/html": [
       "<div>\n",
       "<style scoped>\n",
       "    .dataframe tbody tr th:only-of-type {\n",
       "        vertical-align: middle;\n",
       "    }\n",
       "\n",
       "    .dataframe tbody tr th {\n",
       "        vertical-align: top;\n",
       "    }\n",
       "\n",
       "    .dataframe thead th {\n",
       "        text-align: right;\n",
       "    }\n",
       "</style>\n",
       "<table border=\"1\" class=\"dataframe\">\n",
       "  <thead>\n",
       "    <tr style=\"text-align: right;\">\n",
       "      <th></th>\n",
       "      <th>Date</th>\n",
       "      <th>Location</th>\n",
       "      <th>Lemon</th>\n",
       "      <th>Orange</th>\n",
       "      <th>Temperature</th>\n",
       "      <th>Leaflets</th>\n",
       "      <th>Price</th>\n",
       "      <th>sold</th>\n",
       "      <th>revenue</th>\n",
       "    </tr>\n",
       "  </thead>\n",
       "  <tbody>\n",
       "    <tr>\n",
       "      <th>0</th>\n",
       "      <td>7/1/2016</td>\n",
       "      <td>Park</td>\n",
       "      <td>97</td>\n",
       "      <td>67</td>\n",
       "      <td>70</td>\n",
       "      <td>90.0</td>\n",
       "      <td>0.25</td>\n",
       "      <td>164</td>\n",
       "      <td>41.00</td>\n",
       "    </tr>\n",
       "    <tr>\n",
       "      <th>2</th>\n",
       "      <td>7/3/2016</td>\n",
       "      <td>Park</td>\n",
       "      <td>110</td>\n",
       "      <td>77</td>\n",
       "      <td>71</td>\n",
       "      <td>104.0</td>\n",
       "      <td>0.25</td>\n",
       "      <td>187</td>\n",
       "      <td>46.75</td>\n",
       "    </tr>\n",
       "    <tr>\n",
       "      <th>3</th>\n",
       "      <td>7/4/2016</td>\n",
       "      <td>Beach</td>\n",
       "      <td>134</td>\n",
       "      <td>99</td>\n",
       "      <td>76</td>\n",
       "      <td>98.0</td>\n",
       "      <td>0.25</td>\n",
       "      <td>233</td>\n",
       "      <td>58.25</td>\n",
       "    </tr>\n",
       "    <tr>\n",
       "      <th>4</th>\n",
       "      <td>7/5/2016</td>\n",
       "      <td>Beach</td>\n",
       "      <td>159</td>\n",
       "      <td>118</td>\n",
       "      <td>78</td>\n",
       "      <td>135.0</td>\n",
       "      <td>0.25</td>\n",
       "      <td>277</td>\n",
       "      <td>69.25</td>\n",
       "    </tr>\n",
       "    <tr>\n",
       "      <th>5</th>\n",
       "      <td>7/6/2016</td>\n",
       "      <td>Beach</td>\n",
       "      <td>103</td>\n",
       "      <td>69</td>\n",
       "      <td>82</td>\n",
       "      <td>90.0</td>\n",
       "      <td>0.25</td>\n",
       "      <td>172</td>\n",
       "      <td>43.00</td>\n",
       "    </tr>\n",
       "  </tbody>\n",
       "</table>\n",
       "</div>"
      ],
      "text/plain": [
       "       Date Location  Lemon  Orange  ...  Leaflets  Price  sold  revenue\n",
       "0  7/1/2016     Park     97      67  ...      90.0   0.25   164    41.00\n",
       "2  7/3/2016     Park    110      77  ...     104.0   0.25   187    46.75\n",
       "3  7/4/2016    Beach    134      99  ...      98.0   0.25   233    58.25\n",
       "4  7/5/2016    Beach    159     118  ...     135.0   0.25   277    69.25\n",
       "5  7/6/2016    Beach    103      69  ...      90.0   0.25   172    43.00\n",
       "\n",
       "[5 rows x 9 columns]"
      ]
     },
     "execution_count": 18,
     "metadata": {},
     "output_type": "execute_result"
    }
   ],
   "source": [
    "## 행 방향 제거\n",
    "lemonade_row_drop = lemonade.drop(1, axis=0)\n",
    "lemonade_row_drop.head()"
   ]
  },
  {
   "cell_type": "code",
   "execution_count": 19,
   "id": "214cd917",
   "metadata": {},
   "outputs": [
    {
     "name": "stdout",
     "output_type": "stream",
     "text": [
      "       Date Location  Lemon  Orange  ...  Leaflets  Price  sold  revenue\n",
      "0  7/1/2016     Park     97      67  ...      90.0   0.25   164    41.00\n",
      "1  7/2/2016     Park     98      67  ...      90.0   0.25   165    41.25\n",
      "2  7/3/2016     Park    110      77  ...     104.0   0.25   187    46.75\n",
      "3  7/4/2016    Beach    134      99  ...      98.0   0.25   233    58.25\n",
      "4  7/5/2016    Beach    159     118  ...     135.0   0.25   277    69.25\n",
      "\n",
      "[5 rows x 9 columns]\n"
     ]
    }
   ],
   "source": [
    "#데이터 인덱싱: 데이터 일부 추출\n",
    "## 기본\n",
    "print(lemonade[0:5])"
   ]
  },
  {
   "cell_type": "code",
   "execution_count": 21,
   "id": "a81d1c2f",
   "metadata": {},
   "outputs": [
    {
     "name": "stdout",
     "output_type": "stream",
     "text": [
      "       Date Location  Lemon  Orange  ...  Leaflets  Price  sold  revenue\n",
      "3  7/4/2016    Beach    134      99  ...      98.0   0.25   233    58.25\n",
      "4  7/5/2016    Beach    159     118  ...     135.0   0.25   277    69.25\n",
      "5  7/6/2016    Beach    103      69  ...      90.0   0.25   172    43.00\n",
      "6  7/6/2016    Beach    103      69  ...      90.0   0.25   172    43.00\n",
      "7  7/7/2016    Beach    143     101  ...     135.0   0.25   244    61.00\n",
      "\n",
      "[5 rows x 9 columns]\n"
     ]
    }
   ],
   "source": [
    "## location=beach인 경우의 데이터만 보고 싶은 경우\n",
    "print(lemonade[lemonade['Location']=='Beach'].head())"
   ]
  },
  {
   "cell_type": "code",
   "execution_count": 24,
   "id": "74554135",
   "metadata": {},
   "outputs": [
    {
     "name": "stdout",
     "output_type": "stream",
     "text": [
      "       Date Location\n",
      "0  7/1/2016     Park\n",
      "1  7/2/2016     Park\n",
      "2  7/3/2016     Park\n"
     ]
    }
   ],
   "source": [
    "#iloc & loc\n",
    "## iloc: 위치 기반 인덱싱 iloc(행, 열)\n",
    "## loc: 명칭 기반 인덱싱\n",
    "print(lemonade.iloc[0:3, 0:2])"
   ]
  },
  {
   "cell_type": "code",
   "execution_count": 25,
   "id": "3447d47c",
   "metadata": {},
   "outputs": [
    {
     "name": "stdout",
     "output_type": "stream",
     "text": [
      "       Date Location\n",
      "0  7/1/2016     Park\n",
      "1  7/2/2016     Park\n",
      "2  7/3/2016     Park\n"
     ]
    }
   ],
   "source": [
    "#loc: 명칭 기반\n",
    "#loc은 iloc과 다르게 마지막 수 포함\n",
    "print(lemonade.loc[0:2, ['Date','Location']])"
   ]
  },
  {
   "cell_type": "code",
   "execution_count": 27,
   "id": "f2dbbdf2",
   "metadata": {},
   "outputs": [
    {
     "name": "stdout",
     "output_type": "stream",
     "text": [
      "       Date  revenue\n",
      "2  7/3/2016    46.75\n",
      "3  7/4/2016    58.25\n",
      "4  7/5/2016    69.25\n",
      "7  7/7/2016    61.00\n",
      "8       NaN    52.25\n"
     ]
    }
   ],
   "source": [
    "#조건 인덱싱: 데이터 전처리에 필수! 조건에 따라 빠르게 필요한 데이터만 추출하기\n",
    "## lemonade에서 revenue>45인 행만 추출한 뒤 date, revenue열만 출력\n",
    "print(lemonade.loc[lemonade['revenue']>45, ['Date', 'revenue']].head())"
   ]
  },
  {
   "cell_type": "code",
   "execution_count": 28,
   "id": "cbd4fdae",
   "metadata": {},
   "outputs": [
    {
     "name": "stdout",
     "output_type": "stream",
     "text": [
      "         Date Location  Lemon  Orange  ...  Leaflets  Price  sold  revenue\n",
      "0    7/1/2016     Park     97      67  ...      90.0   0.25   164    41.00\n",
      "20  7/20/2016     Park     71      42  ...       NaN   0.50   113    56.50\n",
      "2    7/3/2016     Park    110      77  ...     104.0   0.25   187    46.75\n",
      "1    7/2/2016     Park     98      67  ...      90.0   0.25   165    41.25\n",
      "16  7/16/2016    Beach     81      50  ...      90.0   0.50   131    65.50\n",
      "\n",
      "[5 rows x 9 columns]\n"
     ]
    }
   ],
   "source": [
    "#기본 데이터 전처리: sort_values()이용한 데이터 정렬, groupby() 이용한 연산\n",
    "## sort_values(): numpy의 sort와 비슷. sort_values(by, ascending, inplace)\n",
    "### by: 어떤 열 기준으로 정렬할 지\n",
    "### ascending=t/f: 오름차순 정렬 여부\n",
    "### inplace=t/f: 해당 명령을 본 데이터에 정렬할지. 디폴트는 f이고 데이터에 바로 적용되지 않음\n",
    "\n",
    "print(lemonade.sort_values(by=['Temperature']).head())"
   ]
  },
  {
   "cell_type": "code",
   "execution_count": 30,
   "id": "74012158",
   "metadata": {},
   "outputs": [
    {
     "name": "stdout",
     "output_type": "stream",
     "text": [
      "         Date  Temperature  revenue\n",
      "25  7/25/2016           84   134.50\n",
      "12  7/12/2016           84    56.25\n",
      "26  7/26/2016           83   106.75\n",
      "11  7/11/2016           83    70.50\n",
      "24  7/24/2016           82   101.50\n"
     ]
    }
   ],
   "source": [
    "lemonade.sort_values(by=['Temperature','revenue'], ascending=False, inplace=True)\n",
    "print(lemonade.loc[:, ['Date', 'Temperature', 'revenue']].head())"
   ]
  },
  {
   "cell_type": "code",
   "execution_count": 31,
   "id": "352d6d9a",
   "metadata": {},
   "outputs": [
    {
     "name": "stdout",
     "output_type": "stream",
     "text": [
      "          Date  Lemon  Orange  Temperature  Leaflets  Price  sold  revenue\n",
      "Location                                                                  \n",
      "Beach       16     17      17           17        17     17    17       17\n",
      "Park        15     15      15           15        14     15    15       15\n"
     ]
    }
   ],
   "source": [
    "#groupby(): 특정 열을 기준으로 그 열의 고윳값들로 데이터를 나눔\n",
    "print(lemonade.groupby(by='Location').count())"
   ]
  },
  {
   "cell_type": "code",
   "execution_count": 33,
   "id": "0a169706",
   "metadata": {},
   "outputs": [
    {
     "name": "stdout",
     "output_type": "stream",
     "text": [
      "            max   min\n",
      "Location             \n",
      "Beach      95.5  43.0\n",
      "Park      134.5  41.0\n"
     ]
    }
   ],
   "source": [
    "#agg(): aggregation의 약자. groupby로 묶인 데이터를 연산\n",
    "print(lemonade.groupby('Location')['revenue'].agg([max,min]))"
   ]
  },
  {
   "cell_type": "code",
   "execution_count": 36,
   "id": "ff6dbb2b",
   "metadata": {},
   "outputs": [
    {
     "name": "stdout",
     "output_type": "stream",
     "text": [
      "         revenue       sold     \n",
      "             max   min  max  min\n",
      "Location                        \n",
      "Beach       95.5  43.0  282  123\n",
      "Park       134.5  41.0  305  113\n"
     ]
    }
   ],
   "source": [
    "#여러 개의 변수도 넣을 수 있음\n",
    "print(lemonade.groupby('Location')[['revenue','sold']].agg([max,min]))"
   ]
  },
  {
   "cell_type": "code",
   "execution_count": null,
   "id": "ab547f68",
   "metadata": {},
   "outputs": [],
   "source": []
  }
 ],
 "metadata": {
  "kernelspec": {
   "display_name": "Python 3 (ipykernel)",
   "language": "python",
   "name": "python3"
  },
  "language_info": {
   "codemirror_mode": {
    "name": "ipython",
    "version": 3
   },
   "file_extension": ".py",
   "mimetype": "text/x-python",
   "name": "python",
   "nbconvert_exporter": "python",
   "pygments_lexer": "ipython3",
   "version": "3.9.7"
  },
  "vscode": {
   "interpreter": {
    "hash": "2072e913e0c2d0fff5da7d355ca0971239f82f43b0f47ffa4085376f6be431f4"
   }
  }
 },
 "nbformat": 4,
 "nbformat_minor": 5
}
