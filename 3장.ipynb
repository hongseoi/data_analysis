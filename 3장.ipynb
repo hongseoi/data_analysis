{
  "nbformat": 4,
  "nbformat_minor": 0,
  "metadata": {
    "colab": {
      "name": "3장.ipynb",
      "provenance": [],
      "collapsed_sections": [],
      "authorship_tag": "ABX9TyPfQydUFjhHfk9wpn6Kkiy9",
      "include_colab_link": true
    },
    "kernelspec": {
      "name": "python3",
      "display_name": "Python 3"
    },
    "language_info": {
      "name": "python"
    }
  },
  "cells": [
    {
      "cell_type": "markdown",
      "metadata": {
        "id": "view-in-github",
        "colab_type": "text"
      },
      "source": [
        "<a href=\"https://colab.research.google.com/github/hongseoi/data_analysis/blob/main/3%EC%9E%A5.ipynb\" target=\"_parent\"><img src=\"https://colab.research.google.com/assets/colab-badge.svg\" alt=\"Open In Colab\"/></a>"
      ]
    },
    {
      "cell_type": "code",
      "execution_count": null,
      "metadata": {
        "id": "SCZ2zXchQKT5"
      },
      "outputs": [],
      "source": [
        "#ch3 최소제곱법\n",
        "import numpy as np\n",
        "\n",
        "x = [2,4,6,8]\n",
        "y = [81, 93, 91, 97]\n",
        "\n",
        "mx = np.mean(x)\n",
        "my = np.mean(y)\n",
        "\n",
        "# 분모: x편차의 제곱 구하기\n",
        "divisor = sum([(mx-i)**2 for i in x])\n",
        "\n",
        "# 분자: x편차*y편차\n",
        "def top(x,mx,y,my):\n",
        "  d = 0\n",
        "  for i in range(len(x)):\n",
        "    d += (x[i] - mx)*(y[i]-my)\n",
        "  return d\n",
        "\n",
        "divided = top(x, mx, y, my)\n",
        "\n",
        "#기울기 a\n",
        "a = divided / division\n",
        "\n",
        "# y절편 b\n",
        "b = my -(mx*a)"
      ]
    },
    {
      "cell_type": "code",
      "source": [
        "최소 제곱법을 이용해 가장 훌륭한 직선을 그림\n",
        "이 선이 얼마나 잘 그려졌는지 평가하며 조금씩 수정해가는 평가 알고리즘\n",
        "평균 제곱근평가 >> 가장많이 사용하는 오차 평가 방법\n"
      ],
      "metadata": {
        "id": "tJkJfZ0v_mzw"
      },
      "execution_count": null,
      "outputs": []
    },
    {
      "cell_type": "code",
      "source": [
        "import numpy as np\n",
        "#평균제곱근오차 구현\n",
        "\n",
        "#기울기 a, 절편 b값 저장하기\n",
        "ab = [3, 76]\n",
        "data = [[2,81],[4,93],[6,91],[8,97]]\n",
        "x = [i[0] for i in data]\n",
        "y = [i[1] for i in data]\n",
        "\n",
        "#내부함수 predict 생성하고 일차방정식 구현하기\n",
        "def predict(x):\n",
        "  return ab[0]*x + ab[1]\n",
        "\n",
        "#평균제곱근공식함수\n",
        "def rmse(p, a):\n",
        "  return np.sqrt(((p-a)**2).mean()) #예측값 p 실제값 a\n",
        "\n",
        "# rmse 함수에 데이터를 대입해 최종값 구하는 함수\n",
        "def rmse_val(predict_result, y):\n",
        "  return rmse(np.array(predict_result), np.array(y))\n",
        "\n",
        "predict_result = [] #predict함수의 결과값이 저장되는 함수\n",
        "\n",
        "for i in range(len(x)):\n",
        "  predict_result.append(predict(x[i]))\n",
        "  print(\"공부한 시간={}, 실제 점수={}, 예측 점수={}\".format(x[i], y[i], predict(x[i])))\n",
        "\n",
        "\n",
        "#최종 rmse 출력\n",
        "print(\"최종 rmse값:{}\".format(str(rmse_val(predict_result,y))))"
      ],
      "metadata": {
        "colab": {
          "base_uri": "https://localhost:8080/"
        },
        "id": "ELf0lxpw_4A_",
        "outputId": "18d82cb6-b753-4860-804d-23e1a35f4eb2"
      },
      "execution_count": 2,
      "outputs": [
        {
          "output_type": "stream",
          "name": "stdout",
          "text": [
            "공부한 시간=2, 실제 점수=81, 예측 점수=82\n",
            "공부한 시간=4, 실제 점수=93, 예측 점수=88\n",
            "공부한 시간=6, 실제 점수=91, 예측 점수=94\n",
            "공부한 시간=8, 실제 점수=97, 예측 점수=100\n",
            "최종 rmse값:3.3166247903554\n"
          ]
        }
      ]
    },
    {
      "cell_type": "code",
      "source": [
        ""
      ],
      "metadata": {
        "id": "vACOf3VyQsPH"
      },
      "execution_count": null,
      "outputs": []
    }
  ]
}