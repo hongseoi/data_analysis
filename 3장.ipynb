{
  "nbformat": 4,
  "nbformat_minor": 0,
  "metadata": {
    "colab": {
      "name": "3장.ipynb",
      "provenance": [],
      "collapsed_sections": [],
      "authorship_tag": "ABX9TyMspg+B1wzsd4DBL35AKnV+",
      "include_colab_link": true
    },
    "kernelspec": {
      "name": "python3",
      "display_name": "Python 3"
    },
    "language_info": {
      "name": "python"
    }
  },
  "cells": [
    {
      "cell_type": "markdown",
      "metadata": {
        "id": "view-in-github",
        "colab_type": "text"
      },
      "source": [
        "<a href=\"https://colab.research.google.com/github/hongseoi/data_analysis/blob/main/3%EC%9E%A5.ipynb\" target=\"_parent\"><img src=\"https://colab.research.google.com/assets/colab-badge.svg\" alt=\"Open In Colab\"/></a>"
      ]
    },
    {
      "cell_type": "code",
      "execution_count": null,
      "metadata": {
        "id": "SCZ2zXchQKT5"
      },
      "outputs": [],
      "source": [
        "#ch3 최소제곱법\n",
        "import numpy as np\n",
        "\n",
        "x = [2,4,6,8]\n",
        "y = [81, 93, 91, 97]\n",
        "\n",
        "mx = np.mean(x)\n",
        "my = np.mean(y)\n",
        "\n",
        "# 분모: x편차의 제곱 구하기\n",
        "divisor = sum([(mx-i)**2 for i in x])\n",
        "\n",
        "# 분자: x편차*y편차\n",
        "def top(x,mx,y,my):\n",
        "  d = 0\n",
        "  for i in range(len(x)):\n",
        "    d += (x[i] - mx)*(y[i]-my)\n",
        "  return d\n",
        "\n",
        "divided = top(x, mx, y, my)\n",
        "\n",
        "#기울기 a\n",
        "a = divided / division\n",
        "\n",
        "# y절편 b\n",
        "b = my -(mx*a)"
      ]
    },
    {
      "cell_type": "code",
      "source": [
        "최소 제곱법을 이용해 가장 훌륭한 직선을 그림\n",
        "이 선이 얼마나 잘 그려졌는지 평가하며 조금씩 수정해가는 평가 알고리즘\n",
        "평균 제곱근평가 >> 가장많이 사용하는 오차 평가 방법\n"
      ],
      "metadata": {
        "id": "tJkJfZ0v_mzw"
      },
      "execution_count": null,
      "outputs": []
    },
    {
      "cell_type": "code",
      "source": [
        "#평균 제곱근 오차(root mean square error, MSE)\n"
      ],
      "metadata": {
        "id": "ELf0lxpw_4A_"
      },
      "execution_count": null,
      "outputs": []
    }
  ]
}