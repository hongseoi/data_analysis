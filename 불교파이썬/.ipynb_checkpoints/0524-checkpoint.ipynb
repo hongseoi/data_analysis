{
 "cells": [
  {
   "cell_type": "code",
   "execution_count": 1,
   "id": "9b099cec",
   "metadata": {},
   "outputs": [
    {
     "name": "stdout",
     "output_type": "stream",
     "text": [
      "Requirement already satisfied: matplotlib in c:\\users\\user\\anaconda3\\lib\\site-packages (3.4.3)\n",
      "Requirement already satisfied: kiwisolver>=1.0.1 in c:\\users\\user\\anaconda3\\lib\\site-packages (from matplotlib) (1.3.1)\n",
      "Requirement already satisfied: python-dateutil>=2.7 in c:\\users\\user\\anaconda3\\lib\\site-packages (from matplotlib) (2.8.2)\n",
      "Requirement already satisfied: pillow>=6.2.0 in c:\\users\\user\\anaconda3\\lib\\site-packages (from matplotlib) (8.4.0)\n",
      "Requirement already satisfied: numpy>=1.16 in c:\\users\\user\\anaconda3\\lib\\site-packages (from matplotlib) (1.20.3)\n",
      "Requirement already satisfied: pyparsing>=2.2.1 in c:\\users\\user\\anaconda3\\lib\\site-packages (from matplotlib) (3.0.4)\n",
      "Requirement already satisfied: cycler>=0.10 in c:\\users\\user\\anaconda3\\lib\\site-packages (from matplotlib) (0.10.0)\n",
      "Requirement already satisfied: six in c:\\users\\user\\anaconda3\\lib\\site-packages (from cycler>=0.10->matplotlib) (1.16.0)\n",
      "Note: you may need to restart the kernel to use updated packages.\n"
     ]
    }
   ],
   "source": [
    "pip install matplotlib"
   ]
  },
  {
   "cell_type": "code",
   "execution_count": 4,
   "id": "404a08bc",
   "metadata": {},
   "outputs": [],
   "source": [
    "import matplotlib.pyplot as plt\n",
    "from scipy import stats\n",
    "import statsmodels.formula.api as smf\n",
    "import numpy as np\n",
    "import pandas as pd"
   ]
  },
  {
   "cell_type": "code",
   "execution_count": 11,
   "id": "284eb1ab",
   "metadata": {},
   "outputs": [],
   "source": [
    "df = pd.read_csv(\"C:\\\\Users\\\\USER\\\\Desktop\\\\예금보험공사_부보금융회사 예금동향_20211231.csv\", encoding=\"cp949\")"
   ]
  },
  {
   "cell_type": "code",
   "execution_count": 12,
   "id": "44cb3330",
   "metadata": {},
   "outputs": [
    {
     "data": {
      "text/plain": [
       "Index(['기준월', '은행_보호대상상품총액', '은행_공공기관등예금', '은행_부보예금', '보험_보호대상상품총액',\n",
       "       '보험_공공기관등예금', '보험_부보예금', '금융투자_보호대상상품총액', '금융투자_공공기관등예금', '금융투자_부보예금',\n",
       "       '종금_보호대상상품총액', '종금_공공기관등예금', '종금_부보예금', '저축은행_보호대상상품총액', '저축은행_공공기관등예금',\n",
       "       '저축은행_부보예금'],\n",
       "      dtype='object')"
      ]
     },
     "execution_count": 12,
     "metadata": {},
     "output_type": "execute_result"
    }
   ],
   "source": [
    "df.columns"
   ]
  },
  {
   "cell_type": "code",
   "execution_count": 13,
   "id": "00c724b3",
   "metadata": {},
   "outputs": [
    {
     "data": {
      "text/html": [
       "<div>\n",
       "<style scoped>\n",
       "    .dataframe tbody tr th:only-of-type {\n",
       "        vertical-align: middle;\n",
       "    }\n",
       "\n",
       "    .dataframe tbody tr th {\n",
       "        vertical-align: top;\n",
       "    }\n",
       "\n",
       "    .dataframe thead th {\n",
       "        text-align: right;\n",
       "    }\n",
       "</style>\n",
       "<table border=\"1\" class=\"dataframe\">\n",
       "  <thead>\n",
       "    <tr style=\"text-align: right;\">\n",
       "      <th></th>\n",
       "      <th>기준월</th>\n",
       "      <th>은행_보호대상상품총액</th>\n",
       "      <th>은행_공공기관등예금</th>\n",
       "      <th>은행_부보예금</th>\n",
       "      <th>보험_보호대상상품총액</th>\n",
       "      <th>보험_공공기관등예금</th>\n",
       "      <th>보험_부보예금</th>\n",
       "      <th>금융투자_보호대상상품총액</th>\n",
       "      <th>금융투자_공공기관등예금</th>\n",
       "      <th>금융투자_부보예금</th>\n",
       "      <th>종금_보호대상상품총액</th>\n",
       "      <th>종금_공공기관등예금</th>\n",
       "      <th>종금_부보예금</th>\n",
       "      <th>저축은행_보호대상상품총액</th>\n",
       "      <th>저축은행_공공기관등예금</th>\n",
       "      <th>저축은행_부보예금</th>\n",
       "    </tr>\n",
       "  </thead>\n",
       "  <tbody>\n",
       "    <tr>\n",
       "      <th>0</th>\n",
       "      <td>2016-03</td>\n",
       "      <td>13589332</td>\n",
       "      <td>2787048</td>\n",
       "      <td>10802284</td>\n",
       "      <td>7070132</td>\n",
       "      <td>639448</td>\n",
       "      <td>6430684</td>\n",
       "      <td>629194</td>\n",
       "      <td>365998</td>\n",
       "      <td>263195</td>\n",
       "      <td>39837</td>\n",
       "      <td>30369</td>\n",
       "      <td>9468</td>\n",
       "      <td>393895</td>\n",
       "      <td>6681</td>\n",
       "      <td>387214</td>\n",
       "    </tr>\n",
       "    <tr>\n",
       "      <th>1</th>\n",
       "      <td>2016-06</td>\n",
       "      <td>13803448</td>\n",
       "      <td>2763681</td>\n",
       "      <td>11039768</td>\n",
       "      <td>7213923</td>\n",
       "      <td>631605</td>\n",
       "      <td>6582317</td>\n",
       "      <td>638118</td>\n",
       "      <td>343429</td>\n",
       "      <td>294689</td>\n",
       "      <td>38074</td>\n",
       "      <td>27560</td>\n",
       "      <td>10513</td>\n",
       "      <td>406933</td>\n",
       "      <td>7181</td>\n",
       "      <td>399752</td>\n",
       "    </tr>\n",
       "    <tr>\n",
       "      <th>2</th>\n",
       "      <td>2016-09</td>\n",
       "      <td>15929163</td>\n",
       "      <td>3272358</td>\n",
       "      <td>12656805</td>\n",
       "      <td>7385114</td>\n",
       "      <td>661872</td>\n",
       "      <td>6723242</td>\n",
       "      <td>577200</td>\n",
       "      <td>307244</td>\n",
       "      <td>269956</td>\n",
       "      <td>37636</td>\n",
       "      <td>26566</td>\n",
       "      <td>11070</td>\n",
       "      <td>428005</td>\n",
       "      <td>7201</td>\n",
       "      <td>420804</td>\n",
       "    </tr>\n",
       "    <tr>\n",
       "      <th>3</th>\n",
       "      <td>2016-12</td>\n",
       "      <td>14446660</td>\n",
       "      <td>2925702</td>\n",
       "      <td>11520958</td>\n",
       "      <td>7628772</td>\n",
       "      <td>757778</td>\n",
       "      <td>6870994</td>\n",
       "      <td>576348</td>\n",
       "      <td>308894</td>\n",
       "      <td>267454</td>\n",
       "      <td>38517</td>\n",
       "      <td>26791</td>\n",
       "      <td>11725</td>\n",
       "      <td>451922</td>\n",
       "      <td>7823</td>\n",
       "      <td>444098</td>\n",
       "    </tr>\n",
       "    <tr>\n",
       "      <th>4</th>\n",
       "      <td>2017-03</td>\n",
       "      <td>14379856</td>\n",
       "      <td>2961384</td>\n",
       "      <td>11418472</td>\n",
       "      <td>7762034</td>\n",
       "      <td>756938</td>\n",
       "      <td>7005095</td>\n",
       "      <td>581474</td>\n",
       "      <td>314250</td>\n",
       "      <td>267224</td>\n",
       "      <td>41223</td>\n",
       "      <td>29661</td>\n",
       "      <td>11562</td>\n",
       "      <td>463324</td>\n",
       "      <td>8213</td>\n",
       "      <td>455110</td>\n",
       "    </tr>\n",
       "  </tbody>\n",
       "</table>\n",
       "</div>"
      ],
      "text/plain": [
       "       기준월  은행_보호대상상품총액  은행_공공기관등예금   은행_부보예금  보험_보호대상상품총액  보험_공공기관등예금  \\\n",
       "0  2016-03     13589332     2787048  10802284      7070132      639448   \n",
       "1  2016-06     13803448     2763681  11039768      7213923      631605   \n",
       "2  2016-09     15929163     3272358  12656805      7385114      661872   \n",
       "3  2016-12     14446660     2925702  11520958      7628772      757778   \n",
       "4  2017-03     14379856     2961384  11418472      7762034      756938   \n",
       "\n",
       "   보험_부보예금  금융투자_보호대상상품총액  금융투자_공공기관등예금  금융투자_부보예금  종금_보호대상상품총액  종금_공공기관등예금  \\\n",
       "0  6430684         629194        365998     263195        39837       30369   \n",
       "1  6582317         638118        343429     294689        38074       27560   \n",
       "2  6723242         577200        307244     269956        37636       26566   \n",
       "3  6870994         576348        308894     267454        38517       26791   \n",
       "4  7005095         581474        314250     267224        41223       29661   \n",
       "\n",
       "   종금_부보예금  저축은행_보호대상상품총액  저축은행_공공기관등예금  저축은행_부보예금  \n",
       "0     9468         393895          6681     387214  \n",
       "1    10513         406933          7181     399752  \n",
       "2    11070         428005          7201     420804  \n",
       "3    11725         451922          7823     444098  \n",
       "4    11562         463324          8213     455110  "
      ]
     },
     "execution_count": 13,
     "metadata": {},
     "output_type": "execute_result"
    }
   ],
   "source": [
    "df.head()"
   ]
  },
  {
   "cell_type": "code",
   "execution_count": 14,
   "id": "b834ac05",
   "metadata": {},
   "outputs": [],
   "source": [
    "import math"
   ]
  },
  {
   "cell_type": "code",
   "execution_count": 16,
   "id": "157f6af4",
   "metadata": {},
   "outputs": [],
   "source": [
    "#x= 자본금 y=총자산\n",
    "df['natural_log'] = df['은행_보호대상상품총액'].apply(math.log)"
   ]
  },
  {
   "cell_type": "code",
   "execution_count": 17,
   "id": "8da2e3aa",
   "metadata": {},
   "outputs": [],
   "source": [
    "import seaborn as sns"
   ]
  },
  {
   "cell_type": "code",
   "execution_count": 21,
   "id": "c272a50b",
   "metadata": {},
   "outputs": [
    {
     "name": "stderr",
     "output_type": "stream",
     "text": [
      "C:\\Users\\USER\\anaconda3\\lib\\site-packages\\seaborn\\distributions.py:2619: FutureWarning: `distplot` is a deprecated function and will be removed in a future version. Please adapt your code to use either `displot` (a figure-level function with similar flexibility) or `histplot` (an axes-level function for histograms).\n",
      "  warnings.warn(msg, FutureWarning)\n"
     ]
    },
    {
     "data": {
      "text/plain": [
       "<AxesSubplot:xlabel='은행_보호대상상품총액', ylabel='Density'>"
      ]
     },
     "execution_count": 21,
     "metadata": {},
     "output_type": "execute_result"
    },
    {
     "name": "stderr",
     "output_type": "stream",
     "text": [
      "C:\\Users\\USER\\anaconda3\\lib\\site-packages\\matplotlib\\backends\\backend_agg.py:240: RuntimeWarning: Glyph 51008 missing from current font.\n",
      "  font.set_text(s, 0.0, flags=flags)\n",
      "C:\\Users\\USER\\anaconda3\\lib\\site-packages\\matplotlib\\backends\\backend_agg.py:240: RuntimeWarning: Glyph 54665 missing from current font.\n",
      "  font.set_text(s, 0.0, flags=flags)\n",
      "C:\\Users\\USER\\anaconda3\\lib\\site-packages\\matplotlib\\backends\\backend_agg.py:240: RuntimeWarning: Glyph 48372 missing from current font.\n",
      "  font.set_text(s, 0.0, flags=flags)\n",
      "C:\\Users\\USER\\anaconda3\\lib\\site-packages\\matplotlib\\backends\\backend_agg.py:240: RuntimeWarning: Glyph 54840 missing from current font.\n",
      "  font.set_text(s, 0.0, flags=flags)\n",
      "C:\\Users\\USER\\anaconda3\\lib\\site-packages\\matplotlib\\backends\\backend_agg.py:240: RuntimeWarning: Glyph 45824 missing from current font.\n",
      "  font.set_text(s, 0.0, flags=flags)\n",
      "C:\\Users\\USER\\anaconda3\\lib\\site-packages\\matplotlib\\backends\\backend_agg.py:240: RuntimeWarning: Glyph 49345 missing from current font.\n",
      "  font.set_text(s, 0.0, flags=flags)\n",
      "C:\\Users\\USER\\anaconda3\\lib\\site-packages\\matplotlib\\backends\\backend_agg.py:240: RuntimeWarning: Glyph 54408 missing from current font.\n",
      "  font.set_text(s, 0.0, flags=flags)\n",
      "C:\\Users\\USER\\anaconda3\\lib\\site-packages\\matplotlib\\backends\\backend_agg.py:240: RuntimeWarning: Glyph 52509 missing from current font.\n",
      "  font.set_text(s, 0.0, flags=flags)\n",
      "C:\\Users\\USER\\anaconda3\\lib\\site-packages\\matplotlib\\backends\\backend_agg.py:240: RuntimeWarning: Glyph 50529 missing from current font.\n",
      "  font.set_text(s, 0.0, flags=flags)\n",
      "C:\\Users\\USER\\anaconda3\\lib\\site-packages\\matplotlib\\backends\\backend_agg.py:203: RuntimeWarning: Glyph 51008 missing from current font.\n",
      "  font.set_text(s, 0, flags=flags)\n",
      "C:\\Users\\USER\\anaconda3\\lib\\site-packages\\matplotlib\\backends\\backend_agg.py:203: RuntimeWarning: Glyph 54665 missing from current font.\n",
      "  font.set_text(s, 0, flags=flags)\n",
      "C:\\Users\\USER\\anaconda3\\lib\\site-packages\\matplotlib\\backends\\backend_agg.py:203: RuntimeWarning: Glyph 48372 missing from current font.\n",
      "  font.set_text(s, 0, flags=flags)\n",
      "C:\\Users\\USER\\anaconda3\\lib\\site-packages\\matplotlib\\backends\\backend_agg.py:203: RuntimeWarning: Glyph 54840 missing from current font.\n",
      "  font.set_text(s, 0, flags=flags)\n",
      "C:\\Users\\USER\\anaconda3\\lib\\site-packages\\matplotlib\\backends\\backend_agg.py:203: RuntimeWarning: Glyph 45824 missing from current font.\n",
      "  font.set_text(s, 0, flags=flags)\n",
      "C:\\Users\\USER\\anaconda3\\lib\\site-packages\\matplotlib\\backends\\backend_agg.py:203: RuntimeWarning: Glyph 49345 missing from current font.\n",
      "  font.set_text(s, 0, flags=flags)\n",
      "C:\\Users\\USER\\anaconda3\\lib\\site-packages\\matplotlib\\backends\\backend_agg.py:203: RuntimeWarning: Glyph 54408 missing from current font.\n",
      "  font.set_text(s, 0, flags=flags)\n",
      "C:\\Users\\USER\\anaconda3\\lib\\site-packages\\matplotlib\\backends\\backend_agg.py:203: RuntimeWarning: Glyph 52509 missing from current font.\n",
      "  font.set_text(s, 0, flags=flags)\n",
      "C:\\Users\\USER\\anaconda3\\lib\\site-packages\\matplotlib\\backends\\backend_agg.py:203: RuntimeWarning: Glyph 50529 missing from current font.\n",
      "  font.set_text(s, 0, flags=flags)\n"
     ]
    },
    {
     "data": {
      "image/png": "[encoded data removed]",
      "text/plain": [
       "<Figure size 432x288 with 1 Axes>"
      ]
     },
     "metadata": {
      "needs_background": "light"
     },
     "output_type": "display_data"
    }
   ],
   "source": [
    "sns.distplot(df['은행_보호대상상품총액'])"
   ]
  },
  {
   "cell_type": "code",
   "execution_count": 20,
   "id": "7862cd75",
   "metadata": {
    "scrolled": true
   },
   "outputs": [
    {
     "name": "stderr",
     "output_type": "stream",
     "text": [
      "C:\\Users\\USER\\anaconda3\\lib\\site-packages\\seaborn\\distributions.py:2619: FutureWarning: `distplot` is a deprecated function and will be removed in a future version. Please adapt your code to use either `displot` (a figure-level function with similar flexibility) or `histplot` (an axes-level function for histograms).\n",
      "  warnings.warn(msg, FutureWarning)\n"
     ]
    },
    {
     "data": {
      "text/plain": [
       "<AxesSubplot:xlabel='natural_log', ylabel='Density'>"
      ]
     },
     "execution_count": 20,
     "metadata": {},
     "output_type": "execute_result"
    },
    {
     "data": {
      "image/png": "[encoded data removed]",
      "text/plain": [
       "<Figure size 432x288 with 1 Axes>"
      ]
     },
     "metadata": {
      "needs_background": "light"
     },
     "output_type": "display_data"
    }
   ],
   "source": [
    "sns.distplot(df['natural_log'])"
   ]
  },
  {
   "cell_type": "code",
   "execution_count": 22,
   "id": "86f96580",
   "metadata": {},
   "outputs": [
    {
     "data": {
      "text/plain": [
       "<matplotlib.collections.PathCollection at 0x21418272760>"
      ]
     },
     "execution_count": 22,
     "metadata": {},
     "output_type": "execute_result"
    },
    {
     "data": {
      "image/png": "[encoded data removed]",
      "text/plain": [
       "<Figure size 432x288 with 1 Axes>"
      ]
     },
     "metadata": {
      "needs_background": "light"
     },
     "output_type": "display_data"
    }
   ],
   "source": [
    "#상관관계 있으면 직선\n",
    "y = df.natural_log\n",
    "x = df.은행_보호대상상품총액\n",
    "\n",
    "plt.scatter(y,x,alpha=0.5)"
   ]
  },
  {
   "cell_type": "code",
   "execution_count": 24,
   "id": "33e87c25",
   "metadata": {},
   "outputs": [
    {
     "data": {
      "text/html": [
       "<table class=\"simpletable\">\n",
       "<caption>OLS Regression Results</caption>\n",
       "<tr>\n",
       "  <th>Dep. Variable:</th>       <td>natural_log</td>   <th>  R-squared:         </th> <td>   0.996</td>\n",
       "</tr>\n",
       "<tr>\n",
       "  <th>Model:</th>                   <td>OLS</td>       <th>  Adj. R-squared:    </th> <td>   0.996</td>\n",
       "</tr>\n",
       "<tr>\n",
       "  <th>Method:</th>             <td>Least Squares</td>  <th>  F-statistic:       </th> <td>   5913.</td>\n",
       "</tr>\n",
       "<tr>\n",
       "  <th>Date:</th>             <td>Tue, 24 May 2022</td> <th>  Prob (F-statistic):</th> <td>3.06e-28</td>\n",
       "</tr>\n",
       "<tr>\n",
       "  <th>Time:</th>                 <td>09:37:42</td>     <th>  Log-Likelihood:    </th> <td>  81.174</td>\n",
       "</tr>\n",
       "<tr>\n",
       "  <th>No. Observations:</th>      <td>    24</td>      <th>  AIC:               </th> <td>  -158.3</td>\n",
       "</tr>\n",
       "<tr>\n",
       "  <th>Df Residuals:</th>          <td>    22</td>      <th>  BIC:               </th> <td>  -156.0</td>\n",
       "</tr>\n",
       "<tr>\n",
       "  <th>Df Model:</th>              <td>     1</td>      <th>                     </th>     <td> </td>   \n",
       "</tr>\n",
       "<tr>\n",
       "  <th>Covariance Type:</th>      <td>nonrobust</td>    <th>                     </th>     <td> </td>   \n",
       "</tr>\n",
       "</table>\n",
       "<table class=\"simpletable\">\n",
       "<tr>\n",
       "       <td></td>          <th>coef</th>     <th>std err</th>      <th>t</th>      <th>P>|t|</th>  <th>[0.025</th>    <th>0.975]</th>  \n",
       "</tr>\n",
       "<tr>\n",
       "  <th>Intercept</th>   <td>   15.6562</td> <td>    0.013</td> <td> 1215.298</td> <td> 0.000</td> <td>   15.629</td> <td>   15.683</td>\n",
       "</tr>\n",
       "<tr>\n",
       "  <th>은행_보호대상상품총액</th> <td> 5.784e-08</td> <td> 7.52e-10</td> <td>   76.895</td> <td> 0.000</td> <td> 5.63e-08</td> <td> 5.94e-08</td>\n",
       "</tr>\n",
       "</table>\n",
       "<table class=\"simpletable\">\n",
       "<tr>\n",
       "  <th>Omnibus:</th>       <td> 3.031</td> <th>  Durbin-Watson:     </th> <td>   0.427</td>\n",
       "</tr>\n",
       "<tr>\n",
       "  <th>Prob(Omnibus):</th> <td> 0.220</td> <th>  Jarque-Bera (JB):  </th> <td>   2.580</td>\n",
       "</tr>\n",
       "<tr>\n",
       "  <th>Skew:</th>          <td>-0.727</td> <th>  Prob(JB):          </th> <td>   0.275</td>\n",
       "</tr>\n",
       "<tr>\n",
       "  <th>Kurtosis:</th>      <td> 2.319</td> <th>  Cond. No.          </th> <td>1.26e+08</td>\n",
       "</tr>\n",
       "</table><br/><br/>Notes:<br/>[1] Standard Errors assume that the covariance matrix of the errors is correctly specified.<br/>[2] The condition number is large, 1.26e+08. This might indicate that there are<br/>strong multicollinearity or other numerical problems."
      ],
      "text/plain": [
       "<class 'statsmodels.iolib.summary.Summary'>\n",
       "\"\"\"\n",
       "                            OLS Regression Results                            \n",
       "==============================================================================\n",
       "Dep. Variable:            natural_log   R-squared:                       0.996\n",
       "Model:                            OLS   Adj. R-squared:                  0.996\n",
       "Method:                 Least Squares   F-statistic:                     5913.\n",
       "Date:                Tue, 24 May 2022   Prob (F-statistic):           3.06e-28\n",
       "Time:                        09:37:42   Log-Likelihood:                 81.174\n",
       "No. Observations:                  24   AIC:                            -158.3\n",
       "Df Residuals:                      22   BIC:                            -156.0\n",
       "Df Model:                           1                                         \n",
       "Covariance Type:            nonrobust                                         \n",
       "===============================================================================\n",
       "                  coef    std err          t      P>|t|      [0.025      0.975]\n",
       "-------------------------------------------------------------------------------\n",
       "Intercept      15.6562      0.013   1215.298      0.000      15.629      15.683\n",
       "은행_보호대상상품총액  5.784e-08   7.52e-10     76.895      0.000    5.63e-08    5.94e-08\n",
       "==============================================================================\n",
       "Omnibus:                        3.031   Durbin-Watson:                   0.427\n",
       "Prob(Omnibus):                  0.220   Jarque-Bera (JB):                2.580\n",
       "Skew:                          -0.727   Prob(JB):                        0.275\n",
       "Kurtosis:                       2.319   Cond. No.                     1.26e+08\n",
       "==============================================================================\n",
       "\n",
       "Notes:\n",
       "[1] Standard Errors assume that the covariance matrix of the errors is correctly specified.\n",
       "[2] The condition number is large, 1.26e+08. This might indicate that there are\n",
       "strong multicollinearity or other numerical problems.\n",
       "\"\"\""
      ]
     },
     "execution_count": 24,
     "metadata": {},
     "output_type": "execute_result"
    }
   ],
   "source": [
    "#회귀분석\n",
    "#intercept = y절편, coef=a, p>|t|=p-valuse\n",
    "df_ols = smf.ols('natural_log~은행_보호대상상품총액',df).fit()\n",
    "df_ols.summary()"
   ]
  },
  {
   "cell_type": "code",
   "execution_count": null,
   "id": "72e75899",
   "metadata": {},
   "outputs": [],
   "source": []
  }
 ],
 "metadata": {
  "kernelspec": {
   "display_name": "Python 3 (ipykernel)",
   "language": "python",
   "name": "python3"
  },
  "language_info": {
   "codemirror_mode": {
    "name": "ipython",
    "version": 3
   },
   "file_extension": ".py",
   "mimetype": "text/x-python",
   "name": "python",
   "nbconvert_exporter": "python",
   "pygments_lexer": "ipython3",
   "version": "3.9.7"
  }
 },
 "nbformat": 4,
 "nbformat_minor": 5
}
