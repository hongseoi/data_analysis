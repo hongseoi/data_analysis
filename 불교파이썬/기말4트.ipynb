{
 "cells": [
  {
   "cell_type": "code",
   "execution_count": 1,
   "id": "66a2cdef-4d6e-4bb9-b481-327ac1401902",
   "metadata": {},
   "outputs": [],
   "source": [
    "#1. 회귀분석\n",
    "import matplotlib.pyplot as plt\n",
    "import math\n",
    "import seaborn as sns\n",
    "import statsmodels.formula.api as smf\n",
    "import pandas as pd\n",
    "\n",
    "df = pd.read_csv()\n",
    "df['logx'] = df['x'].apply(math.log)\n",
    "\n",
    "x = df.logx\n",
    "y = df.y\n",
    "\n",
    "plt.scatter(x,y,alpha=0.5)\n",
    "\n",
    "sns.displot(df['logx'])\n",
    "sns.distplot(df['x'])\n",
    "\n",
    "df_ols = smf.ols('logx~y', df).fit()\n",
    "df_ols.summary()"
   ]
  },
  {
   "cell_type": "code",
   "execution_count": 2,
   "id": "9f37a2ba-00ef-4d1b-883e-b81c26196f62",
   "metadata": {},
   "outputs": [],
   "source": [
    "#2. fortune teller\n",
    "import radom\n",
    "import sys\n",
    "\n",
    "while True:\n",
    "    name = input()\n",
    "    if name == '':\n",
    "        sys.exit()\n",
    "    num = random.randint(1,8)"
   ]
  },
  {
   "cell_type": "code",
   "execution_count": 3,
   "id": "d9c388af-dab8-490a-8e23-69a258d40107",
   "metadata": {},
   "outputs": [],
   "source": [
    "#3. n-polygon\n",
    "import turtle\n",
    "t = turtle.Turtle()\n",
    "\n",
    "def n_polygon(n, length):\n",
    "    for i in range(n):\n",
    "        t.forward(length)\n",
    "        t.left(360//n)\n",
    "\n",
    "for i in range(10):\n",
    "    n_polygon(6,100)\n",
    "    t.left(20)"
   ]
  },
  {
   "cell_type": "code",
   "execution_count": 4,
   "id": "06beb661-6819-46b8-ab7f-03569f909093",
   "metadata": {},
   "outputs": [],
   "source": [
    "#4. bargraph\n",
    "import turtle\n",
    "t = turtle.Turtle()\n",
    "\n",
    "def drawBar(height):\n",
    "    t.begin_fill()\n",
    "    t.left(90)\n",
    "    t.forward(height)\n",
    "    t.write(str(height), font=(\"Times New Roman\", 17, \"bold\"))\n",
    "    t.right(90)\n",
    "    t.forward(40)\n",
    "    t.right(90)\n",
    "    t.forward(height)\n",
    "    t.left(90)\n",
    "    t.end_fill()\n",
    "    \n",
    "t.color(\"red\")\n",
    "t.fillcolor(\"blue\")\n",
    "data = [1,2,3,4,5]\n",
    "\n",
    "for d in data:\n",
    "    drawBar(d)"
   ]
  },
  {
   "cell_type": "code",
   "execution_count": 5,
   "id": "0ebcb176-e7cb-4f5f-b6fe-6832737e5a75",
   "metadata": {},
   "outputs": [],
   "source": [
    "#5. drawind taguk\n",
    "import turtle\n",
    "t = turtle.Turtle()\n",
    "\n",
    "def draw_shape(radius, color1):\n",
    "    t.left(270)\n",
    "    t.width(3)\n",
    "\n",
    "    t.color(\"black\",color1)\n",
    "    t.begin_fill()\n",
    "\n",
    "    t.circle(radius/2.0, -180)\n",
    "    t.circle(radius, 180)\n",
    "    t.left(180)\n",
    "    t.circle(-radius/2.0, -180)\n",
    "    t.end_fill()\n",
    "\n",
    "t.reset()\n",
    "draw_shape(200, \"red\")\n",
    "t.setheading(180)\n",
    "draw_shape(200,\"blue\")"
   ]
  },
  {
   "cell_type": "code",
   "execution_count": 6,
   "id": "ae3e374d-9bff-4018-8a49-7110e7a9ec34",
   "metadata": {},
   "outputs": [],
   "source": [
    "#6. guess num\n",
    "import random\n",
    "\n",
    "tries = 0\n",
    "guess = 0\n",
    "num = random.randint(1,100)\n",
    "\n",
    "while guess == num:\n",
    "    guess = input()\n",
    "    if guess > num:\n",
    "        print(\"high\")\n",
    "    if guess < num:\n",
    "        print(\"low\")\n",
    "if guess == num:\n",
    "    print()"
   ]
  },
  {
   "cell_type": "code",
   "execution_count": 2,
   "id": "e1406d16-7d75-4313-bd26-f5209aa58546",
   "metadata": {},
   "outputs": [
    {
     "ename": "TypeError",
     "evalue": "'_Screen' object is not callable",
     "output_type": "error",
     "traceback": [
      "\u001b[1;31m---------------------------------------------------------------------------\u001b[0m",
      "\u001b[1;31mTypeError\u001b[0m                                 Traceback (most recent call last)",
      "\u001b[1;32mC:\\Users\\HONGSE~1\\AppData\\Local\\Temp/ipykernel_12724/3906846955.py\u001b[0m in \u001b[0;36m<module>\u001b[1;34m\u001b[0m\n\u001b[0;32m      7\u001b[0m     \u001b[0mt\u001b[0m\u001b[1;33m.\u001b[0m\u001b[0mgoto\u001b[0m\u001b[1;33m(\u001b[0m\u001b[0mx\u001b[0m\u001b[1;33m,\u001b[0m\u001b[0my\u001b[0m\u001b[1;33m)\u001b[0m\u001b[1;33m\u001b[0m\u001b[1;33m\u001b[0m\u001b[0m\n\u001b[0;32m      8\u001b[0m \u001b[1;33m\u001b[0m\u001b[0m\n\u001b[1;32m----> 9\u001b[1;33m \u001b[0ms\u001b[0m \u001b[1;33m=\u001b[0m \u001b[0mt\u001b[0m\u001b[1;33m.\u001b[0m\u001b[0mscreen\u001b[0m\u001b[1;33m(\u001b[0m\u001b[1;33m)\u001b[0m\u001b[1;33m\u001b[0m\u001b[1;33m\u001b[0m\u001b[0m\n\u001b[0m\u001b[0;32m     10\u001b[0m \u001b[0ms\u001b[0m\u001b[1;33m.\u001b[0m\u001b[0monkey\u001b[0m\u001b[1;33m(\u001b[0m\u001b[0mt\u001b[0m\u001b[1;33m.\u001b[0m\u001b[0mpenup\u001b[0m\u001b[1;33m,\u001b[0m \u001b[1;34m\"Up\"\u001b[0m\u001b[1;33m)\u001b[0m\u001b[1;33m\u001b[0m\u001b[1;33m\u001b[0m\u001b[0m\n\u001b[0;32m     11\u001b[0m \u001b[0ms\u001b[0m\u001b[1;33m.\u001b[0m\u001b[0monkey\u001b[0m\u001b[1;33m(\u001b[0m\u001b[0mt\u001b[0m\u001b[1;33m.\u001b[0m\u001b[0mpendown\u001b[0m\u001b[1;33m,\u001b[0m\u001b[1;34m\"Down\"\u001b[0m\u001b[1;33m)\u001b[0m\u001b[1;33m\u001b[0m\u001b[1;33m\u001b[0m\u001b[0m\n",
      "\u001b[1;31mTypeError\u001b[0m: '_Screen' object is not callable"
     ]
    }
   ],
   "source": [
    "#8. drwing with mouse\n",
    "import turtle\n",
    "\n",
    "t = turtle.Turtle()\n",
    "\n",
    "def draw(x,y):\n",
    "    t.goto(x,y)\n",
    "\n",
    "t.shape(\"turtle\")\n",
    "t.pensize(10)\n",
    "\n",
    "s = t.screen()\n",
    "s.onkey(t.penup, \"Up\")\n",
    "s.onkey(t.pendown,\"Down\")\n",
    "s.listen()\n"
   ]
  },
  {
   "cell_type": "code",
   "execution_count": null,
   "id": "803f3ff9-822f-4b61-b1bd-c330b72e7489",
   "metadata": {},
   "outputs": [],
   "source": []
  }
 ],
 "metadata": {
  "kernelspec": {
   "display_name": "Python 3 (ipykernel)",
   "language": "python",
   "name": "python3"
  },
  "language_info": {
   "codemirror_mode": {
    "name": "ipython",
    "version": 3
   },
   "file_extension": ".py",
   "mimetype": "text/x-python",
   "name": "python",
   "nbconvert_exporter": "python",
   "pygments_lexer": "ipython3",
   "version": "3.9.7"
  }
 },
 "nbformat": 4,
 "nbformat_minor": 5
}
