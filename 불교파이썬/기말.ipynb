{
 "cells": [
  {
   "cell_type": "markdown",
   "id": "fcc06bf1-9f4a-4475-8ceb-0ace59c65ad1",
   "metadata": {},
   "source": [
    "**회귀분석**\n"
   ]
  },
  {
   "cell_type": "code",
   "execution_count": 20,
   "id": "a1c05e1c-a9c9-498b-be1a-0f957f12b479",
   "metadata": {},
   "outputs": [],
   "source": [
    "import pandas as pd\n",
    "import math\n",
    "import seaborn as sns\n",
    "import matplotlib as plt\n",
    "import statsmodels.formula.api as smf"
   ]
  },
  {
   "cell_type": "code",
   "execution_count": 18,
   "id": "ee3f9313-e387-401d-a771-40071d00fddc",
   "metadata": {},
   "outputs": [
    {
     "ename": "NameError",
     "evalue": "name 'pd' is not defined",
     "output_type": "error",
     "traceback": [
      "\u001b[1;31m---------------------------------------------------------------------------\u001b[0m",
      "\u001b[1;31mNameError\u001b[0m                                 Traceback (most recent call last)",
      "\u001b[1;32mC:\\Users\\HONGSE~1\\AppData\\Local\\Temp/ipykernel_3060/1641463026.py\u001b[0m in \u001b[0;36m<module>\u001b[1;34m\u001b[0m\n\u001b[1;32m----> 1\u001b[1;33m \u001b[0mdf\u001b[0m \u001b[1;33m=\u001b[0m \u001b[0mpd\u001b[0m\u001b[1;33m.\u001b[0m\u001b[0mread_csv\u001b[0m\u001b[1;33m(\u001b[0m\u001b[1;34m\"src\"\u001b[0m\u001b[1;33m,\u001b[0m \u001b[0mencoding\u001b[0m \u001b[1;33m=\u001b[0m \u001b[1;34m\"cp949\"\u001b[0m\u001b[1;33m)\u001b[0m\u001b[1;33m\u001b[0m\u001b[1;33m\u001b[0m\u001b[0m\n\u001b[0m",
      "\u001b[1;31mNameError\u001b[0m: name 'pd' is not defined"
     ]
    }
   ],
   "source": [
    "df = pd.read_csv(\"src\", encoding = \"cp949\")"
   ]
  },
  {
   "cell_type": "code",
   "execution_count": 19,
   "id": "6412b751-d1d0-4058-ae34-de54bda9a82d",
   "metadata": {},
   "outputs": [
    {
     "ename": "NameError",
     "evalue": "name 'df' is not defined",
     "output_type": "error",
     "traceback": [
      "\u001b[1;31m---------------------------------------------------------------------------\u001b[0m",
      "\u001b[1;31mNameError\u001b[0m                                 Traceback (most recent call last)",
      "\u001b[1;32mC:\\Users\\HONGSE~1\\AppData\\Local\\Temp/ipykernel_3060/3289350417.py\u001b[0m in \u001b[0;36m<module>\u001b[1;34m\u001b[0m\n\u001b[1;32m----> 1\u001b[1;33m \u001b[0mdf\u001b[0m\u001b[1;33m.\u001b[0m\u001b[0mcolumns\u001b[0m\u001b[1;33m\u001b[0m\u001b[1;33m\u001b[0m\u001b[0m\n\u001b[0m",
      "\u001b[1;31mNameError\u001b[0m: name 'df' is not defined"
     ]
    }
   ],
   "source": [
    "df.columns"
   ]
  },
  {
   "cell_type": "code",
   "execution_count": null,
   "id": "8f22b751-164d-4800-a072-8d192f17537f",
   "metadata": {},
   "outputs": [],
   "source": [
    "df.head()"
   ]
  },
  {
   "cell_type": "code",
   "execution_count": 2,
   "id": "16dc22ac-9e92-4450-824a-39ac60177b9a",
   "metadata": {},
   "outputs": [],
   "source": [
    "#5. n-polygon\n",
    "import turtle\n",
    "t = turtle.Turtle()\n",
    "\n",
    "def n_polygon(n, length):\n",
    "    for i in range(n):\n",
    "        t.forward(length)\n",
    "        t.left(360//n)\n",
    "\n",
    "        \n",
    "for i in range(10):\n",
    "    t.left(20)\n",
    "    n_polygon(6,100)\n"
   ]
  },
  {
   "cell_type": "code",
   "execution_count": null,
   "id": "1ec10487-c0f9-481f-a04d-367f1094c3ad",
   "metadata": {},
   "outputs": [],
   "source": [
    "df['로그컬럼'] = df['기존컬럼'].apply(math.log)"
   ]
  },
  {
   "cell_type": "code",
   "execution_count": null,
   "id": "24fc2e38-413d-4a3a-8e46-92b3c2535de0",
   "metadata": {},
   "outputs": [],
   "source": [
    "sns.distplot(df['기존'])"
   ]
  },
  {
   "cell_type": "code",
   "execution_count": null,
   "id": "a7fb6e97-09ba-4e04-9281-0557d84187a2",
   "metadata": {},
   "outputs": [],
   "source": [
    "sns.distplot(df['로그컬럼])"
   ]
  },
  {
   "cell_type": "code",
   "execution_count": null,
   "id": "6b78e834-889d-4ec7-b95e-0c6dfef6398c",
   "metadata": {},
   "outputs": [],
   "source": [
    "y = df.natural_log\n",
    "x = df.관련값\n",
    "\n",
    "plt.scatter(y,x,alpha=0.5)"
   ]
  },
  {
   "cell_type": "code",
   "execution_count": null,
   "id": "40cb543c-fcc6-4dae-8b67-5798e98c111b",
   "metadata": {},
   "outputs": [],
   "source": [
    "df_ols = smf.ols('y~x', df).fit()\n",
    "ols.summary()"
   ]
  },
  {
   "cell_type": "code",
   "execution_count": 4,
   "id": "c2123f89-f4b4-46ad-9af5-341fc4e2eb2e",
   "metadata": {},
   "outputs": [],
   "source": [
    "#6. bargraph\n",
    "import turtle\n",
    "t = turtle.Turtle()\n",
    "\n",
    "def drawBar(height):\n",
    "    turtle.begin_fill()\n",
    "    t.left(90)\n",
    "    t.forward(height)\n",
    "    t.write(str(height), font=(\"Times New Roman\", 16, \"bold\"))\n",
    "    t.right(90)\n",
    "    t.forward(40)\n",
    "    t.right(90)\n",
    "    t.forward(height)\n",
    "    t.left(90)\n",
    "    t.end_fill()\n",
    "    \n",
    "data = [120, 56, 309, 220, 156, 23, 98]\n",
    "\n",
    "t.color(\"blue\")\n",
    "t.fillcolor(\"red\")\n",
    "\n",
    "t.pensize(3)\n",
    "\n",
    "for d in data:\n",
    "    drawBar(d)"
   ]
  },
  {
   "cell_type": "code",
   "execution_count": 12,
   "id": "06be41b7-2040-4a14-8f54-462271a8a6ec",
   "metadata": {},
   "outputs": [
    {
     "ename": "Terminator",
     "evalue": "",
     "output_type": "error",
     "traceback": [
      "\u001b[1;31m---------------------------------------------------------------------------\u001b[0m",
      "\u001b[1;31mTerminator\u001b[0m                                Traceback (most recent call last)",
      "\u001b[1;32mC:\\Users\\HONGSE~1\\AppData\\Local\\Temp/ipykernel_3060/3464250607.py\u001b[0m in \u001b[0;36m<module>\u001b[1;34m\u001b[0m\n\u001b[0;32m     13\u001b[0m \u001b[1;33m\u001b[0m\u001b[0m\n\u001b[0;32m     14\u001b[0m \u001b[1;33m\u001b[0m\u001b[0m\n\u001b[1;32m---> 15\u001b[1;33m \u001b[0mt\u001b[0m \u001b[1;33m=\u001b[0m \u001b[0mturtle\u001b[0m\u001b[1;33m.\u001b[0m\u001b[0mTurtle\u001b[0m\u001b[1;33m(\u001b[0m\u001b[1;33m)\u001b[0m\u001b[1;33m\u001b[0m\u001b[1;33m\u001b[0m\u001b[0m\n\u001b[0m\u001b[0;32m     16\u001b[0m \u001b[0mt\u001b[0m\u001b[1;33m.\u001b[0m\u001b[0mreset\u001b[0m\u001b[1;33m(\u001b[0m\u001b[1;33m)\u001b[0m\u001b[1;33m\u001b[0m\u001b[1;33m\u001b[0m\u001b[0m\n\u001b[0;32m     17\u001b[0m \u001b[0mdraw_shape\u001b[0m\u001b[1;33m(\u001b[0m\u001b[1;36m200\u001b[0m\u001b[1;33m,\u001b[0m \u001b[1;34m\"red\"\u001b[0m\u001b[1;33m)\u001b[0m\u001b[1;33m\u001b[0m\u001b[1;33m\u001b[0m\u001b[0m\n",
      "\u001b[1;32mC:\\dataanalysis\\lib\\turtle.py\u001b[0m in \u001b[0;36m__init__\u001b[1;34m(self, shape, undobuffersize, visible)\u001b[0m\n\u001b[0;32m   3812\u001b[0m         \u001b[1;32mif\u001b[0m \u001b[0mTurtle\u001b[0m\u001b[1;33m.\u001b[0m\u001b[0m_screen\u001b[0m \u001b[1;32mis\u001b[0m \u001b[1;32mNone\u001b[0m\u001b[1;33m:\u001b[0m\u001b[1;33m\u001b[0m\u001b[1;33m\u001b[0m\u001b[0m\n\u001b[0;32m   3813\u001b[0m             \u001b[0mTurtle\u001b[0m\u001b[1;33m.\u001b[0m\u001b[0m_screen\u001b[0m \u001b[1;33m=\u001b[0m \u001b[0mScreen\u001b[0m\u001b[1;33m(\u001b[0m\u001b[1;33m)\u001b[0m\u001b[1;33m\u001b[0m\u001b[1;33m\u001b[0m\u001b[0m\n\u001b[1;32m-> 3814\u001b[1;33m         RawTurtle.__init__(self, Turtle._screen,\n\u001b[0m\u001b[0;32m   3815\u001b[0m                            \u001b[0mshape\u001b[0m\u001b[1;33m=\u001b[0m\u001b[0mshape\u001b[0m\u001b[1;33m,\u001b[0m\u001b[1;33m\u001b[0m\u001b[1;33m\u001b[0m\u001b[0m\n\u001b[0;32m   3816\u001b[0m                            \u001b[0mundobuffersize\u001b[0m\u001b[1;33m=\u001b[0m\u001b[0mundobuffersize\u001b[0m\u001b[1;33m,\u001b[0m\u001b[1;33m\u001b[0m\u001b[1;33m\u001b[0m\u001b[0m\n",
      "\u001b[1;32mC:\\dataanalysis\\lib\\turtle.py\u001b[0m in \u001b[0;36m__init__\u001b[1;34m(self, canvas, shape, undobuffersize, visible)\u001b[0m\n\u001b[0;32m   2556\u001b[0m         \u001b[0mself\u001b[0m\u001b[1;33m.\u001b[0m\u001b[0m_undobuffersize\u001b[0m \u001b[1;33m=\u001b[0m \u001b[0mundobuffersize\u001b[0m\u001b[1;33m\u001b[0m\u001b[1;33m\u001b[0m\u001b[0m\n\u001b[0;32m   2557\u001b[0m         \u001b[0mself\u001b[0m\u001b[1;33m.\u001b[0m\u001b[0mundobuffer\u001b[0m \u001b[1;33m=\u001b[0m \u001b[0mTbuffer\u001b[0m\u001b[1;33m(\u001b[0m\u001b[0mundobuffersize\u001b[0m\u001b[1;33m)\u001b[0m\u001b[1;33m\u001b[0m\u001b[1;33m\u001b[0m\u001b[0m\n\u001b[1;32m-> 2558\u001b[1;33m         \u001b[0mself\u001b[0m\u001b[1;33m.\u001b[0m\u001b[0m_update\u001b[0m\u001b[1;33m(\u001b[0m\u001b[1;33m)\u001b[0m\u001b[1;33m\u001b[0m\u001b[1;33m\u001b[0m\u001b[0m\n\u001b[0m\u001b[0;32m   2559\u001b[0m \u001b[1;33m\u001b[0m\u001b[0m\n\u001b[0;32m   2560\u001b[0m     \u001b[1;32mdef\u001b[0m \u001b[0mreset\u001b[0m\u001b[1;33m(\u001b[0m\u001b[0mself\u001b[0m\u001b[1;33m)\u001b[0m\u001b[1;33m:\u001b[0m\u001b[1;33m\u001b[0m\u001b[1;33m\u001b[0m\u001b[0m\n",
      "\u001b[1;32mC:\\dataanalysis\\lib\\turtle.py\u001b[0m in \u001b[0;36m_update\u001b[1;34m(self)\u001b[0m\n\u001b[0;32m   2659\u001b[0m             \u001b[1;32mreturn\u001b[0m\u001b[1;33m\u001b[0m\u001b[1;33m\u001b[0m\u001b[0m\n\u001b[0;32m   2660\u001b[0m         \u001b[1;32melif\u001b[0m \u001b[0mscreen\u001b[0m\u001b[1;33m.\u001b[0m\u001b[0m_tracing\u001b[0m \u001b[1;33m==\u001b[0m \u001b[1;36m1\u001b[0m\u001b[1;33m:\u001b[0m\u001b[1;33m\u001b[0m\u001b[1;33m\u001b[0m\u001b[0m\n\u001b[1;32m-> 2661\u001b[1;33m             \u001b[0mself\u001b[0m\u001b[1;33m.\u001b[0m\u001b[0m_update_data\u001b[0m\u001b[1;33m(\u001b[0m\u001b[1;33m)\u001b[0m\u001b[1;33m\u001b[0m\u001b[1;33m\u001b[0m\u001b[0m\n\u001b[0m\u001b[0;32m   2662\u001b[0m             \u001b[0mself\u001b[0m\u001b[1;33m.\u001b[0m\u001b[0m_drawturtle\u001b[0m\u001b[1;33m(\u001b[0m\u001b[1;33m)\u001b[0m\u001b[1;33m\u001b[0m\u001b[1;33m\u001b[0m\u001b[0m\n\u001b[0;32m   2663\u001b[0m             \u001b[0mscreen\u001b[0m\u001b[1;33m.\u001b[0m\u001b[0m_update\u001b[0m\u001b[1;33m(\u001b[0m\u001b[1;33m)\u001b[0m                  \u001b[1;31m# TurtleScreenBase\u001b[0m\u001b[1;33m\u001b[0m\u001b[1;33m\u001b[0m\u001b[0m\n",
      "\u001b[1;32mC:\\dataanalysis\\lib\\turtle.py\u001b[0m in \u001b[0;36m_update_data\u001b[1;34m(self)\u001b[0m\n\u001b[0;32m   2645\u001b[0m \u001b[1;33m\u001b[0m\u001b[0m\n\u001b[0;32m   2646\u001b[0m     \u001b[1;32mdef\u001b[0m \u001b[0m_update_data\u001b[0m\u001b[1;33m(\u001b[0m\u001b[0mself\u001b[0m\u001b[1;33m)\u001b[0m\u001b[1;33m:\u001b[0m\u001b[1;33m\u001b[0m\u001b[1;33m\u001b[0m\u001b[0m\n\u001b[1;32m-> 2647\u001b[1;33m         \u001b[0mself\u001b[0m\u001b[1;33m.\u001b[0m\u001b[0mscreen\u001b[0m\u001b[1;33m.\u001b[0m\u001b[0m_incrementudc\u001b[0m\u001b[1;33m(\u001b[0m\u001b[1;33m)\u001b[0m\u001b[1;33m\u001b[0m\u001b[1;33m\u001b[0m\u001b[0m\n\u001b[0m\u001b[0;32m   2648\u001b[0m         \u001b[1;32mif\u001b[0m \u001b[0mself\u001b[0m\u001b[1;33m.\u001b[0m\u001b[0mscreen\u001b[0m\u001b[1;33m.\u001b[0m\u001b[0m_updatecounter\u001b[0m \u001b[1;33m!=\u001b[0m \u001b[1;36m0\u001b[0m\u001b[1;33m:\u001b[0m\u001b[1;33m\u001b[0m\u001b[1;33m\u001b[0m\u001b[0m\n\u001b[0;32m   2649\u001b[0m             \u001b[1;32mreturn\u001b[0m\u001b[1;33m\u001b[0m\u001b[1;33m\u001b[0m\u001b[0m\n",
      "\u001b[1;32mC:\\dataanalysis\\lib\\turtle.py\u001b[0m in \u001b[0;36m_incrementudc\u001b[1;34m(self)\u001b[0m\n\u001b[0;32m   1291\u001b[0m         \u001b[1;32mif\u001b[0m \u001b[1;32mnot\u001b[0m \u001b[0mTurtleScreen\u001b[0m\u001b[1;33m.\u001b[0m\u001b[0m_RUNNING\u001b[0m\u001b[1;33m:\u001b[0m\u001b[1;33m\u001b[0m\u001b[1;33m\u001b[0m\u001b[0m\n\u001b[0;32m   1292\u001b[0m             \u001b[0mTurtleScreen\u001b[0m\u001b[1;33m.\u001b[0m\u001b[0m_RUNNING\u001b[0m \u001b[1;33m=\u001b[0m \u001b[1;32mTrue\u001b[0m\u001b[1;33m\u001b[0m\u001b[1;33m\u001b[0m\u001b[0m\n\u001b[1;32m-> 1293\u001b[1;33m             \u001b[1;32mraise\u001b[0m \u001b[0mTerminator\u001b[0m\u001b[1;33m\u001b[0m\u001b[1;33m\u001b[0m\u001b[0m\n\u001b[0m\u001b[0;32m   1294\u001b[0m         \u001b[1;32mif\u001b[0m \u001b[0mself\u001b[0m\u001b[1;33m.\u001b[0m\u001b[0m_tracing\u001b[0m \u001b[1;33m>\u001b[0m \u001b[1;36m0\u001b[0m\u001b[1;33m:\u001b[0m\u001b[1;33m\u001b[0m\u001b[1;33m\u001b[0m\u001b[0m\n\u001b[0;32m   1295\u001b[0m             \u001b[0mself\u001b[0m\u001b[1;33m.\u001b[0m\u001b[0m_updatecounter\u001b[0m \u001b[1;33m+=\u001b[0m \u001b[1;36m1\u001b[0m\u001b[1;33m\u001b[0m\u001b[1;33m\u001b[0m\u001b[0m\n",
      "\u001b[1;31mTerminator\u001b[0m: "
     ]
    }
   ],
   "source": [
    "import turtle\n",
    "\n",
    "def draw_shape(radius, color1):\n",
    "    t.left(270)\n",
    "    t.width(3)\n",
    "    t.color(\"black\", color1)\n",
    "    t.begin_fill()\n",
    "    t.circle(radius/2.0, -180)\n",
    "    t.circle(radius,180)\n",
    "    t.left(180)\n",
    "    t.circle(-radius/2.0, -180)\n",
    "    t.end_fill()\n",
    "\n",
    "\n",
    "t = turtle.Turtle()\n",
    "t.reset()\n",
    "draw_shape(200, \"red\")\n",
    "t.setheading(180)\n",
    "draw_shape(200,\"blue\")"
   ]
  },
  {
   "cell_type": "code",
   "execution_count": 13,
   "id": "efd4ea89-1ba0-423d-80fc-21302748f406",
   "metadata": {},
   "outputs": [
    {
     "name": "stdout",
     "output_type": "stream",
     "text": [
      "Guess the number between 1 and 100\n"
     ]
    },
    {
     "name": "stdin",
     "output_type": "stream",
     "text": [
      "enter the num: 11\n"
     ]
    },
    {
     "name": "stdout",
     "output_type": "stream",
     "text": [
      "low!\n"
     ]
    },
    {
     "name": "stdin",
     "output_type": "stream",
     "text": [
      "enter the num: 50\n"
     ]
    },
    {
     "name": "stdout",
     "output_type": "stream",
     "text": [
      "high!\n"
     ]
    },
    {
     "name": "stdin",
     "output_type": "stream",
     "text": [
      "enter the num: 30\n"
     ]
    },
    {
     "name": "stdout",
     "output_type": "stream",
     "text": [
      "low!\n"
     ]
    },
    {
     "name": "stdin",
     "output_type": "stream",
     "text": [
      "enter the num: 40\n"
     ]
    },
    {
     "name": "stdout",
     "output_type": "stream",
     "text": [
      "low!\n"
     ]
    },
    {
     "name": "stdin",
     "output_type": "stream",
     "text": [
      "enter the num: 45\n"
     ]
    },
    {
     "name": "stdout",
     "output_type": "stream",
     "text": [
      "low!\n"
     ]
    },
    {
     "name": "stdin",
     "output_type": "stream",
     "text": [
      "enter the num: 47\n"
     ]
    },
    {
     "name": "stdout",
     "output_type": "stream",
     "text": [
      "low!\n"
     ]
    },
    {
     "name": "stdin",
     "output_type": "stream",
     "text": [
      "enter the num: 48\n"
     ]
    },
    {
     "name": "stdout",
     "output_type": "stream",
     "text": [
      "성공 7\n"
     ]
    }
   ],
   "source": [
    "#8. guess num\n",
    "import random\n",
    "\n",
    "tries = 0\n",
    "guess = 0\n",
    "\n",
    "answer = random.randint(1,100)\n",
    "\n",
    "print(\"Guess the number between 1 and 100\")\n",
    "\n",
    "while answer != guess:\n",
    "    guess = int(input(\"enter the num:\"))\n",
    "    tries += 1\n",
    "    \n",
    "    if guess < answer:\n",
    "        print(\"low!\")\n",
    "    elif guess > answer:\n",
    "        print(\"high!\")\n",
    "\n",
    "if answer == guess:\n",
    "    print(\"성공\", tries)\n",
    "else:\n",
    "    print(\"the answer is \", answer)"
   ]
  },
  {
   "cell_type": "code",
   "execution_count": 14,
   "id": "941cb302-9826-4b1d-916f-04e8c20c5bd9",
   "metadata": {},
   "outputs": [
    {
     "name": "stdin",
     "output_type": "stream",
     "text": [
      "lottery number(1~99) 33\n"
     ]
    },
    {
     "name": "stdout",
     "output_type": "stream",
     "text": [
      "winning num is  37\n",
      "you get 500\n"
     ]
    }
   ],
   "source": [
    "#9. lottery\n",
    "import random\n",
    "\n",
    "num = int(input(\"lottery number(1~99)\"))\n",
    "lotterynum = random.randint(0,99)\n",
    "print(\"winning num is \", lotterynum)\n",
    "\n",
    "digit1 = lotterynum//10\n",
    "digit2 = lotterynum%10\n",
    "\n",
    "ldigit1 = num//10\n",
    "ldigit2 = num%10\n",
    "\n",
    "if digit1 == ldigit1 and digit2 == ldigit2:\n",
    "    print(\"you get 1000$!\")\n",
    "elif digit1 == ldigit1 or digit2 == ldigit2:\n",
    "    print(\"you get 500\")\n",
    "else:\n",
    "    print(\"no money\")\n",
    "\n"
   ]
  },
  {
   "cell_type": "code",
   "execution_count": 16,
   "id": "5f28c096-63cc-4fbf-8379-8b9f00c11860",
   "metadata": {},
   "outputs": [],
   "source": [
    "#10. drawing with mouse\n",
    "import turtle\n",
    "\n",
    "def draw(x,y):\n",
    "    t.goto(x,y)\n",
    "\n",
    "t=turtle.Turtle()\n",
    "t.shape(\"turtle\")\n",
    "t.pensize(10)\n",
    "\n",
    "s=turtle.Screen()\n",
    "s.onscreenclick(draw)\n",
    "\n",
    "s.onkey(t.penup, \"Up\")\n",
    "s.onkey(t.pendown, \"Down\")\n",
    "s.listen()"
   ]
  },
  {
   "cell_type": "code",
   "execution_count": null,
   "id": "b55f638f-58c7-45ba-a504-477483e148cc",
   "metadata": {},
   "outputs": [],
   "source": [
    "#3. FORTUNE TELLER\n",
    "import random\n",
    "import sys\n",
    "\n",
    "while True:\n",
    "    name = input(\"name(if you want to exit hit enter):\")\n",
    "    if name == '':\n",
    "        sys.exit()\n",
    "    \n",
    "    question = input(\"Dr. \" + name, \", you asked me a question on \\\"\", question, \".\")\n",
    "    print(\"Let's roll the dice of your destiny\")\n",
    "    \n",
    "    answer = random.randint(1,8)\n",
    "    \n",
    "    if answer == 1:\n",
    "        print(\"Yes, certainly\")\n",
    "    elif answer == 2:\n",
    "        print(\"ask me later\")\n",
    "    "
   ]
  },
  {
   "cell_type": "code",
   "execution_count": null,
   "id": "47972188-a8d4-4c21-8417-ed038969c583",
   "metadata": {},
   "outputs": [],
   "source": [
    "#4. 학점 계산\n",
    "score = int(input(\"점수를 입력하세요:\"))\n",
    "\n",
    "if score >= 90:\n",
    "    print('A')\n",
    "elif score >= 80:\n",
    "    print('B')\n",
    "elif score >= 70:\n",
    "    print('C')\n",
    "elif score >= 60:\n",
    "    print('D')\n",
    "else:\n",
    "    print('F')"
   ]
  }
 ],
 "metadata": {
  "kernelspec": {
   "display_name": "Python 3 (ipykernel)",
   "language": "python",
   "name": "python3"
  },
  "language_info": {
   "codemirror_mode": {
    "name": "ipython",
    "version": 3
   },
   "file_extension": ".py",
   "mimetype": "text/x-python",
   "name": "python",
   "nbconvert_exporter": "python",
   "pygments_lexer": "ipython3",
   "version": "3.9.7"
  }
 },
 "nbformat": 4,
 "nbformat_minor": 5
}
