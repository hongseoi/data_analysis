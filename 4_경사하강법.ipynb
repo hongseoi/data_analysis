{
  "nbformat": 4,
  "nbformat_minor": 0,
  "metadata": {
    "colab": {
      "name": "4_경사하강법.ipynb",
      "provenance": [],
      "collapsed_sections": [],
      "authorship_tag": "ABX9TyNlf3Thc4Koo2YvmBJGAnR8",
      "include_colab_link": true
    },
    "kernelspec": {
      "name": "python3",
      "display_name": "Python 3"
    },
    "language_info": {
      "name": "python"
    }
  },
  "cells": [
    {
      "cell_type": "markdown",
      "metadata": {
        "id": "view-in-github",
        "colab_type": "text"
      },
      "source": [
        "<a href=\"https://colab.research.google.com/github/hongseoi/data_analysis/blob/main/4_%EA%B2%BD%EC%82%AC%ED%95%98%EA%B0%95%EB%B2%95.ipynb\" target=\"_parent\"><img src=\"https://colab.research.google.com/assets/colab-badge.svg\" alt=\"Open In Colab\"/></a>"
      ]
    },
    {
      "cell_type": "code",
      "execution_count": 17,
      "metadata": {
        "id": "8pSBwlbJaF8q"
      },
      "outputs": [],
      "source": [
        "#코딩을 통해 경사 하강법 적용하기\n",
        "import tensorflow.compat.v1 as tf\n"
      ]
    },
    {
      "cell_type": "code",
      "source": [
        "#데이터 입력\n",
        "data = [[2,81],[4,93],[6,91],[8,97]]\n",
        "x_data = [x_row[0] for x_row in data]\n",
        "y_data = [y_row[1] for y_row in data]\n",
        "\n",
        "learning_rate = 0.1\n"
      ],
      "metadata": {
        "id": "HoxxvLr_jKcf"
      },
      "execution_count": 18,
      "outputs": []
    },
    {
      "cell_type": "code",
      "source": [
        "# 기울기a, y절편b\n",
        "a = tf.Variable(tf.random.uniform([1],0,10,dtype=tf.float64,seed=0)) #random.uniform([개수], 부터, 까지,데이터형식,seed): 임의의 수를 생성해주는 함수\n",
        "b = tf.Variable(tf.random.uniform([1],0,100,dtype=tf.float64, seed=0))"
      ],
      "metadata": {
        "id": "9kRQ0lXHjPz5"
      },
      "execution_count": 19,
      "outputs": []
    },
    {
      "cell_type": "code",
      "source": [
        "#일차방정식 구현하기\n",
        "y = a*x_data + b"
      ],
      "metadata": {
        "id": "5WTenSNDqIE_"
      },
      "execution_count": 20,
      "outputs": []
    },
    {
      "cell_type": "code",
      "source": [
        "# 평균 제곱근 오차\n",
        "rmse = tf.sqrt(tf.reduce_mean(tf.square(y-y_data)))"
      ],
      "metadata": {
        "id": "xKsvRj2BqxbE"
      },
      "execution_count": 21,
      "outputs": []
    },
    {
      "cell_type": "code",
      "source": [
        "# 경사하강법 실행:rmse를 최소로 하는값\n",
        "\n",
        "gradiant_decent = tf.train.GradientDescentOptimizer(learning_rate).minimize(rmse)\n"
      ],
      "metadata": {
        "id": "boCH2p35q7dV"
      },
      "execution_count": 24,
      "outputs": []
    },
    {
      "cell_type": "code",
      "source": [
        "#tensorflow이용한 학습\n",
        "with tf.Session() as sess:\n",
        "  #변수 초기화\n",
        "  sess.run(tf.global_variables_initializer())\n",
        "  #2001번 실행\n",
        "  for step in range(2001):\n",
        "    sess.run(gradiant_decent)\n",
        "    #100번마다 결과 출력\n",
        "    if step%100==0:\n",
        "      print(\"Epoch:%f,RMSE=%.04f, 기울기a=%.4f,y절편b=%.4f\"%(step,sess.run(rmse),sess.run(a),sess.run(b)))"
      ],
      "metadata": {
        "colab": {
          "base_uri": "https://localhost:8080/"
        },
        "id": "0sGFbXQHrFus",
        "outputId": "c9a2f1a1-dbf4-4787-8c45-0d853b74ae1f"
      },
      "execution_count": 25,
      "outputs": [
        {
          "output_type": "stream",
          "name": "stdout",
          "text": [
            "Epoch:0.000000,RMSE=30.2139, 기울기a=7.5235,y절편b=80.5984\n",
            "Epoch:100.000000,RMSE=2.8860, 기울기a=2.2299,y절편b=79.4181\n",
            "Epoch:200.000000,RMSE=2.8826, 기울기a=2.2601,y절편b=79.2379\n",
            "Epoch:300.000000,RMSE=2.8815, 기울기a=2.2773,y절편b=79.1353\n",
            "Epoch:400.000000,RMSE=2.8811, 기울기a=2.2871,y절편b=79.0770\n",
            "Epoch:500.000000,RMSE=2.8810, 기울기a=2.2927,y절편b=79.0438\n",
            "Epoch:600.000000,RMSE=2.8810, 기울기a=2.2958,y절편b=79.0249\n",
            "Epoch:700.000000,RMSE=2.8810, 기울기a=2.2976,y절편b=79.0142\n",
            "Epoch:800.000000,RMSE=2.8810, 기울기a=2.2987,y절편b=79.0081\n",
            "Epoch:900.000000,RMSE=2.8810, 기울기a=2.2992,y절편b=79.0046\n",
            "Epoch:1000.000000,RMSE=2.8810, 기울기a=2.2996,y절편b=79.0026\n",
            "Epoch:1100.000000,RMSE=2.8810, 기울기a=2.2998,y절편b=79.0015\n",
            "Epoch:1200.000000,RMSE=2.8810, 기울기a=2.2999,y절편b=79.0008\n",
            "Epoch:1300.000000,RMSE=2.8810, 기울기a=2.2999,y절편b=79.0005\n",
            "Epoch:1400.000000,RMSE=2.8810, 기울기a=2.3000,y절편b=79.0003\n",
            "Epoch:1500.000000,RMSE=2.8810, 기울기a=2.3000,y절편b=79.0002\n",
            "Epoch:1600.000000,RMSE=2.8810, 기울기a=2.3000,y절편b=79.0001\n",
            "Epoch:1700.000000,RMSE=2.8810, 기울기a=2.3000,y절편b=79.0001\n",
            "Epoch:1800.000000,RMSE=2.8810, 기울기a=2.3000,y절편b=79.0000\n",
            "Epoch:1900.000000,RMSE=2.8810, 기울기a=2.3000,y절편b=79.0000\n",
            "Epoch:2000.000000,RMSE=2.8810, 기울기a=2.3000,y절편b=79.0000\n"
          ]
        }
      ]
    },
    {
      "cell_type": "code",
      "source": [
        "#다중선형회귀 구형하기\n",
        "#데이터 설정\n",
        "data = [[2,0,81],[4,4,93],[6,2,91],[8,3,97]]\n",
        "x1 = [x_row1[0] for x_row1 in data]\n",
        "x2 = [x_row2[1] for x_row2 in data]\n",
        "y_data = [y_row[2] for y_row in data]\n",
        "\n",
        "a1 = tf.Variable(tf.random_uniform([1],0,10,dtype=tf.float64,seed=0))\n",
        "a2 = tf.Variable(tf.random_uniform([1],0,10,dtype=tf.float64,seed=0))\n",
        "b = tf.Variable(tf.random_uniform([1],0,100, dtype=tf.float64,seed=0))\n",
        "\n",
        "y = a1*x1 + a2*x2 + b\n",
        "\n",
        "rmse = tf.sqrt(tf.reduce_mean(tf.square(y-y_data)))\n",
        "\n",
        "learning_rate = 0.1\n",
        "\n",
        "gradiant_decent = tf.train.GradientDescentOptimizer(learning_rate).minimize(rmse)\n",
        "\n",
        "#tensorflow이용한 학습\n",
        "with tf.Session() as sess:\n",
        "  #변수 초기화\n",
        "  sess.run(tf.global_variables_initializer())\n",
        "  #2001번 실행\n",
        "  for step in range(2001):\n",
        "    sess.run(gradiant_decent)\n",
        "    #100번마다 결과 출력\n",
        "    if step%100==0:\n",
        "      print(\"Epoch:%f,RMSE=%.04f, 기울기a1=%.4f,기울기a2=%.4f, y절편b=%.4f\"%(step,sess.run(rmse),sess.run(a1),sess.run(a2),sess.run(b)))\n",
        "\n"
      ],
      "metadata": {
        "colab": {
          "base_uri": "https://localhost:8080/"
        },
        "id": "R3PuQTPlrgtV",
        "outputId": "54e6d816-4ac4-4e36-dbc3-056face38c4b"
      },
      "execution_count": 28,
      "outputs": [
        {
          "output_type": "stream",
          "name": "stdout",
          "text": [
            "Epoch:0.000000,RMSE=49.1842, 기울기a1=7.5270,기울기a2=7.8160, y절편b=80.5980\n",
            "Epoch:100.000000,RMSE=1.8368, 기울기a1=1.1306,기울기a2=2.1316, y절편b=78.5119\n",
            "Epoch:200.000000,RMSE=1.8370, 기울기a1=1.1879,기울기a2=2.1487, y절편b=78.1057\n",
            "Epoch:300.000000,RMSE=1.8370, 기울기a1=1.2122,기울기a2=2.1571, y절편b=77.9352\n",
            "Epoch:400.000000,RMSE=1.8370, 기울기a1=1.2226,기울기a2=2.1607, y절편b=77.8636\n",
            "Epoch:500.000000,RMSE=1.8370, 기울기a1=1.2269,기울기a2=2.1622, y절편b=77.8335\n",
            "Epoch:600.000000,RMSE=1.8370, 기울기a1=1.2288,기울기a2=2.1628, y절편b=77.8208\n",
            "Epoch:700.000000,RMSE=1.8370, 기울기a1=1.2295,기울기a2=2.1631, y절편b=77.8155\n",
            "Epoch:800.000000,RMSE=1.8370, 기울기a1=1.2299,기울기a2=2.1632, y절편b=77.8133\n",
            "Epoch:900.000000,RMSE=1.8370, 기울기a1=1.2300,기울기a2=2.1632, y절편b=77.8124\n",
            "Epoch:1000.000000,RMSE=1.8370, 기울기a1=1.2301,기울기a2=2.1633, y절편b=77.8120\n",
            "Epoch:1100.000000,RMSE=1.8370, 기울기a1=1.2301,기울기a2=2.1633, y절편b=77.8118\n",
            "Epoch:1200.000000,RMSE=1.8370, 기울기a1=1.2301,기울기a2=2.1633, y절편b=77.8117\n",
            "Epoch:1300.000000,RMSE=1.8370, 기울기a1=1.2301,기울기a2=2.1633, y절편b=77.8117\n",
            "Epoch:1400.000000,RMSE=1.8370, 기울기a1=1.2301,기울기a2=2.1633, y절편b=77.8117\n",
            "Epoch:1500.000000,RMSE=1.8370, 기울기a1=1.2301,기울기a2=2.1633, y절편b=77.8117\n",
            "Epoch:1600.000000,RMSE=1.8370, 기울기a1=1.2301,기울기a2=2.1633, y절편b=77.8117\n",
            "Epoch:1700.000000,RMSE=1.8370, 기울기a1=1.2301,기울기a2=2.1633, y절편b=77.8117\n",
            "Epoch:1800.000000,RMSE=1.8370, 기울기a1=1.2301,기울기a2=2.1633, y절편b=77.8117\n",
            "Epoch:1900.000000,RMSE=1.8370, 기울기a1=1.2301,기울기a2=2.1633, y절편b=77.8117\n",
            "Epoch:2000.000000,RMSE=1.8370, 기울기a1=1.2301,기울기a2=2.1633, y절편b=77.8117\n"
          ]
        }
      ]
    },
    {
      "cell_type": "code",
      "source": [
        "print"
      ],
      "metadata": {
        "id": "EWerNcoT1oxF"
      },
      "execution_count": null,
      "outputs": []
    }
  ]
}