{
 "cells": [
  {
   "cell_type": "markdown",
   "metadata": {},
   "source": [
    "<h1>N-탐색적데이터분석 기말과제</h1>\n",
    "\n",
    "2016110838 행정학전공 홍서이\n",
    "\n",
    "코드 출처 SAMET ARDA ERDOGAN, \"Students Performance: 📈 EDA and 📊 Visualization\", \n",
    "https://www.kaggle.com/code/sametardaerdogan/students-performance-eda-and-visualization\n",
    "\n",
    "데이터셋 출처 \"Students Performance in Exams\", https://www.kaggle.com/datasets/spscientist/students-performance-in-exams\n",
    "\n",
    "\n",
    "\n",
    "추가한 내용"
   ]
  },
  {
   "cell_type": "markdown",
   "metadata": {
    "papermill": {
     "duration": 0.029846,
     "end_time": "2021-04-15T07:12:45.452445",
     "exception": false,
     "start_time": "2021-04-15T07:12:45.422599",
     "status": "completed"
    },
    "tags": []
   },
   "source": [
    "<h1 style=\"text-align:center\">   \n",
    "      <font color = blue >\n",
    "                Students Performance: 📈 EDA and 📊 Visualization  \n",
    "        </font>    \n",
    "</h1>\n",
    "\n",
    "<hr style=\"width:100%;height:5px;border-width:0;color:gray;background-color:gray\"> \n",
    "\n"
   ]
  },
  {
   "cell_type": "markdown",
   "metadata": {
    "papermill": {
     "duration": 0.027839,
     "end_time": "2021-04-15T07:12:45.567494",
     "exception": false,
     "start_time": "2021-04-15T07:12:45.539655",
     "status": "completed"
    },
    "tags": []
   },
   "source": [
    "<h2 style =\"background:#333399;border:0;color:white\"><b>목차:</b></h2>\n",
    "<font color = #333399>  \n",
    "\n",
    "1. [First Step](#0)\n",
    "    * [Import The Required Libraries](#1)\n",
    "    * [Load Dataset](#2)  \n",
    "    * [Real Dataset 복제](#3)\n",
    "    * [Data Frame Info And Missing Values](#4)\n",
    "    * [First look](#5)\n",
    "    * [Columns 이름 재설정](#6)\n",
    "    * [새 Column \"average_score\" 생성](#7)\n",
    "    * [Describe Data Frame](#8)\n",
    "    * [새 컬럼 \"grade\" 생성](#9)\n",
    "    \n",
    "    \n",
    "2. [Visualization](#10)\n",
    "    * [Grade Pie Chart](#11)\n",
    "    * [Score Heatmap](#12)\n",
    "    * [Grades와 Gender 비교](#99)\n",
    "    \n",
    "    \n",
    "3. [알고자 하는 것 ](#13)\n",
    "    * [Q1: Average score에 gender과 education이 미치는 영향은 무엇인가?](#14)\n",
    "    * [Q2: Average score에 gender와 test preparation course가 미치는 영향은 무엇인가?](#15)\n",
    "    * [Q3: Average_score를 기준으로 어떤 group이 가장 성공적인가?](#16)\n",
    " \n",
    "4. [추가 내용]"
   ]
  },
  {
   "cell_type": "markdown",
   "metadata": {
    "papermill": {
     "duration": 0.028181,
     "end_time": "2021-04-15T07:12:45.625006",
     "exception": false,
     "start_time": "2021-04-15T07:12:45.596825",
     "status": "completed"
    },
    "tags": []
   },
   "source": [
    "<a id = \"0\" ></a>"
   ]
  },
  {
   "cell_type": "markdown",
   "metadata": {
    "papermill": {
     "duration": 0.027913,
     "end_time": "2021-04-15T07:12:45.681586",
     "exception": false,
     "start_time": "2021-04-15T07:12:45.653673",
     "status": "completed"
    },
    "tags": []
   },
   "source": [
    "<a id=\"1\"></a> <br>\n",
    "<h2 style =\"background:#c0f099;border:0;\">Import The Required Libraries</h2>"
   ]
  },
  {
   "cell_type": "code",
   "execution_count": 1,
   "metadata": {},
   "outputs": [
    {
     "name": "stdout",
     "output_type": "stream",
     "text": [
      "Requirement already satisfied: missingno in c:\\users\\hong seo i\\py\\anacon\\lib\\site-packages (0.5.1)\n",
      "Requirement already satisfied: scipy in c:\\users\\hong seo i\\py\\anacon\\lib\\site-packages (from missingno) (1.6.2)\n",
      "Requirement already satisfied: seaborn in c:\\users\\hong seo i\\py\\anacon\\lib\\site-packages (from missingno) (0.11.1)\n",
      "Requirement already satisfied: numpy in c:\\users\\hong seo i\\py\\anacon\\lib\\site-packages (from missingno) (1.20.1)\n",
      "Requirement already satisfied: matplotlib in c:\\users\\hong seo i\\py\\anacon\\lib\\site-packages (from missingno) (3.3.4)\n",
      "Requirement already satisfied: pillow>=6.2.0 in c:\\users\\hong seo i\\py\\anacon\\lib\\site-packages (from matplotlib->missingno) (8.2.0)\n",
      "Requirement already satisfied: cycler>=0.10 in c:\\users\\hong seo i\\py\\anacon\\lib\\site-packages (from matplotlib->missingno) (0.10.0)\n",
      "Requirement already satisfied: kiwisolver>=1.0.1 in c:\\users\\hong seo i\\py\\anacon\\lib\\site-packages (from matplotlib->missingno) (1.3.1)\n",
      "Requirement already satisfied: python-dateutil>=2.1 in c:\\users\\hong seo i\\py\\anacon\\lib\\site-packages (from matplotlib->missingno) (2.8.1)\n",
      "Requirement already satisfied: pyparsing!=2.0.4,!=2.1.2,!=2.1.6,>=2.0.3 in c:\\users\\hong seo i\\py\\anacon\\lib\\site-packages (from matplotlib->missingno) (2.4.7)\n",
      "Requirement already satisfied: six in c:\\users\\hong seo i\\py\\anacon\\lib\\site-packages (from cycler>=0.10->matplotlib->missingno) (1.15.0)\n",
      "Requirement already satisfied: pandas>=0.23 in c:\\users\\hong seo i\\py\\anacon\\lib\\site-packages (from seaborn->missingno) (1.2.4)\n",
      "Requirement already satisfied: pytz>=2017.3 in c:\\users\\hong seo i\\py\\anacon\\lib\\site-packages (from pandas>=0.23->seaborn->missingno) (2021.1)\n"
     ]
    }
   ],
   "source": [
    "!pip install missingno"
   ]
  },
  {
   "cell_type": "code",
   "execution_count": 2,
   "metadata": {
    "execution": {
     "iopub.execute_input": "2021-04-15T07:12:45.746068Z",
     "iopub.status.busy": "2021-04-15T07:12:45.745311Z",
     "iopub.status.idle": "2021-04-15T07:12:46.761516Z",
     "shell.execute_reply": "2021-04-15T07:12:46.760687Z"
    },
    "papermill": {
     "duration": 1.050942,
     "end_time": "2021-04-15T07:12:46.761972",
     "exception": false,
     "start_time": "2021-04-15T07:12:45.711030",
     "status": "completed"
    },
    "tags": []
   },
   "outputs": [],
   "source": [
    "\n",
    "import numpy as np\n",
    "import pandas as pd \n",
    "import seaborn as sns \n",
    "import matplotlib.pyplot as plt\n",
    "import missingno as msno\n",
    "\n",
    "sns.set_palette(\"tab10\")"
   ]
  },
  {
   "cell_type": "markdown",
   "metadata": {
    "papermill": {
     "duration": 0.027863,
     "end_time": "2021-04-15T07:12:46.819706",
     "exception": false,
     "start_time": "2021-04-15T07:12:46.791843",
     "status": "completed"
    },
    "tags": []
   },
   "source": [
    "<a id=\"2\"></a> <br>\n",
    "<h2 style =\"background:#c0f099;border:0;\">Load Dataset</h2>"
   ]
  },
  {
   "cell_type": "code",
   "execution_count": 3,
   "metadata": {
    "execution": {
     "iopub.execute_input": "2021-04-15T07:12:46.882418Z",
     "iopub.status.busy": "2021-04-15T07:12:46.881758Z",
     "iopub.status.idle": "2021-04-15T07:12:46.903129Z",
     "shell.execute_reply": "2021-04-15T07:12:46.902462Z"
    },
    "papermill": {
     "duration": 0.055125,
     "end_time": "2021-04-15T07:12:46.903284",
     "exception": false,
     "start_time": "2021-04-15T07:12:46.848159",
     "status": "completed"
    },
    "tags": []
   },
   "outputs": [],
   "source": [
    "data = pd.read_csv(\"StudentsPerformance.csv\")"
   ]
  },
  {
   "cell_type": "markdown",
   "metadata": {
    "papermill": {
     "duration": 0.02847,
     "end_time": "2021-04-15T07:12:46.962173",
     "exception": false,
     "start_time": "2021-04-15T07:12:46.933703",
     "status": "completed"
    },
    "tags": []
   },
   "source": [
    "<a id=\"3\"></a> <br>\n",
    "<h2 style =\"background:#c0f099;border:0;\">Copy Real Dataset</h2>"
   ]
  },
  {
   "cell_type": "code",
   "execution_count": 4,
   "metadata": {
    "execution": {
     "iopub.execute_input": "2021-04-15T07:12:47.028217Z",
     "iopub.status.busy": "2021-04-15T07:12:47.026990Z",
     "iopub.status.idle": "2021-04-15T07:12:47.030491Z",
     "shell.execute_reply": "2021-04-15T07:12:47.029838Z"
    },
    "papermill": {
     "duration": 0.038174,
     "end_time": "2021-04-15T07:12:47.030659",
     "exception": false,
     "start_time": "2021-04-15T07:12:46.992485",
     "status": "completed"
    },
    "tags": []
   },
   "outputs": [],
   "source": [
    "df = data.copy()"
   ]
  },
  {
   "cell_type": "markdown",
   "metadata": {
    "papermill": {
     "duration": 0.029757,
     "end_time": "2021-04-15T07:12:47.092622",
     "exception": false,
     "start_time": "2021-04-15T07:12:47.062865",
     "status": "completed"
    },
    "tags": []
   },
   "source": [
    "<a id=\"4\"></a> <br>\n",
    "<h2 style =\"background:#c0f099;border:0;\">Data Frame Info And Missing Values</h2>\n"
   ]
  },
  {
   "cell_type": "code",
   "execution_count": 5,
   "metadata": {
    "execution": {
     "iopub.execute_input": "2021-04-15T07:12:47.160267Z",
     "iopub.status.busy": "2021-04-15T07:12:47.159555Z",
     "iopub.status.idle": "2021-04-15T07:12:47.184077Z",
     "shell.execute_reply": "2021-04-15T07:12:47.183473Z"
    },
    "papermill": {
     "duration": 0.061781,
     "end_time": "2021-04-15T07:12:47.184242",
     "exception": false,
     "start_time": "2021-04-15T07:12:47.122461",
     "status": "completed"
    },
    "tags": []
   },
   "outputs": [
    {
     "name": "stdout",
     "output_type": "stream",
     "text": [
      "<class 'pandas.core.frame.DataFrame'>\n",
      "RangeIndex: 1000 entries, 0 to 999\n",
      "Data columns (total 8 columns):\n",
      " #   Column                       Non-Null Count  Dtype \n",
      "---  ------                       --------------  ----- \n",
      " 0   gender                       1000 non-null   object\n",
      " 1   race/ethnicity               1000 non-null   object\n",
      " 2   parental level of education  1000 non-null   object\n",
      " 3   lunch                        1000 non-null   object\n",
      " 4   test preparation course      1000 non-null   object\n",
      " 5   math score                   1000 non-null   int64 \n",
      " 6   reading score                1000 non-null   int64 \n",
      " 7   writing score                1000 non-null   int64 \n",
      "dtypes: int64(3), object(5)\n",
      "memory usage: 62.6+ KB\n"
     ]
    }
   ],
   "source": [
    "df.info()"
   ]
  },
  {
   "cell_type": "code",
   "execution_count": 6,
   "metadata": {
    "execution": {
     "iopub.execute_input": "2021-04-15T07:12:47.250212Z",
     "iopub.status.busy": "2021-04-15T07:12:47.249322Z",
     "iopub.status.idle": "2021-04-15T07:12:47.652905Z",
     "shell.execute_reply": "2021-04-15T07:12:47.652322Z"
    },
    "papermill": {
     "duration": 0.439164,
     "end_time": "2021-04-15T07:12:47.653054",
     "exception": false,
     "start_time": "2021-04-15T07:12:47.213890",
     "status": "completed"
    },
    "tags": []
   },
   "outputs": [
    {
     "data": {
      "image/png": "[encoded data removed]",
      "text/plain": [
       "<Figure size 1800x720 with 2 Axes>"
      ]
     },
     "metadata": {
      "needs_background": "light"
     },
     "output_type": "display_data"
    }
   ],
   "source": [
    "#결측치 표현 그래프\n",
    "msno.matrix(df);"
   ]
  },
  {
   "cell_type": "markdown",
   "metadata": {
    "papermill": {
     "duration": 0.031539,
     "end_time": "2021-04-15T07:12:47.716246",
     "exception": false,
     "start_time": "2021-04-15T07:12:47.684707",
     "status": "completed"
    },
    "tags": []
   },
   "source": [
    "<font color=blue>>> </font><b>결측치 없음</b>"
   ]
  },
  {
   "cell_type": "markdown",
   "metadata": {
    "papermill": {
     "duration": 0.031178,
     "end_time": "2021-04-15T07:12:47.779015",
     "exception": false,
     "start_time": "2021-04-15T07:12:47.747837",
     "status": "completed"
    },
    "tags": []
   },
   "source": [
    "<a id=\"5\"></a> <br>\n",
    "<h2 style =\"background:#c0f099;border:0;\">First look</h2>\n"
   ]
  },
  {
   "cell_type": "code",
   "execution_count": 7,
   "metadata": {
    "execution": {
     "iopub.execute_input": "2021-04-15T07:12:47.848550Z",
     "iopub.status.busy": "2021-04-15T07:12:47.847815Z",
     "iopub.status.idle": "2021-04-15T07:12:47.865699Z",
     "shell.execute_reply": "2021-04-15T07:12:47.866258Z"
    },
    "papermill": {
     "duration": 0.055701,
     "end_time": "2021-04-15T07:12:47.866450",
     "exception": false,
     "start_time": "2021-04-15T07:12:47.810749",
     "status": "completed"
    },
    "tags": []
   },
   "outputs": [
    {
     "data": {
      "text/html": [
       "<div>\n",
       "<style scoped>\n",
       "    .dataframe tbody tr th:only-of-type {\n",
       "        vertical-align: middle;\n",
       "    }\n",
       "\n",
       "    .dataframe tbody tr th {\n",
       "        vertical-align: top;\n",
       "    }\n",
       "\n",
       "    .dataframe thead th {\n",
       "        text-align: right;\n",
       "    }\n",
       "</style>\n",
       "<table border=\"1\" class=\"dataframe\">\n",
       "  <thead>\n",
       "    <tr style=\"text-align: right;\">\n",
       "      <th></th>\n",
       "      <th>gender</th>\n",
       "      <th>race/ethnicity</th>\n",
       "      <th>parental level of education</th>\n",
       "      <th>lunch</th>\n",
       "      <th>test preparation course</th>\n",
       "      <th>math score</th>\n",
       "      <th>reading score</th>\n",
       "      <th>writing score</th>\n",
       "    </tr>\n",
       "  </thead>\n",
       "  <tbody>\n",
       "    <tr>\n",
       "      <th>0</th>\n",
       "      <td>female</td>\n",
       "      <td>group B</td>\n",
       "      <td>bachelor's degree</td>\n",
       "      <td>standard</td>\n",
       "      <td>none</td>\n",
       "      <td>72</td>\n",
       "      <td>72</td>\n",
       "      <td>74</td>\n",
       "    </tr>\n",
       "    <tr>\n",
       "      <th>1</th>\n",
       "      <td>female</td>\n",
       "      <td>group C</td>\n",
       "      <td>some college</td>\n",
       "      <td>standard</td>\n",
       "      <td>completed</td>\n",
       "      <td>69</td>\n",
       "      <td>90</td>\n",
       "      <td>88</td>\n",
       "    </tr>\n",
       "    <tr>\n",
       "      <th>2</th>\n",
       "      <td>female</td>\n",
       "      <td>group B</td>\n",
       "      <td>master's degree</td>\n",
       "      <td>standard</td>\n",
       "      <td>none</td>\n",
       "      <td>90</td>\n",
       "      <td>95</td>\n",
       "      <td>93</td>\n",
       "    </tr>\n",
       "    <tr>\n",
       "      <th>3</th>\n",
       "      <td>male</td>\n",
       "      <td>group A</td>\n",
       "      <td>associate's degree</td>\n",
       "      <td>free/reduced</td>\n",
       "      <td>none</td>\n",
       "      <td>47</td>\n",
       "      <td>57</td>\n",
       "      <td>44</td>\n",
       "    </tr>\n",
       "    <tr>\n",
       "      <th>4</th>\n",
       "      <td>male</td>\n",
       "      <td>group C</td>\n",
       "      <td>some college</td>\n",
       "      <td>standard</td>\n",
       "      <td>none</td>\n",
       "      <td>76</td>\n",
       "      <td>78</td>\n",
       "      <td>75</td>\n",
       "    </tr>\n",
       "  </tbody>\n",
       "</table>\n",
       "</div>"
      ],
      "text/plain": [
       "   gender race/ethnicity parental level of education         lunch  \\\n",
       "0  female        group B           bachelor's degree      standard   \n",
       "1  female        group C                some college      standard   \n",
       "2  female        group B             master's degree      standard   \n",
       "3    male        group A          associate's degree  free/reduced   \n",
       "4    male        group C                some college      standard   \n",
       "\n",
       "  test preparation course  math score  reading score  writing score  \n",
       "0                    none          72             72             74  \n",
       "1               completed          69             90             88  \n",
       "2                    none          90             95             93  \n",
       "3                    none          47             57             44  \n",
       "4                    none          76             78             75  "
      ]
     },
     "execution_count": 7,
     "metadata": {},
     "output_type": "execute_result"
    }
   ],
   "source": [
    "df.head()"
   ]
  },
  {
   "cell_type": "markdown",
   "metadata": {
    "papermill": {
     "duration": 0.038763,
     "end_time": "2021-04-15T07:12:47.940236",
     "exception": false,
     "start_time": "2021-04-15T07:12:47.901473",
     "status": "completed"
    },
    "tags": []
   },
   "source": [
    "<font color=blue>>> </font><b>Data Frame은 보기에 괜찮아보임. 하지만 column 이름을 바꾸면 더 좋을 것 같음.</b>"
   ]
  },
  {
   "cell_type": "code",
   "execution_count": 8,
   "metadata": {
    "execution": {
     "iopub.execute_input": "2021-04-15T07:12:48.029097Z",
     "iopub.status.busy": "2021-04-15T07:12:48.028093Z",
     "iopub.status.idle": "2021-04-15T07:12:48.033776Z",
     "shell.execute_reply": "2021-04-15T07:12:48.034273Z"
    },
    "papermill": {
     "duration": 0.052835,
     "end_time": "2021-04-15T07:12:48.034443",
     "exception": false,
     "start_time": "2021-04-15T07:12:47.981608",
     "status": "completed"
    },
    "tags": []
   },
   "outputs": [
    {
     "data": {
      "text/plain": [
       "Index(['gender', 'race/ethnicity', 'parental level of education', 'lunch',\n",
       "       'test preparation course', 'math score', 'reading score',\n",
       "       'writing score'],\n",
       "      dtype='object')"
      ]
     },
     "execution_count": 8,
     "metadata": {},
     "output_type": "execute_result"
    }
   ],
   "source": [
    "df.columns"
   ]
  },
  {
   "cell_type": "markdown",
   "metadata": {
    "papermill": {
     "duration": 0.032514,
     "end_time": "2021-04-15T07:12:48.099608",
     "exception": false,
     "start_time": "2021-04-15T07:12:48.067094",
     "status": "completed"
    },
    "tags": []
   },
   "source": [
    "<h2 style=\"text-align:center;\"> Information About Columns</h2>\n",
    "   <table style=\"width:100%\">\n",
    "     <tr>\n",
    "       <th>Column Name</th>\n",
    "       <th>Description</th>\n",
    "    </tr>\n",
    "    <tr>\n",
    "       <td>gender</td>\n",
    "       <td>Male/ Female</td>\n",
    "    </tr>\n",
    "     <tr>\n",
    "    <td>race/ethnicity</td>\n",
    "    <td>A에서 E까지 그룹 분류</td>\n",
    "  </tr>\n",
    "  <tr>\n",
    "    <td>parental level of education</td>\n",
    "    <td>부모의 학력사항. 고졸부터 석사까지</td>\n",
    "  </tr>\n",
    "    <tr>\n",
    "    <td>lunch</td>\n",
    "    <td>선택한 점심 종류</td>\n",
    "  </tr>\n",
    "    <tr>\n",
    "    <td>test preparation course</td>\n",
    "    <td>Course 세부내용</td>\n",
    "  </tr>\n",
    "    <tr>\n",
    "    <td>math score</td>\n",
    "    <td>Mathematics에서 학생이 확보한 점수</td>\n",
    "  </tr>\n",
    "    <tr>\n",
    "    <td>reading score</td>\n",
    "    <td>Reading에서 학생이 확보한 점수</td>\n",
    "  </tr>\n",
    "    <tr>\n",
    "    <td>writing score</td>\n",
    "    <td>Writing에서 학생이 확보한 점수</td>\n",
    "  </tr>\n",
    "</table>\n",
    "<a id = \"attribute\" ></a>"
   ]
  },
  {
   "cell_type": "markdown",
   "metadata": {
    "papermill": {
     "duration": 0.033013,
     "end_time": "2021-04-15T07:12:48.165122",
     "exception": false,
     "start_time": "2021-04-15T07:12:48.132109",
     "status": "completed"
    },
    "tags": []
   },
   "source": [
    "<a id=\"6\"></a> <br>\n",
    "<h2 style =\"background:#c0f099;border:0;\">읽기 쉽도록 column 이름 변경</h2>"
   ]
  },
  {
   "cell_type": "code",
   "execution_count": 9,
   "metadata": {
    "execution": {
     "iopub.execute_input": "2021-04-15T07:12:48.233184Z",
     "iopub.status.busy": "2021-04-15T07:12:48.232464Z",
     "iopub.status.idle": "2021-04-15T07:12:48.238763Z",
     "shell.execute_reply": "2021-04-15T07:12:48.239254Z"
    },
    "papermill": {
     "duration": 0.042116,
     "end_time": "2021-04-15T07:12:48.239460",
     "exception": false,
     "start_time": "2021-04-15T07:12:48.197344",
     "status": "completed"
    },
    "tags": []
   },
   "outputs": [],
   "source": [
    "df.rename(inplace= True,\n",
    "          columns={\"race/ethnicity\":\"race_ethnicity\",\n",
    "                   \"parental level of education\":\"education_level\",\n",
    "                   \"test preparation course\":\"prep_course\",\n",
    "                   \"math score\":\"math_score\",\n",
    "                   \"reading score\":\"reading_score\",\n",
    "                   \"writing score\":\"writing_score\"})"
   ]
  },
  {
   "cell_type": "markdown",
   "metadata": {
    "papermill": {
     "duration": 0.031754,
     "end_time": "2021-04-15T07:12:48.303590",
     "exception": false,
     "start_time": "2021-04-15T07:12:48.271836",
     "status": "completed"
    },
    "tags": []
   },
   "source": [
    "<a id=\"7\"></a> <br>\n",
    "<h2 style =\"background:#c0f099;border:0;\"> math_score, reading_score, writing_score의 평균인 새 컬럼 \"average_score\" 생성</h2>"
   ]
  },
  {
   "cell_type": "code",
   "execution_count": 10,
   "metadata": {
    "execution": {
     "iopub.execute_input": "2021-04-15T07:12:48.375457Z",
     "iopub.status.busy": "2021-04-15T07:12:48.374802Z",
     "iopub.status.idle": "2021-04-15T07:12:48.377874Z",
     "shell.execute_reply": "2021-04-15T07:12:48.377282Z"
    },
    "papermill": {
     "duration": 0.041844,
     "end_time": "2021-04-15T07:12:48.378022",
     "exception": false,
     "start_time": "2021-04-15T07:12:48.336178",
     "status": "completed"
    },
    "tags": []
   },
   "outputs": [],
   "source": [
    "df['average_score'] = df[['math_score', 'reading_score', 'writing_score']].mean(axis=1)"
   ]
  },
  {
   "cell_type": "markdown",
   "metadata": {
    "papermill": {
     "duration": 0.031992,
     "end_time": "2021-04-15T07:12:48.443449",
     "exception": false,
     "start_time": "2021-04-15T07:12:48.411457",
     "status": "completed"
    },
    "tags": []
   },
   "source": [
    "<a id=\"8\"></a> <br>\n",
    "<h2 style =\"background:#c0f099;border:0;\">Describe our dataset and understand basic information</h2>"
   ]
  },
  {
   "cell_type": "code",
   "execution_count": 11,
   "metadata": {
    "execution": {
     "iopub.execute_input": "2021-04-15T07:12:48.516944Z",
     "iopub.status.busy": "2021-04-15T07:12:48.516234Z",
     "iopub.status.idle": "2021-04-15T07:12:48.541315Z",
     "shell.execute_reply": "2021-04-15T07:12:48.540739Z"
    },
    "papermill": {
     "duration": 0.065429,
     "end_time": "2021-04-15T07:12:48.541459",
     "exception": false,
     "start_time": "2021-04-15T07:12:48.476030",
     "status": "completed"
    },
    "tags": []
   },
   "outputs": [
    {
     "data": {
      "text/html": [
       "<div>\n",
       "<style scoped>\n",
       "    .dataframe tbody tr th:only-of-type {\n",
       "        vertical-align: middle;\n",
       "    }\n",
       "\n",
       "    .dataframe tbody tr th {\n",
       "        vertical-align: top;\n",
       "    }\n",
       "\n",
       "    .dataframe thead th {\n",
       "        text-align: right;\n",
       "    }\n",
       "</style>\n",
       "<table border=\"1\" class=\"dataframe\">\n",
       "  <thead>\n",
       "    <tr style=\"text-align: right;\">\n",
       "      <th></th>\n",
       "      <th>count</th>\n",
       "      <th>mean</th>\n",
       "      <th>std</th>\n",
       "      <th>min</th>\n",
       "      <th>25%</th>\n",
       "      <th>50%</th>\n",
       "      <th>75%</th>\n",
       "      <th>max</th>\n",
       "    </tr>\n",
       "  </thead>\n",
       "  <tbody>\n",
       "    <tr>\n",
       "      <th>math_score</th>\n",
       "      <td>1000.0</td>\n",
       "      <td>66.089000</td>\n",
       "      <td>15.163080</td>\n",
       "      <td>0.0</td>\n",
       "      <td>57.000000</td>\n",
       "      <td>66.000000</td>\n",
       "      <td>77.000000</td>\n",
       "      <td>100.0</td>\n",
       "    </tr>\n",
       "    <tr>\n",
       "      <th>reading_score</th>\n",
       "      <td>1000.0</td>\n",
       "      <td>69.169000</td>\n",
       "      <td>14.600192</td>\n",
       "      <td>17.0</td>\n",
       "      <td>59.000000</td>\n",
       "      <td>70.000000</td>\n",
       "      <td>79.000000</td>\n",
       "      <td>100.0</td>\n",
       "    </tr>\n",
       "    <tr>\n",
       "      <th>writing_score</th>\n",
       "      <td>1000.0</td>\n",
       "      <td>68.054000</td>\n",
       "      <td>15.195657</td>\n",
       "      <td>10.0</td>\n",
       "      <td>57.750000</td>\n",
       "      <td>69.000000</td>\n",
       "      <td>79.000000</td>\n",
       "      <td>100.0</td>\n",
       "    </tr>\n",
       "    <tr>\n",
       "      <th>average_score</th>\n",
       "      <td>1000.0</td>\n",
       "      <td>67.770667</td>\n",
       "      <td>14.257326</td>\n",
       "      <td>9.0</td>\n",
       "      <td>58.333333</td>\n",
       "      <td>68.333333</td>\n",
       "      <td>77.666667</td>\n",
       "      <td>100.0</td>\n",
       "    </tr>\n",
       "  </tbody>\n",
       "</table>\n",
       "</div>"
      ],
      "text/plain": [
       "                count       mean        std   min        25%        50%  \\\n",
       "math_score     1000.0  66.089000  15.163080   0.0  57.000000  66.000000   \n",
       "reading_score  1000.0  69.169000  14.600192  17.0  59.000000  70.000000   \n",
       "writing_score  1000.0  68.054000  15.195657  10.0  57.750000  69.000000   \n",
       "average_score  1000.0  67.770667  14.257326   9.0  58.333333  68.333333   \n",
       "\n",
       "                     75%    max  \n",
       "math_score     77.000000  100.0  \n",
       "reading_score  79.000000  100.0  \n",
       "writing_score  79.000000  100.0  \n",
       "average_score  77.666667  100.0  "
      ]
     },
     "execution_count": 11,
     "metadata": {},
     "output_type": "execute_result"
    }
   ],
   "source": [
    "df.describe().T"
   ]
  },
  {
   "cell_type": "markdown",
   "metadata": {
    "papermill": {
     "duration": 0.034467,
     "end_time": "2021-04-15T07:12:48.609234",
     "exception": false,
     "start_time": "2021-04-15T07:12:48.574767",
     "status": "completed"
    },
    "tags": []
   },
   "source": [
    "<font color=blue>>> </font><b>score간 평균(mean)과 표준편차(std)가 매우 유사하다.</b>"
   ]
  },
  {
   "cell_type": "markdown",
   "metadata": {
    "papermill": {
     "duration": 0.032938,
     "end_time": "2021-04-15T07:12:48.676051",
     "exception": false,
     "start_time": "2021-04-15T07:12:48.643113",
     "status": "completed"
    },
    "tags": []
   },
   "source": [
    "<a id=\"9\"></a> <br>\n",
    "<h2 style =\"background:#c0f099;border:0;\">새 컬럼 \"grade\" 생성하고 학점 할당하기</h2>"
   ]
  },
  {
   "cell_type": "code",
   "execution_count": 12,
   "metadata": {
    "execution": {
     "iopub.execute_input": "2021-04-15T07:12:48.747550Z",
     "iopub.status.busy": "2021-04-15T07:12:48.746460Z",
     "iopub.status.idle": "2021-04-15T07:12:48.768916Z",
     "shell.execute_reply": "2021-04-15T07:12:48.769387Z"
    },
    "papermill": {
     "duration": 0.060323,
     "end_time": "2021-04-15T07:12:48.769594",
     "exception": false,
     "start_time": "2021-04-15T07:12:48.709271",
     "status": "completed"
    },
    "tags": []
   },
   "outputs": [],
   "source": [
    "def Grade(AverageScore):\n",
    "    if (AverageScore >= 80):return 'A'\n",
    "    if (AverageScore >= 70):return 'B'\n",
    "    if (AverageScore >= 60):return 'C'\n",
    "    if (AverageScore >= 50):return 'D'\n",
    "    if (AverageScore >= 40):return 'E'\n",
    "    else: return 'F'\n",
    "    \n",
    "df[\"grade\"] = df.apply(lambda x : Grade(x[\"average_score\"]), axis=1)"
   ]
  },
  {
   "cell_type": "markdown",
   "metadata": {
    "papermill": {
     "duration": 0.033537,
     "end_time": "2021-04-15T07:12:48.836510",
     "exception": false,
     "start_time": "2021-04-15T07:12:48.802973",
     "status": "completed"
    },
    "tags": []
   },
   "source": [
    "<a id = \"10\" ></a>"
   ]
  },
  {
   "cell_type": "markdown",
   "metadata": {
    "papermill": {
     "duration": 0.033249,
     "end_time": "2021-04-15T07:12:48.903806",
     "exception": false,
     "start_time": "2021-04-15T07:12:48.870557",
     "status": "completed"
    },
    "tags": []
   },
   "source": [
    "<a id=\"11\"></a> <br>\n",
    "<h2 style =\"background:#c0f099;border:0;\">grade 분포를 확인하기 위한 pie 그래프를 그려보자.</h2>"
   ]
  },
  {
   "cell_type": "code",
   "execution_count": 13,
   "metadata": {
    "execution": {
     "iopub.execute_input": "2021-04-15T07:12:48.975043Z",
     "iopub.status.busy": "2021-04-15T07:12:48.973992Z",
     "iopub.status.idle": "2021-04-15T07:12:49.127809Z",
     "shell.execute_reply": "2021-04-15T07:12:49.128270Z"
    },
    "papermill": {
     "duration": 0.191485,
     "end_time": "2021-04-15T07:12:49.128456",
     "exception": false,
     "start_time": "2021-04-15T07:12:48.936971",
     "status": "completed"
    },
    "tags": []
   },
   "outputs": [
    {
     "data": {
      "image/png": "[encoded data removed]",
      "text/plain": [
       "<Figure size 1008x504 with 1 Axes>"
      ]
     },
     "metadata": {},
     "output_type": "display_data"
    }
   ],
   "source": [
    "plt.figure(figsize=(14, 7))\n",
    "labels=df['grade'].value_counts().index\n",
    "plt.pie(df['grade'].value_counts().values,labels=labels,explode=[0.02,0.02,0.02,0.02,0.02,0.02],colors=[\"#EC6173\", \"#F1AE4A\", \"#E1DD6E\", \"#51A350\", \"#6964FF\", \"#BD63BE\"],\n",
    "        autopct='%1.1f%%', startangle=90)\n",
    "plt.title('Grade Pie Chart',fontsize=20,pad=40)\n",
    "plt.axis('equal')\n",
    "plt.show()"
   ]
  },
  {
   "cell_type": "markdown",
   "metadata": {
    "papermill": {
     "duration": 0.034192,
     "end_time": "2021-04-15T07:12:49.197361",
     "exception": false,
     "start_time": "2021-04-15T07:12:49.163169",
     "status": "completed"
    },
    "tags": []
   },
   "source": [
    "<font color=blue>>> </font><b> 대다수의 학생들이 \"B\", \"C\" grade를 받았다. (51.7%) 이는 위의 Dataframe description의 평균을 통해서도 확인할 수 있다.</b>"
   ]
  },
  {
   "cell_type": "markdown",
   "metadata": {
    "papermill": {
     "duration": 0.034098,
     "end_time": "2021-04-15T07:12:49.266574",
     "exception": false,
     "start_time": "2021-04-15T07:12:49.232476",
     "status": "completed"
    },
    "tags": []
   },
   "source": [
    "<a id=\"99\"></a> <br>\n",
    "<h2 style =\"background:#c0f099;border:0;\">Grades와 Gender를 비교해보자 </h2>"
   ]
  },
  {
   "cell_type": "code",
   "execution_count": 14,
   "metadata": {
    "_kg_hide-input": false,
    "execution": {
     "iopub.execute_input": "2021-04-15T07:12:49.340157Z",
     "iopub.status.busy": "2021-04-15T07:12:49.339165Z",
     "iopub.status.idle": "2021-04-15T07:12:49.641778Z",
     "shell.execute_reply": "2021-04-15T07:12:49.642241Z"
    },
    "papermill": {
     "duration": 0.341587,
     "end_time": "2021-04-15T07:12:49.642436",
     "exception": false,
     "start_time": "2021-04-15T07:12:49.300849",
     "status": "completed"
    },
    "tags": []
   },
   "outputs": [
    {
     "data": {
      "image/png": "[encoded data removed]",
      "text/plain": [
       "<Figure size 720x360 with 1 Axes>"
      ]
     },
     "metadata": {
      "needs_background": "light"
     },
     "output_type": "display_data"
    }
   ],
   "source": [
    "plt.figure(figsize=(10,5))\n",
    "ax = sns.countplot(y=\"grade\", hue=\"gender\", data=df, order=[\"A\",\"B\",\"C\",\"D\",\"E\",\"F\"], palette=\"tab20c_r\")\n",
    "plt.title('Gender vs Grades', fontsize=18,pad=20)\n",
    "plt.xlabel(\"Count\")\n",
    "plt.ylabel(\"Grade\")\n",
    "plt.show()"
   ]
  },
  {
   "cell_type": "markdown",
   "metadata": {
    "papermill": {
     "duration": 0.03517,
     "end_time": "2021-04-15T07:12:49.712895",
     "exception": false,
     "start_time": "2021-04-15T07:12:49.677725",
     "status": "completed"
    },
    "tags": []
   },
   "source": [
    "<a id=\"12\"></a> <br>\n",
    "<h2 style =\"background:#c0f099;border:0;\">Score Heatmap 확인해보기</h2>"
   ]
  },
  {
   "cell_type": "code",
   "execution_count": 15,
   "metadata": {
    "_kg_hide-input": false,
    "execution": {
     "iopub.execute_input": "2021-04-15T07:12:49.788239Z",
     "iopub.status.busy": "2021-04-15T07:12:49.787262Z",
     "iopub.status.idle": "2021-04-15T07:12:50.065773Z",
     "shell.execute_reply": "2021-04-15T07:12:50.066283Z"
    },
    "papermill": {
     "duration": 0.317997,
     "end_time": "2021-04-15T07:12:50.066500",
     "exception": false,
     "start_time": "2021-04-15T07:12:49.748503",
     "status": "completed"
    },
    "tags": []
   },
   "outputs": [
    {
     "data": {
      "image/png": "[encoded data removed]",
      "text/plain": [
       "<Figure size 504x504 with 2 Axes>"
      ]
     },
     "metadata": {
      "needs_background": "light"
     },
     "output_type": "display_data"
    }
   ],
   "source": [
    "plt.figure(figsize=(7,7))\n",
    "plt.title('Score Heatmap',color='Black',fontsize=20,pad=40)\n",
    "sns.heatmap(df.corr(),annot=True,linewidths=.5);"
   ]
  },
  {
   "cell_type": "markdown",
   "metadata": {
    "papermill": {
     "duration": 0.038846,
     "end_time": "2021-04-15T07:12:50.143020",
     "exception": false,
     "start_time": "2021-04-15T07:12:50.104174",
     "status": "completed"
    },
    "tags": []
   },
   "source": [
    "<font color=blue>>> </font><b> score들이 서로 관련성이 높은 것을 볼 수 있다. 학생들은 math,reading,writing 3가지 분야에서 평균적인 성공을 거둔 것으로 보인다.</b>"
   ]
  },
  {
   "cell_type": "markdown",
   "metadata": {
    "papermill": {
     "duration": 0.036195,
     "end_time": "2021-04-15T07:12:50.216003",
     "exception": false,
     "start_time": "2021-04-15T07:12:50.179808",
     "status": "completed"
    },
    "tags": []
   },
   "source": [
    "<a id=\"13\"></a> <br>\n",
    "<center><h1 style =\"background: #e60000;border:0;color:white\">What I want to know</h1></center><br>"
   ]
  },
  {
   "cell_type": "markdown",
   "metadata": {
    "papermill": {
     "duration": 0.036296,
     "end_time": "2021-04-15T07:12:50.288872",
     "exception": false,
     "start_time": "2021-04-15T07:12:50.252576",
     "status": "completed"
    },
    "tags": []
   },
   "source": [
    "<a id=\"14\"></a> <br>\n",
    "<h2 style =\"background:#9cfefa;border:0;\"><font color=\"grey\">Q1: </font> Average score에 gender과 education이 미치는 영향은 무엇인가?</h2>"
   ]
  },
  {
   "cell_type": "code",
   "execution_count": 16,
   "metadata": {
    "_kg_hide-input": false,
    "execution": {
     "iopub.execute_input": "2021-04-15T07:12:50.367838Z",
     "iopub.status.busy": "2021-04-15T07:12:50.366791Z",
     "iopub.status.idle": "2021-04-15T07:12:51.137731Z",
     "shell.execute_reply": "2021-04-15T07:12:51.138258Z"
    },
    "papermill": {
     "duration": 0.812135,
     "end_time": "2021-04-15T07:12:51.138444",
     "exception": false,
     "start_time": "2021-04-15T07:12:50.326309",
     "status": "completed"
    },
    "tags": []
   },
   "outputs": [
    {
     "data": {
      "image/png": "[encoded data removed]",
      "text/plain": [
       "<Figure size 489.375x360 with 1 Axes>"
      ]
     },
     "metadata": {
      "needs_background": "light"
     },
     "output_type": "display_data"
    }
   ],
   "source": [
    "sns.catplot(data=df,x=\"gender\",y=\"average_score\",hue=\"education_level\",kind=\"bar\",height=5, palette=\"CMRmap\");"
   ]
  },
  {
   "cell_type": "markdown",
   "metadata": {
    "papermill": {
     "duration": 0.038579,
     "end_time": "2021-04-15T07:12:51.217096",
     "exception": false,
     "start_time": "2021-04-15T07:12:51.178517",
     "status": "completed"
    },
    "tags": []
   },
   "source": [
    "<font color=blue>>></font><b>여성의 경우 bachelor's degree(학사 학위), master's degree(석사 학위)를 가진 여성의 average score가 더 높으며 남성의 경우는 master's degree를 가진 경우 average score가 높지만 bachelor's degree의 경우 그렇지 않았다. </b>"
   ]
  },
  {
   "cell_type": "markdown",
   "metadata": {
    "papermill": {
     "duration": 0.038164,
     "end_time": "2021-04-15T07:12:51.293187",
     "exception": false,
     "start_time": "2021-04-15T07:12:51.255023",
     "status": "completed"
    },
    "tags": []
   },
   "source": [
    "### -----------------------------------------------------------------------------------------"
   ]
  },
  {
   "cell_type": "markdown",
   "metadata": {
    "papermill": {
     "duration": 0.037696,
     "end_time": "2021-04-15T07:12:51.368805",
     "exception": false,
     "start_time": "2021-04-15T07:12:51.331109",
     "status": "completed"
    },
    "tags": []
   },
   "source": [
    "<a id=\"15\"></a> <br>\n",
    "<h2 style =\"background:#9cfefa;border:0;\"><font color=\"grey\">Q2: </font>Average score에 gender와 test preparation course가 미치는 영향은 무엇인가?</h2>"
   ]
  },
  {
   "cell_type": "code",
   "execution_count": 17,
   "metadata": {
    "_kg_hide-input": false,
    "execution": {
     "iopub.execute_input": "2021-04-15T07:12:51.448382Z",
     "iopub.status.busy": "2021-04-15T07:12:51.447621Z",
     "iopub.status.idle": "2021-04-15T07:12:51.888397Z",
     "shell.execute_reply": "2021-04-15T07:12:51.888928Z"
    },
    "papermill": {
     "duration": 0.482498,
     "end_time": "2021-04-15T07:12:51.889129",
     "exception": false,
     "start_time": "2021-04-15T07:12:51.406631",
     "status": "completed"
    },
    "tags": []
   },
   "outputs": [
    {
     "data": {
      "image/png": "[encoded data removed]",
      "text/plain": [
       "<Figure size 448.75x360 with 1 Axes>"
      ]
     },
     "metadata": {
      "needs_background": "light"
     },
     "output_type": "display_data"
    }
   ],
   "source": [
    "sns.catplot(data=df,x=\"gender\",y=\"average_score\",hue=\"prep_course\",kind=\"bar\",height=5,palette=\"CMRmap\");"
   ]
  },
  {
   "cell_type": "markdown",
   "metadata": {
    "papermill": {
     "duration": 0.039392,
     "end_time": "2021-04-15T07:12:51.970465",
     "exception": false,
     "start_time": "2021-04-15T07:12:51.931073",
     "status": "completed"
    },
    "tags": []
   },
   "source": [
    "<font color=blue>>> </font><b>preparation course를 수행한 학생들의 average score가 더 높았다. 그러나 그 차이는 그렇게 크지 않다.</b>"
   ]
  },
  {
   "cell_type": "markdown",
   "metadata": {
    "papermill": {
     "duration": 0.039642,
     "end_time": "2021-04-15T07:12:52.050476",
     "exception": false,
     "start_time": "2021-04-15T07:12:52.010834",
     "status": "completed"
    },
    "tags": []
   },
   "source": [
    "### -----------------------------------------------------------------------------------------"
   ]
  },
  {
   "cell_type": "markdown",
   "metadata": {
    "papermill": {
     "duration": 0.039597,
     "end_time": "2021-04-15T07:12:52.131169",
     "exception": false,
     "start_time": "2021-04-15T07:12:52.091572",
     "status": "completed"
    },
    "tags": []
   },
   "source": [
    "<a id = \"16\" ></a>\n",
    "<h2 style =\"background:#9cfefa;border:0;\"><font color=\"grey\">Q3:</font>  Average_score를 기준으로 어떤 group이 가장 성공적인가?</h2>\n"
   ]
  },
  {
   "cell_type": "code",
   "execution_count": 18,
   "metadata": {
    "_kg_hide-input": false,
    "execution": {
     "iopub.execute_input": "2021-04-15T07:12:52.212088Z",
     "iopub.status.busy": "2021-04-15T07:12:52.211270Z",
     "iopub.status.idle": "2021-04-15T07:12:52.518714Z",
     "shell.execute_reply": "2021-04-15T07:12:52.519336Z"
    },
    "papermill": {
     "duration": 0.349711,
     "end_time": "2021-04-15T07:12:52.519517",
     "exception": false,
     "start_time": "2021-04-15T07:12:52.169806",
     "status": "completed"
    },
    "tags": []
   },
   "outputs": [
    {
     "data": {
      "image/png": "[encoded data removed]",
      "text/plain": [
       "<Figure size 432x288 with 1 Axes>"
      ]
     },
     "metadata": {
      "needs_background": "light"
     },
     "output_type": "display_data"
    }
   ],
   "source": [
    "sns.barplot(x='race_ethnicity',y='average_score',data=df,palette=\"CMRmap\");"
   ]
  },
  {
   "cell_type": "markdown",
   "metadata": {
    "papermill": {
     "duration": 0.039142,
     "end_time": "2021-04-15T07:12:52.598101",
     "exception": false,
     "start_time": "2021-04-15T07:12:52.558959",
     "status": "completed"
    },
    "tags": []
   },
   "source": [
    "<font color=blue>>> </font><b>group E가 가장 average score가 높은 성공적인 그룹이다. 그 이유에 대해 알아보자. </b>"
   ]
  },
  {
   "cell_type": "code",
   "execution_count": 19,
   "metadata": {
    "_kg_hide-input": false,
    "execution": {
     "iopub.execute_input": "2021-04-15T07:12:52.681163Z",
     "iopub.status.busy": "2021-04-15T07:12:52.680215Z",
     "iopub.status.idle": "2021-04-15T07:12:52.726888Z",
     "shell.execute_reply": "2021-04-15T07:12:52.726270Z"
    },
    "papermill": {
     "duration": 0.089134,
     "end_time": "2021-04-15T07:12:52.727039",
     "exception": false,
     "start_time": "2021-04-15T07:12:52.637905",
     "status": "completed"
    },
    "tags": []
   },
   "outputs": [
    {
     "data": {
      "text/html": [
       "<div>\n",
       "<style scoped>\n",
       "    .dataframe tbody tr th:only-of-type {\n",
       "        vertical-align: middle;\n",
       "    }\n",
       "\n",
       "    .dataframe tbody tr th {\n",
       "        vertical-align: top;\n",
       "    }\n",
       "\n",
       "    .dataframe thead th {\n",
       "        text-align: right;\n",
       "    }\n",
       "</style>\n",
       "<table border=\"1\" class=\"dataframe\">\n",
       "  <thead>\n",
       "    <tr style=\"text-align: right;\">\n",
       "      <th></th>\n",
       "      <th>count</th>\n",
       "      <th>unique</th>\n",
       "      <th>top</th>\n",
       "      <th>freq</th>\n",
       "    </tr>\n",
       "    <tr>\n",
       "      <th>race_ethnicity</th>\n",
       "      <th></th>\n",
       "      <th></th>\n",
       "      <th></th>\n",
       "      <th></th>\n",
       "    </tr>\n",
       "  </thead>\n",
       "  <tbody>\n",
       "    <tr>\n",
       "      <th>group A</th>\n",
       "      <td>89</td>\n",
       "      <td>6</td>\n",
       "      <td>some high school</td>\n",
       "      <td>24</td>\n",
       "    </tr>\n",
       "    <tr>\n",
       "      <th>group B</th>\n",
       "      <td>190</td>\n",
       "      <td>6</td>\n",
       "      <td>high school</td>\n",
       "      <td>48</td>\n",
       "    </tr>\n",
       "    <tr>\n",
       "      <th>group C</th>\n",
       "      <td>319</td>\n",
       "      <td>6</td>\n",
       "      <td>associate's degree</td>\n",
       "      <td>78</td>\n",
       "    </tr>\n",
       "    <tr>\n",
       "      <th>group D</th>\n",
       "      <td>262</td>\n",
       "      <td>6</td>\n",
       "      <td>some college</td>\n",
       "      <td>67</td>\n",
       "    </tr>\n",
       "    <tr>\n",
       "      <th>group E</th>\n",
       "      <td>140</td>\n",
       "      <td>6</td>\n",
       "      <td>associate's degree</td>\n",
       "      <td>39</td>\n",
       "    </tr>\n",
       "  </tbody>\n",
       "</table>\n",
       "</div>"
      ],
      "text/plain": [
       "               count unique                 top freq\n",
       "race_ethnicity                                      \n",
       "group A           89      6    some high school   24\n",
       "group B          190      6         high school   48\n",
       "group C          319      6  associate's degree   78\n",
       "group D          262      6        some college   67\n",
       "group E          140      6  associate's degree   39"
      ]
     },
     "execution_count": 19,
     "metadata": {},
     "output_type": "execute_result"
    }
   ],
   "source": [
    "df.groupby(\"race_ethnicity\")[\"education_level\"].describe()"
   ]
  },
  {
   "cell_type": "code",
   "execution_count": 20,
   "metadata": {
    "_kg_hide-input": false,
    "execution": {
     "iopub.execute_input": "2021-04-15T07:12:52.838392Z",
     "iopub.status.busy": "2021-04-15T07:12:52.837359Z",
     "iopub.status.idle": "2021-04-15T07:12:52.842421Z",
     "shell.execute_reply": "2021-04-15T07:12:52.841695Z"
    },
    "papermill": {
     "duration": 0.074537,
     "end_time": "2021-04-15T07:12:52.842601",
     "exception": false,
     "start_time": "2021-04-15T07:12:52.768064",
     "status": "completed"
    },
    "tags": []
   },
   "outputs": [
    {
     "data": {
      "text/html": [
       "<div>\n",
       "<style scoped>\n",
       "    .dataframe tbody tr th:only-of-type {\n",
       "        vertical-align: middle;\n",
       "    }\n",
       "\n",
       "    .dataframe tbody tr th {\n",
       "        vertical-align: top;\n",
       "    }\n",
       "\n",
       "    .dataframe thead th {\n",
       "        text-align: right;\n",
       "    }\n",
       "</style>\n",
       "<table border=\"1\" class=\"dataframe\">\n",
       "  <thead>\n",
       "    <tr style=\"text-align: right;\">\n",
       "      <th></th>\n",
       "      <th>count</th>\n",
       "      <th>unique</th>\n",
       "      <th>top</th>\n",
       "      <th>freq</th>\n",
       "    </tr>\n",
       "    <tr>\n",
       "      <th>race_ethnicity</th>\n",
       "      <th></th>\n",
       "      <th></th>\n",
       "      <th></th>\n",
       "      <th></th>\n",
       "    </tr>\n",
       "  </thead>\n",
       "  <tbody>\n",
       "    <tr>\n",
       "      <th>group A</th>\n",
       "      <td>89</td>\n",
       "      <td>2</td>\n",
       "      <td>none</td>\n",
       "      <td>58</td>\n",
       "    </tr>\n",
       "    <tr>\n",
       "      <th>group B</th>\n",
       "      <td>190</td>\n",
       "      <td>2</td>\n",
       "      <td>none</td>\n",
       "      <td>122</td>\n",
       "    </tr>\n",
       "    <tr>\n",
       "      <th>group C</th>\n",
       "      <td>319</td>\n",
       "      <td>2</td>\n",
       "      <td>none</td>\n",
       "      <td>202</td>\n",
       "    </tr>\n",
       "    <tr>\n",
       "      <th>group D</th>\n",
       "      <td>262</td>\n",
       "      <td>2</td>\n",
       "      <td>none</td>\n",
       "      <td>180</td>\n",
       "    </tr>\n",
       "    <tr>\n",
       "      <th>group E</th>\n",
       "      <td>140</td>\n",
       "      <td>2</td>\n",
       "      <td>none</td>\n",
       "      <td>80</td>\n",
       "    </tr>\n",
       "  </tbody>\n",
       "</table>\n",
       "</div>"
      ],
      "text/plain": [
       "               count unique   top freq\n",
       "race_ethnicity                        \n",
       "group A           89      2  none   58\n",
       "group B          190      2  none  122\n",
       "group C          319      2  none  202\n",
       "group D          262      2  none  180\n",
       "group E          140      2  none   80"
      ]
     },
     "execution_count": 20,
     "metadata": {},
     "output_type": "execute_result"
    }
   ],
   "source": [
    "df.groupby(\"race_ethnicity\")[\"prep_course\"].describe()"
   ]
  },
  {
   "cell_type": "code",
   "execution_count": 21,
   "metadata": {
    "execution": {
     "iopub.execute_input": "2021-04-15T07:12:52.932024Z",
     "iopub.status.busy": "2021-04-15T07:12:52.931298Z",
     "iopub.status.idle": "2021-04-15T07:12:52.953961Z",
     "shell.execute_reply": "2021-04-15T07:12:52.954478Z"
    },
    "papermill": {
     "duration": 0.069344,
     "end_time": "2021-04-15T07:12:52.954686",
     "exception": false,
     "start_time": "2021-04-15T07:12:52.885342",
     "status": "completed"
    },
    "tags": []
   },
   "outputs": [
    {
     "data": {
      "text/html": [
       "<div>\n",
       "<style scoped>\n",
       "    .dataframe tbody tr th:only-of-type {\n",
       "        vertical-align: middle;\n",
       "    }\n",
       "\n",
       "    .dataframe tbody tr th {\n",
       "        vertical-align: top;\n",
       "    }\n",
       "\n",
       "    .dataframe thead th {\n",
       "        text-align: right;\n",
       "    }\n",
       "</style>\n",
       "<table border=\"1\" class=\"dataframe\">\n",
       "  <thead>\n",
       "    <tr style=\"text-align: right;\">\n",
       "      <th></th>\n",
       "      <th>count</th>\n",
       "      <th>unique</th>\n",
       "      <th>top</th>\n",
       "      <th>freq</th>\n",
       "    </tr>\n",
       "    <tr>\n",
       "      <th>race_ethnicity</th>\n",
       "      <th></th>\n",
       "      <th></th>\n",
       "      <th></th>\n",
       "      <th></th>\n",
       "    </tr>\n",
       "  </thead>\n",
       "  <tbody>\n",
       "    <tr>\n",
       "      <th>group A</th>\n",
       "      <td>89</td>\n",
       "      <td>6</td>\n",
       "      <td>C</td>\n",
       "      <td>24</td>\n",
       "    </tr>\n",
       "    <tr>\n",
       "      <th>group B</th>\n",
       "      <td>190</td>\n",
       "      <td>6</td>\n",
       "      <td>C</td>\n",
       "      <td>58</td>\n",
       "    </tr>\n",
       "    <tr>\n",
       "      <th>group C</th>\n",
       "      <td>319</td>\n",
       "      <td>6</td>\n",
       "      <td>B</td>\n",
       "      <td>87</td>\n",
       "    </tr>\n",
       "    <tr>\n",
       "      <th>group D</th>\n",
       "      <td>262</td>\n",
       "      <td>6</td>\n",
       "      <td>B</td>\n",
       "      <td>79</td>\n",
       "    </tr>\n",
       "    <tr>\n",
       "      <th>group E</th>\n",
       "      <td>140</td>\n",
       "      <td>6</td>\n",
       "      <td>A</td>\n",
       "      <td>44</td>\n",
       "    </tr>\n",
       "  </tbody>\n",
       "</table>\n",
       "</div>"
      ],
      "text/plain": [
       "               count unique top freq\n",
       "race_ethnicity                      \n",
       "group A           89      6   C   24\n",
       "group B          190      6   C   58\n",
       "group C          319      6   B   87\n",
       "group D          262      6   B   79\n",
       "group E          140      6   A   44"
      ]
     },
     "execution_count": 21,
     "metadata": {},
     "output_type": "execute_result"
    }
   ],
   "source": [
    "df.groupby(\"race_ethnicity\")[\"grade\"].describe()"
   ]
  },
  {
   "cell_type": "markdown",
   "metadata": {
    "papermill": {
     "duration": 0.042779,
     "end_time": "2021-04-15T07:12:53.039189",
     "exception": false,
     "start_time": "2021-04-15T07:12:52.996410",
     "status": "completed"
    },
    "tags": []
   },
   "source": [
    "<font color=blue>>> </font><b> Group E의 \"education_level, prep_course, grade\" 데이터를 살펴본 결과, education_level, prep_course를 통해서는 어떤 것도 찾지 못했으나 \n",
    "grade를 확인한 결과, group E의 A 학점을 받은 비율이 61.6%로 매우 높은 것을 확인할 수 있었고 이것이 groupE의 average score가 높은 원인이었다.\n",
    "</b>\n",
    "\n",
    "<b>group별 데이터 분포도 살펴보자</b>"
   ]
  },
  {
   "cell_type": "code",
   "execution_count": 22,
   "metadata": {
    "_kg_hide-input": false,
    "execution": {
     "iopub.execute_input": "2021-04-15T07:12:53.129508Z",
     "iopub.status.busy": "2021-04-15T07:12:53.128817Z",
     "iopub.status.idle": "2021-04-15T07:12:53.566331Z",
     "shell.execute_reply": "2021-04-15T07:12:53.566845Z"
    },
    "papermill": {
     "duration": 0.484807,
     "end_time": "2021-04-15T07:12:53.567044",
     "exception": false,
     "start_time": "2021-04-15T07:12:53.082237",
     "status": "completed"
    },
    "tags": []
   },
   "outputs": [
    {
     "data": {
      "image/png": "[encoded data removed]",
      "text/plain": [
       "<Figure size 438.625x360 with 1 Axes>"
      ]
     },
     "metadata": {
      "needs_background": "light"
     },
     "output_type": "display_data"
    }
   ],
   "source": [
    "(sns\n",
    " .FacetGrid(df,\n",
    "              hue=\"race_ethnicity\",palette=\"CMRmap\",\n",
    "              height=5,\n",
    "              xlim = (0,100))\n",
    " .map(sns.kdeplot, \"average_score\")\n",
    " .add_legend());"
   ]
  },
  {
   "cell_type": "markdown",
   "metadata": {
    "papermill": {
     "duration": 0.043738,
     "end_time": "2021-04-15T07:12:53.656752",
     "exception": false,
     "start_time": "2021-04-15T07:12:53.613014",
     "status": "completed"
    },
    "tags": []
   },
   "source": [
    "<font color=blue>>> </font><b>group E가 다른 그룹에 비해 average_score가 높다.</b>"
   ]
  },
  {
   "cell_type": "code",
   "execution_count": 23,
   "metadata": {
    "_kg_hide-input": false,
    "execution": {
     "iopub.execute_input": "2021-04-15T07:12:53.751455Z",
     "iopub.status.busy": "2021-04-15T07:12:53.750633Z",
     "iopub.status.idle": "2021-04-15T07:12:55.278268Z",
     "shell.execute_reply": "2021-04-15T07:12:55.277682Z"
    },
    "papermill": {
     "duration": 1.578744,
     "end_time": "2021-04-15T07:12:55.278419",
     "exception": false,
     "start_time": "2021-04-15T07:12:53.699675",
     "status": "completed"
    },
    "tags": []
   },
   "outputs": [
    {
     "data": {
      "image/png": "[encoded data removed]",
      "text/plain": [
       "<Figure size 403.75x360 with 1 Axes>"
      ]
     },
     "metadata": {
      "needs_background": "light"
     },
     "output_type": "display_data"
    }
   ],
   "source": [
    "sns.catplot(x=\"race_ethnicity\",y=\"average_score\",hue=\"grade\",kind=\"point\",data=df,palette=\"CMRmap\");"
   ]
  },
  {
   "cell_type": "markdown",
   "metadata": {
    "papermill": {
     "duration": 0.043697,
     "end_time": "2021-04-15T07:12:55.366489",
     "exception": false,
     "start_time": "2021-04-15T07:12:55.322792",
     "status": "completed"
    },
    "tags": []
   },
   "source": [
    "<font color=blue>>> </font><b>group E를 잘 보면, 성적이 낮은 학생은 적고 성적이 높은 학생은 많다는 것을 알 수 있다.</b>"
   ]
  },
  {
   "cell_type": "markdown",
   "metadata": {
    "papermill": {
     "duration": 0.044187,
     "end_time": "2021-04-15T07:12:55.543117",
     "exception": false,
     "start_time": "2021-04-15T07:12:55.498930",
     "status": "completed"
    },
    "tags": []
   },
   "source": [
    "\n",
    "<center><h2 style =\"background:#fddcc6;border:0;\">추가내용</h2></center>"
   ]
  },
  {
   "cell_type": "code",
   "execution_count": 24,
   "metadata": {
    "papermill": {
     "duration": 0.043726,
     "end_time": "2021-04-15T07:12:55.631301",
     "exception": false,
     "start_time": "2021-04-15T07:12:55.587575",
     "status": "completed"
    },
    "tags": []
   },
   "outputs": [
    {
     "data": {
      "text/html": [
       "<div>\n",
       "<style scoped>\n",
       "    .dataframe tbody tr th:only-of-type {\n",
       "        vertical-align: middle;\n",
       "    }\n",
       "\n",
       "    .dataframe tbody tr th {\n",
       "        vertical-align: top;\n",
       "    }\n",
       "\n",
       "    .dataframe thead th {\n",
       "        text-align: right;\n",
       "    }\n",
       "</style>\n",
       "<table border=\"1\" class=\"dataframe\">\n",
       "  <thead>\n",
       "    <tr style=\"text-align: right;\">\n",
       "      <th></th>\n",
       "      <th>gender</th>\n",
       "      <th>race_ethnicity</th>\n",
       "      <th>education_level</th>\n",
       "      <th>lunch</th>\n",
       "      <th>prep_course</th>\n",
       "      <th>math_score</th>\n",
       "      <th>reading_score</th>\n",
       "      <th>writing_score</th>\n",
       "      <th>average_score</th>\n",
       "      <th>grade</th>\n",
       "    </tr>\n",
       "  </thead>\n",
       "  <tbody>\n",
       "    <tr>\n",
       "      <th>0</th>\n",
       "      <td>female</td>\n",
       "      <td>group B</td>\n",
       "      <td>bachelor's degree</td>\n",
       "      <td>standard</td>\n",
       "      <td>none</td>\n",
       "      <td>72</td>\n",
       "      <td>72</td>\n",
       "      <td>74</td>\n",
       "      <td>72.666667</td>\n",
       "      <td>B</td>\n",
       "    </tr>\n",
       "    <tr>\n",
       "      <th>1</th>\n",
       "      <td>female</td>\n",
       "      <td>group C</td>\n",
       "      <td>some college</td>\n",
       "      <td>standard</td>\n",
       "      <td>completed</td>\n",
       "      <td>69</td>\n",
       "      <td>90</td>\n",
       "      <td>88</td>\n",
       "      <td>82.333333</td>\n",
       "      <td>A</td>\n",
       "    </tr>\n",
       "    <tr>\n",
       "      <th>2</th>\n",
       "      <td>female</td>\n",
       "      <td>group B</td>\n",
       "      <td>master's degree</td>\n",
       "      <td>standard</td>\n",
       "      <td>none</td>\n",
       "      <td>90</td>\n",
       "      <td>95</td>\n",
       "      <td>93</td>\n",
       "      <td>92.666667</td>\n",
       "      <td>A</td>\n",
       "    </tr>\n",
       "    <tr>\n",
       "      <th>3</th>\n",
       "      <td>male</td>\n",
       "      <td>group A</td>\n",
       "      <td>associate's degree</td>\n",
       "      <td>free/reduced</td>\n",
       "      <td>none</td>\n",
       "      <td>47</td>\n",
       "      <td>57</td>\n",
       "      <td>44</td>\n",
       "      <td>49.333333</td>\n",
       "      <td>E</td>\n",
       "    </tr>\n",
       "    <tr>\n",
       "      <th>4</th>\n",
       "      <td>male</td>\n",
       "      <td>group C</td>\n",
       "      <td>some college</td>\n",
       "      <td>standard</td>\n",
       "      <td>none</td>\n",
       "      <td>76</td>\n",
       "      <td>78</td>\n",
       "      <td>75</td>\n",
       "      <td>76.333333</td>\n",
       "      <td>B</td>\n",
       "    </tr>\n",
       "  </tbody>\n",
       "</table>\n",
       "</div>"
      ],
      "text/plain": [
       "   gender race_ethnicity     education_level         lunch prep_course  \\\n",
       "0  female        group B   bachelor's degree      standard        none   \n",
       "1  female        group C        some college      standard   completed   \n",
       "2  female        group B     master's degree      standard        none   \n",
       "3    male        group A  associate's degree  free/reduced        none   \n",
       "4    male        group C        some college      standard        none   \n",
       "\n",
       "   math_score  reading_score  writing_score  average_score grade  \n",
       "0          72             72             74      72.666667     B  \n",
       "1          69             90             88      82.333333     A  \n",
       "2          90             95             93      92.666667     A  \n",
       "3          47             57             44      49.333333     E  \n",
       "4          76             78             75      76.333333     B  "
      ]
     },
     "execution_count": 24,
     "metadata": {},
     "output_type": "execute_result"
    }
   ],
   "source": [
    "df.head()"
   ]
  },
  {
   "cell_type": "markdown",
   "metadata": {},
   "source": [
    "부모의 educational level과 자식의 average_score의 관계를 살펴보자.\n"
   ]
  },
  {
   "cell_type": "markdown",
   "metadata": {},
   "source": [
    "먼저, 카테고리형 변수인 educational_level을 수치형으로 변경하자."
   ]
  },
  {
   "cell_type": "code",
   "execution_count": 25,
   "metadata": {},
   "outputs": [
    {
     "data": {
      "text/plain": [
       "array([\"bachelor's degree\", 'some college', \"master's degree\",\n",
       "       \"associate's degree\", 'high school', 'some high school'],\n",
       "      dtype=object)"
      ]
     },
     "execution_count": 25,
     "metadata": {},
     "output_type": "execute_result"
    }
   ],
   "source": [
    "df['education_level'].unique()"
   ]
  },
  {
   "cell_type": "markdown",
   "metadata": {},
   "source": [
    "가장 학력이 높은 master's degree부터 bachelor's degree, some college, associate's degree, high school, some high school 순서대로 6부터 1까지 점수를 매긴 새 컬럼 parents education을 생성하자."
   ]
  },
  {
   "cell_type": "code",
   "execution_count": 26,
   "metadata": {},
   "outputs": [],
   "source": [
    "for i in range(len(df)):\n",
    "    if df.loc[i,'education_level'] == \"master's degree\":\n",
    "        df.loc[i,'parent_education'] = 6\n",
    "    \n",
    "    elif df.loc[i, 'education_level'] == \"bachelor's degree\":\n",
    "        df.loc[i,'parent_education'] = 5\n",
    "    \n",
    "    elif df.loc[i,'education_level'] == 'some college':\n",
    "        df.loc[i,'parent_education'] = 4\n",
    "    \n",
    "    elif df.loc[i,'education_level'] == \"associate's degree\":\n",
    "        df.loc[i,'parent_education'] = 3\n",
    "    \n",
    "    elif df.loc[i,'education_level'] == 'high school':\n",
    "        df.loc[i,'parent_education'] = 2\n",
    "    \n",
    "    else:\n",
    "        df.loc[i,'education_level'] = 1\n",
    "        "
   ]
  },
  {
   "cell_type": "code",
   "execution_count": 27,
   "metadata": {},
   "outputs": [
    {
     "data": {
      "text/html": [
       "<div>\n",
       "<style scoped>\n",
       "    .dataframe tbody tr th:only-of-type {\n",
       "        vertical-align: middle;\n",
       "    }\n",
       "\n",
       "    .dataframe tbody tr th {\n",
       "        vertical-align: top;\n",
       "    }\n",
       "\n",
       "    .dataframe thead th {\n",
       "        text-align: right;\n",
       "    }\n",
       "</style>\n",
       "<table border=\"1\" class=\"dataframe\">\n",
       "  <thead>\n",
       "    <tr style=\"text-align: right;\">\n",
       "      <th></th>\n",
       "      <th>gender</th>\n",
       "      <th>race_ethnicity</th>\n",
       "      <th>education_level</th>\n",
       "      <th>lunch</th>\n",
       "      <th>prep_course</th>\n",
       "      <th>math_score</th>\n",
       "      <th>reading_score</th>\n",
       "      <th>writing_score</th>\n",
       "      <th>average_score</th>\n",
       "      <th>grade</th>\n",
       "      <th>parent_education</th>\n",
       "    </tr>\n",
       "  </thead>\n",
       "  <tbody>\n",
       "    <tr>\n",
       "      <th>0</th>\n",
       "      <td>female</td>\n",
       "      <td>group B</td>\n",
       "      <td>bachelor's degree</td>\n",
       "      <td>standard</td>\n",
       "      <td>none</td>\n",
       "      <td>72</td>\n",
       "      <td>72</td>\n",
       "      <td>74</td>\n",
       "      <td>72.666667</td>\n",
       "      <td>B</td>\n",
       "      <td>5.0</td>\n",
       "    </tr>\n",
       "    <tr>\n",
       "      <th>1</th>\n",
       "      <td>female</td>\n",
       "      <td>group C</td>\n",
       "      <td>some college</td>\n",
       "      <td>standard</td>\n",
       "      <td>completed</td>\n",
       "      <td>69</td>\n",
       "      <td>90</td>\n",
       "      <td>88</td>\n",
       "      <td>82.333333</td>\n",
       "      <td>A</td>\n",
       "      <td>4.0</td>\n",
       "    </tr>\n",
       "    <tr>\n",
       "      <th>2</th>\n",
       "      <td>female</td>\n",
       "      <td>group B</td>\n",
       "      <td>master's degree</td>\n",
       "      <td>standard</td>\n",
       "      <td>none</td>\n",
       "      <td>90</td>\n",
       "      <td>95</td>\n",
       "      <td>93</td>\n",
       "      <td>92.666667</td>\n",
       "      <td>A</td>\n",
       "      <td>6.0</td>\n",
       "    </tr>\n",
       "    <tr>\n",
       "      <th>3</th>\n",
       "      <td>male</td>\n",
       "      <td>group A</td>\n",
       "      <td>associate's degree</td>\n",
       "      <td>free/reduced</td>\n",
       "      <td>none</td>\n",
       "      <td>47</td>\n",
       "      <td>57</td>\n",
       "      <td>44</td>\n",
       "      <td>49.333333</td>\n",
       "      <td>E</td>\n",
       "      <td>3.0</td>\n",
       "    </tr>\n",
       "    <tr>\n",
       "      <th>4</th>\n",
       "      <td>male</td>\n",
       "      <td>group C</td>\n",
       "      <td>some college</td>\n",
       "      <td>standard</td>\n",
       "      <td>none</td>\n",
       "      <td>76</td>\n",
       "      <td>78</td>\n",
       "      <td>75</td>\n",
       "      <td>76.333333</td>\n",
       "      <td>B</td>\n",
       "      <td>4.0</td>\n",
       "    </tr>\n",
       "  </tbody>\n",
       "</table>\n",
       "</div>"
      ],
      "text/plain": [
       "   gender race_ethnicity     education_level         lunch prep_course  \\\n",
       "0  female        group B   bachelor's degree      standard        none   \n",
       "1  female        group C        some college      standard   completed   \n",
       "2  female        group B     master's degree      standard        none   \n",
       "3    male        group A  associate's degree  free/reduced        none   \n",
       "4    male        group C        some college      standard        none   \n",
       "\n",
       "   math_score  reading_score  writing_score  average_score grade  \\\n",
       "0          72             72             74      72.666667     B   \n",
       "1          69             90             88      82.333333     A   \n",
       "2          90             95             93      92.666667     A   \n",
       "3          47             57             44      49.333333     E   \n",
       "4          76             78             75      76.333333     B   \n",
       "\n",
       "   parent_education  \n",
       "0               5.0  \n",
       "1               4.0  \n",
       "2               6.0  \n",
       "3               3.0  \n",
       "4               4.0  "
      ]
     },
     "execution_count": 27,
     "metadata": {},
     "output_type": "execute_result"
    }
   ],
   "source": [
    "df.head()"
   ]
  },
  {
   "cell_type": "markdown",
   "metadata": {},
   "source": [
    "이제 데이터프레임에서 수치형 자료만 추출한 새 데이터프레임 df_num을 만들고, parent education과 average score의 scatterplot을 그려보자."
   ]
  },
  {
   "cell_type": "code",
   "execution_count": 28,
   "metadata": {},
   "outputs": [
    {
     "data": {
      "text/html": [
       "<div>\n",
       "<style scoped>\n",
       "    .dataframe tbody tr th:only-of-type {\n",
       "        vertical-align: middle;\n",
       "    }\n",
       "\n",
       "    .dataframe tbody tr th {\n",
       "        vertical-align: top;\n",
       "    }\n",
       "\n",
       "    .dataframe thead th {\n",
       "        text-align: right;\n",
       "    }\n",
       "</style>\n",
       "<table border=\"1\" class=\"dataframe\">\n",
       "  <thead>\n",
       "    <tr style=\"text-align: right;\">\n",
       "      <th></th>\n",
       "      <th>math_score</th>\n",
       "      <th>reading_score</th>\n",
       "      <th>writing_score</th>\n",
       "      <th>average_score</th>\n",
       "      <th>parent_education</th>\n",
       "      <th>grade</th>\n",
       "    </tr>\n",
       "  </thead>\n",
       "  <tbody>\n",
       "    <tr>\n",
       "      <th>0</th>\n",
       "      <td>72</td>\n",
       "      <td>72</td>\n",
       "      <td>74</td>\n",
       "      <td>72.666667</td>\n",
       "      <td>5.0</td>\n",
       "      <td>B</td>\n",
       "    </tr>\n",
       "    <tr>\n",
       "      <th>1</th>\n",
       "      <td>69</td>\n",
       "      <td>90</td>\n",
       "      <td>88</td>\n",
       "      <td>82.333333</td>\n",
       "      <td>4.0</td>\n",
       "      <td>A</td>\n",
       "    </tr>\n",
       "    <tr>\n",
       "      <th>2</th>\n",
       "      <td>90</td>\n",
       "      <td>95</td>\n",
       "      <td>93</td>\n",
       "      <td>92.666667</td>\n",
       "      <td>6.0</td>\n",
       "      <td>A</td>\n",
       "    </tr>\n",
       "    <tr>\n",
       "      <th>3</th>\n",
       "      <td>47</td>\n",
       "      <td>57</td>\n",
       "      <td>44</td>\n",
       "      <td>49.333333</td>\n",
       "      <td>3.0</td>\n",
       "      <td>E</td>\n",
       "    </tr>\n",
       "    <tr>\n",
       "      <th>4</th>\n",
       "      <td>76</td>\n",
       "      <td>78</td>\n",
       "      <td>75</td>\n",
       "      <td>76.333333</td>\n",
       "      <td>4.0</td>\n",
       "      <td>B</td>\n",
       "    </tr>\n",
       "  </tbody>\n",
       "</table>\n",
       "</div>"
      ],
      "text/plain": [
       "   math_score  reading_score  writing_score  average_score  parent_education  \\\n",
       "0          72             72             74      72.666667               5.0   \n",
       "1          69             90             88      82.333333               4.0   \n",
       "2          90             95             93      92.666667               6.0   \n",
       "3          47             57             44      49.333333               3.0   \n",
       "4          76             78             75      76.333333               4.0   \n",
       "\n",
       "  grade  \n",
       "0     B  \n",
       "1     A  \n",
       "2     A  \n",
       "3     E  \n",
       "4     B  "
      ]
     },
     "execution_count": 28,
     "metadata": {},
     "output_type": "execute_result"
    }
   ],
   "source": [
    "df_num = df[['math_score','reading_score','writing_score','average_score','parent_education', 'grade']]\n",
    "df_num.head()"
   ]
  },
  {
   "cell_type": "code",
   "execution_count": 29,
   "metadata": {},
   "outputs": [
    {
     "name": "stdout",
     "output_type": "stream",
     "text": [
      "<class 'pandas.core.frame.DataFrame'>\n",
      "RangeIndex: 1000 entries, 0 to 999\n",
      "Data columns (total 6 columns):\n",
      " #   Column            Non-Null Count  Dtype  \n",
      "---  ------            --------------  -----  \n",
      " 0   math_score        1000 non-null   int64  \n",
      " 1   reading_score     1000 non-null   int64  \n",
      " 2   writing_score     1000 non-null   int64  \n",
      " 3   average_score     1000 non-null   float64\n",
      " 4   parent_education  821 non-null    float64\n",
      " 5   grade             1000 non-null   object \n",
      "dtypes: float64(2), int64(3), object(1)\n",
      "memory usage: 47.0+ KB\n"
     ]
    }
   ],
   "source": [
    "df_num.info()"
   ]
  },
  {
   "cell_type": "code",
   "execution_count": 30,
   "metadata": {
    "scrolled": true
   },
   "outputs": [
    {
     "data": {
      "image/png": "[encoded data removed]",
      "text/plain": [
       "<Figure size 475.125x432 with 1 Axes>"
      ]
     },
     "metadata": {},
     "output_type": "display_data"
    }
   ],
   "source": [
    "sns.set_style('whitegrid')\n",
    "g = sns.FacetGrid(df_num, hue='grade', height=6)\\\n",
    ".map(plt.scatter, 'average_score', 'parent_education', alpha=0.5).add_legend()"
   ]
  },
  {
   "cell_type": "markdown",
   "metadata": {},
   "source": [
    "1. average score가 50~100 사이 구간의 분포는 parent_education과 상관없이 유사하게 나타났다.\n",
    "2. parent_education이 6.0 즉 부모가 master's degree를 갖고 있는 경우 자녀의 average score는 한 명을 제외하고 모두 50점 이상이었으며 50~60 사이의 average score를 갖는 학생의 수도 다른 경우에 비해 적었다.\n",
    "3. parent_education이 2.0 즉 부모가 high school 졸업이 최종 학력인 경우 자녀의 average score는 다른 경우에 비해 average score가 40점 이하인 학생들이 많고 90점 이상인 학생들의 수가 적었다.\n"
   ]
  },
  {
   "cell_type": "code",
   "execution_count": 31,
   "metadata": {},
   "outputs": [],
   "source": [
    "df['grade_rank'] = df['grade'].copy()\n",
    "\n",
    "for i in range(len(df)):\n",
    "    if df.loc[i,'grade'] == \"A\":\n",
    "        df.loc[i,'grade_rank'] = 6\n",
    "    \n",
    "    elif df.loc[i, 'grade'] == \"B\":\n",
    "        df.loc[i,'grade_rank'] = 5\n",
    "    \n",
    "    elif df.loc[i,'grade'] == 'C':\n",
    "        df.loc[i,'grade_rank'] = 4\n",
    "    \n",
    "    elif df.loc[i,'grade'] == \"D\":\n",
    "        df.loc[i,'grade_rank'] = 3\n",
    "    \n",
    "    elif df.loc[i,'grade'] == 'E':\n",
    "        df.loc[i,'grade_rank'] = 2\n",
    "    \n",
    "    else:\n",
    "        df.loc[i,'grade_rank'] = 1\n",
    "    "
   ]
  },
  {
   "cell_type": "code",
   "execution_count": 32,
   "metadata": {},
   "outputs": [
    {
     "data": {
      "text/plain": [
       "<AxesSubplot:xlabel='grade_rank', ylabel='parent_education'>"
      ]
     },
     "execution_count": 32,
     "metadata": {},
     "output_type": "execute_result"
    },
    {
     "data": {
      "image/png": "[encoded data removed]",
      "text/plain": [
       "<Figure size 432x288 with 1 Axes>"
      ]
     },
     "metadata": {},
     "output_type": "display_data"
    }
   ],
   "source": [
    "sns.scatterplot(data=df, x='grade_rank',y='parent_education')"
   ]
  },
  {
   "cell_type": "markdown",
   "metadata": {},
   "source": [
    "<a id=\"15\"></a> <br>\n",
    "<h2 style =\"background:#9cfefa;border:0;\"><font color=\"grey\"> 1. average score가 50~100 사이 구간의 분포는 parent_education과 상관없이 유사하게 나타났다.\n",
    "</h2>\n",
    "    \n",
    "그러나 실제 표에서 수치를 확인해본 결과 average score가 50~100 사이인 구간에서 parent education에 따른 학생의 수는 차이가 있었다."
   ]
  },
  {
   "cell_type": "code",
   "execution_count": 33,
   "metadata": {},
   "outputs": [
    {
     "data": {
      "text/plain": [
       "parent_education\n",
       "2.0    162\n",
       "3.0    202\n",
       "4.0    211\n",
       "5.0    107\n",
       "6.0     58\n",
       "Name: average_score, dtype: int64"
      ]
     },
     "execution_count": 33,
     "metadata": {},
     "output_type": "execute_result"
    }
   ],
   "source": [
    "#average score가 50~100 사이인 parent education별로\n",
    "df[(df['average_score']<100) & (df['average_score']>50)].groupby('parent_education')['average_score'].count()\n"
   ]
  },
  {
   "cell_type": "markdown",
   "metadata": {},
   "source": [
    "<a id=\"15\"></a> <br>\n",
    "<h2 style =\"background:#9cfefa;border:0;\"><font color=\"grey\">2. parent_education이 6.0 즉 부모가 master's degree를 갖고 있는 경우 자녀의 average score는 한 명을 제외하고 모두 50점 이상이었으며 50~60 사이의 average score를 갖는 학생의 수도 다른 경우에 비해 적었다.</h2>\n",
    "\n",
    "확인해본 결과 실제로 50점 이하의 학생은 1명이었다.\n",
    "   "
   ]
  },
  {
   "cell_type": "code",
   "execution_count": 34,
   "metadata": {},
   "outputs": [
    {
     "data": {
      "text/plain": [
       "18     44.666667\n",
       "607    50.666667\n",
       "504    51.000000\n",
       "162    51.333333\n",
       "225    51.666667\n",
       "14     53.666667\n",
       "523    54.333333\n",
       "422    57.333333\n",
       "600    59.000000\n",
       "789    59.333333\n",
       "579    60.666667\n",
       "735    61.000000\n",
       "178    61.333333\n",
       "812    61.666667\n",
       "478    63.000000\n",
       "892    63.333333\n",
       "544    64.333333\n",
       "32     64.333333\n",
       "557    64.666667\n",
       "79     66.000000\n",
       "180    68.333333\n",
       "850    68.333333\n",
       "29     69.000000\n",
       "940    70.000000\n",
       "567    70.000000\n",
       "167    70.666667\n",
       "410    71.666667\n",
       "389    72.666667\n",
       "25     73.000000\n",
       "549    73.333333\n",
       "901    75.000000\n",
       "259    75.666667\n",
       "382    77.000000\n",
       "752    77.000000\n",
       "253    77.333333\n",
       "508    78.000000\n",
       "500    78.333333\n",
       "128    79.333333\n",
       "194    79.333333\n",
       "713    82.000000\n",
       "316    83.333333\n",
       "781    83.666667\n",
       "861    84.666667\n",
       "130    85.000000\n",
       "900    86.000000\n",
       "845    86.333333\n",
       "175    86.333333\n",
       "618    86.666667\n",
       "846    87.000000\n",
       "604    87.666667\n",
       "164    88.000000\n",
       "941    88.333333\n",
       "514    89.333333\n",
       "2      92.666667\n",
       "377    93.333333\n",
       "995    94.000000\n",
       "106    95.666667\n",
       "957    97.333333\n",
       "685    97.666667\n",
       "Name: average_score, dtype: float64"
      ]
     },
     "execution_count": 34,
     "metadata": {},
     "output_type": "execute_result"
    }
   ],
   "source": [
    "df[df['parent_education']==6.0]['average_score'].sort_values()"
   ]
  },
  {
   "cell_type": "markdown",
   "metadata": {},
   "source": [
    "<a id=\"15\"></a> <br>\n",
    "<h2 style =\"background:#9cfefa;border:0;\"><font color=\"grey\">3. parent_education이 2.0 즉 부모가 high school 졸업이 최종 학력인 경우 자녀의 average score는 다른 경우에 비해 average score가 40점 이하인 학생들이 많고 90점 이상인 학생들의 수가 적었다.</h2>\n",
    "    \n",
    "kde 그래프를 그려서 확인해보았다."
   ]
  },
  {
   "cell_type": "code",
   "execution_count": 35,
   "metadata": {},
   "outputs": [
    {
     "data": {
      "text/html": [
       "<div>\n",
       "<style scoped>\n",
       "    .dataframe tbody tr th:only-of-type {\n",
       "        vertical-align: middle;\n",
       "    }\n",
       "\n",
       "    .dataframe tbody tr th {\n",
       "        vertical-align: top;\n",
       "    }\n",
       "\n",
       "    .dataframe thead th {\n",
       "        text-align: right;\n",
       "    }\n",
       "</style>\n",
       "<table border=\"1\" class=\"dataframe\">\n",
       "  <thead>\n",
       "    <tr style=\"text-align: right;\">\n",
       "      <th></th>\n",
       "      <th>gender</th>\n",
       "      <th>race_ethnicity</th>\n",
       "      <th>education_level</th>\n",
       "      <th>lunch</th>\n",
       "      <th>prep_course</th>\n",
       "      <th>math_score</th>\n",
       "      <th>reading_score</th>\n",
       "      <th>writing_score</th>\n",
       "      <th>average_score</th>\n",
       "      <th>grade</th>\n",
       "      <th>parent_education</th>\n",
       "      <th>grade_rank</th>\n",
       "    </tr>\n",
       "  </thead>\n",
       "  <tbody>\n",
       "    <tr>\n",
       "      <th>0</th>\n",
       "      <td>female</td>\n",
       "      <td>group B</td>\n",
       "      <td>bachelor's degree</td>\n",
       "      <td>standard</td>\n",
       "      <td>none</td>\n",
       "      <td>72</td>\n",
       "      <td>72</td>\n",
       "      <td>74</td>\n",
       "      <td>72.666667</td>\n",
       "      <td>B</td>\n",
       "      <td>5.0</td>\n",
       "      <td>5</td>\n",
       "    </tr>\n",
       "    <tr>\n",
       "      <th>1</th>\n",
       "      <td>female</td>\n",
       "      <td>group C</td>\n",
       "      <td>some college</td>\n",
       "      <td>standard</td>\n",
       "      <td>completed</td>\n",
       "      <td>69</td>\n",
       "      <td>90</td>\n",
       "      <td>88</td>\n",
       "      <td>82.333333</td>\n",
       "      <td>A</td>\n",
       "      <td>4.0</td>\n",
       "      <td>6</td>\n",
       "    </tr>\n",
       "    <tr>\n",
       "      <th>2</th>\n",
       "      <td>female</td>\n",
       "      <td>group B</td>\n",
       "      <td>master's degree</td>\n",
       "      <td>standard</td>\n",
       "      <td>none</td>\n",
       "      <td>90</td>\n",
       "      <td>95</td>\n",
       "      <td>93</td>\n",
       "      <td>92.666667</td>\n",
       "      <td>A</td>\n",
       "      <td>6.0</td>\n",
       "      <td>6</td>\n",
       "    </tr>\n",
       "    <tr>\n",
       "      <th>3</th>\n",
       "      <td>male</td>\n",
       "      <td>group A</td>\n",
       "      <td>associate's degree</td>\n",
       "      <td>free/reduced</td>\n",
       "      <td>none</td>\n",
       "      <td>47</td>\n",
       "      <td>57</td>\n",
       "      <td>44</td>\n",
       "      <td>49.333333</td>\n",
       "      <td>E</td>\n",
       "      <td>3.0</td>\n",
       "      <td>2</td>\n",
       "    </tr>\n",
       "    <tr>\n",
       "      <th>4</th>\n",
       "      <td>male</td>\n",
       "      <td>group C</td>\n",
       "      <td>some college</td>\n",
       "      <td>standard</td>\n",
       "      <td>none</td>\n",
       "      <td>76</td>\n",
       "      <td>78</td>\n",
       "      <td>75</td>\n",
       "      <td>76.333333</td>\n",
       "      <td>B</td>\n",
       "      <td>4.0</td>\n",
       "      <td>5</td>\n",
       "    </tr>\n",
       "  </tbody>\n",
       "</table>\n",
       "</div>"
      ],
      "text/plain": [
       "   gender race_ethnicity     education_level         lunch prep_course  \\\n",
       "0  female        group B   bachelor's degree      standard        none   \n",
       "1  female        group C        some college      standard   completed   \n",
       "2  female        group B     master's degree      standard        none   \n",
       "3    male        group A  associate's degree  free/reduced        none   \n",
       "4    male        group C        some college      standard        none   \n",
       "\n",
       "   math_score  reading_score  writing_score  average_score grade  \\\n",
       "0          72             72             74      72.666667     B   \n",
       "1          69             90             88      82.333333     A   \n",
       "2          90             95             93      92.666667     A   \n",
       "3          47             57             44      49.333333     E   \n",
       "4          76             78             75      76.333333     B   \n",
       "\n",
       "   parent_education grade_rank  \n",
       "0               5.0          5  \n",
       "1               4.0          6  \n",
       "2               6.0          6  \n",
       "3               3.0          2  \n",
       "4               4.0          5  "
      ]
     },
     "execution_count": 35,
     "metadata": {},
     "output_type": "execute_result"
    }
   ],
   "source": [
    "df.head()"
   ]
  },
  {
   "cell_type": "code",
   "execution_count": 36,
   "metadata": {},
   "outputs": [
    {
     "data": {
      "image/png": "[encoded data removed]",
      "text/plain": [
       "<Figure size 432x288 with 1 Axes>"
      ]
     },
     "metadata": {},
     "output_type": "display_data"
    }
   ],
   "source": [
    "sns.kdeplot(\n",
    "    data=df, x=\"average_score\", hue=\"education_level\",\n",
    "    cumulative=True, common_norm=False, common_grid=True,\n",
    ")\n",
    "plt.title('Percentage vs Parental Level Of Education',fontsize=15, fontweight='bold')\n",
    "\n",
    "plt.show()"
   ]
  },
  {
   "cell_type": "code",
   "execution_count": null,
   "metadata": {},
   "outputs": [],
   "source": []
  },
  {
   "cell_type": "code",
   "execution_count": null,
   "metadata": {},
   "outputs": [],
   "source": []
  },
  {
   "cell_type": "markdown",
   "metadata": {},
   "source": [
    "\n",
    "<center><h2 style =\"background:#fddcc6;border:0;\">추가내용끝 </h2></center>"
   ]
  }
 ],
 "metadata": {
  "kernelspec": {
   "display_name": "Python 3",
   "language": "python",
   "name": "python3"
  },
  "language_info": {
   "codemirror_mode": {
    "name": "ipython",
    "version": 3
   },
   "file_extension": ".py",
   "mimetype": "text/x-python",
   "name": "python",
   "nbconvert_exporter": "python",
   "pygments_lexer": "ipython3",
   "version": "3.8.8"
  },
  "papermill": {
   "default_parameters": {},
   "duration": 17.228229,
   "end_time": "2021-04-15T07:12:56.392177",
   "environment_variables": {},
   "exception": null,
   "input_path": "__notebook__.ipynb",
   "output_path": "__notebook__.ipynb",
   "parameters": {},
   "start_time": "2021-04-15T07:12:39.163948",
   "version": "2.2.2"
  }
 },
 "nbformat": 4,
 "nbformat_minor": 4
}
