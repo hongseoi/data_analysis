{
 "cells": [
  {
   "cell_type": "code",
   "execution_count": 6,
   "id": "afe542b7-48ea-4990-b531-a057ddd81958",
   "metadata": {},
   "outputs": [
    {
     "name": "stdout",
     "output_type": "stream",
     "text": [
      "WARNING:tensorflow:From C:\\dataanalysis\\lib\\site-packages\\tensorflow\\python\\compat\\v2_compat.py:107: disable_resource_variables (from tensorflow.python.ops.variable_scope) is deprecated and will be removed in a future version.\n",
      "Instructions for updating:\n",
      "non-resource variables are not supported in the long term\n"
     ]
    }
   ],
   "source": [
    "import tensorflow.compat.v1 as tf\n",
    "tf.disable_v2_behavior()\n"
   ]
  },
  {
   "cell_type": "code",
   "execution_count": 7,
   "id": "87b15cea-d1f2-4a21-9327-db4d0a712daa",
   "metadata": {},
   "outputs": [],
   "source": [
    "x_data = [1,2,3]\n",
    "y_data = [1,2,3]\n",
    "\n",
    "W = tf.Variable(tf.random.uniform([1], -1.0, 1.0))\n",
    "b = tf.Variable(tf.random.uniform([1], -1.0, 1.0))"
   ]
  },
  {
   "cell_type": "code",
   "execution_count": 8,
   "id": "82a4552e-0b8e-4be7-9835-c94b81ee4d97",
   "metadata": {},
   "outputs": [],
   "source": [
    "#값 추적을 편하게 하기 위해 이름 붙여주기\n",
    "X = tf.placeholder(tf.float32, name='X')\n",
    "Y = tf.placeholder(tf.float32, name='Y')"
   ]
  },
  {
   "cell_type": "code",
   "execution_count": 9,
   "id": "225927ce-cc32-4020-8a97-380711981b0e",
   "metadata": {},
   "outputs": [
    {
     "name": "stdout",
     "output_type": "stream",
     "text": [
      "Tensor(\"X:0\", dtype=float32)\n",
      "Tensor(\"Y:0\", dtype=float32)\n"
     ]
    }
   ],
   "source": [
    "print(X)\n",
    "print(Y)"
   ]
  },
  {
   "cell_type": "code",
   "execution_count": 10,
   "id": "47fcd9f7-1dd3-437b-9671-e6fd5b54b451",
   "metadata": {},
   "outputs": [],
   "source": [
    "\n",
    "hypothesis = W*X+b"
   ]
  },
  {
   "cell_type": "code",
   "execution_count": 11,
   "id": "05f2b071-4973-49d3-b575-160b7ab412d6",
   "metadata": {},
   "outputs": [],
   "source": [
    "#loss 함수 작성: mean(h-y)^2\n",
    "cost = tf.reduce_mean(tf.square(hypothesis - Y))"
   ]
  },
  {
   "cell_type": "code",
   "execution_count": 13,
   "id": "468dbb15-744c-4c0d-aa8e-1e4e1deb426f",
   "metadata": {},
   "outputs": [],
   "source": [
    "#경사하강법 최적화\n",
    "optimizer = tf.train.GradientDescentOptimizer(learning_rate=0.1)"
   ]
  },
  {
   "cell_type": "code",
   "execution_count": 14,
   "id": "03ca2f70-212c-4cf7-8044-0dba0abac8c6",
   "metadata": {},
   "outputs": [],
   "source": [
    "#비용 최소화가 목표\n",
    "train_op = optimizer.minimize(cost)"
   ]
  },
  {
   "cell_type": "code",
   "execution_count": 17,
   "id": "70a0c1a2-5852-4977-afc3-45de09d74e6f",
   "metadata": {},
   "outputs": [
    {
     "name": "stdout",
     "output_type": "stream",
     "text": [
      "0 6.75856 [0.8989655] [0.5285264]\n",
      "1 0.11337977 [0.7818538] [0.46323493]\n",
      "2 0.03245106 [0.8001629] [0.45784643]\n",
      "3 0.030007238 [0.8035389] [0.44621196]\n",
      "4 0.028571086 [0.80841774] [0.435554]\n",
      "5 0.027213827 [0.8130063] [0.4250761]\n",
      "6 0.025921173 [0.8175034] [0.41485837]\n",
      "7 0.02468989 [0.82189023] [0.40488535]\n",
      "8 0.02351711 [0.82617193] [0.3951522]\n",
      "9 0.022400001 [0.8303505] [0.385653]\n",
      "10 0.021335987 [0.8344288] [0.37638217]\n",
      "11 0.020322515 [0.83840907] [0.36733425]\n",
      "12 0.019357163 [0.84229356] [0.35850376]\n",
      "13 0.018437693 [0.8460847] [0.34988558]\n",
      "14 0.017561903 [0.84978473] [0.34147456]\n",
      "15 0.016727703 [0.8533959] [0.33326578]\n",
      "16 0.015933134 [0.85692006] [0.32525426]\n",
      "17 0.015176285 [0.8603596] [0.31743538]\n",
      "18 0.014455388 [0.8637165] [0.30980447]\n",
      "19 0.013768763 [0.86699265] [0.302357]\n",
      "20 0.013114743 [0.87019] [0.29508853]\n",
      "21 0.01249178 [0.8733106] [0.28799483]\n",
      "22 0.011898395 [0.8763561] [0.2810716]\n",
      "23 0.011333224 [0.8793284] [0.27431482]\n",
      "24 0.010794882 [0.8822293] [0.2677205]\n",
      "25 0.010282116 [0.8850604] [0.26128468]\n",
      "26 0.00979371 [0.8878235] [0.25500357]\n",
      "27 0.009328493 [0.89052016] [0.24887344]\n",
      "28 0.008885381 [0.89315194] [0.24289069]\n",
      "29 0.008463333 [0.89572054] [0.23705178]\n",
      "30 0.008061315 [0.89822733] [0.23135321]\n",
      "31 0.0076783835 [0.9006738] [0.22579162]\n",
      "32 0.0073136655 [0.9030616] [0.22036377]\n",
      "33 0.0069662556 [0.90539193] [0.21506634]\n",
      "34 0.006635353 [0.9076662] [0.2098963]\n",
      "35 0.0063201752 [0.9098859] [0.20485055]\n",
      "36 0.0060199588 [0.91205215] [0.19992608]\n",
      "37 0.0057340115 [0.91416633] [0.19511999]\n",
      "38 0.0054616407 [0.9162297] [0.19042945]\n",
      "39 0.0052022077 [0.9182435] [0.18585166]\n",
      "40 0.0049550985 [0.92020893] [0.18138392]\n",
      "41 0.0047197323 [0.92212707] [0.17702357]\n",
      "42 0.004495532 [0.923999] [0.17276803]\n",
      "43 0.0042819963 [0.9258261] [0.16861482]\n",
      "44 0.004078599 [0.92760915] [0.16456142]\n",
      "45 0.003884861 [0.92934936] [0.16060548]\n",
      "46 0.0037003325 [0.9310478] [0.15674463]\n",
      "47 0.0035245586 [0.93270534] [0.15297659]\n",
      "48 0.0033571431 [0.9343231] [0.14929914]\n",
      "49 0.0031976728 [0.9359019] [0.14571008]\n",
      "50 0.003045784 [0.9374428] [0.14220732]\n",
      "51 0.002901106 [0.93894655] [0.13878873]\n",
      "52 0.0027633011 [0.94041425] [0.13545236]\n",
      "53 0.0026320405 [0.94184667] [0.13219619]\n",
      "54 0.0025070135 [0.94324464] [0.12901828]\n",
      "55 0.0023879302 [0.94460905] [0.12591678]\n",
      "56 0.0022745098 [0.9459406] [0.12288982]\n",
      "57 0.0021664624 [0.9472401] [0.1199356]\n",
      "58 0.0020635559 [0.94850844] [0.11705244]\n",
      "59 0.0019655337 [0.94974625] [0.11423858]\n",
      "60 0.0018721687 [0.9509543] [0.11149236]\n",
      "61 0.001783243 [0.95213336] [0.10881216]\n",
      "62 0.0016985371 [0.953284] [0.10619639]\n",
      "63 0.001617853 [0.95440704] [0.1036435]\n",
      "64 0.0015410032 [0.95550305] [0.10115199]\n",
      "65 0.0014678057 [0.9565727] [0.09872036]\n",
      "66 0.0013980862 [0.9576167] [0.09634721]\n",
      "67 0.0013316725 [0.95863557] [0.0940311]\n",
      "68 0.0012684179 [0.95962995] [0.09177066]\n",
      "69 0.001208171 [0.9606004] [0.08956454]\n",
      "70 0.0011507788 [0.96154755] [0.08741148]\n",
      "71 0.0010961178 [0.96247196] [0.08531017]\n",
      "72 0.00104405 [0.963374] [0.08325934]\n",
      "73 0.0009944582 [0.96425456] [0.08125786]\n",
      "74 0.0009472211 [0.9651138] [0.07930447]\n",
      "75 0.0009022281 [0.96595246] [0.07739805]\n",
      "76 0.0008593654 [0.96677095] [0.07553746]\n",
      "77 0.00081854913 [0.9675697] [0.07372157]\n",
      "78 0.0007796663 [0.96834934] [0.07194938]\n",
      "79 0.0007426322 [0.9691102] [0.07021976]\n",
      "80 0.0007073592 [0.96985275] [0.06853173]\n",
      "81 0.00067375373 [0.9705775] [0.06688429]\n",
      "82 0.00064175256 [0.9712848] [0.06527644]\n",
      "83 0.00061127084 [0.9719751] [0.06370723]\n",
      "84 0.0005822352 [0.9726488] [0.06217575]\n",
      "85 0.00055457914 [0.9733063] [0.06068107]\n",
      "86 0.00052823237 [0.97394794] [0.05922232]\n",
      "87 0.00050314324 [0.9745743] [0.05779869]\n",
      "88 0.00047924378 [0.9751855] [0.05640923]\n",
      "89 0.0004564773 [0.97578204] [0.05505318]\n",
      "90 0.00043479385 [0.97636414] [0.05372971]\n",
      "91 0.00041414239 [0.97693235] [0.0524381]\n",
      "92 0.00039446962 [0.9774869] [0.05117754]\n",
      "93 0.00037573255 [0.9780281] [0.04994726]\n",
      "94 0.00035788215 [0.97855633] [0.04874657]\n",
      "95 0.00034088382 [0.9790718] [0.04757474]\n",
      "96 0.00032469176 [0.9795749] [0.04643108]\n",
      "97 0.0003092691 [0.9800659] [0.0453149]\n",
      "98 0.00029457852 [0.9805451] [0.04422558]\n",
      "99 0.00028058552 [0.98101276] [0.04316241]\n"
     ]
    }
   ],
   "source": [
    "with tf.Session() as sess:\n",
    "    sess.run(tf.global_variables_initializer())\n",
    "    #최적화 100회\n",
    "    for step in range(100):\n",
    "        _, cost_val = sess.run([train_op, cost], feed_dict={X:x_data, Y:y_data})\n",
    "        print(step, cost_val, sess.run(W), sess.run(b))"
   ]
  },
  {
   "cell_type": "code",
   "execution_count": 22,
   "id": "31202379-8fb6-4716-ad46-ef82e64b46f5",
   "metadata": {},
   "outputs": [
    {
     "name": "stdout",
     "output_type": "stream",
     "text": [
      "\n",
      "=== Test ===\n"
     ]
    },
    {
     "ename": "RuntimeError",
     "evalue": "Attempted to use a closed Session.",
     "output_type": "error",
     "traceback": [
      "\u001b[1;31m---------------------------------------------------------------------------\u001b[0m",
      "\u001b[1;31mRuntimeError\u001b[0m                              Traceback (most recent call last)",
      "\u001b[1;32mC:\\Users\\HONGSE~1\\AppData\\Local\\Temp/ipykernel_23844/3722917939.py\u001b[0m in \u001b[0;36m<module>\u001b[1;34m\u001b[0m\n\u001b[0;32m      1\u001b[0m \u001b[0mprint\u001b[0m\u001b[1;33m(\u001b[0m\u001b[1;34m\"\\n=== Test ===\"\u001b[0m\u001b[1;33m)\u001b[0m\u001b[1;33m\u001b[0m\u001b[1;33m\u001b[0m\u001b[0m\n\u001b[1;32m----> 2\u001b[1;33m \u001b[0mprint\u001b[0m\u001b[1;33m(\u001b[0m\u001b[1;34m\"X: 5, Y:\"\u001b[0m\u001b[1;33m,\u001b[0m \u001b[0msess\u001b[0m\u001b[1;33m.\u001b[0m\u001b[0mrun\u001b[0m\u001b[1;33m(\u001b[0m\u001b[0mhypothesis\u001b[0m\u001b[1;33m,\u001b[0m \u001b[0mfeed_dict\u001b[0m\u001b[1;33m=\u001b[0m\u001b[1;33m{\u001b[0m\u001b[0mX\u001b[0m\u001b[1;33m:\u001b[0m \u001b[1;36m5\u001b[0m\u001b[1;33m}\u001b[0m\u001b[1;33m)\u001b[0m\u001b[1;33m)\u001b[0m\u001b[1;33m\u001b[0m\u001b[1;33m\u001b[0m\u001b[0m\n\u001b[0m\u001b[0;32m      3\u001b[0m \u001b[0mprint\u001b[0m\u001b[1;33m(\u001b[0m\u001b[1;34m\"X: 2.5, Y:\"\u001b[0m\u001b[1;33m,\u001b[0m \u001b[0msess\u001b[0m\u001b[1;33m.\u001b[0m\u001b[0mrun\u001b[0m\u001b[1;33m(\u001b[0m\u001b[0mhypothesis\u001b[0m\u001b[1;33m,\u001b[0m \u001b[0mfeed_dict\u001b[0m\u001b[1;33m=\u001b[0m\u001b[1;33m{\u001b[0m\u001b[0mX\u001b[0m\u001b[1;33m:\u001b[0m \u001b[1;36m2.5\u001b[0m\u001b[1;33m}\u001b[0m\u001b[1;33m)\u001b[0m\u001b[1;33m)\u001b[0m\u001b[1;33m\u001b[0m\u001b[1;33m\u001b[0m\u001b[0m\n\u001b[0;32m      4\u001b[0m \u001b[1;33m\u001b[0m\u001b[0m\n\u001b[0;32m      5\u001b[0m \u001b[0msess\u001b[0m\u001b[1;33m.\u001b[0m\u001b[0mclose\u001b[0m\u001b[1;33m(\u001b[0m\u001b[1;33m)\u001b[0m\u001b[1;33m\u001b[0m\u001b[1;33m\u001b[0m\u001b[0m\n",
      "\u001b[1;32mC:\\dataanalysis\\lib\\site-packages\\tensorflow\\python\\client\\session.py\u001b[0m in \u001b[0;36mrun\u001b[1;34m(self, fetches, feed_dict, options, run_metadata)\u001b[0m\n\u001b[0;32m    965\u001b[0m \u001b[1;33m\u001b[0m\u001b[0m\n\u001b[0;32m    966\u001b[0m     \u001b[1;32mtry\u001b[0m\u001b[1;33m:\u001b[0m\u001b[1;33m\u001b[0m\u001b[1;33m\u001b[0m\u001b[0m\n\u001b[1;32m--> 967\u001b[1;33m       result = self._run(None, fetches, feed_dict, options_ptr,\n\u001b[0m\u001b[0;32m    968\u001b[0m                          run_metadata_ptr)\n\u001b[0;32m    969\u001b[0m       \u001b[1;32mif\u001b[0m \u001b[0mrun_metadata\u001b[0m\u001b[1;33m:\u001b[0m\u001b[1;33m\u001b[0m\u001b[1;33m\u001b[0m\u001b[0m\n",
      "\u001b[1;32mC:\\dataanalysis\\lib\\site-packages\\tensorflow\\python\\client\\session.py\u001b[0m in \u001b[0;36m_run\u001b[1;34m(self, handle, fetches, feed_dict, options, run_metadata)\u001b[0m\n\u001b[0;32m   1113\u001b[0m     \u001b[1;31m# Check session.\u001b[0m\u001b[1;33m\u001b[0m\u001b[1;33m\u001b[0m\u001b[0m\n\u001b[0;32m   1114\u001b[0m     \u001b[1;32mif\u001b[0m \u001b[0mself\u001b[0m\u001b[1;33m.\u001b[0m\u001b[0m_closed\u001b[0m\u001b[1;33m:\u001b[0m\u001b[1;33m\u001b[0m\u001b[1;33m\u001b[0m\u001b[0m\n\u001b[1;32m-> 1115\u001b[1;33m       \u001b[1;32mraise\u001b[0m \u001b[0mRuntimeError\u001b[0m\u001b[1;33m(\u001b[0m\u001b[1;34m'Attempted to use a closed Session.'\u001b[0m\u001b[1;33m)\u001b[0m\u001b[1;33m\u001b[0m\u001b[1;33m\u001b[0m\u001b[0m\n\u001b[0m\u001b[0;32m   1116\u001b[0m     \u001b[1;32mif\u001b[0m \u001b[0mself\u001b[0m\u001b[1;33m.\u001b[0m\u001b[0mgraph\u001b[0m\u001b[1;33m.\u001b[0m\u001b[0mversion\u001b[0m \u001b[1;33m==\u001b[0m \u001b[1;36m0\u001b[0m\u001b[1;33m:\u001b[0m\u001b[1;33m\u001b[0m\u001b[1;33m\u001b[0m\u001b[0m\n\u001b[0;32m   1117\u001b[0m       raise RuntimeError('The Session graph is empty. Add operations to the '\n",
      "\u001b[1;31mRuntimeError\u001b[0m: Attempted to use a closed Session."
     ]
    }
   ],
   "source": [
    "print(\"\\n=== Test ===\")\n",
    "print(\"X: 5, Y:\", sess.run(hypothesis, feed_dict={X: 5}))\n",
    "print(\"X: 2.5, Y:\", sess.run(hypothesis, feed_dict={X: 2.5}))\n",
    "\n",
    "sess.close()"
   ]
  },
  {
   "cell_type": "code",
   "execution_count": null,
   "id": "ace308b9-c42f-47f9-b695-aaa005afb4a9",
   "metadata": {},
   "outputs": [],
   "source": []
  }
 ],
 "metadata": {
  "kernelspec": {
   "display_name": "Python 3 (ipykernel)",
   "language": "python",
   "name": "python3"
  },
  "language_info": {
   "codemirror_mode": {
    "name": "ipython",
    "version": 3
   },
   "file_extension": ".py",
   "mimetype": "text/x-python",
   "name": "python",
   "nbconvert_exporter": "python",
   "pygments_lexer": "ipython3",
   "version": "3.9.7"
  }
 },
 "nbformat": 4,
 "nbformat_minor": 5
}
