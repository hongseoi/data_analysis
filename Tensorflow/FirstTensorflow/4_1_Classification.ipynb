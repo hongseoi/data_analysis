{
 "cells": [
  {
   "cell_type": "markdown",
   "id": "50916d1d-ee36-416a-bf4f-cbb610bc5c74",
   "metadata": {},
   "source": [
    "<h1>털, 날개 여부에 따라 포유류와 조류 분류하기</h1>"
   ]
  },
  {
   "cell_type": "code",
   "execution_count": 3,
   "id": "54a6152a-250a-4488-8355-7bd1c0278ea5",
   "metadata": {},
   "outputs": [
    {
     "ename": "ModuleNotFoundError",
     "evalue": "No module named 'tensorflow'",
     "output_type": "error",
     "traceback": [
      "\u001b[1;31m---------------------------------------------------------------------------\u001b[0m",
      "\u001b[1;31mModuleNotFoundError\u001b[0m                       Traceback (most recent call last)",
      "Cell \u001b[1;32mIn [3], line 1\u001b[0m\n\u001b[1;32m----> 1\u001b[0m \u001b[38;5;28;01mimport\u001b[39;00m \u001b[38;5;21;01mtensorflow\u001b[39;00m\u001b[38;5;21;01m.\u001b[39;00m\u001b[38;5;21;01mcompat\u001b[39;00m\u001b[38;5;21;01m.\u001b[39;00m\u001b[38;5;21;01mv1\u001b[39;00m \u001b[38;5;28;01mas\u001b[39;00m \u001b[38;5;21;01mtf\u001b[39;00m\n\u001b[0;32m      2\u001b[0m tf\u001b[38;5;241m.\u001b[39mdisable_v2_behavior()\n\u001b[0;32m      3\u001b[0m \u001b[38;5;28;01mimport\u001b[39;00m \u001b[38;5;21;01mnumpy\u001b[39;00m \u001b[38;5;28;01mas\u001b[39;00m \u001b[38;5;21;01mnp\u001b[39;00m\n",
      "\u001b[1;31mModuleNotFoundError\u001b[0m: No module named 'tensorflow'"
     ]
    }
   ],
   "source": [
    "import tensorflow.compat.v1 as tf\n",
    "tf.disable_v2_behavior()\n",
    "import numpy as np"
   ]
  },
  {
   "cell_type": "code",
   "execution_count": null,
   "id": "a2e57cd2-43c9-431a-90c2-690f8b93b044",
   "metadata": {},
   "outputs": [],
   "source": [
    "#[털, 날개]\n",
    "x_data = np.array([[0,0],[1,0],[1,1],[0,0],[0,1]])"
   ]
  },
  {
   "cell_type": "code",
   "execution_count": null,
   "id": "abafa44f-300c-4637-b049-25c7f058473b",
   "metadata": {},
   "outputs": [],
   "source": [
    "#[기타, 포유류, 조류]\n",
    "y_data = np.array([\n",
    "    [1, 0, 0],  # 기타\n",
    "    [0, 1, 0],  # 포유류\n",
    "    [0, 0, 1],  # 조류\n",
    "    [1, 0, 0],\n",
    "    [1, 0, 0],\n",
    "    [0, 0, 1]\n",
    "])"
   ]
  },
  {
   "cell_type": "markdown",
   "id": "f543b422-0588-403c-8395-8ca1ef50cc02",
   "metadata": {},
   "source": [
    "<h2>신경망 모델 구성</h2>"
   ]
  },
  {
   "cell_type": "code",
   "execution_count": null,
   "id": "3e5631df-9a83-49c9-acd1-4d56071d4824",
   "metadata": {},
   "outputs": [],
   "source": [
    "X = tf.placeholder(tf.float32)\n",
    "Y = tf.placeholder(tf.float32)"
   ]
  },
  {
   "cell_type": "code",
   "execution_count": null,
   "id": "047d1ce1-9872-4245-be9b-f5423d3f376c",
   "metadata": {},
   "outputs": [],
   "source": [
    "# Weight : [입력층(특성), 출력층(레이블)] -> [2,3]\n",
    "W = tf.Variable(tf.random_uniform([2,3], -1., 1.))\n"
   ]
  },
  {
   "cell_type": "markdown",
   "id": "1ebfbdd9-77b5-497b-adbd-6b4834d5f548",
   "metadata": {},
   "source": [
    "random_uniform()"
   ]
  },
  {
   "cell_type": "code",
   "execution_count": null,
   "id": "3a36b0d5-b4dc-445c-88d5-f560a38fb41b",
   "metadata": {},
   "outputs": [],
   "source": [
    "#bias: 각 레이어의 아웃풋 개수로 설정\n",
    "b = tf.Variable(tf.zeros([3]))"
   ]
  },
  {
   "cell_type": "code",
   "execution_count": null,
   "id": "24501c1e-1e3f-4f3b-bfea-d9735c753252",
   "metadata": {},
   "outputs": [],
   "source": [
    "#신경망에 W, b 적용\n",
    "L = tf.add(tf.matmul(X,W),b)"
   ]
  },
  {
   "cell_type": "markdown",
   "id": "faf41e11-8124-4309-843c-1ae8261aa35b",
   "metadata": {},
   "source": [
    "matmul()"
   ]
  },
  {
   "cell_type": "code",
   "execution_count": null,
   "id": "f3abd0a9-2398-4ddd-973c-4df2623189c7",
   "metadata": {},
   "outputs": [],
   "source": [
    "# 활성화함수 적용\n",
    "L = tf.nn.relu(L)"
   ]
  },
  {
   "cell_type": "code",
   "execution_count": null,
   "id": "d55d90dc-c9f8-49bc-ab6e-aa3f8f7d5d28",
   "metadata": {},
   "outputs": [],
   "source": [
    "#softmax(): 결과값을 전체합이 1인 확률로 만들어주는 함수. 출력값을 사용하기 쉽게 함\n",
    "model = tf.nn.softmax(L)"
   ]
  },
  {
   "cell_type": "code",
   "execution_count": null,
   "id": "691e1d58-5f34-4e9a-991f-54762dc4c633",
   "metadata": {},
   "outputs": [
    {
     "ename": "NameError",
     "evalue": "name 'tf' is not defined",
     "output_type": "error",
     "traceback": [
      "\u001b[1;31m---------------------------------------------------------------------------\u001b[0m",
      "\u001b[1;31mNameError\u001b[0m                                 Traceback (most recent call last)",
      "Cell \u001b[1;32mIn [1], line 3\u001b[0m\n\u001b[0;32m      1\u001b[0m \u001b[38;5;66;03m#신경망 최적화를 위한 비용함수\u001b[39;00m\n\u001b[0;32m      2\u001b[0m \u001b[38;5;66;03m#각 개별결과에 대한 합의 평균(axis=1 사용)\u001b[39;00m\n\u001b[1;32m----> 3\u001b[0m cost \u001b[38;5;241m=\u001b[39m \u001b[43mtf\u001b[49m\u001b[38;5;241m.\u001b[39mreduce_mean(\u001b[38;5;241m-\u001b[39mtf\u001b[38;5;241m.\u001b[39mreduce_sum(Y\u001b[38;5;241m*\u001b[39mtf\u001b[38;5;241m.\u001b[39mlog(model, axis\u001b[38;5;241m=\u001b[39m\u001b[38;5;241m1\u001b[39m)))\n\u001b[0;32m      5\u001b[0m optimizer \u001b[38;5;241m=\u001b[39m tf\u001b[38;5;241m.\u001b[39mtrain\u001b[38;5;241m.\u001b[39mGradientDescentOptimizer(learning_rate\u001b[38;5;241m=\u001b[39m\u001b[38;5;241m0.01\u001b[39m)\n\u001b[0;32m      6\u001b[0m train_op \u001b[38;5;241m=\u001b[39m optimizer\u001b[38;5;241m.\u001b[39mminimize(cost)\n",
      "\u001b[1;31mNameError\u001b[0m: name 'tf' is not defined"
     ]
    }
   ],
   "source": [
    "#신경망 최적화를 위한 비용함수\n",
    "#각 개별결과에 대한 합의 평균(axis=1 사용)\n",
    "cost = tf.reduce_mean(-tf.reduce_sum(Y*tf.log(model, axis=1)))\n",
    "\n",
    "optimizer = tf.train.GradientDescentOptimizer(learning_rate=0.01)\n",
    "train_op = optimizer.minimize(cost)"
   ]
  },
  {
   "cell_type": "markdown",
   "id": "317ef4fe-95a2-439e-85c2-fe4c203eb09a",
   "metadata": {},
   "source": [
    "reduce_mean():\n",
    "reduce_sum():\n"
   ]
  },
  {
   "cell_type": "markdown",
   "id": "e47d3936-75b3-4f00-aa6e-0669ba572ad3",
   "metadata": {},
   "source": [
    "<h2>신경망 모델 학습</h2>"
   ]
  },
  {
   "cell_type": "code",
   "execution_count": null,
   "id": "646d88ef-5efc-42e8-b87b-4982b4f33669",
   "metadata": {},
   "outputs": [
    {
     "ename": "NameError",
     "evalue": "name 'init' is not defined",
     "output_type": "error",
     "traceback": [
      "\u001b[1;31m---------------------------------------------------------------------------\u001b[0m",
      "\u001b[1;31mNameError\u001b[0m                                 Traceback (most recent call last)",
      "\u001b[1;32mC:\\Users\\HONGSE~1\\AppData\\Local\\Temp/ipykernel_28032/51631535.py\u001b[0m in \u001b[0;36m<module>\u001b[1;34m\u001b[0m\n\u001b[1;32m----> 1\u001b[1;33m \u001b[0minit\u001b[0m\u001b[1;33m\u001b[0m\u001b[1;33m\u001b[0m\u001b[0m\n\u001b[0m",
      "\u001b[1;31mNameError\u001b[0m: name 'init' is not defined"
     ]
    }
   ],
   "source": [
    "init"
   ]
  },
  {
   "cell_type": "markdown",
   "id": "b2eb144b-7275-4f75-a151-fe269f82a7f4",
   "metadata": {},
   "source": [
    "<h2>결과 확인</h2>"
   ]
  },
  {
   "cell_type": "code",
   "execution_count": null,
   "id": "65c94ad9-90d4-4f03-bbb6-f6a56d78c928",
   "metadata": {},
   "outputs": [],
   "source": [
    "# 0:기타, 1:포유류, 2:조류"
   ]
  },
  {
   "cell_type": "markdown",
   "id": "bab6d162-93c7-48ff-ba28-f56cc1f95d03",
   "metadata": {},
   "source": [
    "tf.argmax():\n",
    "tf.equal():"
   ]
  }
 ],
 "metadata": {
  "kernelspec": {
   "display_name": "Python 3.10.5 64-bit",
   "language": "python",
   "name": "python3"
  },
  "language_info": {
   "codemirror_mode": {
    "name": "ipython",
    "version": 3
   },
   "file_extension": ".py",
   "mimetype": "text/x-python",
   "name": "python",
   "nbconvert_exporter": "python",
   "pygments_lexer": "ipython3",
   "version": "3.10.5"
  },
  "vscode": {
   "interpreter": {
    "hash": "369f2c481f4da34e4445cda3fffd2e751bd1c4d706f27375911949ba6bb62e1c"
   }
  }
 },
 "nbformat": 4,
 "nbformat_minor": 5
}
