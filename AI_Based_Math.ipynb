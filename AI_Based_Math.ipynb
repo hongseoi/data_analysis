{
  "nbformat": 4,
  "nbformat_minor": 0,
  "metadata": {
    "colab": {
      "provenance": [],
      "collapsed_sections": [],
      "authorship_tag": "ABX9TyOTNhnmmj0Bo7yiAPgnk1cp",
      "include_colab_link": true
    },
    "kernelspec": {
      "name": "python3",
      "display_name": "Python 3"
    },
    "language_info": {
      "name": "python"
    }
  },
  "cells": [
    {
      "cell_type": "markdown",
      "metadata": {
        "id": "view-in-github",
        "colab_type": "text"
      },
      "source": [
        "<a href=\"https://colab.research.google.com/github/hongseoi/data_analysis/blob/main/AI_Based_Math.ipynb\" target=\"_parent\"><img src=\"https://colab.research.google.com/assets/colab-badge.svg\" alt=\"Open In Colab\"/></a>"
      ]
    },
    {
      "cell_type": "code",
      "execution_count": 1,
      "metadata": {
        "colab": {
          "base_uri": "https://localhost:8080/"
        },
        "id": "pRjSMwKdIlyp",
        "outputId": "4b395678-2537-4860-c4fb-a5ff0db45a0a"
      },
      "outputs": [
        {
          "output_type": "execute_result",
          "data": {
            "text/plain": [
              "bytes"
            ]
          },
          "metadata": {},
          "execution_count": 1
        }
      ],
      "source": [
        "#3.2 데이터형\n",
        "#bytes\n",
        "x = b'bong'\n",
        "type(x)"
      ]
    },
    {
      "cell_type": "code",
      "source": [
        "#list\n",
        "x = ['a',2.3,3,b'bong']\n",
        "print(type(x))\n",
        "\n",
        "for i in range(len(x)):\n",
        "  print(type(x[i]))"
      ],
      "metadata": {
        "colab": {
          "base_uri": "https://localhost:8080/"
        },
        "id": "Ud8a66HtI03j",
        "outputId": "98d9be2f-868e-4242-d90c-62e19457b5e0"
      },
      "execution_count": 3,
      "outputs": [
        {
          "output_type": "stream",
          "name": "stdout",
          "text": [
            "<class 'list'>\n",
            "<class 'str'>\n",
            "<class 'float'>\n",
            "<class 'int'>\n",
            "<class 'bytes'>\n"
          ]
        }
      ]
    },
    {
      "cell_type": "code",
      "source": [
        "#tuple\n",
        "x = (1,2,3)\n",
        "type(x)"
      ],
      "metadata": {
        "colab": {
          "base_uri": "https://localhost:8080/"
        },
        "id": "JzW9sWNXJJin",
        "outputId": "03aa8e9c-981a-4b6f-813d-b205a7a2f8a9"
      },
      "execution_count": 4,
      "outputs": [
        {
          "output_type": "execute_result",
          "data": {
            "text/plain": [
              "tuple"
            ]
          },
          "metadata": {},
          "execution_count": 4
        }
      ]
    },
    {
      "cell_type": "code",
      "source": [
        "#dict\n",
        "x = {'key1':100, 'key2':200}\n",
        "type(x)"
      ],
      "metadata": {
        "colab": {
          "base_uri": "https://localhost:8080/"
        },
        "id": "WiriMfs1JPYe",
        "outputId": "9593147a-f48c-413b-efc8-225b54b6bd71"
      },
      "execution_count": 5,
      "outputs": [
        {
          "output_type": "execute_result",
          "data": {
            "text/plain": [
              "dict"
            ]
          },
          "metadata": {},
          "execution_count": 5
        }
      ]
    },
    {
      "cell_type": "code",
      "source": [
        "#dict\n",
        "x = dict(key1=100, key2=200)\n",
        "type(x)"
      ],
      "metadata": {
        "colab": {
          "base_uri": "https://localhost:8080/"
        },
        "id": "tc2JDpNoJUai",
        "outputId": "6a6fb761-b56d-4467-f0f2-e82c265edf09"
      },
      "execution_count": 6,
      "outputs": [
        {
          "output_type": "execute_result",
          "data": {
            "text/plain": [
              "dict"
            ]
          },
          "metadata": {},
          "execution_count": 6
        }
      ]
    },
    {
      "cell_type": "code",
      "source": [
        "#set\n",
        "x = {\"key1\",'key2'}\n",
        "type(x)"
      ],
      "metadata": {
        "colab": {
          "base_uri": "https://localhost:8080/"
        },
        "id": "8O6kYebwJYnX",
        "outputId": "c6813977-d0c1-42c4-ada6-32fb13cac127"
      },
      "execution_count": 7,
      "outputs": [
        {
          "output_type": "execute_result",
          "data": {
            "text/plain": [
              "set"
            ]
          },
          "metadata": {},
          "execution_count": 7
        }
      ]
    },
    {
      "cell_type": "code",
      "source": [
        "# set의 특성: 중복 불허용\n",
        "x = {1,2,3,3}\n",
        "x"
      ],
      "metadata": {
        "colab": {
          "base_uri": "https://localhost:8080/"
        },
        "id": "41ANkir9Je-H",
        "outputId": "77e1da91-8fba-4c95-e6c3-8b69f336ddfd"
      },
      "execution_count": 8,
      "outputs": [
        {
          "output_type": "execute_result",
          "data": {
            "text/plain": [
              "{1, 2, 3}"
            ]
          },
          "metadata": {},
          "execution_count": 8
        }
      ]
    },
    {
      "cell_type": "code",
      "source": [
        "#3.4 값의 할당\n",
        "# 같은 값 할당\n",
        "x = y = 0\n",
        "[x,y]"
      ],
      "metadata": {
        "colab": {
          "base_uri": "https://localhost:8080/"
        },
        "id": "5p9m7qf8Jj4G",
        "outputId": "064026c0-4477-4d23-8dbe-c1784ccc04bb"
      },
      "execution_count": 10,
      "outputs": [
        {
          "output_type": "execute_result",
          "data": {
            "text/plain": [
              "[0, 0]"
            ]
          },
          "metadata": {},
          "execution_count": 10
        }
      ]
    },
    {
      "cell_type": "code",
      "source": [
        "#각각의 값 할당\n",
        "x, y = 0,0.9\n",
        "[x,y]"
      ],
      "metadata": {
        "colab": {
          "base_uri": "https://localhost:8080/"
        },
        "id": "UFxdbQy3J6vM",
        "outputId": "8b829427-c030-4f81-8daf-a4d1e092f29b"
      },
      "execution_count": 14,
      "outputs": [
        {
          "output_type": "execute_result",
          "data": {
            "text/plain": [
              "[0, 0.9]"
            ]
          },
          "metadata": {},
          "execution_count": 14
        }
      ]
    },
    {
      "cell_type": "code",
      "source": [
        "#값 바꾸기\n",
        "x ,y = y,x\n",
        "[x,y]"
      ],
      "metadata": {
        "colab": {
          "base_uri": "https://localhost:8080/"
        },
        "id": "cGnLbv5hKAyZ",
        "outputId": "52b06d22-133e-4401-800d-27284c06b61b"
      },
      "execution_count": 15,
      "outputs": [
        {
          "output_type": "execute_result",
          "data": {
            "text/plain": [
              "[0.9, 0]"
            ]
          },
          "metadata": {},
          "execution_count": 15
        }
      ]
    },
    {
      "cell_type": "code",
      "source": [
        "#정의는 되었으나 값 없음\n",
        "x = None\n",
        "[x, type(x)]"
      ],
      "metadata": {
        "colab": {
          "base_uri": "https://localhost:8080/"
        },
        "id": "KSV9NjL7KDrR",
        "outputId": "9c22ac11-5c11-4f82-a8ea-75a4c418831e"
      },
      "execution_count": 16,
      "outputs": [
        {
          "output_type": "execute_result",
          "data": {
            "text/plain": [
              "[None, NoneType]"
            ]
          },
          "metadata": {},
          "execution_count": 16
        }
      ]
    },
    {
      "cell_type": "code",
      "source": [
        "#변수제거\n",
        "del x\n",
        "x"
      ],
      "metadata": {
        "colab": {
          "base_uri": "https://localhost:8080/",
          "height": 209
        },
        "id": "gjebszsZKNZ5",
        "outputId": "61a4be74-c883-4692-b1c9-093816877b1c"
      },
      "execution_count": 17,
      "outputs": [
        {
          "output_type": "error",
          "ename": "NameError",
          "evalue": "ignored",
          "traceback": [
            "\u001b[0;31m---------------------------------------------------------------------------\u001b[0m",
            "\u001b[0;31mNameError\u001b[0m                                 Traceback (most recent call last)",
            "\u001b[0;32m<ipython-input-17-e8713634bc04>\u001b[0m in \u001b[0;36m<module>\u001b[0;34m\u001b[0m\n\u001b[1;32m      1\u001b[0m \u001b[0;31m#변수제거\u001b[0m\u001b[0;34m\u001b[0m\u001b[0;34m\u001b[0m\u001b[0;34m\u001b[0m\u001b[0m\n\u001b[1;32m      2\u001b[0m \u001b[0;32mdel\u001b[0m \u001b[0mx\u001b[0m\u001b[0;34m\u001b[0m\u001b[0;34m\u001b[0m\u001b[0m\n\u001b[0;32m----> 3\u001b[0;31m \u001b[0mx\u001b[0m\u001b[0;34m\u001b[0m\u001b[0;34m\u001b[0m\u001b[0m\n\u001b[0m",
            "\u001b[0;31mNameError\u001b[0m: name 'x' is not defined"
          ]
        }
      ]
    },
    {
      "cell_type": "code",
      "source": [
        "# 3.5형변환\n",
        "#문자열에서 정수로\n",
        "[int('100'), ord('\\n')] #ord():문자의 유니코드값 반환"
      ],
      "metadata": {
        "colab": {
          "base_uri": "https://localhost:8080/"
        },
        "id": "u99pCbnqKPv1",
        "outputId": "da1ce1d2-4584-43ea-ed02-250635eadf81"
      },
      "execution_count": 19,
      "outputs": [
        {
          "output_type": "execute_result",
          "data": {
            "text/plain": [
              "[100, 10]"
            ]
          },
          "metadata": {},
          "execution_count": 19
        }
      ]
    },
    {
      "cell_type": "code",
      "source": [
        "#16진법으로 표시된 문자열을 정수로\n",
        "int('ff', base=16)"
      ],
      "metadata": {
        "colab": {
          "base_uri": "https://localhost:8080/"
        },
        "id": "MjhWv40dKlrF",
        "outputId": "ad872050-223d-49f9-9672-25c48d3fa119"
      },
      "execution_count": 20,
      "outputs": [
        {
          "output_type": "execute_result",
          "data": {
            "text/plain": [
              "255"
            ]
          },
          "metadata": {},
          "execution_count": 20
        }
      ]
    },
    {
      "cell_type": "code",
      "source": [
        "#실수를 정수로\n",
        "[int(2.1),round(13.2)]"
      ],
      "metadata": {
        "colab": {
          "base_uri": "https://localhost:8080/"
        },
        "id": "41K_XO8kKwrE",
        "outputId": "9c9bdde6-e4df-476c-f008-0718c7d75836"
      },
      "execution_count": 21,
      "outputs": [
        {
          "output_type": "execute_result",
          "data": {
            "text/plain": [
              "[2, 13]"
            ]
          },
          "metadata": {},
          "execution_count": 21
        }
      ]
    },
    {
      "cell_type": "code",
      "source": [
        "#정수를 문자로\n",
        "chr(97)"
      ],
      "metadata": {
        "colab": {
          "base_uri": "https://localhost:8080/",
          "height": 35
        },
        "id": "m4NOJSnUK2dE",
        "outputId": "f2cb74c6-9dd5-42c8-a14c-e37b7cda5f2e"
      },
      "execution_count": 22,
      "outputs": [
        {
          "output_type": "execute_result",
          "data": {
            "text/plain": [
              "'a'"
            ],
            "application/vnd.google.colaboratory.intrinsic+json": {
              "type": "string"
            }
          },
          "metadata": {},
          "execution_count": 22
        }
      ]
    },
    {
      "cell_type": "code",
      "source": [
        "#리스트를 바이트로\n",
        "bytes([97,98,99,100])"
      ],
      "metadata": {
        "colab": {
          "base_uri": "https://localhost:8080/"
        },
        "id": "zgIZT9QzK6SZ",
        "outputId": "d01cf4fe-0a4e-43d9-becb-6da47235d294"
      },
      "execution_count": 23,
      "outputs": [
        {
          "output_type": "execute_result",
          "data": {
            "text/plain": [
              "b'abcd'"
            ]
          },
          "metadata": {},
          "execution_count": 23
        }
      ]
    },
    {
      "cell_type": "code",
      "source": [
        "#문자열을 리스트로\n",
        "list('abxd')"
      ],
      "metadata": {
        "colab": {
          "base_uri": "https://localhost:8080/"
        },
        "id": "fh9BbWfgK__I",
        "outputId": "8adbc199-d9ba-4dd5-e59f-06ede224f9be"
      },
      "execution_count": 24,
      "outputs": [
        {
          "output_type": "execute_result",
          "data": {
            "text/plain": [
              "['a', 'b', 'x', 'd']"
            ]
          },
          "metadata": {},
          "execution_count": 24
        }
      ]
    },
    {
      "cell_type": "code",
      "source": [
        "#리스트를 딕셔너리로\n",
        "dict([(1,\"abc\"),(2,\"cde\")])"
      ],
      "metadata": {
        "colab": {
          "base_uri": "https://localhost:8080/"
        },
        "id": "3nmBi1LTLDUG",
        "outputId": "6f582e08-e360-41d7-f6cf-d272cf03fd4f"
      },
      "execution_count": 25,
      "outputs": [
        {
          "output_type": "execute_result",
          "data": {
            "text/plain": [
              "{1: 'abc', 2: 'cde'}"
            ]
          },
          "metadata": {},
          "execution_count": 25
        }
      ]
    },
    {
      "cell_type": "code",
      "source": [
        "#문자열을 집합으로\n",
        "set('abcd')"
      ],
      "metadata": {
        "colab": {
          "base_uri": "https://localhost:8080/"
        },
        "id": "Mshl686JLIvZ",
        "outputId": "b1abec0f-ca24-46ec-81ac-b27a1a712a66"
      },
      "execution_count": 26,
      "outputs": [
        {
          "output_type": "execute_result",
          "data": {
            "text/plain": [
              "{'a', 'b', 'c', 'd'}"
            ]
          },
          "metadata": {},
          "execution_count": 26
        }
      ]
    },
    {
      "cell_type": "code",
      "source": [
        "#리스트를 문자열로\n",
        "x = \"-\".join(['bong','ju','kang'])\n",
        "x"
      ],
      "metadata": {
        "colab": {
          "base_uri": "https://localhost:8080/",
          "height": 35
        },
        "id": "bqX0rfPTLNL2",
        "outputId": "eadf541d-85f3-4896-de46-de207b0afd80"
      },
      "execution_count": 30,
      "outputs": [
        {
          "output_type": "execute_result",
          "data": {
            "text/plain": [
              "'bong-ju-kang'"
            ],
            "application/vnd.google.colaboratory.intrinsic+json": {
              "type": "string"
            }
          },
          "metadata": {},
          "execution_count": 30
        }
      ]
    },
    {
      "cell_type": "code",
      "source": [
        "#문자열을 리스트로\n",
        "d = x.split('-')\n",
        "d"
      ],
      "metadata": {
        "colab": {
          "base_uri": "https://localhost:8080/"
        },
        "id": "2ScXV4gKLT0c",
        "outputId": "1ee80bce-47e2-4cda-e2aa-9c2a2f23553f"
      },
      "execution_count": 32,
      "outputs": [
        {
          "output_type": "execute_result",
          "data": {
            "text/plain": [
              "['bong', 'ju', 'kang']"
            ]
          },
          "metadata": {},
          "execution_count": 32
        }
      ]
    },
    {
      "cell_type": "code",
      "source": [
        "#nonetype을 bool로\n",
        "bool(None)"
      ],
      "metadata": {
        "colab": {
          "base_uri": "https://localhost:8080/"
        },
        "id": "Z7WRIkQ3LZth",
        "outputId": "8cb622e3-7e5b-492c-a5eb-ab0b5a9e76e6"
      },
      "execution_count": 33,
      "outputs": [
        {
          "output_type": "execute_result",
          "data": {
            "text/plain": [
              "False"
            ]
          },
          "metadata": {},
          "execution_count": 33
        }
      ]
    },
    {
      "cell_type": "code",
      "source": [
        "#0논리값\n",
        "bool(0)"
      ],
      "metadata": {
        "colab": {
          "base_uri": "https://localhost:8080/"
        },
        "id": "nbloyfhHLmd7",
        "outputId": "05476f3a-ab6a-4e02-9e05-e30ec9e778f4"
      },
      "execution_count": 34,
      "outputs": [
        {
          "output_type": "execute_result",
          "data": {
            "text/plain": [
              "False"
            ]
          },
          "metadata": {},
          "execution_count": 34
        }
      ]
    },
    {
      "cell_type": "code",
      "source": [
        "bool(1)"
      ],
      "metadata": {
        "colab": {
          "base_uri": "https://localhost:8080/"
        },
        "id": "Jw-UFBKDLo_L",
        "outputId": "267772a3-2469-4823-dbd0-5dc6e2fd8e84"
      },
      "execution_count": 35,
      "outputs": [
        {
          "output_type": "execute_result",
          "data": {
            "text/plain": [
              "True"
            ]
          },
          "metadata": {},
          "execution_count": 35
        }
      ]
    },
    {
      "cell_type": "code",
      "source": [
        "#bool(False)"
      ],
      "metadata": {
        "id": "CbHPs8x4LrJN"
      },
      "execution_count": 36,
      "outputs": []
    },
    {
      "cell_type": "code",
      "source": [
        "#널 문자열 논리값\n",
        "bool(\"\")"
      ],
      "metadata": {
        "colab": {
          "base_uri": "https://localhost:8080/"
        },
        "id": "N7UC-eQoLtR_",
        "outputId": "b98eed26-3a63-44bb-9832-b782a5bea322"
      },
      "execution_count": 38,
      "outputs": [
        {
          "output_type": "execute_result",
          "data": {
            "text/plain": [
              "False"
            ]
          },
          "metadata": {},
          "execution_count": 38
        }
      ]
    },
    {
      "cell_type": "code",
      "source": [
        "#3.6 인덱싱: 원소 제거\n",
        "x = [2,3,4,5,6]\n",
        "del x[:2]\n",
        "x"
      ],
      "metadata": {
        "colab": {
          "base_uri": "https://localhost:8080/"
        },
        "id": "1nryHCuELwy2",
        "outputId": "c9e4d2c8-fda7-47ec-87a4-1d7068742a3c"
      },
      "execution_count": 39,
      "outputs": [
        {
          "output_type": "execute_result",
          "data": {
            "text/plain": [
              "[4, 5, 6]"
            ]
          },
          "metadata": {},
          "execution_count": 39
        }
      ]
    },
    {
      "cell_type": "code",
      "source": [
        "#3.9 모듈 가져오기\n",
        "import sys\n",
        "sys.path # 이 안에 있어야 사용 가능"
      ],
      "metadata": {
        "colab": {
          "base_uri": "https://localhost:8080/"
        },
        "id": "U2FrlbOxMWs2",
        "outputId": "ed842ae0-d8bb-405e-ceaf-d7a22d636f33"
      },
      "execution_count": 40,
      "outputs": [
        {
          "output_type": "execute_result",
          "data": {
            "text/plain": [
              "['/content',\n",
              " '/env/python',\n",
              " '/usr/lib/python37.zip',\n",
              " '/usr/lib/python3.7',\n",
              " '/usr/lib/python3.7/lib-dynload',\n",
              " '',\n",
              " '/usr/local/lib/python3.7/dist-packages',\n",
              " '/usr/lib/python3/dist-packages',\n",
              " '/usr/local/lib/python3.7/dist-packages/IPython/extensions',\n",
              " '/root/.ipython']"
            ]
          },
          "metadata": {},
          "execution_count": 40
        }
      ]
    },
    {
      "cell_type": "code",
      "source": [
        "#numpy 가져오기\n",
        "import numpy as np\n",
        "np.__version__"
      ],
      "metadata": {
        "colab": {
          "base_uri": "https://localhost:8080/",
          "height": 35
        },
        "id": "IPjrn0RdUzlU",
        "outputId": "f24535fd-0984-45e4-940d-69cfce80fbec"
      },
      "execution_count": 41,
      "outputs": [
        {
          "output_type": "execute_result",
          "data": {
            "text/plain": [
              "'1.21.6'"
            ],
            "application/vnd.google.colaboratory.intrinsic+json": {
              "type": "string"
            }
          },
          "metadata": {},
          "execution_count": 41
        }
      ]
    },
    {
      "cell_type": "code",
      "source": [
        "#3.11 수학 연산\n",
        "import numpy as np\n",
        "\n",
        "#행렬곱: @\n",
        "x = np.array([[1,2],[3,4]])\n",
        "y = np.array([[0,1],[1,0]])\n",
        "x@y\n"
      ],
      "metadata": {
        "colab": {
          "base_uri": "https://localhost:8080/"
        },
        "id": "T1p0HvaVU6fm",
        "outputId": "9fe1a117-e102-490d-b37c-7d1bbe92cecb"
      },
      "execution_count": 42,
      "outputs": [
        {
          "output_type": "execute_result",
          "data": {
            "text/plain": [
              "array([[2, 1],\n",
              "       [4, 3]])"
            ]
          },
          "metadata": {},
          "execution_count": 42
        }
      ]
    },
    {
      "cell_type": "code",
      "source": [
        "#원소별 곱\n",
        "x*y"
      ],
      "metadata": {
        "colab": {
          "base_uri": "https://localhost:8080/"
        },
        "id": "w8X1dnpJVQJY",
        "outputId": "9a4cd64b-d3cc-4116-e176-a2976c740e09"
      },
      "execution_count": 43,
      "outputs": [
        {
          "output_type": "execute_result",
          "data": {
            "text/plain": [
              "array([[0, 2],\n",
              "       [3, 0]])"
            ]
          },
          "metadata": {},
          "execution_count": 43
        }
      ]
    },
    {
      "cell_type": "code",
      "source": [
        "#sin 함수\n",
        "np.sin(np.pi/2)"
      ],
      "metadata": {
        "colab": {
          "base_uri": "https://localhost:8080/"
        },
        "id": "9CZODWTnVTkN",
        "outputId": "eea75e3c-8bf7-470a-d23f-d67cd4fd9f1e"
      },
      "execution_count": 44,
      "outputs": [
        {
          "output_type": "execute_result",
          "data": {
            "text/plain": [
              "1.0"
            ]
          },
          "metadata": {},
          "execution_count": 44
        }
      ]
    },
    {
      "cell_type": "code",
      "source": [
        "#자연로그\n",
        "np.log([1,np.e, np.e**2, 0])"
      ],
      "metadata": {
        "colab": {
          "base_uri": "https://localhost:8080/"
        },
        "id": "HeGI4jXYVXM_",
        "outputId": "839937cd-9bae-44fd-b3a7-c7aa30f7d09d"
      },
      "execution_count": 45,
      "outputs": [
        {
          "output_type": "stream",
          "name": "stderr",
          "text": [
            "/usr/local/lib/python3.7/dist-packages/ipykernel_launcher.py:2: RuntimeWarning: divide by zero encountered in log\n",
            "  \n"
          ]
        },
        {
          "output_type": "execute_result",
          "data": {
            "text/plain": [
              "array([  0.,   1.,   2., -inf])"
            ]
          },
          "metadata": {},
          "execution_count": 45
        }
      ]
    },
    {
      "cell_type": "code",
      "source": [
        "#천장함수\n",
        "np.ceil(9.9)"
      ],
      "metadata": {
        "colab": {
          "base_uri": "https://localhost:8080/"
        },
        "id": "1QsZkHMwVc0Q",
        "outputId": "706cfba9-34bb-4f22-d0d3-c7bf14fa5672"
      },
      "execution_count": 46,
      "outputs": [
        {
          "output_type": "execute_result",
          "data": {
            "text/plain": [
              "10.0"
            ]
          },
          "metadata": {},
          "execution_count": 46
        }
      ]
    },
    {
      "cell_type": "code",
      "source": [
        "#3.12 조건 반복문\n",
        "name = 'bong ju kang'\n",
        "for index, value in enumerate(name): #enumerate(): 인덱스와 원소로 이루어진 투플 반환\n",
        "  if value =='g':\n",
        "    print('index num:',index)"
      ],
      "metadata": {
        "colab": {
          "base_uri": "https://localhost:8080/"
        },
        "id": "dus1OkUHVf6c",
        "outputId": "e2d52c3e-4de2-4a5d-f17c-5104b24ad7a1"
      },
      "execution_count": 47,
      "outputs": [
        {
          "output_type": "stream",
          "name": "stdout",
          "text": [
            "index num: 3\n",
            "index num: 11\n"
          ]
        }
      ]
    },
    {
      "cell_type": "code",
      "source": [
        "[name[index] for index in range(len(name))]"
      ],
      "metadata": {
        "colab": {
          "base_uri": "https://localhost:8080/"
        },
        "id": "b8Gz-n_pWHGY",
        "outputId": "34410d27-dc75-485e-a4c5-f0d0b68a8a42"
      },
      "execution_count": 48,
      "outputs": [
        {
          "output_type": "execute_result",
          "data": {
            "text/plain": [
              "['b', 'o', 'n', 'g', ' ', 'j', 'u', ' ', 'k', 'a', 'n', 'g']"
            ]
          },
          "metadata": {},
          "execution_count": 48
        }
      ]
    },
    {
      "cell_type": "code",
      "source": [
        "# 3.13 generic operation\n",
        "#일반연산: len min max sorted\n",
        "\n",
        "name = 'bong ju kang'\n",
        "value = \"123456789\"\n",
        "\n",
        "[len(name), len(value), min(value), max(name), sorted(name)]"
      ],
      "metadata": {
        "colab": {
          "base_uri": "https://localhost:8080/"
        },
        "id": "iu1OM6IdWSnF",
        "outputId": "3c60ab8b-331b-4077-cf08-a398b80558bc"
      },
      "execution_count": 51,
      "outputs": [
        {
          "output_type": "execute_result",
          "data": {
            "text/plain": [
              "[12, 9, '1', 'u', [' ', ' ', 'a', 'b', 'g', 'g', 'j', 'k', 'n', 'n', 'o', 'u']]"
            ]
          },
          "metadata": {},
          "execution_count": 51
        }
      ]
    },
    {
      "cell_type": "code",
      "source": [
        "#일반연산: enumerate\n",
        "[{a:b} for a, b in enumerate(name)]"
      ],
      "metadata": {
        "colab": {
          "base_uri": "https://localhost:8080/"
        },
        "id": "Xsy-YmnLXhwx",
        "outputId": "cb9a2a37-42a5-4ee7-ba04-cdc50062d121"
      },
      "execution_count": 52,
      "outputs": [
        {
          "output_type": "execute_result",
          "data": {
            "text/plain": [
              "[{0: 'b'},\n",
              " {1: 'o'},\n",
              " {2: 'n'},\n",
              " {3: 'g'},\n",
              " {4: ' '},\n",
              " {5: 'j'},\n",
              " {6: 'u'},\n",
              " {7: ' '},\n",
              " {8: 'k'},\n",
              " {9: 'a'},\n",
              " {10: 'n'},\n",
              " {11: 'g'}]"
            ]
          },
          "metadata": {},
          "execution_count": 52
        }
      ]
    },
    {
      "cell_type": "code",
      "source": [
        "#일반연산:zip(): 같은 위치에 있는 값을 반환\n",
        "[val for val in zip(('a','b','c'),('c','d','e','f'))]"
      ],
      "metadata": {
        "colab": {
          "base_uri": "https://localhost:8080/"
        },
        "id": "_nmQz0cWX6Yy",
        "outputId": "42c4b9aa-6f0d-41bd-9c33-114c5e2c4fff"
      },
      "execution_count": 54,
      "outputs": [
        {
          "output_type": "execute_result",
          "data": {
            "text/plain": [
              "[('a', 'c'), ('b', 'd'), ('c', 'e')]"
            ]
          },
          "metadata": {},
          "execution_count": 54
        }
      ]
    },
    {
      "cell_type": "code",
      "source": [
        "[val for val in zip(name, value)]"
      ],
      "metadata": {
        "colab": {
          "base_uri": "https://localhost:8080/"
        },
        "id": "zFqG3JcEYFVB",
        "outputId": "4bf42d03-1e09-47cc-a3ec-9b515c806635"
      },
      "execution_count": 56,
      "outputs": [
        {
          "output_type": "execute_result",
          "data": {
            "text/plain": [
              "[('b', '1'),\n",
              " ('o', '2'),\n",
              " ('n', '3'),\n",
              " ('g', '4'),\n",
              " (' ', '5'),\n",
              " ('j', '6'),\n",
              " ('u', '7'),\n",
              " (' ', '8'),\n",
              " ('k', '9')]"
            ]
          },
          "metadata": {},
          "execution_count": 56
        }
      ]
    },
    {
      "cell_type": "code",
      "source": [
        "#일반연산자: index(위치), count(건수)\n",
        "[name.index('k'), name.count('g')]"
      ],
      "metadata": {
        "colab": {
          "base_uri": "https://localhost:8080/"
        },
        "id": "cAxrLSYsYL2S",
        "outputId": "46497e31-d8a3-42de-c4e2-7d5c7258e632"
      },
      "execution_count": 57,
      "outputs": [
        {
          "output_type": "execute_result",
          "data": {
            "text/plain": [
              "[8, 2]"
            ]
          },
          "metadata": {},
          "execution_count": 57
        }
      ]
    },
    {
      "cell_type": "code",
      "source": [
        "# 일반연산자 in\n",
        "x = 'b'\n",
        "x in name"
      ],
      "metadata": {
        "colab": {
          "base_uri": "https://localhost:8080/"
        },
        "id": "VyhjQGQ2YXNQ",
        "outputId": "83a32387-d8e0-47e7-fe22-d699b8dd5a11"
      },
      "execution_count": 58,
      "outputs": [
        {
          "output_type": "execute_result",
          "data": {
            "text/plain": [
              "True"
            ]
          },
          "metadata": {},
          "execution_count": 58
        }
      ]
    },
    {
      "cell_type": "code",
      "source": [
        "#3.14 리스트 연산: append remove extend insert pop sort reverse\n",
        "# 리스트 생성\n",
        "value = []\n",
        "value"
      ],
      "metadata": {
        "colab": {
          "base_uri": "https://localhost:8080/"
        },
        "id": "qpkVjQ9SYaxM",
        "outputId": "2504be77-7ce6-4b67-9b84-74ed7b4bc058"
      },
      "execution_count": 62,
      "outputs": [
        {
          "output_type": "execute_result",
          "data": {
            "text/plain": [
              "[]"
            ]
          },
          "metadata": {},
          "execution_count": 62
        }
      ]
    },
    {
      "cell_type": "code",
      "source": [
        "#원소 추가\n",
        "value.append('b')\n",
        "value.append('a')\n",
        "value.append('n')\n",
        "value.append('e')\n",
        "value.append('n')\n",
        "value.append('e')\n",
        "value"
      ],
      "metadata": {
        "colab": {
          "base_uri": "https://localhost:8080/"
        },
        "id": "-AW6YCcxYm3D",
        "outputId": "44dd87d8-02cf-459b-f758-e3974549457b"
      },
      "execution_count": 63,
      "outputs": [
        {
          "output_type": "execute_result",
          "data": {
            "text/plain": [
              "['b', 'a', 'n', 'e', 'n', 'e']"
            ]
          },
          "metadata": {},
          "execution_count": 63
        }
      ]
    },
    {
      "cell_type": "code",
      "source": [
        "#원소 제거\n",
        "value.remove('b')\n",
        "value"
      ],
      "metadata": {
        "colab": {
          "base_uri": "https://localhost:8080/"
        },
        "id": "3DWH2KTAYx63",
        "outputId": "d312a544-83f7-4e02-f462-1bb0c59cb7f1"
      },
      "execution_count": 64,
      "outputs": [
        {
          "output_type": "execute_result",
          "data": {
            "text/plain": [
              "['a', 'n', 'e', 'n', 'e']"
            ]
          },
          "metadata": {},
          "execution_count": 64
        }
      ]
    },
    {
      "cell_type": "code",
      "source": [
        "# 순서열 추가:extend\n",
        "value.extend('bnn')\n",
        "value"
      ],
      "metadata": {
        "colab": {
          "base_uri": "https://localhost:8080/"
        },
        "id": "7e675kyUY4Ip",
        "outputId": "2c8d4662-d37e-4ba9-ed03-4bb676694318"
      },
      "execution_count": 65,
      "outputs": [
        {
          "output_type": "execute_result",
          "data": {
            "text/plain": [
              "['a', 'n', 'e', 'n', 'e', 'b', 'n', 'n']"
            ]
          },
          "metadata": {},
          "execution_count": 65
        }
      ]
    },
    {
      "cell_type": "code",
      "source": [
        "#원소 마지막 값 제거\n",
        "value.pop()\n",
        "value"
      ],
      "metadata": {
        "colab": {
          "base_uri": "https://localhost:8080/"
        },
        "id": "6lhqOU2WY-GD",
        "outputId": "bf88cf7c-dce5-409a-f96c-a125a07b3211"
      },
      "execution_count": 66,
      "outputs": [
        {
          "output_type": "execute_result",
          "data": {
            "text/plain": [
              "['a', 'n', 'e', 'n', 'e', 'b', 'n']"
            ]
          },
          "metadata": {},
          "execution_count": 66
        }
      ]
    },
    {
      "cell_type": "code",
      "source": [
        "#원소 위치값 제거 \n",
        "value.pop(-1)\n",
        "value"
      ],
      "metadata": {
        "colab": {
          "base_uri": "https://localhost:8080/"
        },
        "id": "mKLNZfVQZBbO",
        "outputId": "fe6ffee0-75f7-4fbc-f1d5-34d6a8502e1f"
      },
      "execution_count": 67,
      "outputs": [
        {
          "output_type": "execute_result",
          "data": {
            "text/plain": [
              "['a', 'n', 'e', 'n', 'e', 'b']"
            ]
          },
          "metadata": {},
          "execution_count": 67
        }
      ]
    },
    {
      "cell_type": "code",
      "source": [
        "#정렬: sort, reverse\n",
        "value.sort()\n",
        "value"
      ],
      "metadata": {
        "colab": {
          "base_uri": "https://localhost:8080/"
        },
        "id": "y7jQ-FsAZIUg",
        "outputId": "f98f5cbb-0149-4fc7-b2d1-2e15b798b8af"
      },
      "execution_count": 68,
      "outputs": [
        {
          "output_type": "execute_result",
          "data": {
            "text/plain": [
              "['a', 'b', 'e', 'e', 'n', 'n']"
            ]
          },
          "metadata": {},
          "execution_count": 68
        }
      ]
    },
    {
      "cell_type": "code",
      "source": [
        "#3.15 딕셔너리 연산: get update del pop popitem\n",
        "#딕셔너리 생성\n",
        "score = {'lang':80, 'math':90, 'his':75}\n",
        "score\n"
      ],
      "metadata": {
        "colab": {
          "base_uri": "https://localhost:8080/"
        },
        "id": "nrBPvAKIZMIz",
        "outputId": "62ea9ff3-c8b3-4eb6-a8e9-616c6298f83e"
      },
      "execution_count": 69,
      "outputs": [
        {
          "output_type": "execute_result",
          "data": {
            "text/plain": [
              "{'lang': 80, 'math': 90, 'his': 75}"
            ]
          },
          "metadata": {},
          "execution_count": 69
        }
      ]
    },
    {
      "cell_type": "code",
      "source": [
        "#키 조회\n",
        "score.keys()"
      ],
      "metadata": {
        "colab": {
          "base_uri": "https://localhost:8080/"
        },
        "id": "fsrYNhjcZ5iy",
        "outputId": "e5e4255a-ec4f-44b0-b913-288e8a389faa"
      },
      "execution_count": 70,
      "outputs": [
        {
          "output_type": "execute_result",
          "data": {
            "text/plain": [
              "dict_keys(['lang', 'math', 'his'])"
            ]
          },
          "metadata": {},
          "execution_count": 70
        }
      ]
    },
    {
      "cell_type": "code",
      "source": [
        "#딕셔너리 값 조회: 키 순서대로\n",
        "score.values()"
      ],
      "metadata": {
        "colab": {
          "base_uri": "https://localhost:8080/"
        },
        "id": "hq4H2VzCZ9IZ",
        "outputId": "8af3a1ff-9b92-490a-fb23-56938bbda997"
      },
      "execution_count": 71,
      "outputs": [
        {
          "output_type": "execute_result",
          "data": {
            "text/plain": [
              "dict_values([80, 90, 75])"
            ]
          },
          "metadata": {},
          "execution_count": 71
        }
      ]
    },
    {
      "cell_type": "code",
      "source": [
        "#딕셔너리 값 조회: 키와 get\n",
        "[score['lang'], score.get('lang')]"
      ],
      "metadata": {
        "colab": {
          "base_uri": "https://localhost:8080/"
        },
        "id": "LgPTFESlaBuE",
        "outputId": "a4e6ba5d-291f-4a63-abea-609f73e2ade9"
      },
      "execution_count": 72,
      "outputs": [
        {
          "output_type": "execute_result",
          "data": {
            "text/plain": [
              "[80, 80]"
            ]
          },
          "metadata": {},
          "execution_count": 72
        }
      ]
    },
    {
      "cell_type": "code",
      "source": [
        "#딕셔너리 값 수정: 키와 update\n",
        "score['math'] = 100\n",
        "score.update({'math':100})\n",
        "score"
      ],
      "metadata": {
        "colab": {
          "base_uri": "https://localhost:8080/"
        },
        "id": "IW84U8kYaISa",
        "outputId": "375b227a-8f89-4309-adbb-8603bded294b"
      },
      "execution_count": 75,
      "outputs": [
        {
          "output_type": "execute_result",
          "data": {
            "text/plain": [
              "{'lang': 80, 'math': 100, 'his': 75}"
            ]
          },
          "metadata": {},
          "execution_count": 75
        }
      ]
    },
    {
      "cell_type": "code",
      "source": [
        "#특정 키 제거: del\n",
        "del score['lang']\n",
        "score"
      ],
      "metadata": {
        "colab": {
          "base_uri": "https://localhost:8080/"
        },
        "id": "l20U6RwFaR7d",
        "outputId": "682d6c01-2488-4439-95c9-ac6a70109cd9"
      },
      "execution_count": 76,
      "outputs": [
        {
          "output_type": "execute_result",
          "data": {
            "text/plain": [
              "{'math': 100, 'his': 75}"
            ]
          },
          "metadata": {},
          "execution_count": 76
        }
      ]
    },
    {
      "cell_type": "code",
      "source": [
        "#딕셔너리 초기화\n",
        "score.clear()\n",
        "score"
      ],
      "metadata": {
        "colab": {
          "base_uri": "https://localhost:8080/"
        },
        "id": "qCAQNWxoaY-t",
        "outputId": "eab5d947-22d2-4324-c8ad-3b16bd3afccf"
      },
      "execution_count": 78,
      "outputs": [
        {
          "output_type": "execute_result",
          "data": {
            "text/plain": [
              "{}"
            ]
          },
          "metadata": {},
          "execution_count": 78
        }
      ]
    },
    {
      "cell_type": "code",
      "source": [
        "#3.16 집합 set 연산\n",
        "# 집합 정의\n",
        "A = {'a','b','c'}\n",
        "B = {'b','c','d','e'}\n",
        "[A,B]"
      ],
      "metadata": {
        "colab": {
          "base_uri": "https://localhost:8080/"
        },
        "id": "5W8zd9BSacq8",
        "outputId": "86cce90b-26d4-4819-d32e-0960fdefd401"
      },
      "execution_count": 79,
      "outputs": [
        {
          "output_type": "execute_result",
          "data": {
            "text/plain": [
              "[{'a', 'b', 'c'}, {'b', 'c', 'd', 'e'}]"
            ]
          },
          "metadata": {},
          "execution_count": 79
        }
      ]
    },
    {
      "cell_type": "code",
      "source": [
        "#합집합\n",
        "A|B\n"
      ],
      "metadata": {
        "colab": {
          "base_uri": "https://localhost:8080/"
        },
        "id": "Aj0pc3frcnPx",
        "outputId": "72600947-cd7e-422f-9fbd-3018104f78d0"
      },
      "execution_count": 80,
      "outputs": [
        {
          "output_type": "execute_result",
          "data": {
            "text/plain": [
              "{'a', 'b', 'c', 'd', 'e'}"
            ]
          },
          "metadata": {},
          "execution_count": 80
        }
      ]
    },
    {
      "cell_type": "code",
      "source": [
        "# 교집합\n",
        "A&B"
      ],
      "metadata": {
        "colab": {
          "base_uri": "https://localhost:8080/"
        },
        "id": "uFonZz3UcpSn",
        "outputId": "3ad93210-787a-44fd-d041-46ca9d899e95"
      },
      "execution_count": 81,
      "outputs": [
        {
          "output_type": "execute_result",
          "data": {
            "text/plain": [
              "{'b', 'c'}"
            ]
          },
          "metadata": {},
          "execution_count": 81
        }
      ]
    },
    {
      "cell_type": "code",
      "source": [
        "#차집합 \n",
        "A-B"
      ],
      "metadata": {
        "colab": {
          "base_uri": "https://localhost:8080/"
        },
        "id": "SJJGW2WxcrwR",
        "outputId": "8545a8b3-0981-471c-cd1d-087b6aa1ea78"
      },
      "execution_count": 82,
      "outputs": [
        {
          "output_type": "execute_result",
          "data": {
            "text/plain": [
              "{'a'}"
            ]
          },
          "metadata": {},
          "execution_count": 82
        }
      ]
    },
    {
      "cell_type": "code",
      "source": [
        "# 집합 비교\n",
        "C = A|B\n",
        "[A<C, A<B, B<C, A==B]"
      ],
      "metadata": {
        "colab": {
          "base_uri": "https://localhost:8080/"
        },
        "id": "UNoyRKd0cusB",
        "outputId": "df8b92ac-850c-4234-93b2-c74b9b652d38"
      },
      "execution_count": 83,
      "outputs": [
        {
          "output_type": "execute_result",
          "data": {
            "text/plain": [
              "[True, False, True, False]"
            ]
          },
          "metadata": {},
          "execution_count": 83
        }
      ]
    },
    {
      "cell_type": "code",
      "source": [
        "#원소 추가\n",
        "A.add('a')"
      ],
      "metadata": {
        "id": "fztEyRDcc1IE"
      },
      "execution_count": 84,
      "outputs": []
    },
    {
      "cell_type": "code",
      "source": [
        "#집합 추가\n",
        "A.update({1,2,3})\n",
        "A"
      ],
      "metadata": {
        "colab": {
          "base_uri": "https://localhost:8080/"
        },
        "id": "DiOUOZFNc3WG",
        "outputId": "4476e584-09de-493a-8c02-c37cbf4c80a0"
      },
      "execution_count": 85,
      "outputs": [
        {
          "output_type": "execute_result",
          "data": {
            "text/plain": [
              "{1, 2, 3, 'a', 'b', 'c'}"
            ]
          },
          "metadata": {},
          "execution_count": 85
        }
      ]
    },
    {
      "cell_type": "code",
      "source": [
        "#원소 제거\n",
        "A.remove('a')"
      ],
      "metadata": {
        "id": "QCdY5Z_yc9oD"
      },
      "execution_count": 86,
      "outputs": []
    },
    {
      "cell_type": "code",
      "source": [
        "#집합 복사\n",
        "D = A.copy()\n",
        "D"
      ],
      "metadata": {
        "colab": {
          "base_uri": "https://localhost:8080/"
        },
        "id": "F1Y-tDHfc_0K",
        "outputId": "394624eb-5bb9-4319-a17d-e1177ad0cd2b"
      },
      "execution_count": 87,
      "outputs": [
        {
          "output_type": "execute_result",
          "data": {
            "text/plain": [
              "{1, 2, 3, 'b', 'c'}"
            ]
          },
          "metadata": {},
          "execution_count": 87
        }
      ]
    },
    {
      "cell_type": "code",
      "source": [
        "#3.18 문자열 연산: strip, count, index, is, upper, lower, split, join\n",
        "#문자열 생성\n",
        "name ='\\n bong ju kang'\n",
        "name\n"
      ],
      "metadata": {
        "colab": {
          "base_uri": "https://localhost:8080/",
          "height": 35
        },
        "id": "UPOIYM0_dDgq",
        "outputId": "6034153f-1063-4ba0-a1e3-fe2747b71253"
      },
      "execution_count": 88,
      "outputs": [
        {
          "output_type": "execute_result",
          "data": {
            "text/plain": [
              "'\\n bong ju kang'"
            ],
            "application/vnd.google.colaboratory.intrinsic+json": {
              "type": "string"
            }
          },
          "metadata": {},
          "execution_count": 88
        }
      ]
    },
    {
      "cell_type": "code",
      "source": [
        "#문자열 앞뒤 스페이스 제거:strip\n",
        "name.strip()"
      ],
      "metadata": {
        "colab": {
          "base_uri": "https://localhost:8080/",
          "height": 35
        },
        "id": "VEx6wkOwdS_S",
        "outputId": "e02c8eaf-088c-414c-95da-0f723103ec00"
      },
      "execution_count": 90,
      "outputs": [
        {
          "output_type": "execute_result",
          "data": {
            "text/plain": [
              "'bong ju kang'"
            ],
            "application/vnd.google.colaboratory.intrinsic+json": {
              "type": "string"
            }
          },
          "metadata": {},
          "execution_count": 90
        }
      ]
    },
    {
      "cell_type": "code",
      "source": [
        "#대소문자 변환\n",
        "['KANG'.lower(), 'banana'.upper()]"
      ],
      "metadata": {
        "colab": {
          "base_uri": "https://localhost:8080/"
        },
        "id": "564d8KclddFz",
        "outputId": "ee33057c-065e-4220-e402-122784a53f3c"
      },
      "execution_count": 91,
      "outputs": [
        {
          "output_type": "execute_result",
          "data": {
            "text/plain": [
              "['kang', 'BANANA']"
            ]
          },
          "metadata": {},
          "execution_count": 91
        }
      ]
    },
    {
      "cell_type": "code",
      "source": [
        "#대소문자 서로 변환:swapcase\n",
        "'Kang Bong Ju'.swapcase()"
      ],
      "metadata": {
        "colab": {
          "base_uri": "https://localhost:8080/",
          "height": 35
        },
        "id": "pm-VmiRxdmsP",
        "outputId": "e5ce05cb-9bb4-41d9-a4fb-5080967ba3ec"
      },
      "execution_count": 92,
      "outputs": [
        {
          "output_type": "execute_result",
          "data": {
            "text/plain": [
              "'kANG bONG jU'"
            ],
            "application/vnd.google.colaboratory.intrinsic+json": {
              "type": "string"
            }
          },
          "metadata": {},
          "execution_count": 92
        }
      ]
    },
    {
      "cell_type": "code",
      "source": [
        "#숫자, 문자로만 구성된 열인지 확인:isalnum()\n",
        "'Bongjur Kang 2020!'.isalnum()"
      ],
      "metadata": {
        "colab": {
          "base_uri": "https://localhost:8080/"
        },
        "id": "Be-zDbfldt7c",
        "outputId": "03ff9c61-d262-45c0-808a-1e3a6a6db869"
      },
      "execution_count": 93,
      "outputs": [
        {
          "output_type": "execute_result",
          "data": {
            "text/plain": [
              "False"
            ]
          },
          "metadata": {},
          "execution_count": 93
        }
      ]
    },
    {
      "cell_type": "code",
      "source": [
        "#문자열 분리\n",
        "'ka,ng'.split(',')"
      ],
      "metadata": {
        "colab": {
          "base_uri": "https://localhost:8080/"
        },
        "id": "eRyuN9lmd05C",
        "outputId": "691620d5-9363-4546-972f-46609c779254"
      },
      "execution_count": 94,
      "outputs": [
        {
          "output_type": "execute_result",
          "data": {
            "text/plain": [
              "['ka', 'ng']"
            ]
          },
          "metadata": {},
          "execution_count": 94
        }
      ]
    },
    {
      "cell_type": "code",
      "source": [
        "#문자열 결합\n",
        "','.join(['kang','bong'])"
      ],
      "metadata": {
        "colab": {
          "base_uri": "https://localhost:8080/",
          "height": 35
        },
        "id": "Gz6-40ISd6m7",
        "outputId": "b04cbbbe-dc17-42e9-e3d4-d69582d00c42"
      },
      "execution_count": 95,
      "outputs": [
        {
          "output_type": "execute_result",
          "data": {
            "text/plain": [
              "'kang,bong'"
            ],
            "application/vnd.google.colaboratory.intrinsic+json": {
              "type": "string"
            }
          },
          "metadata": {},
          "execution_count": 95
        }
      ]
    },
    {
      "cell_type": "code",
      "source": [
        "#3.19 포멧 구성하기\n",
        "'''\n",
        "아무 데이터 형이나 지정된 특별한 형식으로 문자열을 만들어주는것\n",
        "포멧지시문.format(포맷할 값)\n",
        "'''\n"
      ],
      "metadata": {
        "colab": {
          "base_uri": "https://localhost:8080/",
          "height": 35
        },
        "id": "fxnk6KZceAlZ",
        "outputId": "20e5714f-c84b-40b5-b94a-8407517f9c60"
      },
      "execution_count": 97,
      "outputs": [
        {
          "output_type": "execute_result",
          "data": {
            "text/plain": [
              "'\\n아무 데이터 형이나 지정된 특별한 형식으로 문자열을 만들어주는것\\n포멧지시문.format(포맷할 값)\\n'"
            ],
            "application/vnd.google.colaboratory.intrinsic+json": {
              "type": "string"
            }
          },
          "metadata": {},
          "execution_count": 97
        }
      ]
    },
    {
      "cell_type": "code",
      "source": [
        "#소수점 2째자리까지\n",
        "\"${:.2f}\".format(234,12355)"
      ],
      "metadata": {
        "colab": {
          "base_uri": "https://localhost:8080/",
          "height": 35
        },
        "id": "ywTGQ6RWeaRk",
        "outputId": "e38142c7-44af-4926-989a-8a1dbfb731ab"
      },
      "execution_count": 99,
      "outputs": [
        {
          "output_type": "execute_result",
          "data": {
            "text/plain": [
              "'$234.00'"
            ],
            "application/vnd.google.colaboratory.intrinsic+json": {
              "type": "string"
            }
          },
          "metadata": {},
          "execution_count": 99
        }
      ]
    },
    {
      "cell_type": "code",
      "source": [
        "#콤마 포멧\n",
        "\"{:,}원\".format(1934829347893)"
      ],
      "metadata": {
        "colab": {
          "base_uri": "https://localhost:8080/",
          "height": 35
        },
        "id": "J6p6ZPLcertx",
        "outputId": "366f09d8-07a2-45d0-88b5-773b7de8b2eb"
      },
      "execution_count": 100,
      "outputs": [
        {
          "output_type": "execute_result",
          "data": {
            "text/plain": [
              "'1,934,829,347,893원'"
            ],
            "application/vnd.google.colaboratory.intrinsic+json": {
              "type": "string"
            }
          },
          "metadata": {},
          "execution_count": 100
        }
      ]
    },
    {
      "cell_type": "code",
      "source": [
        "# 콤마 포멧 + 소수점 이하 1째자리\n",
        "\"{:,.1f}원\".format(1239234)"
      ],
      "metadata": {
        "colab": {
          "base_uri": "https://localhost:8080/",
          "height": 35
        },
        "id": "221pfcICe4rh",
        "outputId": "bbc6147f-cba6-4f20-b462-2e2098268d99"
      },
      "execution_count": 101,
      "outputs": [
        {
          "output_type": "execute_result",
          "data": {
            "text/plain": [
              "'1,239,234.0원'"
            ],
            "application/vnd.google.colaboratory.intrinsic+json": {
              "type": "string"
            }
          },
          "metadata": {},
          "execution_count": 101
        }
      ]
    },
    {
      "cell_type": "code",
      "source": [],
      "metadata": {
        "id": "QIK0p0N2e-3U"
      },
      "execution_count": null,
      "outputs": []
    }
  ]
}